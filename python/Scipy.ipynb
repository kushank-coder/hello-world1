{
 "cells": [
  {
   "cell_type": "code",
   "execution_count": 1,
   "id": "d759940f",
   "metadata": {},
   "outputs": [],
   "source": [
    "import scipy\n",
    "import numpy as np\n",
    "import pandas as pd\n",
    "\n",
    "import matplotlib.pyplot as plt\n",
    "import seaborn as sns"
   ]
  },
  {
   "cell_type": "code",
   "execution_count": 2,
   "id": "ed71c4b3",
   "metadata": {},
   "outputs": [],
   "source": [
    "import scipy.constants as const"
   ]
  },
  {
   "cell_type": "code",
   "execution_count": 3,
   "id": "29291972",
   "metadata": {},
   "outputs": [
    {
     "data": {
      "text/plain": [
       "3.141592653589793"
      ]
     },
     "execution_count": 3,
     "metadata": {},
     "output_type": "execute_result"
    }
   ],
   "source": [
    "const.pi"
   ]
  },
  {
   "cell_type": "code",
   "execution_count": null,
   "id": "b93748b5",
   "metadata": {},
   "outputs": [],
   "source": [
    "#t test is used to find out whether the 2 samples belong to the same distribution or not\n",
    "#there is an inherent assumption that the population must follow normal distribution\n",
    "\n",
    "#one sample test\n",
    "test_stat = scipy.stats.ttest_1samp(a=sample_data, popmean=0.5) #sample data is the values of X which we are trying to find whether the follow overall distribution or not\n",
    "print(f\"T-test 1 sample stat : {test_stat}\")"
   ]
  },
  {
   "cell_type": "code",
   "execution_count": 12,
   "id": "fe547fbd",
   "metadata": {},
   "outputs": [],
   "source": [
    "a = np.random.randn(1000)\n",
    "b = np.random.randn(10000)"
   ]
  },
  {
   "cell_type": "code",
   "execution_count": 13,
   "id": "ec7e76d2",
   "metadata": {},
   "outputs": [
    {
     "data": {
      "text/plain": [
       "Ttest_indResult(statistic=-0.09841763235503335, pvalue=0.921602467620701)"
      ]
     },
     "execution_count": 13,
     "metadata": {},
     "output_type": "execute_result"
    }
   ],
   "source": [
    "# 2 sample T Test\n",
    "scipy.stats.ttest_ind(a=a, b=b)   #where a = sample 1 and b = sample 2 ...note the formula or expression is different from single T test"
   ]
  },
  {
   "cell_type": "code",
   "execution_count": null,
   "id": "c578d4fa",
   "metadata": {},
   "outputs": [],
   "source": [
    "#checking skewness and kurtosis\n",
    "scipy.stats.skew(test_sample)       #skewness\n",
    "\n",
    "scipy.stats.kurtosis(test_sample)    #kurtosis   #negative kurtosis means less in the tails\n"
   ]
  },
  {
   "cell_type": "code",
   "execution_count": null,
   "id": "46c8e4df",
   "metadata": {},
   "outputs": [],
   "source": [
    "# chi square test\n",
    "scipy.stats.chisquare(f_obs=b, f_exp=a)    #1st argument is the actual value and 2nd argument is the expected or values from the model."
   ]
  },
  {
   "cell_type": "code",
   "execution_count": null,
   "id": "17e6bec9",
   "metadata": {},
   "outputs": [],
   "source": [
    "#Sampling from standard distributions\n",
    "scipy.stats.norm(loc=mu, scale=sigma).rvs(size=10)   #for normal distribution #loc = mean of the distribution , scale = standard deviations (the function rvs is for random variables simulation)\n",
    "scipy.stats.bernoulli(p=0.4).rvs(size=1000000)       # for bernoulli distribution"
   ]
  },
  {
   "cell_type": "code",
   "execution_count": null,
   "id": "f09158bd",
   "metadata": {},
   "outputs": [],
   "source": [
    "#calculating pdf from X values\n",
    "scipy.stats.norm(loc=mu, scale=sigma).pdf(10)"
   ]
  },
  {
   "cell_type": "code",
   "execution_count": 14,
   "id": "64d88fdc",
   "metadata": {},
   "outputs": [],
   "source": [
    "#calculating the interquartile range\n",
    "scipy.stats.iqr(sample_data)"
   ]
  },
  {
   "cell_type": "code",
   "execution_count": null,
   "id": "c0779eed",
   "metadata": {},
   "outputs": [],
   "source": [
    "#Handling image data by scipy\n",
    "rotated_image = scipy.ndimage.rotate(image_data, 180)   #will rotate the image by 180 degrees\n",
    "zoom_image = scipy.ndimage.zoom(image_data, zoom=[3, 3, 1])    #zooming the image  (1st original dimension multiplied by 3 , 2nd orginial dimension multiplied by 3 , 3 rd original dimension multiplied by 1)"
   ]
  },
  {
   "cell_type": "code",
   "execution_count": null,
   "id": "90a87ca9",
   "metadata": {},
   "outputs": [],
   "source": [
    "# Converting image into a grey scale image\n",
    "g_image = scipy.ndimage.gaussian_filter(image_data, sigma=3)"
   ]
  },
  {
   "cell_type": "markdown",
   "id": "b7ca1415",
   "metadata": {},
   "source": [
    "# Integration and differenciation by scipy"
   ]
  },
  {
   "cell_type": "code",
   "execution_count": null,
   "id": "680e0f4d",
   "metadata": {},
   "outputs": [],
   "source": [
    "function_x = lambda x : (x + 1)\n",
    "integral = scipy.integrate.quad(func=function_x, a=0, b=1)\n",
    "#integration \n",
    "#1st define the function say by manda operation \n",
    "#2nd use scipy.integrate\n",
    "#the above code will 1st give integral and 2nd will give the constant of integration"
   ]
  },
  {
   "cell_type": "code",
   "execution_count": null,
   "id": "60d2c8ab",
   "metadata": {},
   "outputs": [],
   "source": [
    "#differenciation \n",
    "\n",
    "f = lambda x : x**2 + x*2\n",
    "derivative = scipy.misc.derivative(func=f, x0=1, dx=1e-6)\n",
    "#again 1st function defination and then the calculation of derivative"
   ]
  },
  {
   "cell_type": "code",
   "execution_count": 16,
   "id": "497f4e2e",
   "metadata": {},
   "outputs": [],
   "source": [
    "#Roots finding by scipy\n",
    "f_root = lambda x : x**3 + 10*x + 5\n",
    "print(f\"Root of the equation at x : {scipy.optimize.root(fun=f_root, x0=0.2)}\")\n",
    "#1st function and then calculating the roots"
   ]
  },
  {
   "cell_type": "markdown",
   "id": "4c7a86fe",
   "metadata": {},
   "source": [
    "# Linear algebra with Scipy"
   ]
  },
  {
   "cell_type": "code",
   "execution_count": null,
   "id": "b43a39c6",
   "metadata": {},
   "outputs": [],
   "source": [
    "from scipy import linalg\n",
    "# calculate determinant of numpy multidimensional array\n",
    "linalg.det(matrix)                            \n",
    "# calculate inverse of matrix (a numpy array)\n",
    "linalg.inv(matrix)                            "
   ]
  },
  {
   "cell_type": "markdown",
   "id": "ecb59178",
   "metadata": {},
   "source": [
    "## Scipy special module"
   ]
  },
  {
   "cell_type": "code",
   "execution_count": null,
   "id": "596bb395",
   "metadata": {},
   "outputs": [],
   "source": [
    "import scipy.special as spl\n",
    "\n",
    "#Calculation of nCr by  (combinatorial)\n",
    "spl.comb(N=10, k=4, exact=True)\n",
    "\n",
    "#permutations nPr\n",
    "spl.perm(N=10, k=4, exact=True)"
   ]
  }
 ],
 "metadata": {
  "kernelspec": {
   "display_name": "Python 3",
   "language": "python",
   "name": "python3"
  },
  "language_info": {
   "codemirror_mode": {
    "name": "ipython",
    "version": 3
   },
   "file_extension": ".py",
   "mimetype": "text/x-python",
   "name": "python",
   "nbconvert_exporter": "python",
   "pygments_lexer": "ipython3",
   "version": "3.8.8"
  }
 },
 "nbformat": 4,
 "nbformat_minor": 5
}
