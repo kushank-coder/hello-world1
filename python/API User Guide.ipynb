{
 "cells": [
  {
   "cell_type": "code",
   "execution_count": 2,
   "id": "0e830edc",
   "metadata": {},
   "outputs": [
    {
     "name": "stderr",
     "output_type": "stream",
     "text": [
      "ERROR: Invalid requirement: '#already'\n"
     ]
    }
   ],
   "source": [
    "!pip install flask    #already installed"
   ]
  },
  {
   "cell_type": "code",
   "execution_count": 1,
   "id": "07219e8b",
   "metadata": {},
   "outputs": [],
   "source": [
    "from flask import Flask\n",
    "app = Flask(__name__)                   #by default we use it like this\n",
    "    \n",
    "    \n",
    "    \n",
    "@app.route(\"/\")                                     #the route function has 2 arguments url (also referred as rule) and option (like GET, POST, PUT, DELETE)\n",
    "def home():                                         #Syntax => \"@app.route(rule,option)\"\n",
    "    return \"<h1>MAGIC IS WHAT YOU See</h1>\"         #this is added just before a function (which is a decorator) which defines what will come on the rule..ie the url given in the brackets\n",
    "                                                   # ie the rule or url is defined by decorator...decorator kis function se pehle laga hai will decide the new ulr (which will actually show the return from the function just after the decorator)\n",
    "                                                  # There needs to be different functions for different decorators otherwise computer gets confused (plus the url mentioned should also be different)\n",
    "                                                    #HERE the rule/ulr is ==> (\"/\")\n",
    "                                                    #decorator links \"a path\" to a function \n"
   ]
  },
  {
   "cell_type": "markdown",
   "id": "796ecea7",
   "metadata": {},
   "source": [
    "# the below code going into infinite loop why"
   ]
  },
  {
   "cell_type": "code",
   "execution_count": 2,
   "id": "a377e27b",
   "metadata": {},
   "outputs": [
    {
     "name": "stdout",
     "output_type": "stream",
     "text": [
      " * Serving Flask app \"__main__\" (lazy loading)\n",
      " * Environment: production\n",
      "   WARNING: This is a development server. Do not use it in a production deployment.\n",
      "   Use a production WSGI server instead.\n",
      " * Debug mode: on\n"
     ]
    },
    {
     "name": "stderr",
     "output_type": "stream",
     "text": [
      " * Restarting with windowsapi reloader\n"
     ]
    },
    {
     "ename": "SystemExit",
     "evalue": "1",
     "output_type": "error",
     "traceback": [
      "An exception has occurred, use %tb to see the full traceback.\n",
      "\u001b[1;31mSystemExit\u001b[0m\u001b[1;31m:\u001b[0m 1\n"
     ]
    },
    {
     "name": "stderr",
     "output_type": "stream",
     "text": [
      "C:\\Users\\hp\\anaconda3\\lib\\site-packages\\IPython\\core\\interactiveshell.py:3445: UserWarning: To exit: use 'exit', 'quit', or Ctrl-D.\n",
      "  warn(\"To exit: use 'exit', 'quit', or Ctrl-D.\", stacklevel=1)\n"
     ]
    }
   ],
   "source": [
    "app.run(debug= True)                  #debug is important (just use debug by default)\n",
    "#code in sublime and use command prompt for running rest api\n",
    "\n",
    "#A Flask application is started by calling the run() method."
   ]
  },
  {
   "cell_type": "code",
   "execution_count": 2,
   "id": "3abcfee3",
   "metadata": {},
   "outputs": [],
   "source": [
    "#@app.route() is a method of \"app\" instance which takes as an input (the url to which the below decorator will be attached)\n",
    "#application of decorators as a means to connect the web page display with the function in the code."
   ]
  },
  {
   "cell_type": "code",
   "execution_count": 2,
   "id": "33de6cc3",
   "metadata": {},
   "outputs": [],
   "source": [
    "@app.route(\"/hello\")                 \n",
    "def hello_world():\n",
    "    return \"<h1>Hello Kushank World</h1>\""
   ]
  },
  {
   "cell_type": "markdown",
   "id": "84658542",
   "metadata": {},
   "source": [
    "# variable elements (entered by user) should be given in the function as argument (syntax =< variable name >) "
   ]
  },
  {
   "cell_type": "code",
   "execution_count": 3,
   "id": "319af720",
   "metadata": {},
   "outputs": [],
   "source": [
    "\n",
    "@app.route(\"/hello/<name>\")                 \n",
    "def hello(name):                                     #Do remember to give argument whenever using variable url in the function after decorator (this is imp in variable assignment/ using variable value)\n",
    "    return \"<h2>Hello %s World</h2>\" %name            # for using a number as variable we can use %d instead of %s in return statement"
   ]
  },
  {
   "cell_type": "code",
   "execution_count": 1,
   "id": "502cd5b5",
   "metadata": {},
   "outputs": [],
   "source": [
    "# method \"url_for\" + redirect                  redirect is generally used with url_for . Points the ulr to another function in program\n",
    "from flask import Flask, redirect, url_for\n",
    "app = Flask(__name__)\n",
    "\n",
    "\n",
    "@app.route('/')\n",
    "def hello_admin():\n",
    "    return '<h1>Hello Admin 123</h1>'\n",
    "\n",
    "@app.route('/guest/<guest>')\n",
    "def hello_guest(guest):\n",
    "    return '<font color=\"red\"><h1>Hello %s as Guest</h1></font>' % guest\n",
    "\n",
    "@app.route('/user/<name>')\n",
    "def hello_user(name):\n",
    "    if name =='admin':\n",
    "        return redirect(url_for('hello_admin')) #name of the function as first argument\n",
    "    else:\n",
    "        return redirect(url_for('hello_guest',guest = name))\n",
    "app.run()\n",
    "\n",
    "\n",
    "#the above function hello_user will redirect to hello_admin is the <name> is admin or it directs to hello_guest function \n",
    "#syntax= redirect(url_for(\"function name\")) ..this will help in redirecting to an output from another function\n",
    "#basically a decorator maps the function to the function below it.\n",
    "#Note: the syntax of return statement (Hint = it is of html type)\n",
    "#ie we need to output in html format or we can use render_template(‘hello.html’) otherwise there will be an error"
   ]
  },
  {
   "cell_type": "markdown",
   "id": "d249f420",
   "metadata": {},
   "source": [
    "Guide to error (which type of error we are getting)\n",
    "#HTTP status codes\n",
    "#1xx - Informational\n",
    "#2xx - Success\n",
    "#3xx - Redirection\n",
    "#4xx - Client errors\n",
    "#5xx - Server errors"
   ]
  },
  {
   "cell_type": "code",
   "execution_count": null,
   "id": "7ad0202a",
   "metadata": {},
   "outputs": [],
   "source": [
    "#use of render_template method\n",
    "from flask import Flask,render_template     #Flask is a class and render_template is the method\n",
    "app = Flask(__name__)\n",
    "\n",
    "@app.route('/')\n",
    "def index():\n",
    "    return render_template(‘hello.html’)  #ie we dont need to remember the syntax of html we can create html file separately and access it using render_template  (otherwise whatever we are returning we need to output in html format)"
   ]
  },
  {
   "cell_type": "markdown",
   "id": "5fdf410b",
   "metadata": {},
   "source": [
    "# Sessions in api?"
   ]
  },
  {
   "cell_type": "code",
   "execution_count": 6,
   "id": "3d7ed457",
   "metadata": {},
   "outputs": [],
   "source": [
    "#sessions are used so that we can retrieve data from the site without making multiple get requests.\n",
    "#sessions are like a cache memory taaki baar baar user ko GET statement karke baar baar login na karna pade\n",
    "\n",
    "#sessions are basically of dictionary format ie key-value pairs\n",
    "#A flask can access the session via SECRET KEY"
   ]
  },
  {
   "cell_type": "code",
   "execution_count": null,
   "id": "98f45e98",
   "metadata": {},
   "outputs": [],
   "source": [
    "#updating values of session username to admin\n",
    "Session[\"username\"] = 'admin'"
   ]
  },
  {
   "cell_type": "code",
   "execution_count": null,
   "id": "eae8067b",
   "metadata": {},
   "outputs": [],
   "source": [
    "#to release or remove the session use\n",
    "session.pop('username',None)"
   ]
  },
  {
   "cell_type": "code",
   "execution_count": null,
   "id": "61eca9fb",
   "metadata": {},
   "outputs": [],
   "source": [
    "#What is the pupose of secret key where and how to use it\n",
    "#How will we finally access the data by api....we need to extract data how can we extract.\n",
    "#How to use sessions (Not Understood) "
   ]
  }
 ],
 "metadata": {
  "kernelspec": {
   "display_name": "Python 3",
   "language": "python",
   "name": "python3"
  },
  "language_info": {
   "codemirror_mode": {
    "name": "ipython",
    "version": 3
   },
   "file_extension": ".py",
   "mimetype": "text/x-python",
   "name": "python",
   "nbconvert_exporter": "python",
   "pygments_lexer": "ipython3",
   "version": "3.8.8"
  }
 },
 "nbformat": 4,
 "nbformat_minor": 5
}
