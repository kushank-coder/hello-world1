{
 "cells": [
  {
   "cell_type": "code",
   "execution_count": 1,
   "id": "35ddc079",
   "metadata": {},
   "outputs": [
    {
     "name": "stdout",
     "output_type": "stream",
     "text": [
      "2.3.0\n"
     ]
    }
   ],
   "source": [
    "#importing tensorflow\n",
    "import tensorflow as tf\n",
    "import numpy as np\n",
    "from tensorflow import keras\n",
    "\n",
    "print(tf.__version__)"
   ]
  },
  {
   "cell_type": "code",
   "execution_count": null,
   "id": "2a2c3fd9",
   "metadata": {},
   "outputs": [],
   "source": [
    "#creating/ defining the model"
   ]
  },
  {
   "cell_type": "code",
   "execution_count": 17,
   "id": "f1b4df0b",
   "metadata": {},
   "outputs": [],
   "source": [
    "#Defining Structure (one can add multiple layers before the })\n",
    "model = tf.keras.Sequential([tf.keras.layers.Dense(units=1, input_shape=[1])])"
   ]
  },
  {
   "cell_type": "code",
   "execution_count": 18,
   "id": "38407b29",
   "metadata": {},
   "outputs": [],
   "source": [
    "#Defining the loss function type and optimizer (which makes the guess gives the direction to next guess)\n",
    "model.compile(optimizer='sgd',loss='mean_squared_error')"
   ]
  },
  {
   "cell_type": "code",
   "execution_count": 19,
   "id": "3cb42f60",
   "metadata": {},
   "outputs": [],
   "source": [
    "xs = np.array([-1,0,1,2,3,4], dtype = float)\n",
    "ys = np.array([-3,-1,1,3,5,7], dtype = float)"
   ]
  },
  {
   "cell_type": "code",
   "execution_count": 21,
   "id": "f78b690a",
   "metadata": {},
   "outputs": [
    {
     "name": "stdout",
     "output_type": "stream",
     "text": [
      "Epoch 1/500\n",
      "1/1 [==============================] - 0s 0s/step - loss: 28.1958\n",
      "Epoch 2/500\n",
      "1/1 [==============================] - 0s 14ms/step - loss: 22.4880\n",
      "Epoch 3/500\n",
      "1/1 [==============================] - 0s 999us/step - loss: 17.9911\n",
      "Epoch 4/500\n",
      "1/1 [==============================] - 0s 1ms/step - loss: 14.4470\n",
      "Epoch 5/500\n",
      "1/1 [==============================] - 0s 3ms/step - loss: 11.6527\n",
      "Epoch 6/500\n",
      "1/1 [==============================] - 0s 0s/step - loss: 9.4484\n",
      "Epoch 7/500\n",
      "1/1 [==============================] - 0s 971us/step - loss: 7.7084\n",
      "Epoch 8/500\n",
      "1/1 [==============================] - 0s 2ms/step - loss: 6.3338\n",
      "Epoch 9/500\n",
      "1/1 [==============================] - 0s 0s/step - loss: 5.2468\n",
      "Epoch 10/500\n",
      "1/1 [==============================] - 0s 7ms/step - loss: 4.3861\n",
      "Epoch 11/500\n",
      "1/1 [==============================] - 0s 998us/step - loss: 3.7038\n",
      "Epoch 12/500\n",
      "1/1 [==============================] - 0s 2ms/step - loss: 3.1617\n",
      "Epoch 13/500\n",
      "1/1 [==============================] - 0s 0s/step - loss: 2.7301\n",
      "Epoch 14/500\n",
      "1/1 [==============================] - 0s 997us/step - loss: 2.3856\n",
      "Epoch 15/500\n",
      "1/1 [==============================] - 0s 0s/step - loss: 2.1097\n",
      "Epoch 16/500\n",
      "1/1 [==============================] - 0s 0s/step - loss: 1.8878\n",
      "Epoch 17/500\n",
      "1/1 [==============================] - 0s 0s/step - loss: 1.7085\n",
      "Epoch 18/500\n",
      "1/1 [==============================] - 0s 1ms/step - loss: 1.5629\n",
      "Epoch 19/500\n",
      "1/1 [==============================] - 0s 0s/step - loss: 1.4439\n",
      "Epoch 20/500\n",
      "1/1 [==============================] - 0s 990us/step - loss: 1.3458\n",
      "Epoch 21/500\n",
      "1/1 [==============================] - 0s 0s/step - loss: 1.2644\n",
      "Epoch 22/500\n",
      "1/1 [==============================] - 0s 0s/step - loss: 1.1961\n",
      "Epoch 23/500\n",
      "1/1 [==============================] - 0s 991us/step - loss: 1.1382\n",
      "Epoch 24/500\n",
      "1/1 [==============================] - 0s 993us/step - loss: 1.0886\n",
      "Epoch 25/500\n",
      "1/1 [==============================] - 0s 0s/step - loss: 1.0456\n",
      "Epoch 26/500\n",
      "1/1 [==============================] - 0s 991us/step - loss: 1.0079\n",
      "Epoch 27/500\n",
      "1/1 [==============================] - 0s 996us/step - loss: 0.9744\n",
      "Epoch 28/500\n",
      "1/1 [==============================] - 0s 0s/step - loss: 0.9444\n",
      "Epoch 29/500\n",
      "1/1 [==============================] - 0s 2ms/step - loss: 0.9171\n",
      "Epoch 30/500\n",
      "1/1 [==============================] - 0s 998us/step - loss: 0.8920\n",
      "Epoch 31/500\n",
      "1/1 [==============================] - 0s 0s/step - loss: 0.8688\n",
      "Epoch 32/500\n",
      "1/1 [==============================] - 0s 0s/step - loss: 0.8471\n",
      "Epoch 33/500\n",
      "1/1 [==============================] - 0s 998us/step - loss: 0.8267\n",
      "Epoch 34/500\n",
      "1/1 [==============================] - 0s 0s/step - loss: 0.8073\n",
      "Epoch 35/500\n",
      "1/1 [==============================] - 0s 0s/step - loss: 0.7889\n",
      "Epoch 36/500\n",
      "1/1 [==============================] - 0s 989us/step - loss: 0.7712\n",
      "Epoch 37/500\n",
      "1/1 [==============================] - 0s 2ms/step - loss: 0.7542\n",
      "Epoch 38/500\n",
      "1/1 [==============================] - 0s 0s/step - loss: 0.7378\n",
      "Epoch 39/500\n",
      "1/1 [==============================] - 0s 2ms/step - loss: 0.7219\n",
      "Epoch 40/500\n",
      "1/1 [==============================] - 0s 1ms/step - loss: 0.7065\n",
      "Epoch 41/500\n",
      "1/1 [==============================] - 0s 0s/step - loss: 0.6916\n",
      "Epoch 42/500\n",
      "1/1 [==============================] - 0s 8ms/step - loss: 0.6770\n",
      "Epoch 43/500\n",
      "1/1 [==============================] - 0s 0s/step - loss: 0.6628\n",
      "Epoch 44/500\n",
      "1/1 [==============================] - 0s 828us/step - loss: 0.6490\n",
      "Epoch 45/500\n",
      "1/1 [==============================] - 0s 0s/step - loss: 0.6355\n",
      "Epoch 46/500\n",
      "1/1 [==============================] - 0s 989us/step - loss: 0.6223\n",
      "Epoch 47/500\n",
      "1/1 [==============================] - 0s 977us/step - loss: 0.6094\n",
      "Epoch 48/500\n",
      "1/1 [==============================] - 0s 0s/step - loss: 0.5968\n",
      "Epoch 49/500\n",
      "1/1 [==============================] - 0s 2ms/step - loss: 0.5845\n",
      "Epoch 50/500\n",
      "1/1 [==============================] - 0s 996us/step - loss: 0.5725\n",
      "Epoch 51/500\n",
      "1/1 [==============================] - 0s 0s/step - loss: 0.5607\n",
      "Epoch 52/500\n",
      "1/1 [==============================] - 0s 0s/step - loss: 0.5491\n",
      "Epoch 53/500\n",
      "1/1 [==============================] - 0s 1ms/step - loss: 0.5378\n",
      "Epoch 54/500\n",
      "1/1 [==============================] - 0s 1ms/step - loss: 0.5267\n",
      "Epoch 55/500\n",
      "1/1 [==============================] - 0s 0s/step - loss: 0.5159\n",
      "Epoch 56/500\n",
      "1/1 [==============================] - 0s 2ms/step - loss: 0.5053\n",
      "Epoch 57/500\n",
      "1/1 [==============================] - 0s 0s/step - loss: 0.4949\n",
      "Epoch 58/500\n",
      "1/1 [==============================] - 0s 998us/step - loss: 0.4847\n",
      "Epoch 59/500\n",
      "1/1 [==============================] - 0s 0s/step - loss: 0.4748\n",
      "Epoch 60/500\n",
      "1/1 [==============================] - 0s 2ms/step - loss: 0.4650\n",
      "Epoch 61/500\n",
      "1/1 [==============================] - 0s 0s/step - loss: 0.4555\n",
      "Epoch 62/500\n",
      "1/1 [==============================] - 0s 0s/step - loss: 0.4461\n",
      "Epoch 63/500\n",
      "1/1 [==============================] - 0s 999us/step - loss: 0.4369\n",
      "Epoch 64/500\n",
      "1/1 [==============================] - 0s 0s/step - loss: 0.4280\n",
      "Epoch 65/500\n",
      "1/1 [==============================] - 0s 0s/step - loss: 0.4192\n",
      "Epoch 66/500\n",
      "1/1 [==============================] - 0s 2ms/step - loss: 0.4106\n",
      "Epoch 67/500\n",
      "1/1 [==============================] - 0s 926us/step - loss: 0.4021\n",
      "Epoch 68/500\n",
      "1/1 [==============================] - 0s 0s/step - loss: 0.3939\n",
      "Epoch 69/500\n",
      "1/1 [==============================] - 0s 0s/step - loss: 0.3858\n",
      "Epoch 70/500\n",
      "1/1 [==============================] - 0s 989us/step - loss: 0.3778\n",
      "Epoch 71/500\n",
      "1/1 [==============================] - 0s 2ms/step - loss: 0.3701\n",
      "Epoch 72/500\n",
      "1/1 [==============================] - 0s 0s/step - loss: 0.3625\n",
      "Epoch 73/500\n",
      "1/1 [==============================] - 0s 0s/step - loss: 0.3550\n",
      "Epoch 74/500\n",
      "1/1 [==============================] - 0s 2ms/step - loss: 0.3477\n",
      "Epoch 75/500\n",
      "1/1 [==============================] - 0s 0s/step - loss: 0.3406\n",
      "Epoch 76/500\n",
      "1/1 [==============================] - 0s 0s/step - loss: 0.3336\n",
      "Epoch 77/500\n",
      "1/1 [==============================] - 0s 0s/step - loss: 0.3267\n",
      "Epoch 78/500\n",
      "1/1 [==============================] - 0s 1ms/step - loss: 0.3200\n",
      "Epoch 79/500\n",
      "1/1 [==============================] - 0s 0s/step - loss: 0.3135\n",
      "Epoch 80/500\n",
      "1/1 [==============================] - 0s 0s/step - loss: 0.3070\n",
      "Epoch 81/500\n",
      "1/1 [==============================] - 0s 0s/step - loss: 0.3007\n",
      "Epoch 82/500\n",
      "1/1 [==============================] - 0s 1000us/step - loss: 0.2945\n",
      "Epoch 83/500\n",
      "1/1 [==============================] - 0s 0s/step - loss: 0.2885\n",
      "Epoch 84/500\n",
      "1/1 [==============================] - 0s 0s/step - loss: 0.2826\n",
      "Epoch 85/500\n",
      "1/1 [==============================] - 0s 0s/step - loss: 0.2768\n",
      "Epoch 86/500\n",
      "1/1 [==============================] - 0s 996us/step - loss: 0.2711\n",
      "Epoch 87/500\n",
      "1/1 [==============================] - 0s 0s/step - loss: 0.2655\n",
      "Epoch 88/500\n",
      "1/1 [==============================] - 0s 0s/step - loss: 0.2601\n",
      "Epoch 89/500\n",
      "1/1 [==============================] - 0s 0s/step - loss: 0.2547\n",
      "Epoch 90/500\n",
      "1/1 [==============================] - 0s 1ms/step - loss: 0.2495\n",
      "Epoch 91/500\n",
      "1/1 [==============================] - 0s 0s/step - loss: 0.2444\n",
      "Epoch 92/500\n",
      "1/1 [==============================] - 0s 0s/step - loss: 0.2393\n",
      "Epoch 93/500\n",
      "1/1 [==============================] - 0s 7ms/step - loss: 0.2344\n",
      "Epoch 94/500\n",
      "1/1 [==============================] - 0s 1ms/step - loss: 0.2296\n",
      "Epoch 95/500\n",
      "1/1 [==============================] - 0s 0s/step - loss: 0.2249\n",
      "Epoch 96/500\n",
      "1/1 [==============================] - 0s 0s/step - loss: 0.2203\n",
      "Epoch 97/500\n",
      "1/1 [==============================] - 0s 10ms/step - loss: 0.2157\n",
      "Epoch 98/500\n",
      "1/1 [==============================] - 0s 1ms/step - loss: 0.2113\n",
      "Epoch 99/500\n",
      "1/1 [==============================] - 0s 0s/step - loss: 0.2070\n",
      "Epoch 100/500\n",
      "1/1 [==============================] - 0s 0s/step - loss: 0.2027\n",
      "Epoch 101/500\n",
      "1/1 [==============================] - 0s 2ms/step - loss: 0.1986\n",
      "Epoch 102/500\n",
      "1/1 [==============================] - 0s 2ms/step - loss: 0.1945\n",
      "Epoch 103/500\n",
      "1/1 [==============================] - 0s 0s/step - loss: 0.1905\n",
      "Epoch 104/500\n"
     ]
    },
    {
     "name": "stdout",
     "output_type": "stream",
     "text": [
      "1/1 [==============================] - 0s 0s/step - loss: 0.1866\n",
      "Epoch 105/500\n",
      "1/1 [==============================] - 0s 2ms/step - loss: 0.1827\n",
      "Epoch 106/500\n",
      "1/1 [==============================] - 0s 2ms/step - loss: 0.1790\n",
      "Epoch 107/500\n",
      "1/1 [==============================] - 0s 0s/step - loss: 0.1753\n",
      "Epoch 108/500\n",
      "1/1 [==============================] - 0s 0s/step - loss: 0.1717\n",
      "Epoch 109/500\n",
      "1/1 [==============================] - 0s 998us/step - loss: 0.1682\n",
      "Epoch 110/500\n",
      "1/1 [==============================] - 0s 1ms/step - loss: 0.1647\n",
      "Epoch 111/500\n",
      "1/1 [==============================] - 0s 0s/step - loss: 0.1613\n",
      "Epoch 112/500\n",
      "1/1 [==============================] - 0s 0s/step - loss: 0.1580\n",
      "Epoch 113/500\n",
      "1/1 [==============================] - 0s 1ms/step - loss: 0.1548\n",
      "Epoch 114/500\n",
      "1/1 [==============================] - 0s 0s/step - loss: 0.1516\n",
      "Epoch 115/500\n",
      "1/1 [==============================] - 0s 0s/step - loss: 0.1485\n",
      "Epoch 116/500\n",
      "1/1 [==============================] - 0s 0s/step - loss: 0.1454\n",
      "Epoch 117/500\n",
      "1/1 [==============================] - 0s 818us/step - loss: 0.1425\n",
      "Epoch 118/500\n",
      "1/1 [==============================] - 0s 0s/step - loss: 0.1395\n",
      "Epoch 119/500\n",
      "1/1 [==============================] - 0s 0s/step - loss: 0.1367\n",
      "Epoch 120/500\n",
      "1/1 [==============================] - 0s 0s/step - loss: 0.1339\n",
      "Epoch 121/500\n",
      "1/1 [==============================] - 0s 998us/step - loss: 0.1311\n",
      "Epoch 122/500\n",
      "1/1 [==============================] - 0s 0s/step - loss: 0.1284\n",
      "Epoch 123/500\n",
      "1/1 [==============================] - 0s 0s/step - loss: 0.1258\n",
      "Epoch 124/500\n",
      "1/1 [==============================] - 0s 0s/step - loss: 0.1232\n",
      "Epoch 125/500\n",
      "1/1 [==============================] - 0s 994us/step - loss: 0.1207\n",
      "Epoch 126/500\n",
      "1/1 [==============================] - 0s 0s/step - loss: 0.1182\n",
      "Epoch 127/500\n",
      "1/1 [==============================] - 0s 0s/step - loss: 0.1158\n",
      "Epoch 128/500\n",
      "1/1 [==============================] - 0s 0s/step - loss: 0.1134\n",
      "Epoch 129/500\n",
      "1/1 [==============================] - 0s 0s/step - loss: 0.1110\n",
      "Epoch 130/500\n",
      "1/1 [==============================] - 0s 0s/step - loss: 0.1088\n",
      "Epoch 131/500\n",
      "1/1 [==============================] - 0s 0s/step - loss: 0.1065\n",
      "Epoch 132/500\n",
      "1/1 [==============================] - 0s 0s/step - loss: 0.1043\n",
      "Epoch 133/500\n",
      "1/1 [==============================] - 0s 998us/step - loss: 0.1022\n",
      "Epoch 134/500\n",
      "1/1 [==============================] - 0s 0s/step - loss: 0.1001\n",
      "Epoch 135/500\n",
      "1/1 [==============================] - ETA: 0s - loss: 0.0980\n",
      "Reached 60% accuracy so cancelling training!\n",
      "1/1 [==============================] - 0s 0s/step - loss: 0.0980\n"
     ]
    },
    {
     "data": {
      "text/plain": [
       "<tensorflow.python.keras.callbacks.History at 0x1a70316ef40>"
      ]
     },
     "execution_count": 21,
     "metadata": {},
     "output_type": "execute_result"
    }
   ],
   "source": [
    "model.fit(x = xs, y =ys,epochs=500,callbacks=[callbacks])"
   ]
  },
  {
   "cell_type": "code",
   "execution_count": 12,
   "id": "d69cd682",
   "metadata": {},
   "outputs": [
    {
     "data": {
      "text/plain": [
       "array([[18.986725]], dtype=float32)"
      ]
     },
     "execution_count": 12,
     "metadata": {},
     "output_type": "execute_result"
    }
   ],
   "source": [
    "#tensorflow i believe takes list as an input \n",
    "#without activation i believe the neural network will behave as a linear regression\n",
    "model.predict([10])"
   ]
  },
  {
   "cell_type": "code",
   "execution_count": null,
   "id": "dd2dc39c",
   "metadata": {},
   "outputs": [],
   "source": [
    "#the ml always approximate the original function (it will always be different than actual considering the fact that maybe the original function might be different) basically machinelearning gives it a realistic value"
   ]
  },
  {
   "cell_type": "code",
   "execution_count": null,
   "id": "bb721d37",
   "metadata": {},
   "outputs": [],
   "source": [
    "# Visualize the image\n",
    "plt.imshow(training_images[index])\n",
    "#one needs to enter the complete array of a particular image to print the image "
   ]
  },
  {
   "cell_type": "code",
   "execution_count": 20,
   "id": "a24df908",
   "metadata": {},
   "outputs": [],
   "source": []
  },
  {
   "cell_type": "markdown",
   "id": "085e1f91",
   "metadata": {},
   "source": [
    "## Model summary (parameters and shape are imp at each step)"
   ]
  },
  {
   "cell_type": "code",
   "execution_count": null,
   "id": "7dffab4c",
   "metadata": {},
   "outputs": [],
   "source": [
    "#below is very important to visualize the model, its parameters requirements etc\n",
    "MODEL.summary()\n"
   ]
  },
  {
   "cell_type": "markdown",
   "id": "0bfe68bd",
   "metadata": {},
   "source": [
    "## Convolution + Max Pooling layers"
   ]
  },
  {
   "cell_type": "code",
   "execution_count": 23,
   "id": "334f8274",
   "metadata": {},
   "outputs": [
    {
     "data": {
      "text/plain": [
       "(<tensorflow.python.keras.layers.pooling.MaxPooling2D at 0x1a701fb6160>,)"
      ]
     },
     "execution_count": 23,
     "metadata": {},
     "output_type": "execute_result"
    }
   ],
   "source": [
    "#below are the convolution and pooling layers which helps the model to extract better features and hence leads to a better classification model\n",
    "tf.keras.layers.Conv2D(32, (3,3), activation='relu', input_shape=(28, 28, 1)), #3,3 is the filter , 32 filters are being executed, activation over here is generally relu, input shape is important\n",
    "tf.keras.layers.MaxPooling2D(2, 2),"
   ]
  },
  {
   "cell_type": "code",
   "execution_count": null,
   "id": "b6e25e85",
   "metadata": {},
   "outputs": [],
   "source": [
    "#image generator will directly extract the images from a folder which has sub folders (which forms the labels and the images inside)\n",
    "from tensorflow.keras.preprocessing.image import ImageDataGenerator\n",
    "\n",
    "# All images will be rescaled by 1./255\n",
    "train_datagen = ImageDataGenerator(rescale=1/255)\n",
    "\n",
    "# Flow training images in batches of 128 using train_datagen generator\n",
    "train_generator = train_datagen.flow_from_directory(\n",
    "        './horse-or-human/',  # This is the source directory for training images\n",
    "        target_size=(300, 300),  # All images will be resized to 300x300 (vimp in real world scenarios)\n",
    "        batch_size=128, #will define the steps_per_epoch\n",
    "        # Since we use binary_crossentropy loss, we need binary labels\n",
    "        class_mode='binary')\n",
    "\n",
    "history = model.fit(\n",
    "      train_generator,\n",
    "      steps_per_epoch=8,  #steps per epoch * batch size must be equal to the length of our training dataset \n",
    "      epochs=15,\n",
    "      verbose=1)"
   ]
  }
 ],
 "metadata": {
  "kernelspec": {
   "display_name": "Python 3",
   "language": "python",
   "name": "python3"
  },
  "language_info": {
   "codemirror_mode": {
    "name": "ipython",
    "version": 3
   },
   "file_extension": ".py",
   "mimetype": "text/x-python",
   "name": "python",
   "nbconvert_exporter": "python",
   "pygments_lexer": "ipython3",
   "version": "3.8.8"
  }
 },
 "nbformat": 4,
 "nbformat_minor": 5
}
