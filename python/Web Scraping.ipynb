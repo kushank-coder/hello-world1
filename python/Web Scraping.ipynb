{
 "cells": [
  {
   "cell_type": "code",
   "execution_count": 2,
   "id": "e074612f",
   "metadata": {},
   "outputs": [
    {
     "name": "stdout",
     "output_type": "stream",
     "text": [
      "3.8.8 (default, Apr 13 2021, 15:08:03) [MSC v.1916 64 bit (AMD64)]\n"
     ]
    }
   ],
   "source": [
    "import sys\n",
    "print(sys.version) "
   ]
  },
  {
   "cell_type": "code",
   "execution_count": 3,
   "id": "034d2c04",
   "metadata": {},
   "outputs": [],
   "source": [
    "from bs4 import BeautifulSoup"
   ]
  },
  {
   "cell_type": "code",
   "execution_count": 25,
   "id": "48d70130",
   "metadata": {},
   "outputs": [],
   "source": [
    "our_soup_object = BeautifulSoup(our_html_document,'html.parser')      #the second argument can even be 'lxml' also"
   ]
  },
  {
   "cell_type": "code",
   "execution_count": 29,
   "id": "2cff14de",
   "metadata": {},
   "outputs": [],
   "source": [
    "tag = our_soup_object.html\n",
    "tag.name = 'kushank'"
   ]
  },
  {
   "cell_type": "code",
   "execution_count": null,
   "id": "309b11a4",
   "metadata": {},
   "outputs": [],
   "source": [
    "our_soup_object   #will be difficult to read (no format)"
   ]
  },
  {
   "cell_type": "code",
   "execution_count": 9,
   "id": "d07ef93f",
   "metadata": {},
   "outputs": [
    {
     "name": "stdout",
     "output_type": "stream",
     "text": [
      "<html>\n",
      " <head>\n",
      "  <title>\n",
      "   IoT Articles\n",
      "  </title>\n",
      " </head>\n",
      " <body>\n",
      "  <p class=\"title\">\n",
      "   <b>\n",
      "    2018 Trends: Best New IoT Device Ideas for Data Scientists and Engineers\n",
      "   </b>\n",
      "  </p>\n",
      "  <p class=\"\n"
     ]
    }
   ],
   "source": [
    "#we will use prettify to format data in the BeautifulSoup\n",
    "print(our_soup_object.prettify()[0:200]) #prettify formats the data in readable form and it is line by line\n",
    "                                         #here 200 is the no of characters"
   ]
  },
  {
   "cell_type": "markdown",
   "id": "4a818f06",
   "metadata": {},
   "source": [
    "# Tag Object"
   ]
  },
  {
   "cell_type": "code",
   "execution_count": 60,
   "id": "bf029eb5",
   "metadata": {},
   "outputs": [
    {
     "data": {
      "text/plain": [
       "'Heading Level 1'"
      ]
     },
     "execution_count": 60,
     "metadata": {},
     "output_type": "execute_result"
    }
   ],
   "source": [
    "soup_object = BeautifulSoup('<h1 attribute_1 = \"Heading Level 1\"\">Future Trends for IoT in 2018</h1>', \"lxml\")\n",
    "\n",
    "tag = soup_object.h1\n",
    "tag[\"attribute_1\"]"
   ]
  },
  {
   "cell_type": "code",
   "execution_count": 61,
   "id": "1a935c5d",
   "metadata": {},
   "outputs": [
    {
     "data": {
      "text/plain": [
       "'h1'"
      ]
     },
     "execution_count": 61,
     "metadata": {},
     "output_type": "execute_result"
    }
   ],
   "source": [
    "tag.name"
   ]
  },
  {
   "cell_type": "code",
   "execution_count": 62,
   "id": "6cbe22f7",
   "metadata": {},
   "outputs": [],
   "source": [
    "tag.name=\"Kushank\"#Basically we can change the tag name (and this is inplace = True)"
   ]
  },
  {
   "cell_type": "code",
   "execution_count": null,
   "id": "5e154377",
   "metadata": {},
   "outputs": [],
   "source": [
    "#Use tag like a dictionary"
   ]
  },
  {
   "cell_type": "code",
   "execution_count": 37,
   "id": "894aecaf",
   "metadata": {},
   "outputs": [
    {
     "data": {
      "text/plain": [
       "{'attribute_1': 'Heading Level 1'}"
      ]
     },
     "execution_count": 37,
     "metadata": {},
     "output_type": "execute_result"
    }
   ],
   "source": [
    "tag.attrs        #elements of the tag basically heading where there is = to condition. the elements before \"=\" are the keys and after \"=\" are the values ie tags are like dictionaries"
   ]
  },
  {
   "cell_type": "code",
   "execution_count": 63,
   "id": "68d5989a",
   "metadata": {},
   "outputs": [
    {
     "data": {
      "text/plain": [
       "'Heading Level 1'"
      ]
     },
     "execution_count": 63,
     "metadata": {},
     "output_type": "execute_result"
    }
   ],
   "source": [
    "tag['attribute_1']"
   ]
  },
  {
   "cell_type": "code",
   "execution_count": 64,
   "id": "820983ee",
   "metadata": {},
   "outputs": [
    {
     "data": {
      "text/plain": [
       "{'attribute_1': 'Heading Level 1', 'attribute_2': 'Heading Level 1*'}"
      ]
     },
     "execution_count": 64,
     "metadata": {},
     "output_type": "execute_result"
    }
   ],
   "source": [
    "tag['attribute_2'] = 'Heading Level 1*' #there was no attribute_2 in the original soup_object\n",
    "tag.attrs"
   ]
  },
  {
   "cell_type": "code",
   "execution_count": 65,
   "id": "d776b402",
   "metadata": {},
   "outputs": [
    {
     "data": {
      "text/plain": [
       "{'attribute_1': 'Heading Level 1'}"
      ]
     },
     "execution_count": 65,
     "metadata": {},
     "output_type": "execute_result"
    }
   ],
   "source": [
    "del tag['attribute_2']                #deletes the attribute_2 in tag (both the keys and values are deleted)\n",
    "tag.attrs"
   ]
  },
  {
   "cell_type": "code",
   "execution_count": 76,
   "id": "93f3159a",
   "metadata": {},
   "outputs": [
    {
     "data": {
      "text/plain": [
       "<b>2018 Trends: Best New IoT Device Ideas for Data Scientists and Engineers</b>"
      ]
     },
     "execution_count": 76,
     "metadata": {},
     "output_type": "execute_result"
    }
   ],
   "source": [
    "our_soup_object.body.p.b"
   ]
  },
  {
   "cell_type": "markdown",
   "id": "063bd14d",
   "metadata": {},
   "source": [
    "# NavigableString Obj"
   ]
  },
  {
   "cell_type": "code",
   "execution_count": 78,
   "id": "b40fe3f6",
   "metadata": {},
   "outputs": [],
   "source": [
    "soup_object = BeautifulSoup('<h1 attribute_1 = \"Heading Level 1\"\">Future Trends for IoT in 2018</h1>', \"lxml\")"
   ]
  },
  {
   "cell_type": "code",
   "execution_count": 82,
   "id": "d169a355",
   "metadata": {},
   "outputs": [
    {
     "data": {
      "text/plain": [
       "'Future Trends for IoT in 2018'"
      ]
     },
     "execution_count": 82,
     "metadata": {},
     "output_type": "execute_result"
    }
   ],
   "source": [
    "soup_object.string            #for string we can directly use .string command to find the text in tag object or beautiful soup obj"
   ]
  },
  {
   "cell_type": "code",
   "execution_count": 83,
   "id": "e1b41510",
   "metadata": {},
   "outputs": [
    {
     "data": {
      "text/plain": [
       "'Future Trends for IoT in 2018'"
      ]
     },
     "execution_count": 83,
     "metadata": {},
     "output_type": "execute_result"
    }
   ],
   "source": [
    "soup_object.h1.string           #we can use \".\" operator for moving to the tag object"
   ]
  },
  {
   "cell_type": "code",
   "execution_count": 84,
   "id": "4f754a25",
   "metadata": {},
   "outputs": [
    {
     "data": {
      "text/plain": [
       "bs4.element.NavigableString"
      ]
     },
     "execution_count": 84,
     "metadata": {},
     "output_type": "execute_result"
    }
   ],
   "source": [
    "type(soup_object.h1.string)"
   ]
  },
  {
   "cell_type": "code",
   "execution_count": 85,
   "id": "0d53b89e",
   "metadata": {},
   "outputs": [],
   "source": [
    "our_navigable_string = soup_object.h1.string"
   ]
  },
  {
   "cell_type": "code",
   "execution_count": 86,
   "id": "61621665",
   "metadata": {},
   "outputs": [
    {
     "data": {
      "text/plain": [
       "'Future Trends for IoT in 2018'"
      ]
     },
     "execution_count": 86,
     "metadata": {},
     "output_type": "execute_result"
    }
   ],
   "source": [
    "#we can replace the string with anything\n",
    "our_navigable_string.replace_with(\"Kushank\")    #we can replace every text inside the tag"
   ]
  },
  {
   "cell_type": "code",
   "execution_count": 88,
   "id": "27ff607a",
   "metadata": {},
   "outputs": [
    {
     "data": {
      "text/plain": [
       "'Kushank'"
      ]
     },
     "execution_count": 88,
     "metadata": {},
     "output_type": "execute_result"
    }
   ],
   "source": [
    "soup_object.string"
   ]
  },
  {
   "cell_type": "code",
   "execution_count": 101,
   "id": "02ec3525",
   "metadata": {},
   "outputs": [],
   "source": [
    "#Extracting complete text without headers \n",
    "#use \"stripped_strings\" method of beautifulSoup object\n",
    "output=[]\n",
    "for string in soup_object.stripped_strings:\n",
    "    output.append(string)"
   ]
  },
  {
   "cell_type": "code",
   "execution_count": 107,
   "id": "577f8d6d",
   "metadata": {},
   "outputs": [
    {
     "name": "stdout",
     "output_type": "stream",
     "text": [
      "<a href=\"http://bit.ly/LPlNDJj\">Last month Ericsson Digital invited me</a>\n"
     ]
    }
   ],
   "source": [
    "first_link= our_soup_object.a                #links(website) are stored by \"a\" tags\n",
    "print(first_link)"
   ]
  },
  {
   "cell_type": "markdown",
   "id": "1af2104d",
   "metadata": {},
   "source": [
    "# Getting Data from web (link)..(imp)\n"
   ]
  },
  {
   "cell_type": "code",
   "execution_count": 194,
   "id": "d7e7a1fc",
   "metadata": {},
   "outputs": [],
   "source": [
    "from bs4 import BeautifulSoup\n",
    "\n",
    "import urllib\n",
    "import urllib.request\n",
    "import re"
   ]
  },
  {
   "cell_type": "code",
   "execution_count": 184,
   "id": "16947fe6",
   "metadata": {},
   "outputs": [],
   "source": [
    "with urllib.request.urlopen('https://raw.githubusercontent.com/BigDataGal/Data-Mania-Demos/master/IoT-2018.html') as response:\n",
    "    html = response.read()\n",
    "#Normal site will also work (just fill in the site you want to scrape)"
   ]
  },
  {
   "cell_type": "code",
   "execution_count": 195,
   "id": "ecc74580",
   "metadata": {},
   "outputs": [],
   "source": [
    "# with urllib.request.urlopen('https://en.wikipedia.org/wiki/Yogi_Adityanath') as response:\n",
    "#     html = response.read()\n",
    "\n"
   ]
  },
  {
   "cell_type": "code",
   "execution_count": 196,
   "id": "54649083",
   "metadata": {},
   "outputs": [],
   "source": [
    "soup_object = BeautifulSoup(html,'html.parser')"
   ]
  },
  {
   "cell_type": "code",
   "execution_count": 197,
   "id": "a054f70e",
   "metadata": {},
   "outputs": [],
   "source": [
    "#.get_text() method of beautiful soup object removes all the text and gives us plain text\n",
    "#Note: use print statement to avoid printing /n\n",
    "text_only = soup_object.get_text()  #extracts complete text within the object   \n",
    "                                    #still \\n type things are coming"
   ]
  },
  {
   "cell_type": "code",
   "execution_count": 200,
   "id": "2f1d3dab",
   "metadata": {},
   "outputs": [],
   "source": [
    "print(text_only)                 #always use print() so that the text does not display \"\\n\" etc"
   ]
  },
  {
   "cell_type": "markdown",
   "id": "b4cb3db0",
   "metadata": {},
   "source": [
    "### find_all() is a very important function"
   ]
  },
  {
   "cell_type": "code",
   "execution_count": null,
   "id": "0102fc0c",
   "metadata": {},
   "outputs": [],
   "source": [
    "soup_object.find_all(\"li\")   #will filter everything inside \"li tags\""
   ]
  },
  {
   "cell_type": "code",
   "execution_count": 191,
   "id": "a23bd747",
   "metadata": {},
   "outputs": [],
   "source": [
    "#Filtering all the tags containing \"t\"\n",
    "t = re.compile(\"t\")\n",
    "for tag in soup_object.find_all(t):\n",
    "    print(tag.name)"
   ]
  },
  {
   "cell_type": "code",
   "execution_count": 193,
   "id": "80f2b7fa",
   "metadata": {},
   "outputs": [],
   "source": [
    "#Filtering based on boolean value\n",
    "out =[]\n",
    "for tag in soup_object.find_all(True):\n",
    "    print(tag)\n",
    "    out.append(tag.string)\n",
    "len(out)"
   ]
  },
  {
   "cell_type": "code",
   "execution_count": null,
   "id": "16a2b021",
   "metadata": {},
   "outputs": [],
   "source": [
    "#Scraping all the links in the page\n",
    "#links are generally stored in tag \"a\" only\n",
    "for link in soup_object.find_all('a'):\n",
    "    print(link.get('href'))"
   ]
  },
  {
   "cell_type": "code",
   "execution_count": 206,
   "id": "29977c37",
   "metadata": {},
   "outputs": [],
   "source": [
    " #filtering strings \n",
    "soup_object.find_all(string=re.compile(\"Yogi\"))               #we can write and word and it will filter out the lines"
   ]
  },
  {
   "cell_type": "code",
   "execution_count": null,
   "id": "288b68fb",
   "metadata": {},
   "outputs": [],
   "source": []
  }
 ],
 "metadata": {
  "kernelspec": {
   "display_name": "Python 3",
   "language": "python",
   "name": "python3"
  },
  "language_info": {
   "codemirror_mode": {
    "name": "ipython",
    "version": 3
   },
   "file_extension": ".py",
   "mimetype": "text/x-python",
   "name": "python",
   "nbconvert_exporter": "python",
   "pygments_lexer": "ipython3",
   "version": "3.8.8"
  }
 },
 "nbformat": 4,
 "nbformat_minor": 5
}
