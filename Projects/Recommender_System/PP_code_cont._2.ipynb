{
 "cells": [
  {
   "cell_type": "code",
   "execution_count": 1,
   "id": "ad32ee65",
   "metadata": {},
   "outputs": [],
   "source": [
    "import pandas as pd\n",
    "import numpy as np\n",
    "import seaborn as sns\n",
    "import matplotlib.pyplot as plt\n",
    "from tqdm.notebook import tqdm\n",
    "tqdm.pandas()\n",
    "\n",
    "\n",
    "#libraries required for NetworkX\n",
    "import networkx as nx"
   ]
  },
  {
   "cell_type": "code",
   "execution_count": 2,
   "id": "da801959",
   "metadata": {},
   "outputs": [],
   "source": [
    "Recommender_Graph = nx.Graph()"
   ]
  },
  {
   "cell_type": "code",
   "execution_count": 3,
   "id": "4ed0a3d3",
   "metadata": {},
   "outputs": [],
   "source": [
    "movie_v2 = pd.read_csv(\"movies_wise_summary_V2.csv\")\n",
    "ratings= pd.read_csv(\"ratings_v2.csv\")"
   ]
  },
  {
   "cell_type": "code",
   "execution_count": 4,
   "id": "8d024779",
   "metadata": {},
   "outputs": [],
   "source": [
    "ratings_v2 = ratings.copy()"
   ]
  },
  {
   "cell_type": "code",
   "execution_count": 5,
   "id": "8346677e",
   "metadata": {},
   "outputs": [
    {
     "name": "stdout",
     "output_type": "stream",
     "text": [
      "<class 'pandas.core.frame.DataFrame'>\n",
      "RangeIndex: 1000209 entries, 0 to 1000208\n",
      "Data columns (total 11 columns):\n",
      " #   Column      Non-Null Count    Dtype \n",
      "---  ------      --------------    ----- \n",
      " 0   userId      1000209 non-null  int64 \n",
      " 1   movieId     1000209 non-null  int64 \n",
      " 2   rating      1000209 non-null  int64 \n",
      " 3   title       1000209 non-null  object\n",
      " 4   genres      998034 non-null   object\n",
      " 5   year        1000209 non-null  int64 \n",
      " 6   meta_data   998034 non-null   object\n",
      " 7   gender      1000209 non-null  object\n",
      " 8   age         1000209 non-null  int64 \n",
      " 9   occupation  1000209 non-null  object\n",
      " 10  zipcode     1000209 non-null  object\n",
      "dtypes: int64(5), object(6)\n",
      "memory usage: 83.9+ MB\n"
     ]
    }
   ],
   "source": [
    "ratings_v2.info()"
   ]
  },
  {
   "cell_type": "markdown",
   "id": "5fce5b5c",
   "metadata": {},
   "source": [
    "## Creating Nodes for the Recommender Graph"
   ]
  },
  {
   "cell_type": "code",
   "execution_count": 18,
   "id": "98625e43",
   "metadata": {},
   "outputs": [],
   "source": [
    "ratings_v2[[\"userId\",\"movieId\"]] = ratings_v2[['userId', 'movieId']].astype(str)"
   ]
  },
  {
   "cell_type": "code",
   "execution_count": 245,
   "id": "fd68b867",
   "metadata": {},
   "outputs": [
    {
     "name": "stdout",
     "output_type": "stream",
     "text": [
      "<class 'pandas.core.frame.DataFrame'>\n",
      "RangeIndex: 1000209 entries, 0 to 1000208\n",
      "Data columns (total 11 columns):\n",
      " #   Column      Non-Null Count    Dtype \n",
      "---  ------      --------------    ----- \n",
      " 0   userId      1000209 non-null  object\n",
      " 1   movieId     1000209 non-null  object\n",
      " 2   rating      1000209 non-null  int64 \n",
      " 3   title       1000209 non-null  object\n",
      " 4   genres      998034 non-null   object\n",
      " 5   year        1000209 non-null  int64 \n",
      " 6   meta_data   998034 non-null   object\n",
      " 7   gender      1000209 non-null  object\n",
      " 8   age         1000209 non-null  int64 \n",
      " 9   occupation  1000209 non-null  object\n",
      " 10  zipcode     1000209 non-null  object\n",
      "dtypes: int64(3), object(8)\n",
      "memory usage: 83.9+ MB\n"
     ]
    }
   ],
   "source": [
    "ratings_v2.info()"
   ]
  },
  {
   "cell_type": "code",
   "execution_count": 19,
   "id": "36854d01",
   "metadata": {},
   "outputs": [],
   "source": [
    "ratings_v2[\"userId\"] = ratings_v2[\"userId\"]+\"$$u\"  #u subscript for user\n",
    "ratings_v2[\"movieId\"] = ratings_v2[\"movieId\"]+\"$$m\"  #u subscript for user"
   ]
  },
  {
   "cell_type": "code",
   "execution_count": 247,
   "id": "2d694d1c",
   "metadata": {},
   "outputs": [
    {
     "data": {
      "text/html": [
       "<div>\n",
       "<style scoped>\n",
       "    .dataframe tbody tr th:only-of-type {\n",
       "        vertical-align: middle;\n",
       "    }\n",
       "\n",
       "    .dataframe tbody tr th {\n",
       "        vertical-align: top;\n",
       "    }\n",
       "\n",
       "    .dataframe thead th {\n",
       "        text-align: right;\n",
       "    }\n",
       "</style>\n",
       "<table border=\"1\" class=\"dataframe\">\n",
       "  <thead>\n",
       "    <tr style=\"text-align: right;\">\n",
       "      <th></th>\n",
       "      <th>userId</th>\n",
       "      <th>movieId</th>\n",
       "      <th>rating</th>\n",
       "      <th>title</th>\n",
       "      <th>genres</th>\n",
       "      <th>year</th>\n",
       "      <th>meta_data</th>\n",
       "      <th>gender</th>\n",
       "      <th>age</th>\n",
       "      <th>occupation</th>\n",
       "      <th>zipcode</th>\n",
       "    </tr>\n",
       "  </thead>\n",
       "  <tbody>\n",
       "    <tr>\n",
       "      <th>0</th>\n",
       "      <td>1$$u</td>\n",
       "      <td>1$$m</td>\n",
       "      <td>5</td>\n",
       "      <td>Toy Story (1995)</td>\n",
       "      <td>Adventure|Animation|Children|Comedy|Fantasy</td>\n",
       "      <td>1995</td>\n",
       "      <td>{'adult': False, 'backdrop_path': '/3Rfvhy1Nl6...</td>\n",
       "      <td>F</td>\n",
       "      <td>1</td>\n",
       "      <td>K-12 student</td>\n",
       "      <td>48067</td>\n",
       "    </tr>\n",
       "    <tr>\n",
       "      <th>1</th>\n",
       "      <td>1$$u</td>\n",
       "      <td>2692$$m</td>\n",
       "      <td>4</td>\n",
       "      <td>Run Lola Run (Lola rennt) (1998)</td>\n",
       "      <td>Action|Crime</td>\n",
       "      <td>1998</td>\n",
       "      <td>{'adult': False, 'backdrop_path': '/lhsrT0SbPa...</td>\n",
       "      <td>F</td>\n",
       "      <td>1</td>\n",
       "      <td>K-12 student</td>\n",
       "      <td>48067</td>\n",
       "    </tr>\n",
       "  </tbody>\n",
       "</table>\n",
       "</div>"
      ],
      "text/plain": [
       "  userId  movieId  rating                             title  \\\n",
       "0   1$$u     1$$m       5                  Toy Story (1995)   \n",
       "1   1$$u  2692$$m       4  Run Lola Run (Lola rennt) (1998)   \n",
       "\n",
       "                                        genres  year  \\\n",
       "0  Adventure|Animation|Children|Comedy|Fantasy  1995   \n",
       "1                                 Action|Crime  1998   \n",
       "\n",
       "                                           meta_data gender  age  \\\n",
       "0  {'adult': False, 'backdrop_path': '/3Rfvhy1Nl6...      F    1   \n",
       "1  {'adult': False, 'backdrop_path': '/lhsrT0SbPa...      F    1   \n",
       "\n",
       "     occupation zipcode  \n",
       "0  K-12 student   48067  \n",
       "1  K-12 student   48067  "
      ]
     },
     "execution_count": 247,
     "metadata": {},
     "output_type": "execute_result"
    }
   ],
   "source": [
    "#I think movie related nodes should be made from movie metadata and user related information nodes should be made separately\n",
    "ratings_v2.head(2)"
   ]
  },
  {
   "cell_type": "code",
   "execution_count": 248,
   "id": "c8b9818a",
   "metadata": {},
   "outputs": [
    {
     "data": {
      "text/plain": [
       "<networkx.classes.graph.Graph at 0x1e1d48cc2e0>"
      ]
     },
     "execution_count": 248,
     "metadata": {},
     "output_type": "execute_result"
    }
   ],
   "source": [
    "Recommender_Graph"
   ]
  },
  {
   "cell_type": "code",
   "execution_count": 249,
   "id": "aafe9aaf",
   "metadata": {},
   "outputs": [],
   "source": [
    "Recommender_Graph= nx.from_pandas_edgelist(ratings_v2, source='userId', target='movieId', edge_attr=\"rating\")"
   ]
  },
  {
   "cell_type": "code",
   "execution_count": 250,
   "id": "ce8df079",
   "metadata": {},
   "outputs": [
    {
     "name": "stdout",
     "output_type": "stream",
     "text": [
      "True\n"
     ]
    }
   ],
   "source": [
    "print(Recommender_Graph.has_edge('1$$u','1$$m'))"
   ]
  },
  {
   "cell_type": "code",
   "execution_count": 251,
   "id": "f74f8908",
   "metadata": {},
   "outputs": [],
   "source": [
    "Recommender_Graph.number_of_nodes()\n",
    "nx.write_gpickle(Recommender_Graph, \"Recommender_graph.gpickle\")"
   ]
  },
  {
   "cell_type": "code",
   "execution_count": 252,
   "id": "27d58182",
   "metadata": {},
   "outputs": [],
   "source": [
    "Recommender_Graph_v2 = nx.read_gpickle(\"Recommender_graph.gpickle\")"
   ]
  },
  {
   "cell_type": "code",
   "execution_count": 253,
   "id": "a2bbc3a6",
   "metadata": {},
   "outputs": [
    {
     "data": {
      "text/plain": [
       "1000209"
      ]
     },
     "execution_count": 253,
     "metadata": {},
     "output_type": "execute_result"
    }
   ],
   "source": [
    "Recommender_Graph_v2.number_of_edges()"
   ]
  },
  {
   "cell_type": "code",
   "execution_count": null,
   "id": "c6bd7e51",
   "metadata": {},
   "outputs": [],
   "source": [
    "#adding movie_summary nodes and edges\n",
    "#adding_movieid & Genre Nodes edges"
   ]
  },
  {
   "cell_type": "code",
   "execution_count": 254,
   "id": "c9b82e78",
   "metadata": {},
   "outputs": [],
   "source": [
    "movie_v2[\"movieId\"] = movie_v2[\"movieId\"].astype(str)"
   ]
  },
  {
   "cell_type": "code",
   "execution_count": 255,
   "id": "17434769",
   "metadata": {},
   "outputs": [],
   "source": [
    "movie_v2[\"movieId\"] = movie_v2[\"movieId\"] + \"$$m\""
   ]
  },
  {
   "cell_type": "code",
   "execution_count": 256,
   "id": "e0868e06",
   "metadata": {},
   "outputs": [],
   "source": [
    "movie_genre_edges = movie_v2[[\"movieId\",\"genres\"]]"
   ]
  },
  {
   "cell_type": "code",
   "execution_count": 257,
   "id": "fd527c41",
   "metadata": {},
   "outputs": [
    {
     "data": {
      "text/plain": [
       "pandas.core.series.Series"
      ]
     },
     "execution_count": 257,
     "metadata": {},
     "output_type": "execute_result"
    }
   ],
   "source": [
    "type(movie_genre_edges[\"genres\"])"
   ]
  },
  {
   "cell_type": "code",
   "execution_count": 258,
   "id": "10c2f5f4",
   "metadata": {},
   "outputs": [
    {
     "name": "stderr",
     "output_type": "stream",
     "text": [
      "<ipython-input-258-000482facf19>:1: SettingWithCopyWarning: \n",
      "A value is trying to be set on a copy of a slice from a DataFrame.\n",
      "Try using .loc[row_indexer,col_indexer] = value instead\n",
      "\n",
      "See the caveats in the documentation: https://pandas.pydata.org/pandas-docs/stable/user_guide/indexing.html#returning-a-view-versus-a-copy\n",
      "  movie_genre_edges[\"genres\"]= movie_genre_edges[\"genres\"].apply(lambda x: list(x.split(\"|\")))\n"
     ]
    }
   ],
   "source": [
    "movie_genre_edges[\"genres\"]= movie_genre_edges[\"genres\"].apply(lambda x: list(x.split(\"|\")))"
   ]
  },
  {
   "cell_type": "code",
   "execution_count": 259,
   "id": "b36816fe",
   "metadata": {},
   "outputs": [],
   "source": [
    "#explode works on a list of items\n",
    "movie_genre_edges = movie_genre_edges.explode(column=\"genres\",ignore_index=False)"
   ]
  },
  {
   "cell_type": "code",
   "execution_count": 260,
   "id": "49753375",
   "metadata": {},
   "outputs": [],
   "source": [
    "movie_genre_edges.reset_index(inplace=True)"
   ]
  },
  {
   "cell_type": "code",
   "execution_count": 261,
   "id": "9489e289",
   "metadata": {},
   "outputs": [],
   "source": [
    "movie_genre_edges.drop('index',axis=1,inplace=True)"
   ]
  },
  {
   "cell_type": "code",
   "execution_count": 262,
   "id": "14658079",
   "metadata": {},
   "outputs": [],
   "source": [
    "movie_genre_edges[\"genres\"]= movie_genre_edges[\"genres\"] + \"$$genres\""
   ]
  },
  {
   "cell_type": "code",
   "execution_count": 263,
   "id": "ebda28cd",
   "metadata": {},
   "outputs": [],
   "source": [
    "#the below code makes the list of all the columns and then we explode on the basis of list (explode is always applied on a list)\n",
    "movie_genre_edges['combined']= movie_genre_edges.values.tolist()"
   ]
  },
  {
   "cell_type": "code",
   "execution_count": 264,
   "id": "6930179b",
   "metadata": {},
   "outputs": [
    {
     "data": {
      "text/plain": [
       "pandas.core.series.Series"
      ]
     },
     "execution_count": 264,
     "metadata": {},
     "output_type": "execute_result"
    }
   ],
   "source": [
    "type(movie_genre_edges[\"combined\"])"
   ]
  },
  {
   "cell_type": "code",
   "execution_count": 265,
   "id": "89962a64",
   "metadata": {},
   "outputs": [],
   "source": [
    "movie_genre_edges[\"combined_tuple\"]=movie_genre_edges[\"combined\"].apply(lambda x: tuple(x))"
   ]
  },
  {
   "cell_type": "code",
   "execution_count": 266,
   "id": "c183878d",
   "metadata": {},
   "outputs": [],
   "source": [
    "movie_genre_edges_list = list(movie_genre_edges[\"combined_tuple\"])"
   ]
  },
  {
   "cell_type": "code",
   "execution_count": 267,
   "id": "733fa248",
   "metadata": {},
   "outputs": [],
   "source": [
    "Recommender_Graph_v2.add_edges_from(movie_genre_edges_list,weight=4)"
   ]
  },
  {
   "cell_type": "code",
   "execution_count": 268,
   "id": "0f98c80f",
   "metadata": {},
   "outputs": [
    {
     "data": {
      "text/plain": [
       "9765"
      ]
     },
     "execution_count": 268,
     "metadata": {},
     "output_type": "execute_result"
    }
   ],
   "source": [
    "Recommender_Graph_v2.number_of_nodes()"
   ]
  },
  {
   "cell_type": "code",
   "execution_count": 269,
   "id": "d160818d",
   "metadata": {},
   "outputs": [],
   "source": [
    "nx.write_gpickle(Recommender_Graph_v2, \"Recommender_graph.gpickle\")"
   ]
  },
  {
   "cell_type": "code",
   "execution_count": 270,
   "id": "5a5e37bd",
   "metadata": {},
   "outputs": [],
   "source": [
    "#adding movie & year edges"
   ]
  },
  {
   "cell_type": "code",
   "execution_count": 271,
   "id": "6f84ba5e",
   "metadata": {},
   "outputs": [],
   "source": [
    "movie_and_year = movie_v2[[\"movieId\",\"year\"]]"
   ]
  },
  {
   "cell_type": "code",
   "execution_count": 272,
   "id": "05645ff3",
   "metadata": {},
   "outputs": [
    {
     "name": "stderr",
     "output_type": "stream",
     "text": [
      "C:\\Users\\hp\\anaconda3\\lib\\site-packages\\pandas\\core\\frame.py:3191: SettingWithCopyWarning: \n",
      "A value is trying to be set on a copy of a slice from a DataFrame.\n",
      "Try using .loc[row_indexer,col_indexer] = value instead\n",
      "\n",
      "See the caveats in the documentation: https://pandas.pydata.org/pandas-docs/stable/user_guide/indexing.html#returning-a-view-versus-a-copy\n",
      "  self[k1] = value[k2]\n",
      "<ipython-input-272-cf6700df1024>:2: SettingWithCopyWarning: \n",
      "A value is trying to be set on a copy of a slice from a DataFrame.\n",
      "Try using .loc[row_indexer,col_indexer] = value instead\n",
      "\n",
      "See the caveats in the documentation: https://pandas.pydata.org/pandas-docs/stable/user_guide/indexing.html#returning-a-view-versus-a-copy\n",
      "  movie_and_year[\"year\"] = movie_and_year[\"year\"] + \"$$year\"\n"
     ]
    }
   ],
   "source": [
    "movie_and_year[[\"movieId\",\"year\"]] = movie_and_year[[\"movieId\",\"year\"]].astype(str)\n",
    "movie_and_year[\"year\"] = movie_and_year[\"year\"] + \"$$year\""
   ]
  },
  {
   "cell_type": "code",
   "execution_count": 273,
   "id": "31a6d6fe",
   "metadata": {},
   "outputs": [
    {
     "name": "stderr",
     "output_type": "stream",
     "text": [
      "<ipython-input-273-a2d0138b27b9>:1: SettingWithCopyWarning: \n",
      "A value is trying to be set on a copy of a slice from a DataFrame.\n",
      "Try using .loc[row_indexer,col_indexer] = value instead\n",
      "\n",
      "See the caveats in the documentation: https://pandas.pydata.org/pandas-docs/stable/user_guide/indexing.html#returning-a-view-versus-a-copy\n",
      "  movie_and_year['combined']= movie_and_year.values.tolist()\n"
     ]
    }
   ],
   "source": [
    "movie_and_year['combined']= movie_and_year.values.tolist()"
   ]
  },
  {
   "cell_type": "code",
   "execution_count": 274,
   "id": "69324c5a",
   "metadata": {},
   "outputs": [
    {
     "name": "stderr",
     "output_type": "stream",
     "text": [
      "<ipython-input-274-cd190f023d7b>:1: SettingWithCopyWarning: \n",
      "A value is trying to be set on a copy of a slice from a DataFrame.\n",
      "Try using .loc[row_indexer,col_indexer] = value instead\n",
      "\n",
      "See the caveats in the documentation: https://pandas.pydata.org/pandas-docs/stable/user_guide/indexing.html#returning-a-view-versus-a-copy\n",
      "  movie_and_year[\"combined_tuple\"]=movie_and_year[\"combined\"].apply(lambda x: tuple(x))\n"
     ]
    }
   ],
   "source": [
    "movie_and_year[\"combined_tuple\"]=movie_and_year[\"combined\"].apply(lambda x: tuple(x))"
   ]
  },
  {
   "cell_type": "code",
   "execution_count": 275,
   "id": "bf8ba0b0",
   "metadata": {},
   "outputs": [],
   "source": [
    "#for using add_edges_from we need a list of tuples\n",
    "Recommender_Graph_v2.add_edges_from(list(movie_and_year[\"combined_tuple\"]),weight = 4)"
   ]
  },
  {
   "cell_type": "code",
   "execution_count": 276,
   "id": "56d3abc2",
   "metadata": {},
   "outputs": [
    {
     "data": {
      "text/plain": [
       "9846"
      ]
     },
     "execution_count": 276,
     "metadata": {},
     "output_type": "execute_result"
    }
   ],
   "source": [
    "Recommender_Graph_v2.number_of_nodes()"
   ]
  },
  {
   "cell_type": "code",
   "execution_count": 277,
   "id": "0025276c",
   "metadata": {},
   "outputs": [],
   "source": [
    "nx.write_gpickle(Recommender_Graph_v2, \"Recommender_graph_year+genre.gpickle\")"
   ]
  },
  {
   "cell_type": "code",
   "execution_count": 278,
   "id": "bd6bf316",
   "metadata": {},
   "outputs": [],
   "source": [
    "movie_and_lang = movie_v2[[\"movieId\",\"original_language\"]]"
   ]
  },
  {
   "cell_type": "code",
   "execution_count": 280,
   "id": "d16eec9f",
   "metadata": {},
   "outputs": [
    {
     "name": "stderr",
     "output_type": "stream",
     "text": [
      "<ipython-input-280-7689e7e03909>:1: SettingWithCopyWarning: \n",
      "A value is trying to be set on a copy of a slice from a DataFrame.\n",
      "Try using .loc[row_indexer,col_indexer] = value instead\n",
      "\n",
      "See the caveats in the documentation: https://pandas.pydata.org/pandas-docs/stable/user_guide/indexing.html#returning-a-view-versus-a-copy\n",
      "  movie_and_lang[\"original_language\"] = movie_and_lang[\"original_language\"] + \"$$original_language\"\n"
     ]
    }
   ],
   "source": [
    "movie_and_lang[\"original_language\"] = movie_and_lang[\"original_language\"] + \"$$original_language\""
   ]
  },
  {
   "cell_type": "code",
   "execution_count": 281,
   "id": "08f9d7a4",
   "metadata": {},
   "outputs": [
    {
     "name": "stderr",
     "output_type": "stream",
     "text": [
      "<ipython-input-281-57bd1cf2a4f8>:1: SettingWithCopyWarning: \n",
      "A value is trying to be set on a copy of a slice from a DataFrame.\n",
      "Try using .loc[row_indexer,col_indexer] = value instead\n",
      "\n",
      "See the caveats in the documentation: https://pandas.pydata.org/pandas-docs/stable/user_guide/indexing.html#returning-a-view-versus-a-copy\n",
      "  movie_and_lang['combined']= movie_and_lang.values.tolist()\n"
     ]
    }
   ],
   "source": [
    "movie_and_lang['combined']= movie_and_lang.values.tolist()"
   ]
  },
  {
   "cell_type": "code",
   "execution_count": 282,
   "id": "b2c663e6",
   "metadata": {},
   "outputs": [
    {
     "name": "stderr",
     "output_type": "stream",
     "text": [
      "<ipython-input-282-ab61cd029184>:1: SettingWithCopyWarning: \n",
      "A value is trying to be set on a copy of a slice from a DataFrame.\n",
      "Try using .loc[row_indexer,col_indexer] = value instead\n",
      "\n",
      "See the caveats in the documentation: https://pandas.pydata.org/pandas-docs/stable/user_guide/indexing.html#returning-a-view-versus-a-copy\n",
      "  movie_and_lang[\"combined_tuple\"]=movie_and_lang[\"combined\"].apply(lambda x: tuple(x))\n"
     ]
    }
   ],
   "source": [
    "movie_and_lang[\"combined_tuple\"]=movie_and_lang[\"combined\"].apply(lambda x: tuple(x))"
   ]
  },
  {
   "cell_type": "code",
   "execution_count": 283,
   "id": "20b4dfea",
   "metadata": {},
   "outputs": [],
   "source": [
    "Recommender_Graph_v2.add_edges_from(list(movie_and_lang[\"combined_tuple\"]),weight = 4)"
   ]
  },
  {
   "cell_type": "code",
   "execution_count": 284,
   "id": "e0ada234",
   "metadata": {},
   "outputs": [],
   "source": [
    "production_countries = movie_v2[[\"movieId\",\"production_countries\"]].copy()"
   ]
  },
  {
   "cell_type": "code",
   "execution_count": 285,
   "id": "834d690e",
   "metadata": {},
   "outputs": [
    {
     "data": {
      "text/plain": [
       "(3685, 2)"
      ]
     },
     "execution_count": 285,
     "metadata": {},
     "output_type": "execute_result"
    }
   ],
   "source": [
    "production_countries.shape"
   ]
  },
  {
   "cell_type": "code",
   "execution_count": 286,
   "id": "4d82a7ed",
   "metadata": {},
   "outputs": [],
   "source": [
    "production_countries.dropna(axis=0,inplace=True)"
   ]
  },
  {
   "cell_type": "code",
   "execution_count": 287,
   "id": "058c4e41",
   "metadata": {},
   "outputs": [
    {
     "data": {
      "text/html": [
       "<div>\n",
       "<style scoped>\n",
       "    .dataframe tbody tr th:only-of-type {\n",
       "        vertical-align: middle;\n",
       "    }\n",
       "\n",
       "    .dataframe tbody tr th {\n",
       "        vertical-align: top;\n",
       "    }\n",
       "\n",
       "    .dataframe thead th {\n",
       "        text-align: right;\n",
       "    }\n",
       "</style>\n",
       "<table border=\"1\" class=\"dataframe\">\n",
       "  <thead>\n",
       "    <tr style=\"text-align: right;\">\n",
       "      <th></th>\n",
       "      <th>movieId</th>\n",
       "      <th>production_countries</th>\n",
       "    </tr>\n",
       "  </thead>\n",
       "  <tbody>\n",
       "    <tr>\n",
       "      <th>0</th>\n",
       "      <td>1$$m</td>\n",
       "      <td>[{'iso_3166_1': 'US', 'name': 'United States o...</td>\n",
       "    </tr>\n",
       "    <tr>\n",
       "      <th>1</th>\n",
       "      <td>10$$m</td>\n",
       "      <td>[{'iso_3166_1': 'GB', 'name': 'United Kingdom'...</td>\n",
       "    </tr>\n",
       "    <tr>\n",
       "      <th>2</th>\n",
       "      <td>100$$m</td>\n",
       "      <td>[{'iso_3166_1': 'US', 'name': 'United States o...</td>\n",
       "    </tr>\n",
       "    <tr>\n",
       "      <th>3</th>\n",
       "      <td>1000$$m</td>\n",
       "      <td>[{'iso_3166_1': 'US', 'name': 'United States o...</td>\n",
       "    </tr>\n",
       "    <tr>\n",
       "      <th>4</th>\n",
       "      <td>1002$$m</td>\n",
       "      <td>[]</td>\n",
       "    </tr>\n",
       "    <tr>\n",
       "      <th>...</th>\n",
       "      <td>...</td>\n",
       "      <td>...</td>\n",
       "    </tr>\n",
       "    <tr>\n",
       "      <th>3680</th>\n",
       "      <td>994$$m</td>\n",
       "      <td>[{'iso_3166_1': 'US', 'name': 'United States o...</td>\n",
       "    </tr>\n",
       "    <tr>\n",
       "      <th>3681</th>\n",
       "      <td>996$$m</td>\n",
       "      <td>[{'iso_3166_1': 'US', 'name': 'United States o...</td>\n",
       "    </tr>\n",
       "    <tr>\n",
       "      <th>3682</th>\n",
       "      <td>997$$m</td>\n",
       "      <td>[{'iso_3166_1': 'US', 'name': 'United States o...</td>\n",
       "    </tr>\n",
       "    <tr>\n",
       "      <th>3683</th>\n",
       "      <td>998$$m</td>\n",
       "      <td>[{'iso_3166_1': 'US', 'name': 'United States o...</td>\n",
       "    </tr>\n",
       "    <tr>\n",
       "      <th>3684</th>\n",
       "      <td>999$$m</td>\n",
       "      <td>[{'iso_3166_1': 'US', 'name': 'United States o...</td>\n",
       "    </tr>\n",
       "  </tbody>\n",
       "</table>\n",
       "<p>3666 rows × 2 columns</p>\n",
       "</div>"
      ],
      "text/plain": [
       "      movieId                               production_countries\n",
       "0        1$$m  [{'iso_3166_1': 'US', 'name': 'United States o...\n",
       "1       10$$m  [{'iso_3166_1': 'GB', 'name': 'United Kingdom'...\n",
       "2      100$$m  [{'iso_3166_1': 'US', 'name': 'United States o...\n",
       "3     1000$$m  [{'iso_3166_1': 'US', 'name': 'United States o...\n",
       "4     1002$$m                                                 []\n",
       "...       ...                                                ...\n",
       "3680   994$$m  [{'iso_3166_1': 'US', 'name': 'United States o...\n",
       "3681   996$$m  [{'iso_3166_1': 'US', 'name': 'United States o...\n",
       "3682   997$$m  [{'iso_3166_1': 'US', 'name': 'United States o...\n",
       "3683   998$$m  [{'iso_3166_1': 'US', 'name': 'United States o...\n",
       "3684   999$$m  [{'iso_3166_1': 'US', 'name': 'United States o...\n",
       "\n",
       "[3666 rows x 2 columns]"
      ]
     },
     "execution_count": 287,
     "metadata": {},
     "output_type": "execute_result"
    }
   ],
   "source": [
    "production_countries"
   ]
  },
  {
   "cell_type": "code",
   "execution_count": 288,
   "id": "fe151bb7",
   "metadata": {},
   "outputs": [],
   "source": [
    "production_countries[\"without_string\"] = production_countries[\"production_countries\"].apply(lambda x: eval(x))"
   ]
  },
  {
   "cell_type": "code",
   "execution_count": 289,
   "id": "ff1db021",
   "metadata": {},
   "outputs": [],
   "source": [
    "production_countries = production_countries.explode(column = \"without_string\",ignore_index=False)"
   ]
  },
  {
   "cell_type": "code",
   "execution_count": 290,
   "id": "aada78b0",
   "metadata": {},
   "outputs": [
    {
     "name": "stdout",
     "output_type": "stream",
     "text": [
      "(4681, 3)\n",
      "(4556, 3)\n"
     ]
    }
   ],
   "source": [
    "production_countries[\"without_string\"].isna().sum()\n",
    "#125 entries are missing so dropping them off\n",
    "print(production_countries.shape)\n",
    "production_countries.dropna(axis=0,inplace=True)\n",
    "print(production_countries.shape)"
   ]
  },
  {
   "cell_type": "code",
   "execution_count": 291,
   "id": "83de657f",
   "metadata": {},
   "outputs": [],
   "source": [
    "production_countries.reset_index(inplace=True)"
   ]
  },
  {
   "cell_type": "code",
   "execution_count": 292,
   "id": "591c35a7",
   "metadata": {},
   "outputs": [
    {
     "data": {
      "text/html": [
       "<div>\n",
       "<style scoped>\n",
       "    .dataframe tbody tr th:only-of-type {\n",
       "        vertical-align: middle;\n",
       "    }\n",
       "\n",
       "    .dataframe tbody tr th {\n",
       "        vertical-align: top;\n",
       "    }\n",
       "\n",
       "    .dataframe thead th {\n",
       "        text-align: right;\n",
       "    }\n",
       "</style>\n",
       "<table border=\"1\" class=\"dataframe\">\n",
       "  <thead>\n",
       "    <tr style=\"text-align: right;\">\n",
       "      <th></th>\n",
       "      <th>0</th>\n",
       "    </tr>\n",
       "  </thead>\n",
       "  <tbody>\n",
       "    <tr>\n",
       "      <th>0</th>\n",
       "      <td>United States of America</td>\n",
       "    </tr>\n",
       "    <tr>\n",
       "      <th>1</th>\n",
       "      <td>United Kingdom</td>\n",
       "    </tr>\n",
       "    <tr>\n",
       "      <th>2</th>\n",
       "      <td>United States of America</td>\n",
       "    </tr>\n",
       "    <tr>\n",
       "      <th>3</th>\n",
       "      <td>United States of America</td>\n",
       "    </tr>\n",
       "    <tr>\n",
       "      <th>4</th>\n",
       "      <td>United States of America</td>\n",
       "    </tr>\n",
       "    <tr>\n",
       "      <th>...</th>\n",
       "      <td>...</td>\n",
       "    </tr>\n",
       "    <tr>\n",
       "      <th>4551</th>\n",
       "      <td>United States of America</td>\n",
       "    </tr>\n",
       "    <tr>\n",
       "      <th>4552</th>\n",
       "      <td>United States of America</td>\n",
       "    </tr>\n",
       "    <tr>\n",
       "      <th>4553</th>\n",
       "      <td>United States of America</td>\n",
       "    </tr>\n",
       "    <tr>\n",
       "      <th>4554</th>\n",
       "      <td>United States of America</td>\n",
       "    </tr>\n",
       "    <tr>\n",
       "      <th>4555</th>\n",
       "      <td>United States of America</td>\n",
       "    </tr>\n",
       "  </tbody>\n",
       "</table>\n",
       "<p>4556 rows × 1 columns</p>\n",
       "</div>"
      ],
      "text/plain": [
       "                             0\n",
       "0     United States of America\n",
       "1               United Kingdom\n",
       "2     United States of America\n",
       "3     United States of America\n",
       "4     United States of America\n",
       "...                        ...\n",
       "4551  United States of America\n",
       "4552  United States of America\n",
       "4553  United States of America\n",
       "4554  United States of America\n",
       "4555  United States of America\n",
       "\n",
       "[4556 rows x 1 columns]"
      ]
     },
     "execution_count": 292,
     "metadata": {},
     "output_type": "execute_result"
    }
   ],
   "source": [
    "production_countries[\"without_string\"].apply(lambda x: pd.DataFrame(x,index=[0])[\"name\"])"
   ]
  },
  {
   "cell_type": "code",
   "execution_count": 293,
   "id": "3f0fe9e4",
   "metadata": {},
   "outputs": [],
   "source": [
    "production_countries[\"final_production_country\"] = production_countries[\"without_string\"].apply(lambda x: pd.DataFrame(x,index=[0])[\"name\"])"
   ]
  },
  {
   "cell_type": "code",
   "execution_count": 294,
   "id": "553c2b61",
   "metadata": {},
   "outputs": [
    {
     "data": {
      "text/html": [
       "<div>\n",
       "<style scoped>\n",
       "    .dataframe tbody tr th:only-of-type {\n",
       "        vertical-align: middle;\n",
       "    }\n",
       "\n",
       "    .dataframe tbody tr th {\n",
       "        vertical-align: top;\n",
       "    }\n",
       "\n",
       "    .dataframe thead th {\n",
       "        text-align: right;\n",
       "    }\n",
       "</style>\n",
       "<table border=\"1\" class=\"dataframe\">\n",
       "  <thead>\n",
       "    <tr style=\"text-align: right;\">\n",
       "      <th></th>\n",
       "      <th>index</th>\n",
       "      <th>movieId</th>\n",
       "      <th>production_countries</th>\n",
       "      <th>without_string</th>\n",
       "      <th>final_production_country</th>\n",
       "    </tr>\n",
       "  </thead>\n",
       "  <tbody>\n",
       "    <tr>\n",
       "      <th>0</th>\n",
       "      <td>0</td>\n",
       "      <td>1$$m</td>\n",
       "      <td>[{'iso_3166_1': 'US', 'name': 'United States o...</td>\n",
       "      <td>{'iso_3166_1': 'US', 'name': 'United States of...</td>\n",
       "      <td>United States of America</td>\n",
       "    </tr>\n",
       "    <tr>\n",
       "      <th>1</th>\n",
       "      <td>1</td>\n",
       "      <td>10$$m</td>\n",
       "      <td>[{'iso_3166_1': 'GB', 'name': 'United Kingdom'...</td>\n",
       "      <td>{'iso_3166_1': 'GB', 'name': 'United Kingdom'}</td>\n",
       "      <td>United Kingdom</td>\n",
       "    </tr>\n",
       "    <tr>\n",
       "      <th>2</th>\n",
       "      <td>1</td>\n",
       "      <td>10$$m</td>\n",
       "      <td>[{'iso_3166_1': 'GB', 'name': 'United Kingdom'...</td>\n",
       "      <td>{'iso_3166_1': 'US', 'name': 'United States of...</td>\n",
       "      <td>United States of America</td>\n",
       "    </tr>\n",
       "    <tr>\n",
       "      <th>3</th>\n",
       "      <td>2</td>\n",
       "      <td>100$$m</td>\n",
       "      <td>[{'iso_3166_1': 'US', 'name': 'United States o...</td>\n",
       "      <td>{'iso_3166_1': 'US', 'name': 'United States of...</td>\n",
       "      <td>United States of America</td>\n",
       "    </tr>\n",
       "    <tr>\n",
       "      <th>4</th>\n",
       "      <td>3</td>\n",
       "      <td>1000$$m</td>\n",
       "      <td>[{'iso_3166_1': 'US', 'name': 'United States o...</td>\n",
       "      <td>{'iso_3166_1': 'US', 'name': 'United States of...</td>\n",
       "      <td>United States of America</td>\n",
       "    </tr>\n",
       "    <tr>\n",
       "      <th>...</th>\n",
       "      <td>...</td>\n",
       "      <td>...</td>\n",
       "      <td>...</td>\n",
       "      <td>...</td>\n",
       "      <td>...</td>\n",
       "    </tr>\n",
       "    <tr>\n",
       "      <th>4551</th>\n",
       "      <td>3680</td>\n",
       "      <td>994$$m</td>\n",
       "      <td>[{'iso_3166_1': 'US', 'name': 'United States o...</td>\n",
       "      <td>{'iso_3166_1': 'US', 'name': 'United States of...</td>\n",
       "      <td>United States of America</td>\n",
       "    </tr>\n",
       "    <tr>\n",
       "      <th>4552</th>\n",
       "      <td>3681</td>\n",
       "      <td>996$$m</td>\n",
       "      <td>[{'iso_3166_1': 'US', 'name': 'United States o...</td>\n",
       "      <td>{'iso_3166_1': 'US', 'name': 'United States of...</td>\n",
       "      <td>United States of America</td>\n",
       "    </tr>\n",
       "    <tr>\n",
       "      <th>4553</th>\n",
       "      <td>3682</td>\n",
       "      <td>997$$m</td>\n",
       "      <td>[{'iso_3166_1': 'US', 'name': 'United States o...</td>\n",
       "      <td>{'iso_3166_1': 'US', 'name': 'United States of...</td>\n",
       "      <td>United States of America</td>\n",
       "    </tr>\n",
       "    <tr>\n",
       "      <th>4554</th>\n",
       "      <td>3683</td>\n",
       "      <td>998$$m</td>\n",
       "      <td>[{'iso_3166_1': 'US', 'name': 'United States o...</td>\n",
       "      <td>{'iso_3166_1': 'US', 'name': 'United States of...</td>\n",
       "      <td>United States of America</td>\n",
       "    </tr>\n",
       "    <tr>\n",
       "      <th>4555</th>\n",
       "      <td>3684</td>\n",
       "      <td>999$$m</td>\n",
       "      <td>[{'iso_3166_1': 'US', 'name': 'United States o...</td>\n",
       "      <td>{'iso_3166_1': 'US', 'name': 'United States of...</td>\n",
       "      <td>United States of America</td>\n",
       "    </tr>\n",
       "  </tbody>\n",
       "</table>\n",
       "<p>4556 rows × 5 columns</p>\n",
       "</div>"
      ],
      "text/plain": [
       "      index  movieId                               production_countries  \\\n",
       "0         0     1$$m  [{'iso_3166_1': 'US', 'name': 'United States o...   \n",
       "1         1    10$$m  [{'iso_3166_1': 'GB', 'name': 'United Kingdom'...   \n",
       "2         1    10$$m  [{'iso_3166_1': 'GB', 'name': 'United Kingdom'...   \n",
       "3         2   100$$m  [{'iso_3166_1': 'US', 'name': 'United States o...   \n",
       "4         3  1000$$m  [{'iso_3166_1': 'US', 'name': 'United States o...   \n",
       "...     ...      ...                                                ...   \n",
       "4551   3680   994$$m  [{'iso_3166_1': 'US', 'name': 'United States o...   \n",
       "4552   3681   996$$m  [{'iso_3166_1': 'US', 'name': 'United States o...   \n",
       "4553   3682   997$$m  [{'iso_3166_1': 'US', 'name': 'United States o...   \n",
       "4554   3683   998$$m  [{'iso_3166_1': 'US', 'name': 'United States o...   \n",
       "4555   3684   999$$m  [{'iso_3166_1': 'US', 'name': 'United States o...   \n",
       "\n",
       "                                         without_string  \\\n",
       "0     {'iso_3166_1': 'US', 'name': 'United States of...   \n",
       "1        {'iso_3166_1': 'GB', 'name': 'United Kingdom'}   \n",
       "2     {'iso_3166_1': 'US', 'name': 'United States of...   \n",
       "3     {'iso_3166_1': 'US', 'name': 'United States of...   \n",
       "4     {'iso_3166_1': 'US', 'name': 'United States of...   \n",
       "...                                                 ...   \n",
       "4551  {'iso_3166_1': 'US', 'name': 'United States of...   \n",
       "4552  {'iso_3166_1': 'US', 'name': 'United States of...   \n",
       "4553  {'iso_3166_1': 'US', 'name': 'United States of...   \n",
       "4554  {'iso_3166_1': 'US', 'name': 'United States of...   \n",
       "4555  {'iso_3166_1': 'US', 'name': 'United States of...   \n",
       "\n",
       "      final_production_country  \n",
       "0     United States of America  \n",
       "1               United Kingdom  \n",
       "2     United States of America  \n",
       "3     United States of America  \n",
       "4     United States of America  \n",
       "...                        ...  \n",
       "4551  United States of America  \n",
       "4552  United States of America  \n",
       "4553  United States of America  \n",
       "4554  United States of America  \n",
       "4555  United States of America  \n",
       "\n",
       "[4556 rows x 5 columns]"
      ]
     },
     "execution_count": 294,
     "metadata": {},
     "output_type": "execute_result"
    }
   ],
   "source": [
    "production_countries"
   ]
  },
  {
   "cell_type": "code",
   "execution_count": 295,
   "id": "bee33985",
   "metadata": {},
   "outputs": [],
   "source": [
    "movie_and_prod_country = production_countries[[\"movieId\",\"final_production_country\"]].copy()"
   ]
  },
  {
   "cell_type": "code",
   "execution_count": 296,
   "id": "b84991ce",
   "metadata": {},
   "outputs": [],
   "source": [
    "movie_and_prod_country[\"final_production_country\"] = movie_and_prod_country[\"final_production_country\"]+\"$$production_country\""
   ]
  },
  {
   "cell_type": "code",
   "execution_count": 297,
   "id": "fbc9dd30",
   "metadata": {},
   "outputs": [],
   "source": [
    "movie_and_prod_country.head(2)\n",
    "movie_and_prod_country['combined']= movie_and_prod_country.values.tolist()\n",
    "movie_and_prod_country[\"combined_tuple\"]=movie_and_prod_country[\"combined\"].apply(lambda x: tuple(x))\n",
    "Recommender_Graph_v2.add_edges_from(list(movie_and_prod_country[\"combined_tuple\"]),weight = 4)"
   ]
  },
  {
   "cell_type": "code",
   "execution_count": 298,
   "id": "9fe6ba40",
   "metadata": {},
   "outputs": [
    {
     "data": {
      "text/plain": [
       "9945"
      ]
     },
     "execution_count": 298,
     "metadata": {},
     "output_type": "execute_result"
    }
   ],
   "source": [
    "Recommender_Graph_v2.number_of_nodes()"
   ]
  },
  {
   "cell_type": "code",
   "execution_count": 299,
   "id": "b1075ba2",
   "metadata": {},
   "outputs": [],
   "source": [
    "nx.write_gpickle(Recommender_Graph_v2, \"Recommender_graph_year+genre+prod_country.gpickle\")"
   ]
  },
  {
   "cell_type": "code",
   "execution_count": 6,
   "id": "cacd4f2b",
   "metadata": {},
   "outputs": [],
   "source": [
    "Recommender_Graph_v2 = nx.read_gpickle(\"Recommender_graph_year+genre+prod_country.gpickle\")"
   ]
  },
  {
   "cell_type": "code",
   "execution_count": 7,
   "id": "a91f25df",
   "metadata": {},
   "outputs": [
    {
     "data": {
      "text/html": [
       "<div>\n",
       "<style scoped>\n",
       "    .dataframe tbody tr th:only-of-type {\n",
       "        vertical-align: middle;\n",
       "    }\n",
       "\n",
       "    .dataframe tbody tr th {\n",
       "        vertical-align: top;\n",
       "    }\n",
       "\n",
       "    .dataframe thead th {\n",
       "        text-align: right;\n",
       "    }\n",
       "</style>\n",
       "<table border=\"1\" class=\"dataframe\">\n",
       "  <thead>\n",
       "    <tr style=\"text-align: right;\">\n",
       "      <th></th>\n",
       "      <th>userId</th>\n",
       "      <th>movieId</th>\n",
       "      <th>rating</th>\n",
       "      <th>title</th>\n",
       "      <th>genres</th>\n",
       "      <th>year</th>\n",
       "      <th>meta_data</th>\n",
       "      <th>gender</th>\n",
       "      <th>age</th>\n",
       "      <th>occupation</th>\n",
       "      <th>zipcode</th>\n",
       "    </tr>\n",
       "  </thead>\n",
       "  <tbody>\n",
       "    <tr>\n",
       "      <th>0</th>\n",
       "      <td>1$$u</td>\n",
       "      <td>1$$m</td>\n",
       "      <td>5</td>\n",
       "      <td>Toy Story (1995)</td>\n",
       "      <td>Adventure|Animation|Children|Comedy|Fantasy</td>\n",
       "      <td>1995</td>\n",
       "      <td>{'adult': False, 'backdrop_path': '/3Rfvhy1Nl6...</td>\n",
       "      <td>F</td>\n",
       "      <td>1</td>\n",
       "      <td>K-12 student</td>\n",
       "      <td>48067</td>\n",
       "    </tr>\n",
       "    <tr>\n",
       "      <th>1</th>\n",
       "      <td>1$$u</td>\n",
       "      <td>2692$$m</td>\n",
       "      <td>4</td>\n",
       "      <td>Run Lola Run (Lola rennt) (1998)</td>\n",
       "      <td>Action|Crime</td>\n",
       "      <td>1998</td>\n",
       "      <td>{'adult': False, 'backdrop_path': '/lhsrT0SbPa...</td>\n",
       "      <td>F</td>\n",
       "      <td>1</td>\n",
       "      <td>K-12 student</td>\n",
       "      <td>48067</td>\n",
       "    </tr>\n",
       "  </tbody>\n",
       "</table>\n",
       "</div>"
      ],
      "text/plain": [
       "  userId  movieId  rating                             title  \\\n",
       "0   1$$u     1$$m       5                  Toy Story (1995)   \n",
       "1   1$$u  2692$$m       4  Run Lola Run (Lola rennt) (1998)   \n",
       "\n",
       "                                        genres  year  \\\n",
       "0  Adventure|Animation|Children|Comedy|Fantasy  1995   \n",
       "1                                 Action|Crime  1998   \n",
       "\n",
       "                                           meta_data gender  age  \\\n",
       "0  {'adult': False, 'backdrop_path': '/3Rfvhy1Nl6...      F    1   \n",
       "1  {'adult': False, 'backdrop_path': '/lhsrT0SbPa...      F    1   \n",
       "\n",
       "     occupation zipcode  \n",
       "0  K-12 student   48067  \n",
       "1  K-12 student   48067  "
      ]
     },
     "execution_count": 7,
     "metadata": {},
     "output_type": "execute_result"
    }
   ],
   "source": [
    "ratings_v2.head(2)"
   ]
  },
  {
   "cell_type": "code",
   "execution_count": 27,
   "id": "56e2f2e8",
   "metadata": {},
   "outputs": [],
   "source": [
    "movie_v2[\"movieId\"] =movie_v2[\"movieId\"].astype(str)\n",
    "movie_v2[\"movieId\"] = movie_v2[\"movieId\"] +\"$$m\"\n",
    "movie_v2.to_csv('movies_wise_summary_V2_modified_movie_id_$$m.csv',index=False)"
   ]
  },
  {
   "cell_type": "code",
   "execution_count": 28,
   "id": "dee347a0",
   "metadata": {},
   "outputs": [],
   "source": [
    "movie_popularity = movie_v2[[\"movieId\",\"popularity\"]].copy()"
   ]
  },
  {
   "cell_type": "code",
   "execution_count": 29,
   "id": "e969f021",
   "metadata": {},
   "outputs": [
    {
     "name": "stdout",
     "output_type": "stream",
     "text": [
      "<class 'pandas.core.frame.DataFrame'>\n",
      "RangeIndex: 3685 entries, 0 to 3684\n",
      "Data columns (total 2 columns):\n",
      " #   Column      Non-Null Count  Dtype  \n",
      "---  ------      --------------  -----  \n",
      " 0   movieId     3685 non-null   object \n",
      " 1   popularity  3666 non-null   float64\n",
      "dtypes: float64(1), object(1)\n",
      "memory usage: 57.7+ KB\n",
      "None\n"
     ]
    }
   ],
   "source": [
    "movie_popularity.head(2)\n",
    "print(movie_popularity.info())\n",
    "#popularity column is much of it is populated\n",
    "#1st converting the popularity column into a whole no"
   ]
  },
  {
   "cell_type": "code",
   "execution_count": 30,
   "id": "f7a4b948",
   "metadata": {},
   "outputs": [],
   "source": [
    "movie_popularity.dropna(subset=['popularity'],axis=0,inplace=True)"
   ]
  },
  {
   "cell_type": "code",
   "execution_count": 31,
   "id": "5001d0ee",
   "metadata": {},
   "outputs": [],
   "source": [
    "movie_popularity[\"popularity_ceiling\"] = movie_popularity[\"popularity\"].apply(lambda x: math.ceil(x))"
   ]
  },
  {
   "cell_type": "code",
   "execution_count": 32,
   "id": "cf254b0e",
   "metadata": {},
   "outputs": [],
   "source": [
    "movie_popularity = movie_popularity[[\"movieId\",\"popularity_ceiling\"]]"
   ]
  },
  {
   "cell_type": "code",
   "execution_count": 33,
   "id": "cdb7ce45",
   "metadata": {},
   "outputs": [],
   "source": [
    "movie_popularity[\"popularity_ceiling\"] = movie_popularity[\"popularity_ceiling\"].astype(str)"
   ]
  },
  {
   "cell_type": "code",
   "execution_count": 34,
   "id": "ba9f6c56",
   "metadata": {},
   "outputs": [
    {
     "name": "stdout",
     "output_type": "stream",
     "text": [
      "<class 'pandas.core.frame.DataFrame'>\n",
      "Int64Index: 3666 entries, 0 to 3684\n",
      "Data columns (total 2 columns):\n",
      " #   Column              Non-Null Count  Dtype \n",
      "---  ------              --------------  ----- \n",
      " 0   movieId             3666 non-null   object\n",
      " 1   popularity_ceiling  3666 non-null   object\n",
      "dtypes: object(2)\n",
      "memory usage: 85.9+ KB\n"
     ]
    }
   ],
   "source": [
    "movie_popularity.info()"
   ]
  },
  {
   "cell_type": "code",
   "execution_count": 36,
   "id": "2d8ca069",
   "metadata": {},
   "outputs": [],
   "source": [
    "movie_popularity[\"popularity_ceiling\"] = movie_popularity[\"popularity_ceiling\"]+\"$$popularity\""
   ]
  },
  {
   "cell_type": "code",
   "execution_count": 37,
   "id": "dbeda7fa",
   "metadata": {},
   "outputs": [
    {
     "name": "stdout",
     "output_type": "stream",
     "text": [
      "9945\n",
      "1019660\n"
     ]
    }
   ],
   "source": [
    "print(Recommender_Graph_v2.number_of_nodes())\n",
    "print(Recommender_Graph_v2.number_of_edges())"
   ]
  },
  {
   "cell_type": "code",
   "execution_count": 38,
   "id": "21eff97c",
   "metadata": {},
   "outputs": [],
   "source": [
    "movie_popularity['combined']= movie_popularity.values.tolist()\n",
    "movie_popularity[\"combined_tuple\"]=movie_popularity[\"combined\"].apply(lambda x: tuple(x))\n",
    "Recommender_Graph_v2.add_edges_from(list(movie_popularity[\"combined_tuple\"]),weight = 4)\n",
    "nx.write_gpickle(Recommender_Graph_v2, \"Recommender_graph_year+genre+prod_country+pop.gpickle\")"
   ]
  },
  {
   "cell_type": "code",
   "execution_count": 39,
   "id": "7328ce60",
   "metadata": {},
   "outputs": [
    {
     "name": "stdout",
     "output_type": "stream",
     "text": [
      "10045\n",
      "1023326\n"
     ]
    }
   ],
   "source": [
    "print(Recommender_Graph_v2.number_of_nodes())\n",
    "print(Recommender_Graph_v2.number_of_edges())"
   ]
  },
  {
   "cell_type": "code",
   "execution_count": 47,
   "id": "a6c03d78",
   "metadata": {},
   "outputs": [
    {
     "data": {
      "text/plain": [
       "0"
      ]
     },
     "execution_count": 47,
     "metadata": {},
     "output_type": "execute_result"
    }
   ],
   "source": [
    "production_companies = movie_v2[[\"movieId\",\"production_companies\"]].copy()\n",
    "production_companies.shape\n",
    "production_companies.dropna(axis=0,inplace=True)\n",
    "production_companies[\"without_string\"] = production_companies[\"production_companies\"].apply(lambda x: eval(x))\n",
    "production_companies[\"without_string\"].isna().sum()"
   ]
  },
  {
   "cell_type": "code",
   "execution_count": 49,
   "id": "be9200b7",
   "metadata": {},
   "outputs": [],
   "source": [
    "production_companies = production_companies.explode(column = \"without_string\",ignore_index=False)\n",
    "production_companies.dropna(axis=0,inplace=True)"
   ]
  },
  {
   "cell_type": "code",
   "execution_count": 55,
   "id": "6cf81459",
   "metadata": {},
   "outputs": [],
   "source": [
    "production_companies.reset_index(inplace=True)"
   ]
  },
  {
   "cell_type": "code",
   "execution_count": 61,
   "id": "81351b83",
   "metadata": {},
   "outputs": [],
   "source": [
    "production_companies[\"production_companies_name\"] = production_companies[\"without_string\"].apply(lambda x: x[\"name\"])"
   ]
  },
  {
   "cell_type": "code",
   "execution_count": 63,
   "id": "026fa864",
   "metadata": {},
   "outputs": [],
   "source": [
    "production_companies = production_companies[[\"movieId\",\"production_Companies_name\"]]"
   ]
  },
  {
   "cell_type": "code",
   "execution_count": 65,
   "id": "e4c18c8d",
   "metadata": {},
   "outputs": [
    {
     "name": "stderr",
     "output_type": "stream",
     "text": [
      "<ipython-input-65-69bc5ba18c61>:1: SettingWithCopyWarning: \n",
      "A value is trying to be set on a copy of a slice from a DataFrame.\n",
      "Try using .loc[row_indexer,col_indexer] = value instead\n",
      "\n",
      "See the caveats in the documentation: https://pandas.pydata.org/pandas-docs/stable/user_guide/indexing.html#returning-a-view-versus-a-copy\n",
      "  production_companies[\"production_Companies_name\"] = production_companies[\"production_Companies_name\"] + \"$$production_companies\"\n"
     ]
    }
   ],
   "source": [
    "production_companies[\"production_Companies_name\"] = production_companies[\"production_Companies_name\"] + \"$$production_companies\""
   ]
  },
  {
   "cell_type": "code",
   "execution_count": 67,
   "id": "1a1d45b0",
   "metadata": {},
   "outputs": [
    {
     "name": "stdout",
     "output_type": "stream",
     "text": [
      "10045\n",
      "1023326\n"
     ]
    }
   ],
   "source": [
    "print(Recommender_Graph_v2.number_of_nodes())\n",
    "print(Recommender_Graph_v2.number_of_edges())"
   ]
  },
  {
   "cell_type": "code",
   "execution_count": 68,
   "id": "eee48aad",
   "metadata": {},
   "outputs": [
    {
     "name": "stderr",
     "output_type": "stream",
     "text": [
      "<ipython-input-68-7140033c927d>:1: SettingWithCopyWarning: \n",
      "A value is trying to be set on a copy of a slice from a DataFrame.\n",
      "Try using .loc[row_indexer,col_indexer] = value instead\n",
      "\n",
      "See the caveats in the documentation: https://pandas.pydata.org/pandas-docs/stable/user_guide/indexing.html#returning-a-view-versus-a-copy\n",
      "  production_companies['combined']= production_companies.values.tolist()\n",
      "<ipython-input-68-7140033c927d>:2: SettingWithCopyWarning: \n",
      "A value is trying to be set on a copy of a slice from a DataFrame.\n",
      "Try using .loc[row_indexer,col_indexer] = value instead\n",
      "\n",
      "See the caveats in the documentation: https://pandas.pydata.org/pandas-docs/stable/user_guide/indexing.html#returning-a-view-versus-a-copy\n",
      "  production_companies[\"combined_tuple\"]=production_companies[\"combined\"].apply(lambda x: tuple(x))\n"
     ]
    }
   ],
   "source": [
    "production_companies['combined']= production_companies.values.tolist()\n",
    "production_companies[\"combined_tuple\"]=production_companies[\"combined\"].apply(lambda x: tuple(x))\n",
    "Recommender_Graph_v2.add_edges_from(list(production_companies[\"combined_tuple\"]),weight = 4)\n",
    "nx.write_gpickle(Recommender_Graph_v2, \"Recommender_graph_year+genre+prod_country+pop.gpickle\")"
   ]
  },
  {
   "cell_type": "code",
   "execution_count": 69,
   "id": "32cbc02e",
   "metadata": {},
   "outputs": [
    {
     "name": "stdout",
     "output_type": "stream",
     "text": [
      "13007\n",
      "1031520\n"
     ]
    }
   ],
   "source": [
    "print(Recommender_Graph_v2.number_of_nodes())\n",
    "print(Recommender_Graph_v2.number_of_edges())\n",
    "#only about 3k increase in no of nodes is similar to the no of movies out there (there are about 3k Dis5tinct production company nodes)"
   ]
  },
  {
   "cell_type": "code",
   "execution_count": 70,
   "id": "7502f63e",
   "metadata": {},
   "outputs": [
    {
     "data": {
      "text/plain": [
       "2962"
      ]
     },
     "execution_count": 70,
     "metadata": {},
     "output_type": "execute_result"
    }
   ],
   "source": [
    "production_companies[\"production_Companies_name\"].nunique()  #no of nodes match the increase in the no of nodes in the graph"
   ]
  },
  {
   "cell_type": "code",
   "execution_count": 72,
   "id": "285760cd",
   "metadata": {},
   "outputs": [
    {
     "data": {
      "text/html": [
       "<div>\n",
       "<style scoped>\n",
       "    .dataframe tbody tr th:only-of-type {\n",
       "        vertical-align: middle;\n",
       "    }\n",
       "\n",
       "    .dataframe tbody tr th {\n",
       "        vertical-align: top;\n",
       "    }\n",
       "\n",
       "    .dataframe thead th {\n",
       "        text-align: right;\n",
       "    }\n",
       "</style>\n",
       "<table border=\"1\" class=\"dataframe\">\n",
       "  <thead>\n",
       "    <tr style=\"text-align: right;\">\n",
       "      <th></th>\n",
       "      <th>release_date</th>\n",
       "      <th>year</th>\n",
       "    </tr>\n",
       "  </thead>\n",
       "  <tbody>\n",
       "    <tr>\n",
       "      <th>0</th>\n",
       "      <td>1995-10-30</td>\n",
       "      <td>1995</td>\n",
       "    </tr>\n",
       "    <tr>\n",
       "      <th>1</th>\n",
       "      <td>1995-11-16</td>\n",
       "      <td>1995</td>\n",
       "    </tr>\n",
       "  </tbody>\n",
       "</table>\n",
       "</div>"
      ],
      "text/plain": [
       "  release_date  year\n",
       "0   1995-10-30  1995\n",
       "1   1995-11-16  1995"
      ]
     },
     "execution_count": 72,
     "metadata": {},
     "output_type": "execute_result"
    }
   ],
   "source": [
    "movie_v2[[\"release_date\",\"year\"]].head(2)  #release date and year look the same so not using release date"
   ]
  },
  {
   "cell_type": "code",
   "execution_count": 78,
   "id": "0c2c6912",
   "metadata": {},
   "outputs": [],
   "source": [
    "movie_runtime = movie_v2[[\"runtime\",\"movieId\"]].copy()\n",
    "movie_runtime[\"runtime\"] = movie_runtime[\"runtime\"].astype(str)\n",
    "movie_runtime[\"runtime\"] = movie_runtime[\"runtime\"]+\"$$runtime\""
   ]
  },
  {
   "cell_type": "code",
   "execution_count": 79,
   "id": "c6f6f731",
   "metadata": {},
   "outputs": [
    {
     "name": "stdout",
     "output_type": "stream",
     "text": [
      "13007\n",
      "1031520\n"
     ]
    }
   ],
   "source": [
    "print(Recommender_Graph_v2.number_of_nodes())\n",
    "print(Recommender_Graph_v2.number_of_edges())"
   ]
  },
  {
   "cell_type": "code",
   "execution_count": 80,
   "id": "a06a8aad",
   "metadata": {},
   "outputs": [],
   "source": [
    "movie_runtime['combined']= movie_runtime.values.tolist()\n",
    "movie_runtime[\"combined_tuple\"]=movie_runtime[\"combined\"].apply(lambda x: tuple(x))\n",
    "Recommender_Graph_v2.add_edges_from(list(movie_runtime[\"combined_tuple\"]),weight = 4)\n",
    "nx.write_gpickle(Recommender_Graph_v2, \"Recommender_graph_year+genre+prod_country+pop+runtime+prod_comp.gpickle\")"
   ]
  },
  {
   "cell_type": "code",
   "execution_count": 81,
   "id": "9d7bc8c9",
   "metadata": {},
   "outputs": [
    {
     "name": "stdout",
     "output_type": "stream",
     "text": [
      "13170\n",
      "1035205\n"
     ]
    }
   ],
   "source": [
    "print(Recommender_Graph_v2.number_of_nodes())\n",
    "print(Recommender_Graph_v2.number_of_edges())"
   ]
  },
  {
   "cell_type": "code",
   "execution_count": 10,
   "id": "2f1d5a0f",
   "metadata": {},
   "outputs": [],
   "source": [
    "#spoken languages as a node\n",
    "movie_spoken_languages = movie_v2[[\"movieId\",\"spoken_languages\"]]"
   ]
  },
  {
   "cell_type": "code",
   "execution_count": 11,
   "id": "ec707a90",
   "metadata": {},
   "outputs": [
    {
     "data": {
      "text/plain": [
       "0       [{'english_name': 'English', 'iso_639_1': 'en'...\n",
       "1       [{'english_name': 'English', 'iso_639_1': 'en'...\n",
       "2       [{'english_name': 'English', 'iso_639_1': 'en'...\n",
       "3       [{'english_name': 'Spanish', 'iso_639_1': 'es'...\n",
       "4                                                      []\n",
       "                              ...                        \n",
       "3680    [{'english_name': 'English', 'iso_639_1': 'en'...\n",
       "3681    [{'english_name': 'English', 'iso_639_1': 'en'...\n",
       "3682    [{'english_name': 'English', 'iso_639_1': 'en'...\n",
       "3683    [{'english_name': 'English', 'iso_639_1': 'en'...\n",
       "3684    [{'english_name': 'English', 'iso_639_1': 'en'...\n",
       "Name: spoken_languages, Length: 3685, dtype: object"
      ]
     },
     "execution_count": 11,
     "metadata": {},
     "output_type": "execute_result"
    }
   ],
   "source": [
    "movie_spoken_languages[\"spoken_languages\"]"
   ]
  },
  {
   "cell_type": "code",
   "execution_count": 12,
   "id": "3e34ea99",
   "metadata": {},
   "outputs": [
    {
     "name": "stdout",
     "output_type": "stream",
     "text": [
      "(3685, 2)\n"
     ]
    },
    {
     "data": {
      "text/plain": [
       "0"
      ]
     },
     "execution_count": 12,
     "metadata": {},
     "output_type": "execute_result"
    }
   ],
   "source": [
    "movie_spoken_languages = movie_v2[[\"movieId\",\"spoken_languages\"]].copy()\n",
    "print(movie_spoken_languages.shape)\n",
    "movie_spoken_languages.dropna(axis=0,inplace=True)\n",
    "movie_spoken_languages[\"without_string\"] = movie_spoken_languages[\"spoken_languages\"].apply(lambda x: eval(x))\n",
    "movie_spoken_languages[\"without_string\"].isna().sum()"
   ]
  },
  {
   "cell_type": "code",
   "execution_count": 13,
   "id": "db2bc2c3",
   "metadata": {},
   "outputs": [
    {
     "data": {
      "text/html": [
       "<div>\n",
       "<style scoped>\n",
       "    .dataframe tbody tr th:only-of-type {\n",
       "        vertical-align: middle;\n",
       "    }\n",
       "\n",
       "    .dataframe tbody tr th {\n",
       "        vertical-align: top;\n",
       "    }\n",
       "\n",
       "    .dataframe thead th {\n",
       "        text-align: right;\n",
       "    }\n",
       "</style>\n",
       "<table border=\"1\" class=\"dataframe\">\n",
       "  <thead>\n",
       "    <tr style=\"text-align: right;\">\n",
       "      <th></th>\n",
       "      <th>movieId</th>\n",
       "      <th>spoken_languages</th>\n",
       "      <th>without_string</th>\n",
       "    </tr>\n",
       "  </thead>\n",
       "  <tbody>\n",
       "    <tr>\n",
       "      <th>0</th>\n",
       "      <td>1</td>\n",
       "      <td>[{'english_name': 'English', 'iso_639_1': 'en'...</td>\n",
       "      <td>[{'english_name': 'English', 'iso_639_1': 'en'...</td>\n",
       "    </tr>\n",
       "    <tr>\n",
       "      <th>1</th>\n",
       "      <td>10</td>\n",
       "      <td>[{'english_name': 'English', 'iso_639_1': 'en'...</td>\n",
       "      <td>[{'english_name': 'English', 'iso_639_1': 'en'...</td>\n",
       "    </tr>\n",
       "  </tbody>\n",
       "</table>\n",
       "</div>"
      ],
      "text/plain": [
       "   movieId                                   spoken_languages  \\\n",
       "0        1  [{'english_name': 'English', 'iso_639_1': 'en'...   \n",
       "1       10  [{'english_name': 'English', 'iso_639_1': 'en'...   \n",
       "\n",
       "                                      without_string  \n",
       "0  [{'english_name': 'English', 'iso_639_1': 'en'...  \n",
       "1  [{'english_name': 'English', 'iso_639_1': 'en'...  "
      ]
     },
     "execution_count": 13,
     "metadata": {},
     "output_type": "execute_result"
    }
   ],
   "source": [
    "movie_spoken_languages.head(2)"
   ]
  },
  {
   "cell_type": "code",
   "execution_count": 14,
   "id": "5a1fa6a4",
   "metadata": {},
   "outputs": [],
   "source": [
    "movie_spoken_languages = movie_spoken_languages.explode(column = \"without_string\",ignore_index=False).reset_index()"
   ]
  },
  {
   "cell_type": "code",
   "execution_count": 15,
   "id": "e3d07a22",
   "metadata": {},
   "outputs": [
    {
     "name": "stdout",
     "output_type": "stream",
     "text": [
      "(5154, 4)\n",
      "(5094, 4)\n"
     ]
    }
   ],
   "source": [
    "print(movie_spoken_languages.shape)\n",
    "movie_spoken_languages.dropna(axis=0,subset=[\"without_string\"],inplace=True)\n",
    "print(movie_spoken_languages.shape)"
   ]
  },
  {
   "cell_type": "code",
   "execution_count": 16,
   "id": "92ac167a",
   "metadata": {},
   "outputs": [],
   "source": [
    "movie_spoken_languages[\"spoken_language_final\"] = movie_spoken_languages[\"without_string\"].apply(lambda x: x[\"english_name\"])"
   ]
  },
  {
   "cell_type": "code",
   "execution_count": 17,
   "id": "7600d538",
   "metadata": {},
   "outputs": [
    {
     "data": {
      "text/html": [
       "<div>\n",
       "<style scoped>\n",
       "    .dataframe tbody tr th:only-of-type {\n",
       "        vertical-align: middle;\n",
       "    }\n",
       "\n",
       "    .dataframe tbody tr th {\n",
       "        vertical-align: top;\n",
       "    }\n",
       "\n",
       "    .dataframe thead th {\n",
       "        text-align: right;\n",
       "    }\n",
       "</style>\n",
       "<table border=\"1\" class=\"dataframe\">\n",
       "  <thead>\n",
       "    <tr style=\"text-align: right;\">\n",
       "      <th></th>\n",
       "      <th>index</th>\n",
       "      <th>movieId</th>\n",
       "      <th>spoken_languages</th>\n",
       "      <th>without_string</th>\n",
       "      <th>spoken_language_final</th>\n",
       "    </tr>\n",
       "  </thead>\n",
       "  <tbody>\n",
       "    <tr>\n",
       "      <th>0</th>\n",
       "      <td>0</td>\n",
       "      <td>1</td>\n",
       "      <td>[{'english_name': 'English', 'iso_639_1': 'en'...</td>\n",
       "      <td>{'english_name': 'English', 'iso_639_1': 'en',...</td>\n",
       "      <td>English</td>\n",
       "    </tr>\n",
       "    <tr>\n",
       "      <th>1</th>\n",
       "      <td>1</td>\n",
       "      <td>10</td>\n",
       "      <td>[{'english_name': 'English', 'iso_639_1': 'en'...</td>\n",
       "      <td>{'english_name': 'English', 'iso_639_1': 'en',...</td>\n",
       "      <td>English</td>\n",
       "    </tr>\n",
       "  </tbody>\n",
       "</table>\n",
       "</div>"
      ],
      "text/plain": [
       "   index  movieId                                   spoken_languages  \\\n",
       "0      0        1  [{'english_name': 'English', 'iso_639_1': 'en'...   \n",
       "1      1       10  [{'english_name': 'English', 'iso_639_1': 'en'...   \n",
       "\n",
       "                                      without_string spoken_language_final  \n",
       "0  {'english_name': 'English', 'iso_639_1': 'en',...               English  \n",
       "1  {'english_name': 'English', 'iso_639_1': 'en',...               English  "
      ]
     },
     "execution_count": 17,
     "metadata": {},
     "output_type": "execute_result"
    }
   ],
   "source": [
    "movie_spoken_languages.head(2)"
   ]
  },
  {
   "cell_type": "code",
   "execution_count": 21,
   "id": "0d3e32dc",
   "metadata": {},
   "outputs": [],
   "source": [
    "movie_spoken_languages[\"movieId\"] = movie_spoken_languages[\"movieId\"].astype(str)\n",
    "movie_spoken_languages[\"movieId\"] = movie_spoken_languages[\"movieId\"] +\"$$m\""
   ]
  },
  {
   "cell_type": "code",
   "execution_count": 22,
   "id": "6ff9d98c",
   "metadata": {},
   "outputs": [],
   "source": [
    "movie_spoken_languages[\"spoken_language_final\"] = movie_spoken_languages[\"spoken_language_final\"] + \"$$spoken_language\""
   ]
  },
  {
   "cell_type": "code",
   "execution_count": 23,
   "id": "00ac397a",
   "metadata": {},
   "outputs": [
    {
     "data": {
      "text/html": [
       "<div>\n",
       "<style scoped>\n",
       "    .dataframe tbody tr th:only-of-type {\n",
       "        vertical-align: middle;\n",
       "    }\n",
       "\n",
       "    .dataframe tbody tr th {\n",
       "        vertical-align: top;\n",
       "    }\n",
       "\n",
       "    .dataframe thead th {\n",
       "        text-align: right;\n",
       "    }\n",
       "</style>\n",
       "<table border=\"1\" class=\"dataframe\">\n",
       "  <thead>\n",
       "    <tr style=\"text-align: right;\">\n",
       "      <th></th>\n",
       "      <th>index</th>\n",
       "      <th>movieId</th>\n",
       "      <th>spoken_languages</th>\n",
       "      <th>without_string</th>\n",
       "      <th>spoken_language_final</th>\n",
       "    </tr>\n",
       "  </thead>\n",
       "  <tbody>\n",
       "    <tr>\n",
       "      <th>0</th>\n",
       "      <td>0</td>\n",
       "      <td>1$$m</td>\n",
       "      <td>[{'english_name': 'English', 'iso_639_1': 'en'...</td>\n",
       "      <td>{'english_name': 'English', 'iso_639_1': 'en',...</td>\n",
       "      <td>English$$spoken_language</td>\n",
       "    </tr>\n",
       "    <tr>\n",
       "      <th>1</th>\n",
       "      <td>1</td>\n",
       "      <td>10$$m</td>\n",
       "      <td>[{'english_name': 'English', 'iso_639_1': 'en'...</td>\n",
       "      <td>{'english_name': 'English', 'iso_639_1': 'en',...</td>\n",
       "      <td>English$$spoken_language</td>\n",
       "    </tr>\n",
       "  </tbody>\n",
       "</table>\n",
       "</div>"
      ],
      "text/plain": [
       "   index movieId                                   spoken_languages  \\\n",
       "0      0    1$$m  [{'english_name': 'English', 'iso_639_1': 'en'...   \n",
       "1      1   10$$m  [{'english_name': 'English', 'iso_639_1': 'en'...   \n",
       "\n",
       "                                      without_string     spoken_language_final  \n",
       "0  {'english_name': 'English', 'iso_639_1': 'en',...  English$$spoken_language  \n",
       "1  {'english_name': 'English', 'iso_639_1': 'en',...  English$$spoken_language  "
      ]
     },
     "execution_count": 23,
     "metadata": {},
     "output_type": "execute_result"
    }
   ],
   "source": [
    "movie_spoken_languages.head(2)"
   ]
  },
  {
   "cell_type": "code",
   "execution_count": 111,
   "id": "3dafb6b1",
   "metadata": {},
   "outputs": [
    {
     "name": "stdout",
     "output_type": "stream",
     "text": [
      "13170\n",
      "1035205\n"
     ]
    }
   ],
   "source": [
    "print(Recommender_Graph_v2.number_of_nodes())\n",
    "print(Recommender_Graph_v2.number_of_edges())"
   ]
  },
  {
   "cell_type": "code",
   "execution_count": 24,
   "id": "dc8dc591",
   "metadata": {},
   "outputs": [],
   "source": [
    "movie_spoken_languages = movie_spoken_languages[[\"movieId\",\"spoken_language_final\"]].copy()\n",
    "\n",
    "movie_spoken_languages['combined']= movie_spoken_languages.values.tolist()"
   ]
  },
  {
   "cell_type": "code",
   "execution_count": 26,
   "id": "d1265e44",
   "metadata": {},
   "outputs": [],
   "source": [
    "movie_spoken_languages[\"combined_tuple\"]=movie_spoken_languages[\"combined\"].apply(lambda x: tuple(x))\n",
    "Recommender_Graph_v2.add_edges_from(list(movie_spoken_languages[\"combined_tuple\"]),weight = 4)\n",
    "nx.write_gpickle(Recommender_Graph_v2, \"Recommender_graph_year+genre+prod_country+pop+runtime+prod_comp+spoken_lang.gpickle\")"
   ]
  },
  {
   "cell_type": "code",
   "execution_count": 27,
   "id": "64cb76f9",
   "metadata": {},
   "outputs": [
    {
     "name": "stdout",
     "output_type": "stream",
     "text": [
      "13252\n",
      "1040299\n"
     ]
    }
   ],
   "source": [
    "print(Recommender_Graph_v2.number_of_nodes())\n",
    "print(Recommender_Graph_v2.number_of_edges())"
   ]
  },
  {
   "cell_type": "code",
   "execution_count": 28,
   "id": "a8b2b930",
   "metadata": {},
   "outputs": [
    {
     "data": {
      "text/plain": [
       "82"
      ]
     },
     "execution_count": 28,
     "metadata": {},
     "output_type": "execute_result"
    }
   ],
   "source": [
    "#check\n",
    "movie_spoken_languages[\"spoken_language_final\"].nunique()"
   ]
  },
  {
   "cell_type": "code",
   "execution_count": null,
   "id": "27b16ed9",
   "metadata": {},
   "outputs": [],
   "source": [
    "#user related attributes remaining and movie related only vote count and average is not used"
   ]
  },
  {
   "cell_type": "code",
   "execution_count": 4,
   "id": "48dda252",
   "metadata": {},
   "outputs": [],
   "source": [
    "Recommender_Graph_v2 = nx.read_gpickle(\"Recommender_graph_year+genre+prod_country+pop+runtime+prod_comp+spoken_lang.gpickle\")"
   ]
  },
  {
   "cell_type": "code",
   "execution_count": 6,
   "id": "7160a8f3",
   "metadata": {},
   "outputs": [
    {
     "data": {
      "text/plain": [
       "True"
      ]
     },
     "execution_count": 6,
     "metadata": {},
     "output_type": "execute_result"
    }
   ],
   "source": [
    "Recommender_Graph_v2.has_node(\"English$$spoken_language\")"
   ]
  },
  {
   "cell_type": "code",
   "execution_count": 20,
   "id": "97166e02",
   "metadata": {
    "scrolled": true
   },
   "outputs": [
    {
     "name": "stdout",
     "output_type": "stream",
     "text": [
      "<class 'pandas.core.frame.DataFrame'>\n",
      "RangeIndex: 3685 entries, 0 to 3684\n",
      "Data columns (total 34 columns):\n",
      " #   Column                 Non-Null Count  Dtype  \n",
      "---  ------                 --------------  -----  \n",
      " 0   movieId                3685 non-null   int64  \n",
      " 1   title                  3685 non-null   object \n",
      " 2   genres                 3685 non-null   object \n",
      " 3   year                   3685 non-null   int64  \n",
      " 4   meta_data              3685 non-null   object \n",
      " 5   distinct_user_Count    3685 non-null   int64  \n",
      " 6   count_of_ratings       3685 non-null   int64  \n",
      " 7   sum_ratings            3685 non-null   int64  \n",
      " 8   average_rating         3685 non-null   float64\n",
      " 9   adult                  3666 non-null   object \n",
      " 10  backdrop_path          3405 non-null   object \n",
      " 11  belongs_to_collection  708 non-null    object \n",
      " 12  budget                 3666 non-null   float64\n",
      " 13  genres.1               3666 non-null   object \n",
      " 14  homepage               323 non-null    object \n",
      " 15  id                     3666 non-null   float64\n",
      " 16  imdb_id                3666 non-null   object \n",
      " 17  original_language      3666 non-null   object \n",
      " 18  original_title         3666 non-null   object \n",
      " 19  overview               3661 non-null   object \n",
      " 20  popularity             3666 non-null   float64\n",
      " 21  poster_path            3630 non-null   object \n",
      " 22  production_companies   3666 non-null   object \n",
      " 23  production_countries   3666 non-null   object \n",
      " 24  release_date           3666 non-null   object \n",
      " 25  revenue                3666 non-null   float64\n",
      " 26  runtime                3664 non-null   float64\n",
      " 27  spoken_languages       3666 non-null   object \n",
      " 28  status                 3666 non-null   object \n",
      " 29  tagline                3024 non-null   object \n",
      " 30  title.1                3666 non-null   object \n",
      " 31  video                  3666 non-null   object \n",
      " 32  vote_average           3666 non-null   float64\n",
      " 33  vote_count             3666 non-null   float64\n",
      "dtypes: float64(8), int64(5), object(21)\n",
      "memory usage: 979.0+ KB\n"
     ]
    }
   ],
   "source": [
    "movie_v2.info()\n",
    "#NOTES ON Movie Based Nodes\n",
    "#based on eda remove the following columns\n",
    "#9 adult - NO (because no movie is adult)\n",
    "#10 backdrop_path - NO\n",
    "#11 belongs_to_collection ,14 homepage  - NO (v less info available)\n",
    "#genres.1 - NO (same info as genres)\n",
    "#24 release date is not used because maybe the year includes that effect\n",
    "#OVERVIEW is not used in the recommender graph"
   ]
  },
  {
   "cell_type": "code",
   "execution_count": null,
   "id": "6c247068",
   "metadata": {},
   "outputs": [],
   "source": [
    "#Adding user Database nodes"
   ]
  },
  {
   "cell_type": "code",
   "execution_count": 19,
   "id": "403cedbd",
   "metadata": {},
   "outputs": [],
   "source": [
    "users = pd.read_csv(\"mv-1m_user_rf.csv\")"
   ]
  },
  {
   "cell_type": "code",
   "execution_count": 14,
   "id": "e5516f52",
   "metadata": {},
   "outputs": [
    {
     "name": "stdout",
     "output_type": "stream",
     "text": [
      "<class 'pandas.core.frame.DataFrame'>\n",
      "RangeIndex: 6040 entries, 0 to 6039\n",
      "Data columns (total 5 columns):\n",
      " #   Column      Non-Null Count  Dtype \n",
      "---  ------      --------------  ----- \n",
      " 0   userId      6040 non-null   int64 \n",
      " 1   gender      6040 non-null   object\n",
      " 2   age         6040 non-null   int64 \n",
      " 3   occupation  6040 non-null   object\n",
      " 4   zipcode     6040 non-null   object\n",
      "dtypes: int64(2), object(3)\n",
      "memory usage: 236.1+ KB\n"
     ]
    }
   ],
   "source": [
    "users.info()"
   ]
  },
  {
   "cell_type": "code",
   "execution_count": 15,
   "id": "8b44415c",
   "metadata": {},
   "outputs": [],
   "source": [
    "users[\"userId\"] =users[\"userId\"].astype(str)\n",
    "users[\"userId\"] = users[\"userId\"] +\"$$u\"\n",
    "users.to_csv('user_modified_$$u.csv',index=False)"
   ]
  },
  {
   "cell_type": "code",
   "execution_count": 16,
   "id": "0616ac8e",
   "metadata": {},
   "outputs": [
    {
     "name": "stdout",
     "output_type": "stream",
     "text": [
      "<class 'pandas.core.frame.DataFrame'>\n",
      "RangeIndex: 6040 entries, 0 to 6039\n",
      "Data columns (total 5 columns):\n",
      " #   Column      Non-Null Count  Dtype \n",
      "---  ------      --------------  ----- \n",
      " 0   userId      6040 non-null   object\n",
      " 1   gender      6040 non-null   object\n",
      " 2   age         6040 non-null   int64 \n",
      " 3   occupation  6040 non-null   object\n",
      " 4   zipcode     6040 non-null   object\n",
      "dtypes: int64(1), object(4)\n",
      "memory usage: 236.1+ KB\n"
     ]
    }
   ],
   "source": [
    "users[\"userId\"] =users[\"userId\"].astype(str)\n",
    "users[\"userId\"] = users[\"userId\"] +\"$$u\"\n",
    "users.to_csv('user_modified_$$u.csv',index=False)"
   ]
  },
  {
   "cell_type": "code",
   "execution_count": 19,
   "id": "b84e780c",
   "metadata": {},
   "outputs": [],
   "source": [
    "users[\"age\"] =users[\"age\"].astype(str)\n",
    "users[\"age\"] = users[\"age\"] +\"$$age_user\""
   ]
  },
  {
   "cell_type": "code",
   "execution_count": 23,
   "id": "e163c2b5",
   "metadata": {},
   "outputs": [],
   "source": [
    "users[\"occupation\"] = users[\"occupation\"] +\"$$occupation\""
   ]
  },
  {
   "cell_type": "code",
   "execution_count": 26,
   "id": "09b0ebf6",
   "metadata": {},
   "outputs": [],
   "source": [
    "users[\"zipcode\"] =users[\"zipcode\"].astype(str)\n",
    "users[\"zipcode\"] = users[\"zipcode\"] +\"$$Zip_code_user\""
   ]
  },
  {
   "cell_type": "code",
   "execution_count": 28,
   "id": "3a82c638",
   "metadata": {},
   "outputs": [],
   "source": [
    "users[\"gender\"] = users[\"gender\"] +\"$$gender\""
   ]
  },
  {
   "cell_type": "code",
   "execution_count": null,
   "id": "0fc738dd",
   "metadata": {},
   "outputs": [],
   "source": [
    "#making user_features related nodes"
   ]
  },
  {
   "cell_type": "code",
   "execution_count": 37,
   "id": "a8ccc15d",
   "metadata": {},
   "outputs": [],
   "source": [
    "users_1 = users[[\"userId\",\"gender\"]].copy()\n",
    "users_1['combined']= users_1.values.tolist()\n",
    "users_1[\"combined_tuple\"]=users_1[\"combined\"].apply(lambda x: tuple(x))\n",
    "Recommender_Graph_v2.add_edges_from(list(users_1[\"combined_tuple\"]),weight = 4)"
   ]
  },
  {
   "cell_type": "code",
   "execution_count": 34,
   "id": "d18ef4bb",
   "metadata": {},
   "outputs": [
    {
     "data": {
      "text/plain": [
       "13254"
      ]
     },
     "execution_count": 34,
     "metadata": {},
     "output_type": "execute_result"
    }
   ],
   "source": [
    "Recommender_Graph_v2.number_of_nodes()"
   ]
  },
  {
   "cell_type": "code",
   "execution_count": 38,
   "id": "e1e58d24",
   "metadata": {},
   "outputs": [],
   "source": [
    "nx.write_gpickle(Recommender_Graph_v2, \"Recommender_graph_year+genre+prod_country+pop+runtime+prod_comp+spoken_lang+gender.gpickle\")"
   ]
  },
  {
   "cell_type": "code",
   "execution_count": 39,
   "id": "f449771a",
   "metadata": {},
   "outputs": [
    {
     "data": {
      "text/plain": [
       "13254"
      ]
     },
     "execution_count": 39,
     "metadata": {},
     "output_type": "execute_result"
    }
   ],
   "source": [
    "Recommender_Graph_v2.number_of_nodes()"
   ]
  },
  {
   "cell_type": "code",
   "execution_count": 40,
   "id": "1099f539",
   "metadata": {},
   "outputs": [],
   "source": [
    "users_1 = users[[\"userId\",\"zipcode\"]].copy()\n",
    "users_1['combined']= users_1.values.tolist()\n",
    "users_1[\"combined_tuple\"]=users_1[\"combined\"].apply(lambda x: tuple(x))\n",
    "Recommender_Graph_v2.add_edges_from(list(users_1[\"combined_tuple\"]),weight = 4)\n",
    "\n",
    "\n",
    "\n",
    "\n",
    "users_1 = users[[\"userId\",\"age\"]].copy()\n",
    "users_1['combined']= users_1.values.tolist()\n",
    "users_1[\"combined_tuple\"]=users_1[\"combined\"].apply(lambda x: tuple(x))\n",
    "Recommender_Graph_v2.add_edges_from(list(users_1[\"combined_tuple\"]),weight = 4)\n",
    "\n",
    "users_1 = users[[\"userId\",\"occupation\"]].copy()\n",
    "users_1['combined']= users_1.values.tolist()\n",
    "users_1[\"combined_tuple\"]=users_1[\"combined\"].apply(lambda x: tuple(x))\n",
    "Recommender_Graph_v2.add_edges_from(list(users_1[\"combined_tuple\"]),weight = 4)"
   ]
  },
  {
   "cell_type": "code",
   "execution_count": 41,
   "id": "203dafc2",
   "metadata": {},
   "outputs": [
    {
     "data": {
      "text/plain": [
       "16721"
      ]
     },
     "execution_count": 41,
     "metadata": {},
     "output_type": "execute_result"
    }
   ],
   "source": [
    "Recommender_Graph_v2.number_of_nodes()"
   ]
  },
  {
   "cell_type": "code",
   "execution_count": 42,
   "id": "e1f24427",
   "metadata": {},
   "outputs": [
    {
     "data": {
      "text/html": [
       "<div>\n",
       "<style scoped>\n",
       "    .dataframe tbody tr th:only-of-type {\n",
       "        vertical-align: middle;\n",
       "    }\n",
       "\n",
       "    .dataframe tbody tr th {\n",
       "        vertical-align: top;\n",
       "    }\n",
       "\n",
       "    .dataframe thead th {\n",
       "        text-align: right;\n",
       "    }\n",
       "</style>\n",
       "<table border=\"1\" class=\"dataframe\">\n",
       "  <thead>\n",
       "    <tr style=\"text-align: right;\">\n",
       "      <th></th>\n",
       "      <th>userId</th>\n",
       "      <th>gender</th>\n",
       "      <th>age</th>\n",
       "      <th>occupation</th>\n",
       "      <th>zipcode</th>\n",
       "    </tr>\n",
       "  </thead>\n",
       "  <tbody>\n",
       "    <tr>\n",
       "      <th>0</th>\n",
       "      <td>1$$u</td>\n",
       "      <td>F$$gender</td>\n",
       "      <td>1$$age_user</td>\n",
       "      <td>K-12 student$$occupation</td>\n",
       "      <td>48067$$Zip_code_user</td>\n",
       "    </tr>\n",
       "    <tr>\n",
       "      <th>1</th>\n",
       "      <td>2$$u</td>\n",
       "      <td>M$$gender</td>\n",
       "      <td>56$$age_user</td>\n",
       "      <td>self-employed$$occupation</td>\n",
       "      <td>70072$$Zip_code_user</td>\n",
       "    </tr>\n",
       "  </tbody>\n",
       "</table>\n",
       "</div>"
      ],
      "text/plain": [
       "  userId     gender           age                 occupation  \\\n",
       "0   1$$u  F$$gender   1$$age_user   K-12 student$$occupation   \n",
       "1   2$$u  M$$gender  56$$age_user  self-employed$$occupation   \n",
       "\n",
       "                zipcode  \n",
       "0  48067$$Zip_code_user  \n",
       "1  70072$$Zip_code_user  "
      ]
     },
     "execution_count": 42,
     "metadata": {},
     "output_type": "execute_result"
    }
   ],
   "source": [
    "users.head(2)"
   ]
  },
  {
   "cell_type": "code",
   "execution_count": 44,
   "id": "0aad063a",
   "metadata": {},
   "outputs": [
    {
     "data": {
      "text/plain": [
       "16721"
      ]
     },
     "execution_count": 44,
     "metadata": {},
     "output_type": "execute_result"
    }
   ],
   "source": [
    "13254 + users[\"age\"].nunique()  + users[\"occupation\"].nunique() +  users[\"zipcode\"].nunique()"
   ]
  },
  {
   "cell_type": "code",
   "execution_count": null,
   "id": "6bf6e8ef",
   "metadata": {},
   "outputs": [],
   "source": [
    "#reco'd"
   ]
  },
  {
   "cell_type": "code",
   "execution_count": 45,
   "id": "ae8c843b",
   "metadata": {},
   "outputs": [],
   "source": [
    "nx.write_gpickle(Recommender_Graph_v2, \"Recommender_graph_year+genre+prod_country+pop+runtime+prod_comp+spoken_lang+gender+user_features.gpickle\")"
   ]
  },
  {
   "cell_type": "code",
   "execution_count": 5,
   "id": "25b9d288",
   "metadata": {},
   "outputs": [],
   "source": [
    "Recommender_Graph_v2 = nx.read_gpickle(\"Recommender_graph_year+genre+prod_country+pop+runtime+prod_comp+spoken_lang+gender+user_features.gpickle\")"
   ]
  },
  {
   "cell_type": "code",
   "execution_count": 6,
   "id": "8ed5d283",
   "metadata": {},
   "outputs": [
    {
     "data": {
      "text/plain": [
       "16721"
      ]
     },
     "execution_count": 6,
     "metadata": {},
     "output_type": "execute_result"
    }
   ],
   "source": [
    "Recommender_Graph_v2.number_of_nodes()"
   ]
  },
  {
   "cell_type": "code",
   "execution_count": 7,
   "id": "3e48238e",
   "metadata": {},
   "outputs": [],
   "source": [
    "# break of complete graph into training and test graph\n",
    "import copy"
   ]
  },
  {
   "cell_type": "code",
   "execution_count": 8,
   "id": "e8afb9f6",
   "metadata": {},
   "outputs": [],
   "source": [
    "#use deepcopy instead of just copy (just copy does not copies graph correctly)\n",
    "Train_Graph = copy.deepcopy(Recommender_Graph_v2) "
   ]
  },
  {
   "cell_type": "code",
   "execution_count": 9,
   "id": "7bed55f9",
   "metadata": {},
   "outputs": [
    {
     "data": {
      "text/plain": [
       "True"
      ]
     },
     "execution_count": 9,
     "metadata": {},
     "output_type": "execute_result"
    }
   ],
   "source": [
    "Train_Graph.has_edge(\"1$$u\",\"2762$$m\")"
   ]
  },
  {
   "cell_type": "markdown",
   "id": "145ceecc",
   "metadata": {},
   "source": [
    "## Training the Knowledge Graph primarily by Page Rank Algorithm"
   ]
  },
  {
   "cell_type": "code",
   "execution_count": 10,
   "id": "c5ce038e",
   "metadata": {},
   "outputs": [
    {
     "name": "stdout",
     "output_type": "stream",
     "text": [
      "16721\n"
     ]
    }
   ],
   "source": [
    "print(Recommender_Graph_v2.number_of_nodes())"
   ]
  },
  {
   "cell_type": "code",
   "execution_count": 11,
   "id": "0a1fe8d6",
   "metadata": {},
   "outputs": [
    {
     "name": "stdout",
     "output_type": "stream",
     "text": [
      "16721\n"
     ]
    }
   ],
   "source": [
    "print(Train_Graph.number_of_nodes())"
   ]
  },
  {
   "cell_type": "code",
   "execution_count": 12,
   "id": "286fe381",
   "metadata": {},
   "outputs": [
    {
     "name": "stdout",
     "output_type": "stream",
     "text": [
      "1064459\n"
     ]
    }
   ],
   "source": [
    "print(Recommender_Graph_v2.number_of_edges())"
   ]
  },
  {
   "cell_type": "code",
   "execution_count": 13,
   "id": "4b18f884",
   "metadata": {},
   "outputs": [],
   "source": [
    "test_indices = pd.read_csv(\"Test_indices.csv\")"
   ]
  },
  {
   "cell_type": "code",
   "execution_count": 14,
   "id": "e9ad8ac6",
   "metadata": {},
   "outputs": [
    {
     "data": {
      "text/html": [
       "<div>\n",
       "<style scoped>\n",
       "    .dataframe tbody tr th:only-of-type {\n",
       "        vertical-align: middle;\n",
       "    }\n",
       "\n",
       "    .dataframe tbody tr th {\n",
       "        vertical-align: top;\n",
       "    }\n",
       "\n",
       "    .dataframe thead th {\n",
       "        text-align: right;\n",
       "    }\n",
       "</style>\n",
       "<table border=\"1\" class=\"dataframe\">\n",
       "  <thead>\n",
       "    <tr style=\"text-align: right;\">\n",
       "      <th></th>\n",
       "      <th>0</th>\n",
       "      <th>1</th>\n",
       "      <th>2</th>\n",
       "      <th>3</th>\n",
       "      <th>4</th>\n",
       "    </tr>\n",
       "  </thead>\n",
       "  <tbody>\n",
       "    <tr>\n",
       "      <th>0</th>\n",
       "      <td>2</td>\n",
       "      <td>0</td>\n",
       "      <td>8</td>\n",
       "      <td>13</td>\n",
       "      <td>7.0</td>\n",
       "    </tr>\n",
       "    <tr>\n",
       "      <th>1</th>\n",
       "      <td>5</td>\n",
       "      <td>1</td>\n",
       "      <td>15</td>\n",
       "      <td>25</td>\n",
       "      <td>10.0</td>\n",
       "    </tr>\n",
       "    <tr>\n",
       "      <th>2</th>\n",
       "      <td>23</td>\n",
       "      <td>3</td>\n",
       "      <td>17</td>\n",
       "      <td>58</td>\n",
       "      <td>11.0</td>\n",
       "    </tr>\n",
       "    <tr>\n",
       "      <th>3</th>\n",
       "      <td>30</td>\n",
       "      <td>4</td>\n",
       "      <td>20</td>\n",
       "      <td>59</td>\n",
       "      <td>12.0</td>\n",
       "    </tr>\n",
       "  </tbody>\n",
       "</table>\n",
       "</div>"
      ],
      "text/plain": [
       "    0  1   2   3     4\n",
       "0   2  0   8  13   7.0\n",
       "1   5  1  15  25  10.0\n",
       "2  23  3  17  58  11.0\n",
       "3  30  4  20  59  12.0"
      ]
     },
     "execution_count": 14,
     "metadata": {},
     "output_type": "execute_result"
    }
   ],
   "source": [
    "#in the 5th coloumn there is an NA value\n",
    "test_indices.head(4)"
   ]
  },
  {
   "cell_type": "code",
   "execution_count": 15,
   "id": "d1771fad",
   "metadata": {},
   "outputs": [],
   "source": [
    "user_movie_test = ratings.iloc[test_indices[\"0\"]][[\"userId\",\"movieId\"]] #change the indices to 0,1,2,3,4 (to have the set for test dataset)"
   ]
  },
  {
   "cell_type": "code",
   "execution_count": 16,
   "id": "e20f514d",
   "metadata": {},
   "outputs": [],
   "source": [
    "user_movie_test[[\"userId\",\"movieId\"]] = user_movie_test[['userId', 'movieId']].astype(str)"
   ]
  },
  {
   "cell_type": "code",
   "execution_count": 17,
   "id": "6248cd2a",
   "metadata": {},
   "outputs": [],
   "source": [
    "user_movie_test[\"userId\"] = user_movie_test[\"userId\"]+\"$$u\"  #u subscript for user\n",
    "user_movie_test[\"movieId\"] = user_movie_test[\"movieId\"]+\"$$m\"  #u subscript for user"
   ]
  },
  {
   "cell_type": "code",
   "execution_count": 18,
   "id": "4a50a270",
   "metadata": {},
   "outputs": [],
   "source": [
    "user_movie_test['combined']= user_movie_test.values.tolist()"
   ]
  },
  {
   "cell_type": "code",
   "execution_count": 19,
   "id": "8b89a1a8",
   "metadata": {},
   "outputs": [],
   "source": [
    "user_movie_test[\"combined_tuple\"]=user_movie_test[\"combined\"].apply(lambda x: tuple(x))"
   ]
  },
  {
   "cell_type": "code",
   "execution_count": 106,
   "id": "3975c87e",
   "metadata": {},
   "outputs": [],
   "source": [
    "#just an example\n",
    "#e = (\"1$$u\",\"2762$$m\")\n",
    "#Train_Graph.remove_edge(e)"
   ]
  },
  {
   "cell_type": "code",
   "execution_count": 20,
   "id": "bb4cfe7e",
   "metadata": {},
   "outputs": [],
   "source": [
    "#removing the test indiced user and movie id edges from the Complete Knowledge Graphs\n",
    "Train_Graph.remove_edges_from(list(user_movie_test[\"combined_tuple\"]))"
   ]
  },
  {
   "cell_type": "code",
   "execution_count": 21,
   "id": "d752d06c",
   "metadata": {},
   "outputs": [
    {
     "data": {
      "text/plain": [
       "(200042, 4)"
      ]
     },
     "execution_count": 21,
     "metadata": {},
     "output_type": "execute_result"
    }
   ],
   "source": [
    "user_movie_test.shape"
   ]
  },
  {
   "cell_type": "code",
   "execution_count": 22,
   "id": "a011b89d",
   "metadata": {},
   "outputs": [
    {
     "name": "stdout",
     "output_type": "stream",
     "text": [
      "864417\n"
     ]
    }
   ],
   "source": [
    "print(Train_Graph.number_of_edges())"
   ]
  },
  {
   "cell_type": "code",
   "execution_count": 118,
   "id": "6fb746f2",
   "metadata": {},
   "outputs": [
    {
     "data": {
      "text/plain": [
       "864417"
      ]
     },
     "execution_count": 118,
     "metadata": {},
     "output_type": "execute_result"
    }
   ],
   "source": [
    "1064459 - 200042"
   ]
  },
  {
   "cell_type": "code",
   "execution_count": 120,
   "id": "c920044b",
   "metadata": {},
   "outputs": [],
   "source": [
    "nx.write_gpickle(Train_Graph, \"Train_Graph.gpickle\")"
   ]
  },
  {
   "cell_type": "code",
   "execution_count": null,
   "id": "6dc42a9c",
   "metadata": {},
   "outputs": [],
   "source": [
    "#weights avry karne hai , personalize karna hai leakage is not happening"
   ]
  },
  {
   "cell_type": "code",
   "execution_count": 55,
   "id": "fd65f870",
   "metadata": {},
   "outputs": [
    {
     "name": "stdout",
     "output_type": "stream",
     "text": [
      "1064477\n"
     ]
    }
   ],
   "source": [
    "print(Train_Graph.number_of_edges())"
   ]
  },
  {
   "cell_type": "code",
   "execution_count": null,
   "id": "e906651d",
   "metadata": {},
   "outputs": [],
   "source": [
    "graph - weights =4"
   ]
  },
  {
   "cell_type": "code",
   "execution_count": null,
   "id": "978b89c8",
   "metadata": {},
   "outputs": [],
   "source": [
    "defining user"
   ]
  },
  {
   "cell_type": "code",
   "execution_count": 5,
   "id": "75fa9a72",
   "metadata": {},
   "outputs": [],
   "source": [
    "#the graph that we are using is an undirected graph\n",
    "Train_Graph = nx.read_gpickle(\"Train_Graph.gpickle\")"
   ]
  },
  {
   "cell_type": "code",
   "execution_count": 6,
   "id": "18c038fb",
   "metadata": {},
   "outputs": [],
   "source": [
    "Recommender_Graph_v2 = nx.read_gpickle(\"Recommender_graph_year+genre+prod_country+pop+runtime+prod_comp+spoken_lang+gender+user_features.gpickle\")"
   ]
  },
  {
   "cell_type": "code",
   "execution_count": 23,
   "id": "4c73a73a",
   "metadata": {},
   "outputs": [],
   "source": [
    "#tol = 1e-8 gives the no of iterations that took in the page rank algorithm (specifically adjacency matrix algorithm)\n",
    "#pr = nx.pagerank(Train_Graph,alpha=.85,max_iter=6,tol=1e-5) -20.76\n",
    "pr = nx.pagerank(Train_Graph,alpha=.85,max_iter=5,tol=1e-5)"
   ]
  },
  {
   "cell_type": "code",
   "execution_count": null,
   "id": "b0cc0449",
   "metadata": {},
   "outputs": [],
   "source": [
    "#average rating (calculated from train data) - new user rating> then user liked the movie - "
   ]
  },
  {
   "cell_type": "code",
   "execution_count": 53,
   "id": "a0546081",
   "metadata": {},
   "outputs": [],
   "source": [
    "#personalization feature of pagerank function actually controls the landing spot"
   ]
  },
  {
   "cell_type": "code",
   "execution_count": null,
   "id": "cb5749ab",
   "metadata": {},
   "outputs": [],
   "source": [
    "#multiprocessing check"
   ]
  },
  {
   "cell_type": "code",
   "execution_count": null,
   "id": "4ff2b9c5",
   "metadata": {},
   "outputs": [],
   "source": []
  },
  {
   "cell_type": "code",
   "execution_count": null,
   "id": "e7d47bef",
   "metadata": {},
   "outputs": [],
   "source": [
    "output"
   ]
  },
  {
   "cell_type": "code",
   "execution_count": null,
   "id": "5f8f98dd",
   "metadata": {},
   "outputs": [],
   "source": []
  },
  {
   "cell_type": "code",
   "execution_count": 7,
   "id": "54b54ac8",
   "metadata": {},
   "outputs": [],
   "source": [
    "pr = nx.pagerank(Train_Graph,personalization={'1$$u':1})\n",
    "#sorting the nodes in descending order\n",
    "Top_n_nodes = sorted(pr,key =pr.get, reverse=True)\n",
    "#removing nan nodes\n",
    "Top_n_nodes_2 = [x for x in Top_n_nodes if not (type(x)==float)]\n",
    "#selecting top 10 movies\n",
    "substr = \"$$m\"\n",
    "selections = [x for x in Top_n_nodes_2 if substr in x][:10]"
   ]
  },
  {
   "cell_type": "code",
   "execution_count": 8,
   "id": "f049a456",
   "metadata": {},
   "outputs": [
    {
     "data": {
      "text/plain": [
       "['260$$m',\n",
       " '2028$$m',\n",
       " '608$$m',\n",
       " '1$$m',\n",
       " '527$$m',\n",
       " '1197$$m',\n",
       " '1097$$m',\n",
       " '2355$$m',\n",
       " '3114$$m',\n",
       " '919$$m']"
      ]
     },
     "execution_count": 8,
     "metadata": {},
     "output_type": "execute_result"
    }
   ],
   "source": [
    "selections"
   ]
  },
  {
   "cell_type": "code",
   "execution_count": 39,
   "id": "c7a76a6a",
   "metadata": {},
   "outputs": [
    {
     "data": {
      "text/html": [
       "<div>\n",
       "<style scoped>\n",
       "    .dataframe tbody tr th:only-of-type {\n",
       "        vertical-align: middle;\n",
       "    }\n",
       "\n",
       "    .dataframe tbody tr th {\n",
       "        vertical-align: top;\n",
       "    }\n",
       "\n",
       "    .dataframe thead th {\n",
       "        text-align: right;\n",
       "    }\n",
       "</style>\n",
       "<table border=\"1\" class=\"dataframe\">\n",
       "  <thead>\n",
       "    <tr style=\"text-align: right;\">\n",
       "      <th></th>\n",
       "      <th>userId</th>\n",
       "      <th>movieId</th>\n",
       "      <th>rating</th>\n",
       "      <th>title</th>\n",
       "      <th>genres</th>\n",
       "      <th>year</th>\n",
       "      <th>meta_data</th>\n",
       "      <th>gender</th>\n",
       "      <th>age</th>\n",
       "      <th>occupation</th>\n",
       "      <th>zipcode</th>\n",
       "    </tr>\n",
       "  </thead>\n",
       "  <tbody>\n",
       "    <tr>\n",
       "      <th>0</th>\n",
       "      <td>1</td>\n",
       "      <td>1</td>\n",
       "      <td>5</td>\n",
       "      <td>Toy Story (1995)</td>\n",
       "      <td>Adventure|Animation|Children|Comedy|Fantasy</td>\n",
       "      <td>1995</td>\n",
       "      <td>{'adult': False, 'backdrop_path': '/3Rfvhy1Nl6...</td>\n",
       "      <td>F</td>\n",
       "      <td>1</td>\n",
       "      <td>K-12 student</td>\n",
       "      <td>48067</td>\n",
       "    </tr>\n",
       "  </tbody>\n",
       "</table>\n",
       "</div>"
      ],
      "text/plain": [
       "   userId  movieId  rating             title  \\\n",
       "0       1        1       5  Toy Story (1995)   \n",
       "\n",
       "                                        genres  year  \\\n",
       "0  Adventure|Animation|Children|Comedy|Fantasy  1995   \n",
       "\n",
       "                                           meta_data gender  age  \\\n",
       "0  {'adult': False, 'backdrop_path': '/3Rfvhy1Nl6...      F    1   \n",
       "\n",
       "     occupation zipcode  \n",
       "0  K-12 student   48067  "
      ]
     },
     "execution_count": 39,
     "metadata": {},
     "output_type": "execute_result"
    }
   ],
   "source": [
    "#so the idea 1st first we will shortlist no of movies in the validation dataset does the user likes (by subtracting the average movie rating in the training dataset) and then accordingly pick the top x no of movies from the ranked list and then check the recall or precision @K\n",
    "#finding average user rating\n",
    "ratings.head(1)"
   ]
  },
  {
   "cell_type": "code",
   "execution_count": 24,
   "id": "e38d1917",
   "metadata": {},
   "outputs": [],
   "source": [
    "ratings[[\"userId\",\"movieId\"]] = ratings[[\"userId\",\"movieId\"]].astype(str)"
   ]
  },
  {
   "cell_type": "code",
   "execution_count": 25,
   "id": "b58d6fe5",
   "metadata": {},
   "outputs": [],
   "source": [
    "ratings[\"userId\"] = ratings[\"userId\"] +\"$$u\"\n",
    "ratings[\"movieId\"] = ratings[\"movieId\"] +\"$$m\""
   ]
  },
  {
   "cell_type": "code",
   "execution_count": 26,
   "id": "b84dcff2",
   "metadata": {},
   "outputs": [],
   "source": [
    "ratings = ratings[[\"userId\",\"movieId\",\"rating\"]]"
   ]
  },
  {
   "cell_type": "code",
   "execution_count": 27,
   "id": "31a1a477",
   "metadata": {},
   "outputs": [],
   "source": [
    "Train_Data = pd.read_csv(\"Train_indices.csv\")"
   ]
  },
  {
   "cell_type": "code",
   "execution_count": 28,
   "id": "31f8001f",
   "metadata": {},
   "outputs": [
    {
     "data": {
      "text/html": [
       "<div>\n",
       "<style scoped>\n",
       "    .dataframe tbody tr th:only-of-type {\n",
       "        vertical-align: middle;\n",
       "    }\n",
       "\n",
       "    .dataframe tbody tr th {\n",
       "        vertical-align: top;\n",
       "    }\n",
       "\n",
       "    .dataframe thead th {\n",
       "        text-align: right;\n",
       "    }\n",
       "</style>\n",
       "<table border=\"1\" class=\"dataframe\">\n",
       "  <thead>\n",
       "    <tr style=\"text-align: right;\">\n",
       "      <th></th>\n",
       "      <th>0</th>\n",
       "      <th>1</th>\n",
       "      <th>2</th>\n",
       "      <th>3</th>\n",
       "      <th>4</th>\n",
       "    </tr>\n",
       "  </thead>\n",
       "  <tbody>\n",
       "    <tr>\n",
       "      <th>0</th>\n",
       "      <td>0.0</td>\n",
       "      <td>2.0</td>\n",
       "      <td>0.0</td>\n",
       "      <td>0.0</td>\n",
       "      <td>0.0</td>\n",
       "    </tr>\n",
       "    <tr>\n",
       "      <th>1</th>\n",
       "      <td>1.0</td>\n",
       "      <td>5.0</td>\n",
       "      <td>1.0</td>\n",
       "      <td>1.0</td>\n",
       "      <td>1.0</td>\n",
       "    </tr>\n",
       "  </tbody>\n",
       "</table>\n",
       "</div>"
      ],
      "text/plain": [
       "     0    1    2    3    4\n",
       "0  0.0  2.0  0.0  0.0  0.0\n",
       "1  1.0  5.0  1.0  1.0  1.0"
      ]
     },
     "execution_count": 28,
     "metadata": {},
     "output_type": "execute_result"
    }
   ],
   "source": [
    "Train_Data.head(2)"
   ]
  },
  {
   "cell_type": "code",
   "execution_count": 29,
   "id": "afc0bac7",
   "metadata": {},
   "outputs": [],
   "source": [
    "#selecting the first train dataset\n",
    "#we can change the train dataset by changing 0 in the below code\n",
    "train_data = ratings.iloc[Train_Data[\"0\"].dropna()]"
   ]
  },
  {
   "cell_type": "code",
   "execution_count": 30,
   "id": "0bf1ec22",
   "metadata": {},
   "outputs": [],
   "source": [
    "average_rating_users = train_data.groupby('userId').agg({\"rating\": \"mean\"})"
   ]
  },
  {
   "cell_type": "code",
   "execution_count": 31,
   "id": "146fbe6c",
   "metadata": {},
   "outputs": [],
   "source": [
    "average_rating_users.rename(columns = {'rating':'avg_rating'}, inplace = True)"
   ]
  },
  {
   "cell_type": "code",
   "execution_count": 32,
   "id": "249cae55",
   "metadata": {},
   "outputs": [
    {
     "data": {
      "text/html": [
       "<div>\n",
       "<style scoped>\n",
       "    .dataframe tbody tr th:only-of-type {\n",
       "        vertical-align: middle;\n",
       "    }\n",
       "\n",
       "    .dataframe tbody tr th {\n",
       "        vertical-align: top;\n",
       "    }\n",
       "\n",
       "    .dataframe thead th {\n",
       "        text-align: right;\n",
       "    }\n",
       "</style>\n",
       "<table border=\"1\" class=\"dataframe\">\n",
       "  <thead>\n",
       "    <tr style=\"text-align: right;\">\n",
       "      <th></th>\n",
       "      <th>avg_rating</th>\n",
       "    </tr>\n",
       "    <tr>\n",
       "      <th>userId</th>\n",
       "      <th></th>\n",
       "    </tr>\n",
       "  </thead>\n",
       "  <tbody>\n",
       "    <tr>\n",
       "      <th>1$$u</th>\n",
       "      <td>4.148936</td>\n",
       "    </tr>\n",
       "    <tr>\n",
       "      <th>10$$u</th>\n",
       "      <td>4.125402</td>\n",
       "    </tr>\n",
       "  </tbody>\n",
       "</table>\n",
       "</div>"
      ],
      "text/plain": [
       "        avg_rating\n",
       "userId            \n",
       "1$$u      4.148936\n",
       "10$$u     4.125402"
      ]
     },
     "execution_count": 32,
     "metadata": {},
     "output_type": "execute_result"
    }
   ],
   "source": [
    "average_rating_users.head(2)"
   ]
  },
  {
   "cell_type": "code",
   "execution_count": 33,
   "id": "4dc16f43",
   "metadata": {},
   "outputs": [],
   "source": [
    "train_data_avg_rating = train_data.merge(average_rating_users,left_on=[\"userId\"],right_on=[\"userId\"],how=\"left\")"
   ]
  },
  {
   "cell_type": "code",
   "execution_count": 34,
   "id": "ea81e081",
   "metadata": {},
   "outputs": [
    {
     "name": "stdout",
     "output_type": "stream",
     "text": [
      "(800167, 4)\n",
      "(800167, 3)\n"
     ]
    }
   ],
   "source": [
    "print(train_data_avg_rating.shape)\n",
    "print(train_data.shape)\n",
    "#merge is correct"
   ]
  },
  {
   "cell_type": "code",
   "execution_count": 35,
   "id": "def3be00",
   "metadata": {},
   "outputs": [
    {
     "data": {
      "text/html": [
       "<div>\n",
       "<style scoped>\n",
       "    .dataframe tbody tr th:only-of-type {\n",
       "        vertical-align: middle;\n",
       "    }\n",
       "\n",
       "    .dataframe tbody tr th {\n",
       "        vertical-align: top;\n",
       "    }\n",
       "\n",
       "    .dataframe thead th {\n",
       "        text-align: right;\n",
       "    }\n",
       "</style>\n",
       "<table border=\"1\" class=\"dataframe\">\n",
       "  <thead>\n",
       "    <tr style=\"text-align: right;\">\n",
       "      <th></th>\n",
       "      <th>userId</th>\n",
       "      <th>movieId</th>\n",
       "      <th>rating</th>\n",
       "      <th>avg_rating</th>\n",
       "    </tr>\n",
       "  </thead>\n",
       "  <tbody>\n",
       "    <tr>\n",
       "      <th>0</th>\n",
       "      <td>1$$u</td>\n",
       "      <td>1$$m</td>\n",
       "      <td>5</td>\n",
       "      <td>4.148936</td>\n",
       "    </tr>\n",
       "    <tr>\n",
       "      <th>1</th>\n",
       "      <td>1$$u</td>\n",
       "      <td>2692$$m</td>\n",
       "      <td>4</td>\n",
       "      <td>4.148936</td>\n",
       "    </tr>\n",
       "  </tbody>\n",
       "</table>\n",
       "</div>"
      ],
      "text/plain": [
       "  userId  movieId  rating  avg_rating\n",
       "0   1$$u     1$$m       5    4.148936\n",
       "1   1$$u  2692$$m       4    4.148936"
      ]
     },
     "execution_count": 35,
     "metadata": {},
     "output_type": "execute_result"
    }
   ],
   "source": [
    "train_data_avg_rating.head(2)"
   ]
  },
  {
   "cell_type": "code",
   "execution_count": 36,
   "id": "196591e6",
   "metadata": {},
   "outputs": [],
   "source": [
    "def flag (rating,avg_rating):\n",
    "    if (rating>=avg_rating):\n",
    "        return 1\n",
    "    else:\n",
    "        return 0"
   ]
  },
  {
   "cell_type": "code",
   "execution_count": 37,
   "id": "8e259cdf",
   "metadata": {},
   "outputs": [],
   "source": [
    "train_data_avg_rating[\"Flag\"] = train_data_avg_rating.apply(lambda x: flag(x[\"rating\"], x[\"avg_rating\"]), axis=1)"
   ]
  },
  {
   "cell_type": "code",
   "execution_count": 38,
   "id": "08b56266",
   "metadata": {},
   "outputs": [
    {
     "data": {
      "text/plain": [
       "(800167, 5)"
      ]
     },
     "execution_count": 38,
     "metadata": {},
     "output_type": "execute_result"
    }
   ],
   "source": [
    "train_data_avg_rating.shape"
   ]
  },
  {
   "cell_type": "code",
   "execution_count": 39,
   "id": "9b68f6ec",
   "metadata": {},
   "outputs": [],
   "source": [
    "Test_Data = pd.read_csv(\"Test_indices.csv\")"
   ]
  },
  {
   "cell_type": "code",
   "execution_count": 40,
   "id": "5ae2f36b",
   "metadata": {},
   "outputs": [],
   "source": [
    "Validation_Dataset = ratings.iloc[Test_Data[\"0\"].dropna()]"
   ]
  },
  {
   "cell_type": "code",
   "execution_count": 41,
   "id": "6de625a5",
   "metadata": {},
   "outputs": [],
   "source": [
    "Validation_data_avg_rating = Validation_Dataset.merge(average_rating_users,left_on=[\"userId\"],right_on=[\"userId\"],how=\"left\")"
   ]
  },
  {
   "cell_type": "code",
   "execution_count": 42,
   "id": "d3a841a9",
   "metadata": {},
   "outputs": [
    {
     "name": "stdout",
     "output_type": "stream",
     "text": [
      "(200042, 4)\n",
      "(200042, 3)\n"
     ]
    }
   ],
   "source": [
    "#actually taking the training dataset and calculating the average rating from that\n",
    "print(Validation_data_avg_rating.shape)\n",
    "print(Validation_Dataset.shape)"
   ]
  },
  {
   "cell_type": "code",
   "execution_count": 43,
   "id": "32d1f130",
   "metadata": {},
   "outputs": [],
   "source": [
    "Validation_data_avg_rating[\"Flag\"] = Validation_data_avg_rating.apply(lambda x: flag(x[\"rating\"], x[\"avg_rating\"]), axis=1)"
   ]
  },
  {
   "cell_type": "code",
   "execution_count": 44,
   "id": "b141633a",
   "metadata": {},
   "outputs": [],
   "source": [
    "Validation_liked_train0 = Validation_data_avg_rating[Validation_data_avg_rating[\"Flag\"]==1]"
   ]
  },
  {
   "cell_type": "code",
   "execution_count": 45,
   "id": "54840e40",
   "metadata": {},
   "outputs": [
    {
     "data": {
      "text/plain": [
       "(109114, 5)"
      ]
     },
     "execution_count": 45,
     "metadata": {},
     "output_type": "execute_result"
    }
   ],
   "source": [
    "#approximately 50%\n",
    "Validation_liked_train0.shape  "
   ]
  },
  {
   "cell_type": "code",
   "execution_count": 46,
   "id": "e47e8309",
   "metadata": {},
   "outputs": [],
   "source": [
    "user_liked_movie_test = Validation_liked_train0.groupby(\"userId\")[\"movieId\"].nunique()"
   ]
  },
  {
   "cell_type": "code",
   "execution_count": 47,
   "id": "f9687dc7",
   "metadata": {},
   "outputs": [],
   "source": [
    "user_liked_movie_test0 = user_liked_movie_test.copy()"
   ]
  },
  {
   "cell_type": "code",
   "execution_count": 48,
   "id": "060a2b98",
   "metadata": {},
   "outputs": [],
   "source": [
    "user_liked_movie_test0.to_csv('user_liked_movie_test0.csv',index=True)"
   ]
  },
  {
   "cell_type": "code",
   "execution_count": 49,
   "id": "2aca0616",
   "metadata": {},
   "outputs": [],
   "source": [
    "user_liked_movie_test0_v2 = user_liked_movie_test0.reset_index()"
   ]
  },
  {
   "cell_type": "code",
   "execution_count": 50,
   "id": "08310174",
   "metadata": {},
   "outputs": [],
   "source": [
    "user_list = list(user_liked_movie_test0_v2[\"userId\"])"
   ]
  },
  {
   "cell_type": "code",
   "execution_count": 51,
   "id": "907d105b",
   "metadata": {},
   "outputs": [
    {
     "data": {
      "text/plain": [
       "5957"
      ]
     },
     "execution_count": 51,
     "metadata": {},
     "output_type": "execute_result"
    }
   ],
   "source": [
    "len(user_list)"
   ]
  },
  {
   "cell_type": "code",
   "execution_count": 52,
   "id": "f17d4080",
   "metadata": {},
   "outputs": [
    {
     "data": {
      "text/html": [
       "<div>\n",
       "<style scoped>\n",
       "    .dataframe tbody tr th:only-of-type {\n",
       "        vertical-align: middle;\n",
       "    }\n",
       "\n",
       "    .dataframe tbody tr th {\n",
       "        vertical-align: top;\n",
       "    }\n",
       "\n",
       "    .dataframe thead th {\n",
       "        text-align: right;\n",
       "    }\n",
       "</style>\n",
       "<table border=\"1\" class=\"dataframe\">\n",
       "  <thead>\n",
       "    <tr style=\"text-align: right;\">\n",
       "      <th></th>\n",
       "      <th>userId</th>\n",
       "      <th>movieId</th>\n",
       "      <th>rating</th>\n",
       "      <th>avg_rating</th>\n",
       "      <th>Flag</th>\n",
       "    </tr>\n",
       "  </thead>\n",
       "  <tbody>\n",
       "    <tr>\n",
       "      <th>1</th>\n",
       "      <td>1$$u</td>\n",
       "      <td>2804$$m</td>\n",
       "      <td>5</td>\n",
       "      <td>4.148936</td>\n",
       "      <td>1</td>\n",
       "    </tr>\n",
       "    <tr>\n",
       "      <th>3</th>\n",
       "      <td>1$$u</td>\n",
       "      <td>1029$$m</td>\n",
       "      <td>5</td>\n",
       "      <td>4.148936</td>\n",
       "      <td>1</td>\n",
       "    </tr>\n",
       "  </tbody>\n",
       "</table>\n",
       "</div>"
      ],
      "text/plain": [
       "  userId  movieId  rating  avg_rating  Flag\n",
       "1   1$$u  2804$$m       5    4.148936     1\n",
       "3   1$$u  1029$$m       5    4.148936     1"
      ]
     },
     "execution_count": 52,
     "metadata": {},
     "output_type": "execute_result"
    }
   ],
   "source": [
    "Validation_liked_train0.head(2)"
   ]
  },
  {
   "cell_type": "code",
   "execution_count": null,
   "id": "0666accc",
   "metadata": {},
   "outputs": [],
   "source": [
    "#multi processing & multi threading\n",
    "#5 page ranks in parallel\n",
    "#random walks\n",
    "#deadlocks\n",
    "#concating + into one result\n",
    "#MVP\n",
    "#PAGE_rANK_scipy"
   ]
  },
  {
   "cell_type": "code",
   "execution_count": null,
   "id": "cdf8aaf5",
   "metadata": {},
   "outputs": [
    {
     "name": "stdout",
     "output_type": "stream",
     "text": [
      "100\n"
     ]
    }
   ],
   "source": [
    "#the below code is taking more than necessary time even for 1 iteration it is taking more than 6 min (on the contrary only one iteration takes about 20 sec to complete)\n",
    "#I think it is going in an infinite loop\n",
    "\n",
    "import multiprocessing\n",
    "from multiprocessing import Pool\n",
    "def page_rank_optimize(a):\n",
    "    return a**2\n",
    "    #return nx.pagerank(Train_Graph,alpha,max_iter,tol)\n",
    "\n",
    "if __name__ == '__main__':\n",
    "    # Create a multiprocessing pool with four processes\n",
    "    pool = multiprocessing.Pool(1)\n",
    "    #alpha=.85\n",
    "    #max_iter=5\n",
    "    #tol=1e-5\n",
    "    print(page_rank_optimize(10))\n",
    "    results = pool.map(page_rank_optimize, [10])\n",
    "    pool.close()\n",
    "    print(results)"
   ]
  },
  {
   "cell_type": "code",
   "execution_count": null,
   "id": "35b78968",
   "metadata": {},
   "outputs": [],
   "source": [
    "import multiprocessing\n",
    "\n",
    "def square(x):\n",
    "    return x**2\n",
    "\n",
    "if __name__ == '__main__':\n",
    "    pool = multiprocessing.Pool(2)\n",
    "    results = pool.starmap(square, ([5],[6]))\n",
    "    print(results)"
   ]
  },
  {
   "cell_type": "code",
   "execution_count": 7,
   "id": "ef97abe5",
   "metadata": {},
   "outputs": [
    {
     "name": "stdout",
     "output_type": "stream",
     "text": [
      "8\n"
     ]
    }
   ],
   "source": [
    "import multiprocessing\n",
    "num_cores = multiprocessing.cpu_count()\n",
    "print(num_cores)"
   ]
  },
  {
   "cell_type": "code",
   "execution_count": 7,
   "id": "213abff3",
   "metadata": {},
   "outputs": [
    {
     "data": {
      "text/plain": [
       "{'1$$u': 3.4211007789463886e-05,\n",
       " '1$$m': 0.0006310607821673088,\n",
       " '2692$$m': 0.00034334851202170487,\n",
       " '2762$$m': 0.0007834973626240149,\n",
       " '2791$$m': 0.0005072742387191645,\n",
       " '2797$$m': 0.0004284565401513623,\n",
       " '2804$$m': 0.00040370282931101226,\n",
       " '2918$$m': 0.0004169106271656689,\n",
       " '3105$$m': 0.00021059737492317828,\n",
       " '3114$$m': 0.0005125441325315626,\n",
       " '3186$$m': 0.00015535140320072178,\n",
       " '3408$$m': 0.0004262083115462942,\n",
       " '48$$m': 0.000129905437470707,\n",
       " '527$$m': 0.0007340356269689099,\n",
       " '531$$m': 0.0001112522735031565,\n",
       " '588$$m': 0.0003921588635750235,\n",
       " '594$$m': 0.00023474658572970856,\n",
       " '595$$m': 0.000325261140843412,\n",
       " '608$$m': 0.000767088425546403,\n",
       " '661$$m': 0.0001758181035404566,\n",
       " '720$$m': 0.00013638645789794342,\n",
       " '745$$m': 0.00021670881980868743,\n",
       " '783$$m': 0.00012769508933011263,\n",
       " '919$$m': 0.0005187336040888838,\n",
       " '938$$m': 7.65847278909508e-05,\n",
       " '2687$$m': 0.00016426594325856167,\n",
       " '260$$m': 0.0009223783811642469,\n",
       " '914$$m': 0.00019448166221542533,\n",
       " '2355$$m': 0.0005342055752213466,\n",
       " '2398$$m': 0.00011771998471109951,\n",
       " '1022$$m': 0.0001798322865102118,\n",
       " '1029$$m': 0.0001753255027427478,\n",
       " '1035$$m': 0.00028825111707509056,\n",
       " '1097$$m': 0.000671003639982375,\n",
       " '1193$$m': 0.000560182412091401,\n",
       " '1197$$m': 0.0007035204965505483,\n",
       " '1207$$m': 0.0002983560356531273,\n",
       " '1246$$m': 0.00023969595321948308,\n",
       " '1270$$m': 0.0007995623502967438,\n",
       " '1287$$m': 0.00021996967204786441,\n",
       " '150$$m': 0.00036998379572393715,\n",
       " '1028$$m': 0.0003015006646800952,\n",
       " '1566$$m': 0.00016134423804296013,\n",
       " '1545$$m': 5.400386076317417e-05,\n",
       " '2321$$m': 0.00034232954097572775,\n",
       " '2294$$m': 0.0002069056777056403,\n",
       " '2028$$m': 0.0008456213691467275,\n",
       " '2018$$m': 0.00018809475969820122,\n",
       " '2340$$m': 0.0001211430259346505,\n",
       " '1961$$m': 0.0004168149645800663,\n",
       " '1907$$m': 0.00016875737820578568,\n",
       " '1836$$m': 6.449487534051788e-05,\n",
       " '1721$$m': 0.0005072814428372667,\n",
       " '1962$$m': 0.00019207074335433633,\n",
       " '10$$u': 0.00013183531565165874,\n",
       " '3066$$m': 7.253146767371132e-05,\n",
       " '3100$$m': 0.00018083183602845976,\n",
       " '3099$$m': 9.897041000828936e-05,\n",
       " '3097$$m': 8.201669669781208e-05,\n",
       " '3095$$m': 0.00017741624378531665,\n",
       " '3087$$m': 0.00014776963655076022,\n",
       " '3086$$m': 5.136158708044202e-05,\n",
       " '3072$$m': 0.00030620517420417397,\n",
       " '3108$$m': 0.0002575278778708891,\n",
       " '2997$$m': 0.0007104099892543264,\n",
       " '3037$$m': 0.00019939817537136626,\n",
       " '3035$$m': 0.00014555475193229136,\n",
       " '3034$$m': 0.00011749978671201236,\n",
       " '2968$$m': 0.0002943386040994469,\n",
       " '2967$$m': 5.527737163292799e-05,\n",
       " '2959$$m': 0.0004593917939411732,\n",
       " '2948$$m': 0.00025315775795908536,\n",
       " '2946$$m': 0.00010468017207748808,\n",
       " '3153$$m': 9.670464945128899e-05,\n",
       " '292$$m': 0.00021261256955556104,\n",
       " '3039$$m': 0.00023234686359088148,\n",
       " '3155$$m': 0.00013445312801507625,\n",
       " '3255$$m': 0.0003114827228170687,\n",
       " '317$$m': 0.00020063053372509841,\n",
       " '3363$$m': 0.00029792415503180085,\n",
       " '3359$$m': 0.00016409686976096683,\n",
       " '3358$$m': 0.00013572294819631334,\n",
       " '3347$$m': 7.790323087945563e-05,\n",
       " '333$$m': 0.00012045443282999505,\n",
       " '3309$$m': 5.556233686767776e-05,\n",
       " '3296$$m': 8.053715131561738e-05,\n",
       " '329$$m': 0.0002815311949480049,\n",
       " '3264$$m': 0.00016141182004454074,\n",
       " '3259$$m': 0.0001254323085811095,\n",
       " '3254$$m': 0.00012790742994918473,\n",
       " '3252$$m': 0.0001713519760887881,\n",
       " '3247$$m': 0.00018846685593827095,\n",
       " '32$$m': 0.00045282924963825513,\n",
       " '3198$$m': 0.00012742532036881966,\n",
       " '3194$$m': 8.832236841677808e-05,\n",
       " '3189$$m': 0.0001153478873068518,\n",
       " '318$$m': 0.0006804622107832044,\n",
       " '3175$$m': 0.0005381713353297475,\n",
       " '3174$$m': 0.0002811763015963245,\n",
       " '316$$m': 0.0003301162879495957,\n",
       " '2874$$m': 4.087393913890142e-05,\n",
       " '2530$$m': 0.00011451592247321321,\n",
       " '2863$$m': 0.0001849252465560625,\n",
       " '2529$$m': 0.0003495216690944466,\n",
       " '2501$$m': 0.00018591892420355307,\n",
       " '2498$$m': 5.343488180438809e-05,\n",
       " '2497$$m': 8.116195193955101e-05,\n",
       " '2496$$m': 0.00013145635778185764,\n",
       " '248$$m': 5.4182628639136234e-05,\n",
       " '2470$$m': 0.00025926442002336113,\n",
       " '2453$$m': 7.881300973637316e-05,\n",
       " '2436$$m': 9.08365620007086e-05,\n",
       " '2431$$m': 0.00016788597714520798,\n",
       " '2424$$m': 0.00024434222289364054,\n",
       " '2423$$m': 0.00016128814653607553,\n",
       " '2407$$m': 0.00027752912802670614,\n",
       " '2405$$m': 0.00020373665580404596,\n",
       " '24$$m': 0.0001955021757926709,\n",
       " '2399$$m': 0.00010846144341160275,\n",
       " '2396$$m': 0.000736024996286538,\n",
       " '2393$$m': 0.00023417728472910538,\n",
       " '2378$$m': 0.0001273565166975216,\n",
       " '2375$$m': 0.0001256857212502931,\n",
       " '253$$m': 0.0002216020144274555,\n",
       " '3386$$m': 0.00024303538460051315,\n",
       " '2571$$m': 0.0007879878041900777,\n",
       " '2599$$m': 0.0004818967383091716,\n",
       " '2858$$m': 0.0011182609911453653,\n",
       " '2826$$m': 0.00024749846435102076,\n",
       " '282$$m': 7.333810097127803e-05,\n",
       " '2795$$m': 0.00016143320397828695,\n",
       " '2770$$m': 0.00028551909943352167,\n",
       " '277$$m': 6.441994829521185e-05,\n",
       " '2872$$m': 0.00021740310237330842,\n",
       " '275$$m': 3.952540248246721e-05,\n",
       " '2717$$m': 0.00016248925983024107,\n",
       " '2716$$m': 0.0006718476727795085,\n",
       " '2693$$m': 7.525316866166297e-05,\n",
       " '2662$$m': 0.0001772754588655023,\n",
       " '2657$$m': 0.0003719590235156308,\n",
       " '2640$$m': 0.00034999847113533004,\n",
       " '2628$$m': 0.0006904341658924314,\n",
       " '2622$$m': 0.0001432438282588876,\n",
       " '2617$$m': 0.0002906373308622628,\n",
       " '2746$$m': 0.00026888776643998785,\n",
       " '3388$$m': 0.00010140223432131801,\n",
       " '3675$$m': 9.537713228132702e-05,\n",
       " '802$$m': 0.00012940252625910544,\n",
       " '784$$m': 0.00011926334584652144,\n",
       " '780$$m': 0.0004955367507148322,\n",
       " '765$$m': 6.958725969117556e-05,\n",
       " '750$$m': 0.000400774166539678,\n",
       " '743$$m': 4.7765473131233425e-05,\n",
       " '7$$m': 0.0001688747952711547,\n",
       " '671$$m': 0.00015250305228927202,\n",
       " '653$$m': 0.00017773387179024415,\n",
       " '648$$m': 0.000453661137489017,\n",
       " '62$$m': 0.00018232736664224592,\n",
       " '597$$m': 0.00029107130239153396,\n",
       " '596$$m': 0.0001634504738857289,\n",
       " '592$$m': 0.00040015577798457175,\n",
       " '590$$m': 0.0004368063800826099,\n",
       " '589$$m': 0.000827086180348026,\n",
       " '830$$m': 9.50429526753944e-05,\n",
       " '587$$m': 0.0003158410768268484,\n",
       " '858$$m': 0.0007172573458601378,\n",
       " '899$$m': 0.0002387966634316531,\n",
       " '971$$m': 0.00010156695361618464,\n",
       " '969$$m': 0.0003560245626120052,\n",
       " '963$$m': 3.596304720972837e-05,\n",
       " '954$$m': 0.00011461445166032219,\n",
       " '953$$m': 0.00022605435664101823,\n",
       " '943$$m': 7.225724065605494e-05,\n",
       " '932$$m': 8.83894998463899e-05,\n",
       " '926$$m': 0.00013566114479245624,\n",
       " '924$$m': 0.0005226527805958337,\n",
       " '923$$m': 0.0003379694652007529,\n",
       " '920$$m': 0.00037284954404995463,\n",
       " '918$$m': 8.08160841912902e-05,\n",
       " '916$$m': 0.00014105277838335275,\n",
       " '915$$m': 0.00012061073820008201,\n",
       " '913$$m': 0.00032944225764967893,\n",
       " '912$$m': 0.0005193729869068491,\n",
       " '904$$m': 0.000325325141929852,\n",
       " '902$$m': 0.00022721057429612952,\n",
       " '898$$m': 0.00018301604911107454,\n",
       " '586$$m': 0.00019303247388348661,\n",
       " '551$$m': 0.00031430608205256356,\n",
       " '543$$m': 0.00019478067284388329,\n",
       " '3668$$m': 0.00013863577134981534,\n",
       " '364$$m': 0.00033384004418997965,\n",
       " '3629$$m': 0.00010644693524808746,\n",
       " '3608$$m': 0.00024848273143015766,\n",
       " '3593$$m': 0.00015154538426685006,\n",
       " '3591$$m': 0.00019609883452209034,\n",
       " '357$$m': 0.00036048815372602655,\n",
       " '356$$m': 0.0006662355800252231,\n",
       " '3525$$m': 0.00013236719888021206,\n",
       " '351$$m': 9.239356326751096e-05,\n",
       " '3501$$m': 9.327955899715627e-05,\n",
       " '3500$$m': 6.082082809318069e-05,\n",
       " '3489$$m': 0.00020781599857592296,\n",
       " '3481$$m': 0.0004420468500891274,\n",
       " '3471$$m': 0.0004315087284184806,\n",
       " '3466$$m': 8.835284546031172e-05,\n",
       " '3451$$m': 0.00011234753984807113,\n",
       " '3447$$m': 3.936733280262439e-05,\n",
       " '344$$m': 0.0002321955279929462,\n",
       " '3439$$m': 9.317380217273486e-05,\n",
       " '3438$$m': 0.0001643393845244057,\n",
       " '367$$m': 0.0003380462707212603,\n",
       " '3671$$m': 0.00033203562510900736,\n",
       " '2371$$m': 0.00017025736850593748,\n",
       " '368$$m': 0.00022979930062459638,\n",
       " '542$$m': 7.454931546519884e-05,\n",
       " '541$$m': 0.0005504361024898517,\n",
       " '539$$m': 0.0002830104589091542,\n",
       " '520$$m': 0.00011892862837622831,\n",
       " '480$$m': 0.0008169640985974333,\n",
       " '435$$m': 0.00015624477867535352,\n",
       " '3948$$m': 0.0002890079299292279,\n",
       " '3928$$m': 8.948528698415739e-05,\n",
       " '3869$$m': 0.00013361441835341333,\n",
       " '339$$m': 0.00018926035685549612,\n",
       " '3868$$m': 0.00021257328784370845,\n",
       " '3809$$m': 0.00024181852310128083,\n",
       " '3751$$m': 0.0004296089534557945,\n",
       " '3723$$m': 0.00012381121430542303,\n",
       " '3704$$m': 0.00020993554979340345,\n",
       " '3703$$m': 0.000306332642146598,\n",
       " '3702$$m': 0.0003298035710019958,\n",
       " '3701$$m': 0.00015572492544312148,\n",
       " '370$$m': 0.00012867713777346454,\n",
       " '3699$$m': 0.00026242340082102786,\n",
       " '3688$$m': 0.00011612859396639263,\n",
       " '3812$$m': 9.653567006726449e-05,\n",
       " '2324$$m': 0.00037894996597149974,\n",
       " '1283$$m': 0.0001284033719162115,\n",
       " '1282$$m': 0.00027849899168996096,\n",
       " '1278$$m': 0.0003718608943533061,\n",
       " '1276$$m': 0.00028258354860872636,\n",
       " '1271$$m': 0.0001956177936540543,\n",
       " '1269$$m': 0.00021350271930736794,\n",
       " '1265$$m': 0.0006746337205885106,\n",
       " '1259$$m': 0.0005280946641309639,\n",
       " '1257$$m': 0.00014491276359848587,\n",
       " '1256$$m': 0.00019277984669839075,\n",
       " '1254$$m': 0.00015557130936787278,\n",
       " '1253$$m': 0.00016969323322760406,\n",
       " '1252$$m': 0.00039261886660415206,\n",
       " '1250$$m': 0.000300268722937084,\n",
       " '1247$$m': 0.00038485993239480875,\n",
       " '1243$$m': 0.00011883595334264094,\n",
       " '1240$$m': 0.0006218228829247298,\n",
       " '1234$$m': 0.00029904511918812476,\n",
       " '1233$$m': 0.00034410878876117024,\n",
       " '1230$$m': 0.00041514632364057763,\n",
       " '1286$$m': 9.551648450855385e-05,\n",
       " '1225$$m': 0.00041965209840010004,\n",
       " '1292$$m': 0.00021323400262136108,\n",
       " '1411$$m': 0.0001355895195984856,\n",
       " '1409$$m': 0.00013227405513080957,\n",
       " '1408$$m': 0.0002911814371891267,\n",
       " '1394$$m': 0.00040493583908637334,\n",
       " '1387$$m': 0.0005017008664092075,\n",
       " '1380$$m': 0.0002449170309503171,\n",
       " '1377$$m': 0.0002877917513662852,\n",
       " '1376$$m': 0.00031766930983066196,\n",
       " '1375$$m': 0.00025700348047965493,\n",
       " '1374$$m': 0.0004155949177034687,\n",
       " '1372$$m': 0.0002859892279753894,\n",
       " '1371$$m': 0.00022349457853376362,\n",
       " '1357$$m': 0.00017931327173898806,\n",
       " '1356$$m': 0.000374513350316732,\n",
       " '1345$$m': 0.00017313068427678093,\n",
       " '1339$$m': 0.00022183073541856126,\n",
       " '1307$$m': 0.00045255085356550004,\n",
       " '1304$$m': 0.00045264057914256087,\n",
       " '1302$$m': 0.00022335201698944307,\n",
       " '1294$$m': 0.00031354902606894457,\n",
       " '1293$$m': 0.00022069034484864655,\n",
       " '1291$$m': 0.00045928249550792406,\n",
       " '1223$$m': 0.00016755496959987247,\n",
       " '1221$$m': 0.0005335078552146126,\n",
       " '1220$$m': 0.00037291693276814565,\n",
       " '1079$$m': 0.00039061842299998163,\n",
       " '1073$$m': 0.0003851990590417885,\n",
       " '1059$$m': 0.00015405797326368786,\n",
       " '1042$$m': 0.0001659647842012993,\n",
       " '104$$m': 0.0001989762519444286,\n",
       " '1032$$m': 0.0001667030039418143,\n",
       " '1031$$m': 0.00010111317062072377,\n",
       " '1030$$m': 0.00010349621081397306,\n",
       " '1025$$m': 9.873424000039207e-05,\n",
       " '1023$$m': 8.171620131990907e-05,\n",
       " '1020$$m': 0.00012156864471149811,\n",
       " '1019$$m': 0.0001780872076616374,\n",
       " '1016$$m': 5.9958262965250484e-05,\n",
       " '1015$$m': 8.800414927518232e-05,\n",
       " '1012$$m': 0.00010149365597564776,\n",
       " '1009$$m': 9.240498216412018e-05,\n",
       " '2336$$m': 0.0002926644018502271,\n",
       " '1080$$m': 0.0002679949262984733,\n",
       " '1084$$m': 0.00021198784895332177,\n",
       " '1088$$m': 0.00021818726432373727,\n",
       " '1091$$m': 0.00011368636661268942,\n",
       " '1215$$m': 0.0002926456874169672,\n",
       " '1214$$m': 0.0006003322875372479,\n",
       " '1210$$m': 0.0009040771859815809,\n",
       " '1204$$m': 0.0002682845241163588,\n",
       " '1203$$m': 0.0002090836022853422,\n",
       " '1201$$m': 0.000266619454801836,\n",
       " '1200$$m': 0.0005327720901297417,\n",
       " '1198$$m': 0.0007837085013254296,\n",
       " '1196$$m': 0.000895844170402797,\n",
       " '1441$$m': 0.00014637756824522382,\n",
       " '116$$m': 3.65391343008411e-05,\n",
       " '1136$$m': 0.0004811944707788438,\n",
       " '1135$$m': 0.00011468464525959096,\n",
       " '1129$$m': 0.0002715266219323677,\n",
       " '1127$$m': 0.0005270481501637872,\n",
       " '1125$$m': 0.00013842078568791733,\n",
       " '1124$$m': 0.0001224963349644698,\n",
       " '1104$$m': 0.00016026061097644182,\n",
       " '1101$$m': 0.00027325552924089755,\n",
       " '110$$m': 0.0007840354988418672,\n",
       " '1148$$m': 0.00028576530566096784,\n",
       " '1320$$m': 0.00026593947747542896,\n",
       " '1517$$m': 0.00034118004216220966,\n",
       " '2096$$m': 0.00016771164892765802,\n",
       " '2094$$m': 0.00021382580408797403,\n",
       " '2093$$m': 0.00010376911504885784,\n",
       " '2091$$m': 6.563900844108588e-05,\n",
       " '2090$$m': 8.957623040245879e-05,\n",
       " '2087$$m': 0.00018353891564822208,\n",
       " '1513$$m': 0.00022569597081182659,\n",
       " '2081$$m': 0.00030561499098979517,\n",
       " '2080$$m': 0.00025923104720987177,\n",
       " '208$$m': 0.00018921442122060006,\n",
       " '2078$$m': 0.000202748587565075,\n",
       " '2077$$m': 6.403969103407123e-05,\n",
       " '2072$$m': 9.828066898628537e-05,\n",
       " '2067$$m': 0.000189892789923923,\n",
       " '2054$$m': 0.0002973849252653908,\n",
       " '2049$$m': 3.354828573367001e-05,\n",
       " '2047$$m': 3.196975118553958e-05,\n",
       " '2046$$m': 0.00018282847905810265,\n",
       " '2045$$m': 3.9709393247626705e-05,\n",
       " '2043$$m': 6.479362419028708e-05,\n",
       " '2041$$m': 6.35994893830703e-05,\n",
       " '2100$$m': 0.00032970415569395436,\n",
       " '2105$$m': 0.0002848356134008888,\n",
       " '2108$$m': 0.00023950536294815313,\n",
       " '2109$$m': 0.00016146935301993142,\n",
       " '2316$$m': 9.501947345797125e-05,\n",
       " '2312$$m': 0.00010228395092140341,\n",
       " '2302$$m': 0.00032927790862594504,\n",
       " '2300$$m': 0.00020907496254493922,\n",
       " '2291$$m': 0.00043370159968441523,\n",
       " '2252$$m': 6.635849900327237e-05,\n",
       " '223$$m': 0.0004131749445994341,\n",
       " '2193$$m': 0.00022845806277879623,\n",
       " '2040$$m': 5.269579481237163e-05,\n",
       " '2174$$m': 0.0004256429077603195,\n",
       " '2140$$m': 0.0002125795569715187,\n",
       " '2138$$m': 0.00011777747739864482,\n",
       " '2137$$m': 0.00015972751789692215,\n",
       " '2136$$m': 8.77403657515748e-05,\n",
       " '2135$$m': 8.740570448428916e-05,\n",
       " '2133$$m': 0.0001637295928356424,\n",
       " '2125$$m': 0.00013783731346193412,\n",
       " '2124$$m': 0.00020815886343297682,\n",
       " '2115$$m': 0.00032233913193471477,\n",
       " '2111$$m': 0.00010003434467016365,\n",
       " '2161$$m': 0.00021832164202686987,\n",
       " '2033$$m': 8.236827065364482e-05,\n",
       " '2082$$m': 0.00011484309850904378,\n",
       " '2021$$m': 0.00022523016461892004,\n",
       " '180$$m': 0.00014128340258675017,\n",
       " '1784$$m': 0.0004243980494602618,\n",
       " '1756$$m': 4.444969157861154e-05,\n",
       " '1704$$m': 0.00047029449276568953,\n",
       " '1690$$m': 0.00022880239764658616,\n",
       " '1682$$m': 0.00027962434431926496,\n",
       " '1676$$m': 0.0003347880513887544,\n",
       " '1654$$m': 5.1898494948402064e-05,\n",
       " '1653$$m': 0.0003142386739635298,\n",
       " '1639$$m': 0.00028321442305454534,\n",
       " '1633$$m': 9.973399022879447e-05,\n",
       " '1617$$m': 0.0007132472358209629,\n",
       " '1586$$m': 0.00019350535778704807,\n",
       " '203$$m': 7.497835091865308e-05,\n",
       " '1583$$m': 3.160214603856974e-05,\n",
       " '1580$$m': 0.000761497402466569,\n",
       " '1573$$m': 0.00042353572458772966,\n",
       " '1544$$m': 0.0003776267493809951,\n",
       " '153$$m': 0.00022458366142319214,\n",
       " '1831$$m': 0.00020817752094052461,\n",
       " '186$$m': 7.72930005599303e-05,\n",
       " '1584$$m': 0.00040666966132572494,\n",
       " '1918$$m': 0.00019543144573157405,\n",
       " '1884$$m': 0.00012030848024511219,\n",
       " '2015$$m': 0.00012241430522506538,\n",
       " '2012$$m': 0.00031311986493010735,\n",
       " '2009$$m': 0.0001317079191319867,\n",
       " '2006$$m': 0.0002870996271665062,\n",
       " '2005$$m': 0.0002130025086512292,\n",
       " '2003$$m': 0.00021340498415607705,\n",
       " '2002$$m': 0.00023923384193641953,\n",
       " '2001$$m': 0.00029082426565677486,\n",
       " '2000$$m': 0.00046553848321921685,\n",
       " '2011$$m': 0.00031812424092575193,\n",
       " '1967$$m': 0.0001791657649143922,\n",
       " '2$$m': 0.00022070534866286862,\n",
       " '1923$$m': 0.0003803938997632098,\n",
       " '1927$$m': 0.00010437922485272498,\n",
       " '1948$$m': 8.18410630916594e-05,\n",
       " '1947$$m': 0.0002341290676180805,\n",
       " '1959$$m': 0.00021441074738470174,\n",
       " '1954$$m': 0.0003154323452013059,\n",
       " '1921$$m': 0.00020891652039473405,\n",
       " '100$$u': 4.1203682651274543e-05,\n",
       " '3274$$m': 0.000124280927732694,\n",
       " '3257$$m': 0.00019555476799956888,\n",
       " '288$$m': 0.00021739412324000749,\n",
       " '3107$$m': 0.0002499383281944143,\n",
       " '2567$$m': 9.883280536937012e-05,\n",
       " '2535$$m': 5.960247015942795e-05,\n",
       " '3441$$m': 0.00015963543781458993,\n",
       " '2527$$m': 0.00019672224737039278,\n",
       " '265$$m': 0.0002536763213320005,\n",
       " '349$$m': 0.00030455601094491727,\n",
       " '2427$$m': 0.0002443127287439373,\n",
       " '800$$m': 0.00020441966134111236,\n",
       " '3536$$m': 0.00017923775633670535,\n",
       " '593$$m': 0.0007997180604245039,\n",
       " '3827$$m': 0.00017721708131505213,\n",
       " '380$$m': 0.00040475136321867786,\n",
       " '2409$$m': 0.0001391388857616092,\n",
       " '1213$$m': 0.0004961527891075093,\n",
       " '1373$$m': 0.00017466666783390515,\n",
       " '1208$$m': 0.0003472753438365268,\n",
       " '1049$$m': 0.0001452309468203029,\n",
       " '2406$$m': 0.0003871749266349243,\n",
       " '2367$$m': 0.00010043040860599326,\n",
       " '21$$m': 0.000379936310477042,\n",
       " '1722$$m': 0.0002553495453545726,\n",
       " '1597$$m': 0.00023388197126029373,\n",
       " '1562$$m': 0.0001813755215159714,\n",
       " '15$$m': 7.057706163526024e-05,\n",
       " '1499$$m': 0.0001674335338597326,\n",
       " '1000$$u': 4.0274208183537955e-05,\n",
       " '3256$$m': 0.0002975503761763748,\n",
       " '2987$$m': 0.0005445281322288887,\n",
       " '3068$$m': 0.00011967362341478025,\n",
       " '2990$$m': 0.00012299982975419848,\n",
       " '2973$$m': 0.00015276501943769485,\n",
       " '2947$$m': 0.0002636135112218626,\n",
       " '2916$$m': 0.000576075155637006,\n",
       " '2857$$m': 0.00015658742530693577,\n",
       " '2700$$m': 0.000395681381795239,\n",
       " '3267$$m': 0.00015355845286222361,\n",
       " '2949$$m': 0.0001974702761129608,\n",
       " '861$$m': 0.00010440756794118622,\n",
       " '3418$$m': 0.00042082135131485323,\n",
       " '3405$$m': 6.869229168798721e-05,\n",
       " '457$$m': 0.000571166618796565,\n",
       " '3793$$m': 0.0005050489591164558,\n",
       " '3578$$m': 0.0006321952140784376,\n",
       " '3527$$m': 0.0003741334842804208,\n",
       " '377$$m': 0.0004706938549473495,\n",
       " '1222$$m': 0.0003707348658735018,\n",
       " '1036$$m': 0.0004766594857210835,\n",
       " '2366$$m': 0.0002339461083356583,\n",
       " '1299$$m': 0.00023938164756184352,\n",
       " '2353$$m': 0.00028994443534192883,\n",
       " '2194$$m': 0.00031468982088277364,\n",
       " '2132$$m': 0.00010749701142424967,\n",
       " '2085$$m': 0.0001748223432504891,\n",
       " '163$$m': 0.00015966710699057092,\n",
       " '1610$$m': 0.00047715635179916815,\n",
       " '1001$$u': 0.0001581295476550202,\n",
       " '3145$$m': 9.141534294000017e-05,\n",
       " '3147$$m': 0.0004010103110171078,\n",
       " '3148$$m': 0.00022111191344998958,\n",
       " '3158$$m': 4.019049150502407e-05,\n",
       " '3159$$m': 0.00015841554030388583,\n",
       " '3128$$m': 4.965691766501569e-05,\n",
       " '3150$$m': 6.015658540326431e-05,\n",
       " '3125$$m': 8.077453237570013e-05,\n",
       " '3051$$m': 6.77258415559647e-05,\n",
       " '3083$$m': 0.00015295159257252818,\n",
       " '3081$$m': 0.0003671988781385205,\n",
       " '3079$$m': 7.149758245626182e-05,\n",
       " '3078$$m': 7.624418470517686e-05,\n",
       " '3055$$m': 6.386535519951725e-05,\n",
       " '3052$$m': 0.0003111245924059915,\n",
       " '3160$$m': 0.000376677008517202,\n",
       " '3008$$m': 5.6569140055068224e-05,\n",
       " '3115$$m': 5.067902095154685e-05,\n",
       " '3163$$m': 0.0001311962213750925,\n",
       " '3317$$m': 0.00018437040264029193,\n",
       " '3328$$m': 0.0001316364579435391,\n",
       " '3325$$m': 7.791471624885606e-05,\n",
       " '3006$$m': 0.00029917583511533593,\n",
       " '3316$$m': 0.00011178754383286166,\n",
       " '3299$$m': 8.817262386322186e-05,\n",
       " '3298$$m': 0.00020450346692272553,\n",
       " '3289$$m': 6.83029496991697e-05,\n",
       " '3285$$m': 0.00016069411158437162,\n",
       " '3273$$m': 0.00021058300002330094,\n",
       " '3173$$m': 0.0001693074339785725,\n",
       " '3260$$m': 0.00017770483840844853,\n",
       " '3192$$m': 4.769594171527363e-05,\n",
       " '3185$$m': 0.00014436388518453906,\n",
       " '3183$$m': 4.0073902454622276e-05,\n",
       " '3182$$m': 7.696533413030691e-05,\n",
       " '3181$$m': 9.995971779913228e-05,\n",
       " '3179$$m': 0.00010039260390567416,\n",
       " '3178$$m': 0.00017605031263792133,\n",
       " '3176$$m': 0.00042909983027885896,\n",
       " '3241$$m': 7.835170468232278e-05,\n",
       " '3000$$m': 0.00017256249644178025,\n",
       " '2843$$m': 5.550384069545612e-05,\n",
       " '2996$$m': 6.275126706384284e-05,\n",
       " '2771$$m': 8.722364675450758e-05,\n",
       " '2769$$m': 5.5295738919788494e-05,\n",
       " '2763$$m': 0.00033302787389467554,\n",
       " '2761$$m': 0.00021851055434075794,\n",
       " '2759$$m': 0.00015153493721351542,\n",
       " '2725$$m': 7.921326886769604e-05,\n",
       " '2724$$m': 0.0002138286266692771,\n",
       " '2774$$m': 4.985544933008247e-05,\n",
       " '2721$$m': 5.695103371154243e-05,\n",
       " '2718$$m': 0.00013749000286197228,\n",
       " '2712$$m': 0.00031853535824822996,\n",
       " '2711$$m': 4.254950006638034e-05,\n",
       " '2710$$m': 0.0003949850754078858,\n",
       " '2707$$m': 0.00023997124201900982,\n",
       " '2706$$m': 0.0004491774839084554,\n",
       " '3357$$m': 8.138578165666604e-05,\n",
       " '2720$$m': 0.000140424357207607,\n",
       " '2775$$m': 3.7698623369157526e-05,\n",
       " '2810$$m': 6.0537723287561124e-05,\n",
       " '2995$$m': 0.00012519083354025506,\n",
       " '299$$m': 6.522581499750054e-05,\n",
       " '2976$$m': 0.00018855099642321326,\n",
       " '2975$$m': 5.7881396655292146e-05,\n",
       " '2966$$m': 0.0001799926808477568,\n",
       " '2960$$m': 5.970877451908095e-05,\n",
       " '2912$$m': 0.00015202294705307575,\n",
       " '2908$$m': 0.0002987378321185464,\n",
       " '2801$$m': 5.838476413569491e-05,\n",
       " '2894$$m': 3.683054971696826e-05,\n",
       " '2690$$m': 0.00013666929176472405,\n",
       " '2890$$m': 0.0003203484560966236,\n",
       " '2885$$m': 4.763599673564767e-05,\n",
       " '2883$$m': 0.00010052220662194878,\n",
       " '2882$$m': 7.421159064964962e-05,\n",
       " '2864$$m': 4.402956868918699e-05,\n",
       " '2837$$m': 4.428756129156041e-05,\n",
       " '2829$$m': 6.360891993219859e-05,\n",
       " '2891$$m': 7.713342085049919e-05,\n",
       " '3893$$m': 0.00020847813404921783,\n",
       " '3452$$m': 0.00012259392310398775,\n",
       " '3916$$m': 0.00017883253412408632,\n",
       " '3915$$m': 6.958590125499784e-05,\n",
       " '3914$$m': 5.50231382641088e-05,\n",
       " '3911$$m': 0.00020689203328849072,\n",
       " '3910$$m': 0.0002828530335678614,\n",
       " '3909$$m': 4.1745684954577866e-05,\n",
       " '3903$$m': 3.3589048360326655e-05,\n",
       " '3902$$m': 5.348306727447021e-05,\n",
       " '3897$$m': 0.00031886083608260627,\n",
       " '388$$m': 6.449034513245446e-05,\n",
       " '3867$$m': 5.2860648771588805e-05,\n",
       " '3863$$m': 0.0002486357632270163,\n",
       " '3861$$m': 9.708241215005786e-05,\n",
       " '3855$$m': 5.618732278212747e-05,\n",
       " '3854$$m': 3.564222236847091e-05,\n",
       " '3852$$m': 8.673480736127058e-05,\n",
       " '3831$$m': 0.0001234409370872184,\n",
       " '3825$$m': 8.056658484214664e-05,\n",
       " '3824$$m': 5.7836484691856813e-05,\n",
       " '3920$$m': 5.598507205515693e-05,\n",
       " '3949$$m': 0.00012094367129596747,\n",
       " '3950$$m': 5.110984277836804e-05,\n",
       " '896$$m': 7.125676815871931e-05,\n",
       " '875$$m': 4.739133885890612e-05,\n",
       " '733$$m': 0.0003861376386600151,\n",
       " '73$$m': 0.00010029477241750757,\n",
       " '647$$m': 0.00013822783435769084,\n",
       " '3823$$m': 5.8539591517067224e-05,\n",
       " '59$$m': 4.831710124310546e-05,\n",
       " '508$$m': 0.00016510423619169347,\n",
       " '446$$m': 0.00010755859334788981,\n",
       " '417$$m': 8.824567208790171e-05,\n",
       " '3952$$m': 0.00016686606731671549,\n",
       " '3951$$m': 3.1172251829529566e-05,\n",
       " '3822$$m': 7.34310463109858e-05,\n",
       " '3821$$m': 9.611739061588931e-05,\n",
       " '3796$$m': 3.709897137499111e-05,\n",
       " '3598$$m': 8.910724473374327e-05,\n",
       " '3594$$m': 8.051258428403162e-05,\n",
       " '3571$$m': 6.282671535869784e-05,\n",
       " '3566$$m': 0.00012229578048144612,\n",
       " '3565$$m': 0.00011546879329540965,\n",
       " '3556$$m': 0.00011331090360839072,\n",
       " '3555$$m': 0.00030745881802420234,\n",
       " '3615$$m': 0.00013723375232601784,\n",
       " '3554$$m': 5.9215574945651026e-05,\n",
       " '3535$$m': 0.00022497361246727796,\n",
       " '3515$$m': 9.625772232661413e-05,\n",
       " '3514$$m': 3.912064328897778e-05,\n",
       " '3512$$m': 0.00016744489895008095,\n",
       " '3510$$m': 0.00026632104188540755,\n",
       " '3509$$m': 6.304283182849852e-05,\n",
       " '3453$$m': 5.915924135725633e-05,\n",
       " '3538$$m': 0.00010132958065394193,\n",
       " '3409$$m': 0.00017739399679385224,\n",
       " '3616$$m': 6.457979088847126e-05,\n",
       " '3623$$m': 0.0004332027374485641,\n",
       " '3795$$m': 4.331925984517409e-05,\n",
       " '3794$$m': 7.294747774265826e-05,\n",
       " '3787$$m': 5.043891894665664e-05,\n",
       " '3786$$m': 8.60767382939271e-05,\n",
       " '3785$$m': 0.0002437381822957994,\n",
       " '3756$$m': 3.5021853884700423e-05,\n",
       " '3755$$m': 0.00033344362611028883,\n",
       " '3618$$m': 0.0001279975657095886,\n",
       " '3753$$m': 0.000421023540966174,\n",
       " '3745$$m': 0.00018904851627193315,\n",
       " '3744$$m': 0.00016094831667175347,\n",
       " '3743$$m': 5.005647171632328e-05,\n",
       " '3720$$m': 0.000155068352486572,\n",
       " '3717$$m': 0.00019170590381518816,\n",
       " '3677$$m': 4.0535120378374306e-05,\n",
       " '3626$$m': 9.194126553186854e-05,\n",
       " '2686$$m': 0.00022657242066623733,\n",
       " '3798$$m': 0.00017237053320712725,\n",
       " '2682$$m': 6.373794674854103e-05,\n",
       " '1683$$m': 8.387825037799591e-05,\n",
       " '1680$$m': 0.00014825348208907343,\n",
       " '1673$$m': 0.00034771222314109465,\n",
       " '1669$$m': 7.306316953851155e-05,\n",
       " '1641$$m': 0.00034897886216403364,\n",
       " '1635$$m': 0.0001618956375191404,\n",
       " '1619$$m': 0.00014588758978116906,\n",
       " '1614$$m': 0.00012214936977352972,\n",
       " '1611$$m': 8.290738014382814e-05,\n",
       " '1608$$m': 0.00032373988356060204,\n",
       " '1594$$m': 0.00011503560259731604,\n",
       " '1593$$m': 6.683366497762955e-05,\n",
       " '1588$$m': 0.00010073337651650646,\n",
       " '1688$$m': 0.00013895194981520888,\n",
       " '1694$$m': 0.00015334530546135447,\n",
       " '1696$$m': 4.883453910229866e-05,\n",
       " '1844$$m': 4.483064105534766e-05,\n",
       " '1835$$m': 0.00013303187567007677,\n",
       " '1821$$m': 7.510535051435469e-05,\n",
       " '1810$$m': 0.00011444312887100497,\n",
       " '1805$$m': 0.0001895745261008613,\n",
       " '1798$$m': 3.1610397589655816e-05,\n",
       " '1794$$m': 7.027982488032573e-05,\n",
       " '1758$$m': 3.479157028258096e-05,\n",
       " '1747$$m': 0.00025572885574037937,\n",
       " '1735$$m': 9.250707283515471e-05,\n",
       " '1734$$m': 0.00014067645349911893,\n",
       " '1729$$m': 0.00022347574227575285,\n",
       " '1719$$m': 0.00013750059139866036,\n",
       " '1717$$m': 0.00015513127862732372,\n",
       " '1711$$m': 0.00018681278308376533,\n",
       " '1748$$m': 0.0002716668296306275,\n",
       " '2683$$m': 0.0004633396082435396,\n",
       " '1407$$m': 0.0002660870560297073,\n",
       " '140$$m': 5.6169214529061125e-05,\n",
       " '1396$$m': 0.00030875634683737396,\n",
       " '1393$$m': 0.0003888446137748033,\n",
       " '137$$m': 2.5034125554149862e-05,\n",
       " '1367$$m': 0.00013744596391803774,\n",
       " '1358$$m': 0.0003555334240876754,\n",
       " '1354$$m': 0.00012847822099178947,\n",
       " '1416$$m': 9.865046499284895e-05,\n",
       " '1312$$m': 5.3348372290049474e-05,\n",
       " '1184$$m': 7.593589867455956e-05,\n",
       " '1183$$m': 0.00030304740887174785,\n",
       " '112$$m': 0.00017014324736347463,\n",
       " '1094$$m': 0.0003916799592922991,\n",
       " '1063$$m': 3.311178855178359e-05,\n",
       " '1859$$m': 5.513164735060073e-05,\n",
       " '1422$$m': 0.00010656536690812959,\n",
       " '1471$$m': 3.319565215410794e-05,\n",
       " '158$$m': 9.678230744106582e-05,\n",
       " '1569$$m': 0.0002470640187174877,\n",
       " '1554$$m': 0.00010017920967561838,\n",
       " '1552$$m': 0.0002638456710880745,\n",
       " '1542$$m': 9.449602082765271e-05,\n",
       " '1541$$m': 8.905771839364138e-05,\n",
       " '1446$$m': 0.00016317117137944589,\n",
       " '1537$$m': 0.00013478450122944195,\n",
       " '1519$$m': 5.4141228436240304e-05,\n",
       " '1502$$m': 5.245747359074115e-05,\n",
       " '1500$$m': 0.0003283371059952481,\n",
       " '1496$$m': 3.657387431762791e-05,\n",
       " '1483$$m': 6.46209241024809e-05,\n",
       " '1480$$m': 9.96688493223948e-05,\n",
       " '1479$$m': 0.00016783572120759535,\n",
       " '1475$$m': 6.552967282256898e-05,\n",
       " '1535$$m': 4.812452091358838e-05,\n",
       " '1873$$m': 9.486717090073699e-05,\n",
       " '1612$$m': 4.191565126177485e-05,\n",
       " '1879$$m': 2.854593933993043e-05,\n",
       " '2561$$m': 5.880121280437863e-05,\n",
       " '2558$$m': 8.731489117991267e-05,\n",
       " '2545$$m': 2.8005474227311897e-05,\n",
       " '2544$$m': 6.12011229079421e-05,\n",
       " '2542$$m': 0.00020524074518282436,\n",
       " '2541$$m': 0.00019081517666597728,\n",
       " '2540$$m': 6.931543915105254e-05,\n",
       " '2539$$m': 0.0001823777837088981,\n",
       " '2504$$m': 6.80041676705847e-05,\n",
       " '2502$$m': 0.00026919095466643785,\n",
       " '2481$$m': 0.00010523072715470123,\n",
       " '2446$$m': 3.905010066840595e-05,\n",
       " '2442$$m': 7.713035868257912e-05,\n",
       " '2437$$m': 6.647813064839307e-05,\n",
       " '2433$$m': 0.00020506538775221496,\n",
       " '2425$$m': 5.578470600457672e-05,\n",
       " '2493$$m': 4.1685871144889635e-05,\n",
       " '2580$$m': 0.00021900922423826583,\n",
       " '2671$$m': 0.0002498100047588764,\n",
       " '2629$$m': 7.407900949615918e-05,\n",
       " '2626$$m': 5.115033661941647e-05,\n",
       " '2624$$m': 7.888710507939232e-05,\n",
       " '1876$$m': 0.0002607854767590333,\n",
       " '2621$$m': 5.821196107420983e-05,\n",
       " '2573$$m': 4.940814975664651e-05,\n",
       " '2611$$m': 6.804281335273858e-05,\n",
       " '2609$$m': 4.6314448235026926e-05,\n",
       " '2607$$m': 4.266253149601444e-05,\n",
       " '2605$$m': 0.0002579209104966935,\n",
       " '2600$$m': 0.000186853286449678,\n",
       " '2598$$m': 0.0001974426201779957,\n",
       " '2586$$m': 4.352300977634705e-05,\n",
       " '2585$$m': 5.425866846113844e-05,\n",
       " '2583$$m': 0.00010039724960328355,\n",
       " '2610$$m': 5.8595809853575e-05,\n",
       " '2395$$m': 0.0003657087489942213,\n",
       " '2391$$m': 0.00021489069083139016,\n",
       " '2166$$m': 7.100295272646536e-05,\n",
       " '2165$$m': 4.850575370454377e-05,\n",
       " '2126$$m': 0.00016729066631970276,\n",
       " '2062$$m': 4.725231313800578e-05,\n",
       " '2058$$m': 0.0002321137363160194,\n",
       " '2029$$m': 5.044376736762077e-05,\n",
       " '2168$$m': 4.6214044885525244e-05,\n",
       " '1917$$m': 0.0003290884410625115,\n",
       " '1916$$m': 0.00013378632531403615,\n",
       " '1909$$m': 0.0002982858011463775,\n",
       " '1894$$m': 0.0001499641817864578,\n",
       " '1892$$m': 0.00012232204543440031,\n",
       " '1885$$m': 0.00018420158602595811,\n",
       " '1881$$m': 4.7486054264481816e-05,\n",
       " '2392$$m': 9.559824559558203e-05,\n",
       " '2169$$m': 5.493145434649858e-05,\n",
       " '1912$$m': 0.00026673024823934956,\n",
       " '2188$$m': 0.00011151022653916562,\n",
       " '2390$$m': 0.0001136595794599104,\n",
       " '2171$$m': 7.469312114166628e-05,\n",
       " '2385$$m': 6.219461516428889e-05,\n",
       " '2359$$m': 0.00022219146252638712,\n",
       " '2357$$m': 0.00010625482586771137,\n",
       " '2333$$m': 0.00019719441423458436,\n",
       " '2331$$m': 7.045145705257712e-05,\n",
       " '2325$$m': 7.47198807366498e-05,\n",
       " '232$$m': 0.00013058324523352975,\n",
       " '2318$$m': 0.00011325911021421766,\n",
       " '2236$$m': 7.522036326934686e-05,\n",
       " '2314$$m': 5.965453979455892e-05,\n",
       " '2310$$m': 7.923969200126128e-05,\n",
       " '2297$$m': 0.00011058080885394884,\n",
       " '2272$$m': 6.63417809173895e-05,\n",
       " '2268$$m': 0.00029363084068523884,\n",
       " '1002$$u': 3.927514397993803e-05,\n",
       " '300$$m': 0.0001980534579786006,\n",
       " '296$$m': 0.000668956302373689,\n",
       " '2702$$m': 0.00013463896786478446,\n",
       " '994$$m': 0.0001385518691847377,\n",
       " '58$$m': 0.00020700003811193374,\n",
       " '529$$m': 0.00022083460149285912,\n",
       " '3188$$m': 3.7260405285374745e-05,\n",
       " '36$$m': 0.0002860475820676654,\n",
       " '3543$$m': 0.00026438565009922213,\n",
       " '3424$$m': 0.0002311600332181202,\n",
       " '3422$$m': 7.579689942893025e-05,\n",
       " '25$$m': 0.000294072370137512,\n",
       " '1041$$m': 0.00016180865513121403,\n",
       " '1093$$m': 0.00022299503099190363,\n",
       " '1120$$m': 0.00016296894148613993,\n",
       " '1189$$m': 0.00010494819796773034,\n",
       " '1231$$m': 0.00022940411629263926,\n",
       " '1238$$m': 0.00011804121700975084,\n",
       " '1476$$m': 0.00014552644736338396,\n",
       " '2352$$m': 0.00023612137670576554,\n",
       " '235$$m': 0.0002727182333647211,\n",
       " '2289$$m': 0.00029796622674544917,\n",
       " '2064$$m': 0.00023787246514127638,\n",
       " '1727$$m': 7.763156231496444e-05,\n",
       " '1693$$m': 0.00011614553247722925,\n",
       " '1003$$u': 3.391589592747468e-05,\n",
       " '281$$m': 9.305174064984807e-05,\n",
       " '29$$m': 0.0002632685365297968,\n",
       " '337$$m': 0.0002070111582197951,\n",
       " '3421$$m': 0.00036623799660390595,\n",
       " '246$$m': 0.00023926272936052961,\n",
       " '1952$$m': 0.00021975183440048676,\n",
       " '1968$$m': 0.00045784230657091413,\n",
       " '1004$$u': 0.00015182032362070057,\n",
       " '3040$$m': 0.00011099736252598233,\n",
       " '3070$$m': 0.00018683012869034665,\n",
       " '3082$$m': 0.00026898622811457245,\n",
       " '3120$$m': 5.049081092041388e-05,\n",
       " '2991$$m': 0.0001314675345923161,\n",
       " '303$$m': 0.00013447461285562696,\n",
       " '3020$$m': 0.00015763228107318122,\n",
       " '3$$m': 0.00015893081891095256,\n",
       " '2993$$m': 0.00012591792218953775,\n",
       " '2986$$m': 0.00014363389821395257,\n",
       " '2961$$m': 0.00010413909464938494,\n",
       " '2953$$m': 0.00011121547090837921,\n",
       " '3033$$m': 0.000260198525707155,\n",
       " '3248$$m': 6.924734322351865e-05,\n",
       " '3208$$m': 9.025373937577837e-05,\n",
       " '342$$m': 0.00016974826201644926,\n",
       " '34$$m': 0.0005291603205905113,\n",
       " '3398$$m': 0.00011221338015608236,\n",
       " '3397$$m': 0.00011633387208319292,\n",
       " '3396$$m': 0.0002159809656784049,\n",
       " '3301$$m': 0.00023174694383428917,\n",
       " '3300$$m': 0.0001820643069649193,\n",
       " '327$$m': 0.00011865791571556235,\n",
       " '3263$$m': 0.00019268934943831266,\n",
       " '3253$$m': 0.0003043070534645231,\n",
       " '3243$$m': 9.112404415005422e-05,\n",
       " '3213$$m': 8.263096042726484e-05,\n",
       " '3210$$m': 0.0002630469661380291,\n",
       " '3268$$m': 6.290146925547597e-05,\n",
       " '267$$m': 6.642884012681929e-05,\n",
       " '2643$$m': 0.00011414175666437295,\n",
       " '2642$$m': 0.0001635711801518209,\n",
       " '2641$$m': 0.00024893775824440457,\n",
       " '2625$$m': 5.8072632000986784e-05,\n",
       " '2615$$m': 7.123652066923573e-05,\n",
       " '2694$$m': 0.00025731378210374674,\n",
       " '2568$$m': 7.432824653725607e-05,\n",
       " '256$$m': 7.717875395899096e-05,\n",
       " '2528$$m': 0.00018474140552853286,\n",
       " '252$$m': 0.00011138975884992242,\n",
       " '2490$$m': 0.0002357338112246703,\n",
       " '2478$$m': 0.0001649182988517829,\n",
       " '2582$$m': 5.9693737321686364e-05,\n",
       " '2699$$m': 0.00041995693018138453,\n",
       " '2881$$m': 0.00025939853456579185,\n",
       " '2879$$m': 6.710251301933225e-05,\n",
       " '2861$$m': 0.00012287348327042838,\n",
       " '2816$$m': 6.314820069189206e-05,\n",
       " '2815$$m': 0.00010065676571345897,\n",
       " '2802$$m': 0.0001109833302915318,\n",
       " '2792$$m': 0.0001748394270716284,\n",
       " '2788$$m': 0.00015133959288092557,\n",
       " '2748$$m': 6.0358111651454575e-05,\n",
       " '2735$$m': 0.00014932994673330362,\n",
       " '2723$$m': 0.00026058262930321407,\n",
       " '2709$$m': 8.77027867257847e-05,\n",
       " '3450$$m': 0.0002583219150317857,\n",
       " '585$$m': 0.000123967642143163,\n",
       " '564$$m': 3.2237417064420356e-05,\n",
       " '562$$m': 0.00015414055720947492,\n",
       " '552$$m': 0.000162262273475689,\n",
       " '533$$m': 7.673722374887791e-05,\n",
       " '517$$m': 0.00012405747547686628,\n",
       " '514$$m': 0.00011084566825954645,\n",
       " '502$$m': 5.8722090454701446e-05,\n",
       " '500$$m': 0.00024218329328960084,\n",
       " '5$$m': 9.97463226771672e-05,\n",
       " '494$$m': 0.00012414990579383004,\n",
       " '485$$m': 0.0001518664104720707,\n",
       " '474$$m': 0.00028045004961563724,\n",
       " '467$$m': 4.4245064277636965e-05,\n",
       " '466$$m': 0.00017128984737308298,\n",
       " '518$$m': 7.458069268329592e-05,\n",
       " '459$$m': 6.237625980766319e-05,\n",
       " '2476$$m': 0.00010524721280590754,\n",
       " '852$$m': 0.00018144049095962706,\n",
       " '840$$m': 3.4352634738729634e-05,\n",
       " '837$$m': 8.558220464331658e-05,\n",
       " '829$$m': 6.166266239692402e-05,\n",
       " '788$$m': 0.00027385559805988654,\n",
       " '786$$m': 0.00014307797511783194,\n",
       " '736$$m': 0.00033276945600831077,\n",
       " '70$$m': 0.00028036553973846446,\n",
       " '694$$m': 6.058815440361449e-05,\n",
       " '64$$m': 4.416705735875422e-05,\n",
       " '616$$m': 9.739173298400906e-05,\n",
       " '610$$m': 0.00020976835737776124,\n",
       " '762$$m': 9.395165052712142e-05,\n",
       " '450$$m': 7.835941161891437e-05,\n",
       " '442$$m': 0.00018274684031212228,\n",
       " '3697$$m': 0.00018656837970382895,\n",
       " '3693$$m': 7.145682791729955e-05,\n",
       " '3639$$m': 0.00014770213288259123,\n",
       " '3638$$m': 0.00019786808649556665,\n",
       " '3635$$m': 0.00014919864543874535,\n",
       " '3633$$m': 0.00012233555462035588,\n",
       " '362$$m': 8.581615096865273e-05,\n",
       " '3611$$m': 4.040255038527212e-05,\n",
       " '3698$$m': 0.00022309015516426388,\n",
       " '3552$$m': 0.00026829477088890537,\n",
       " '355$$m': 9.669568271189675e-05,\n",
       " '353$$m': 0.00023340399469622144,\n",
       " '3526$$m': 0.0002228193052399998,\n",
       " '3524$$m': 0.0001574358327003384,\n",
       " '3511$$m': 4.5719779016520935e-05,\n",
       " '440$$m': 0.00027118186153998075,\n",
       " '44$$m': 0.00010545446688803162,\n",
       " '420$$m': 0.00011844866088660925,\n",
       " '42$$m': 8.760805110932592e-05,\n",
       " '413$$m': 8.588186003598918e-05,\n",
       " '3841$$m': 0.00011760091175975003,\n",
       " '3807$$m': 5.912957317096634e-05,\n",
       " '3804$$m': 4.074007560189027e-05,\n",
       " '3802$$m': 0.00010433400325666618,\n",
       " '3771$$m': 6.846002960504704e-05,\n",
       " '3770$$m': 0.0001320542113638463,\n",
       " '3763$$m': 0.00020397610076537117,\n",
       " '3760$$m': 0.00012260182576233925,\n",
       " '3740$$m': 0.00017312180752770653,\n",
       " '372$$m': 0.00013032469211090198,\n",
       " '3712$$m': 0.00011381182492367979,\n",
       " '3705$$m': 0.00012589828378579336,\n",
       " '3444$$m': 7.246676626620104e-05,\n",
       " '2473$$m': 6.065256482785392e-05,\n",
       " '1385$$m': 0.00014209718545108788,\n",
       " '1379$$m': 0.00011704130925831281,\n",
       " '1378$$m': 0.00015734931111377243,\n",
       " '1370$$m': 0.00032925221040050424,\n",
       " '135$$m': 5.105359379865476e-05,\n",
       " '1297$$m': 0.0001353578429984248,\n",
       " '1288$$m': 0.00032715389174011594,\n",
       " '1285$$m': 0.00022653157737860554,\n",
       " '1275$$m': 0.00022529561813321657,\n",
       " '1274$$m': 0.0002058459974560835,\n",
       " '1391$$m': 0.00030062128792616207,\n",
       " '1405$$m': 0.00014499370775960778,\n",
       " '1663$$m': 0.00020783718546253335,\n",
       " '165$$m': 0.00023985179737560987,\n",
       " '1616$$m': 0.00012958176322714905,\n",
       " '1606$$m': 6.63389730160771e-05,\n",
       " '1587$$m': 0.00017864397677472862,\n",
       " '1527$$m': 0.0003980999224095268,\n",
       " '1525$$m': 6.468828145468631e-05,\n",
       " '1485$$m': 0.00019175132389578981,\n",
       " '1460$$m': 4.9038249751647444e-05,\n",
       " '1429$$m': 0.0001121251899027215,\n",
       " '1425$$m': 7.235040970930363e-05,\n",
       " '141$$m': 0.000191388563271676,\n",
       " '1266$$m': 0.0002818875459156779,\n",
       " '1066$$m': 7.57842023238556e-05,\n",
       " '1064$$m': 8.605676700462673e-05,\n",
       " '1047$$m': 0.00013830730239503317,\n",
       " '1037$$m': 0.00018487685570133525,\n",
       " '1033$$m': 9.894695181359731e-05,\n",
       " '1024$$m': 5.92541425905434e-05,\n",
       " '1021$$m': 8.353555399801392e-05,\n",
       " '1018$$m': 5.381640603234602e-05,\n",
       " '1010$$m': 8.596561770557142e-05,\n",
       " '1007$$m': 8.122709648476136e-05,\n",
       " '10$$m': 0.00025732270738359776,\n",
       " '2471$$m': 0.00012970988677562641,\n",
       " '1083$$m': 6.605121380247142e-05,\n",
       " '1262$$m': 0.00023178839558460636,\n",
       " '126$$m': 6.357501582386479e-05,\n",
       " '1226$$m': 8.656545133828594e-05,\n",
       " '1205$$m': 6.654147602870723e-05,\n",
       " '1171$$m': 0.00013154991800885365,\n",
       " '1167$$m': 4.497538464967806e-05,\n",
       " '111$$m': 0.00039239521505565197,\n",
       " '1100$$m': 0.0001223033088650951,\n",
       " '11$$m': 0.00030282520100186744,\n",
       " '1687$$m': 0.00012481623609361328,\n",
       " '1701$$m': 9.063981036139582e-05,\n",
       " '2262$$m': 0.00010949070953860898,\n",
       " '2261$$m': 6.30761059790704e-05,\n",
       " '2253$$m': 0.0001307941733301089,\n",
       " '2248$$m': 0.00026826345546916843,\n",
       " '170$$m': 0.00011731816663765374,\n",
       " '2167$$m': 0.00026349796505468977,\n",
       " '2163$$m': 8.185695525433386e-05,\n",
       " '2162$$m': 7.836057314624265e-05,\n",
       " '216$$m': 0.00011943428782794528,\n",
       " ...}"
      ]
     },
     "execution_count": 7,
     "metadata": {},
     "output_type": "execute_result"
    }
   ],
   "source": [
    "nx.pagerank(Train_Graph,alpha=.85,max_iter=5,tol=1e-5)"
   ]
  },
  {
   "cell_type": "code",
   "execution_count": null,
   "id": "9821f796",
   "metadata": {},
   "outputs": [],
   "source": []
  },
  {
   "cell_type": "code",
   "execution_count": null,
   "id": "9bc5b971",
   "metadata": {},
   "outputs": [],
   "source": []
  },
  {
   "cell_type": "code",
   "execution_count": 121,
   "id": "f9a62c0a",
   "metadata": {},
   "outputs": [],
   "source": [
    "metric_df = pd.DataFrame(columns=[\"userId\",\"metric\",\"intersection_length\",\"recommendations_length\"])"
   ]
  },
  {
   "cell_type": "code",
   "execution_count": 73,
   "id": "c16f49c5",
   "metadata": {},
   "outputs": [],
   "source": [
    "import multiprocessing\n",
    "\n",
    "\n",
    "\n",
    "if __name__ == '__main__':\n",
    "    pool = multiprocessing.Pool()\n",
    "    \n",
    "    outputs = pool.map(calculate_pagerank, inputs)\n",
    "    print(outputs)"
   ]
  },
  {
   "cell_type": "code",
   "execution_count": 74,
   "id": "624e256d",
   "metadata": {},
   "outputs": [],
   "source": [
    "#Think Tomorrow\n",
    "\n",
    "def parallel_pagerank(G, num_processes=4):\n",
    "    def calculate_pagerank(G, user):\n",
    "        return nx.pagerank(G, personalization={user:1},alpha=.85,max_iter=5,tol=1e-5)\n",
    "    \n",
    "    with Pool(num_processes) as pool:\n",
    "        # Run PageRank on each chunk of nodes in parallel\n",
    "        results = pool.map(calculate_pagerank, nodes_chunks)\n",
    "    pr = []\n",
    "    for result in results:\n",
    "        pr.append(result)"
   ]
  },
  {
   "cell_type": "code",
   "execution_count": 76,
   "id": "e5c89e5f",
   "metadata": {},
   "outputs": [],
   "source": [
    "pool = Pool(processes=num_processes)"
   ]
  },
  {
   "cell_type": "code",
   "execution_count": null,
   "id": "12a97ab7",
   "metadata": {},
   "outputs": [],
   "source": []
  },
  {
   "cell_type": "code",
   "execution_count": null,
   "id": "c6e8e268",
   "metadata": {},
   "outputs": [
    {
     "name": "stdout",
     "output_type": "stream",
     "text": [
      "(1, 4)\n",
      "(2, 4)\n",
      "(3, 4)\n",
      "(4, 4)\n",
      "(5, 4)\n",
      "(6, 4)\n",
      "(7, 4)\n",
      "(8, 4)\n",
      "(9, 4)\n",
      "(10, 4)\n",
      "(11, 4)\n",
      "(12, 4)\n",
      "(13, 4)\n",
      "(14, 4)\n",
      "(15, 4)\n",
      "(16, 4)\n",
      "(17, 4)\n",
      "(18, 4)\n",
      "(19, 4)\n",
      "(20, 4)\n",
      "(21, 4)\n",
      "(22, 4)\n",
      "(23, 4)\n",
      "(24, 4)\n",
      "(25, 4)\n",
      "(26, 4)\n",
      "(27, 4)\n",
      "(28, 4)\n",
      "(29, 4)\n",
      "(30, 4)\n",
      "(31, 4)\n",
      "(32, 4)\n",
      "(33, 4)\n",
      "(34, 4)\n",
      "(35, 4)\n",
      "(36, 4)\n",
      "(37, 4)\n",
      "(38, 4)\n",
      "(39, 4)\n",
      "(40, 4)\n",
      "(41, 4)\n",
      "(42, 4)\n",
      "(43, 4)\n",
      "(44, 4)\n",
      "(45, 4)\n",
      "(46, 4)\n",
      "(47, 4)\n",
      "(48, 4)\n",
      "(49, 4)\n",
      "(50, 4)\n",
      "(51, 4)\n",
      "(52, 4)\n",
      "(53, 4)\n",
      "(54, 4)\n",
      "(55, 4)\n",
      "(56, 4)\n",
      "(57, 4)\n",
      "(58, 4)\n",
      "(59, 4)\n",
      "(60, 4)\n",
      "(61, 4)\n",
      "(62, 4)\n",
      "(63, 4)\n",
      "(64, 4)\n",
      "(65, 4)\n",
      "(66, 4)\n",
      "(67, 4)\n",
      "(68, 4)\n",
      "(69, 4)\n",
      "(70, 4)\n",
      "(71, 4)\n",
      "(72, 4)\n",
      "(73, 4)\n",
      "(74, 4)\n",
      "(75, 4)\n",
      "(76, 4)\n",
      "(77, 4)\n",
      "(78, 4)\n",
      "(79, 4)\n",
      "(80, 4)\n",
      "(81, 4)\n",
      "(82, 4)\n",
      "(83, 4)\n",
      "(84, 4)\n",
      "(85, 4)\n",
      "(86, 4)\n",
      "(87, 4)\n",
      "(88, 4)\n",
      "(89, 4)\n",
      "(90, 4)\n",
      "(91, 4)\n",
      "(92, 4)\n",
      "(93, 4)\n",
      "(94, 4)\n",
      "(95, 4)\n",
      "(96, 4)\n",
      "(97, 4)\n",
      "(98, 4)\n",
      "(99, 4)\n",
      "(100, 4)\n",
      "(101, 4)\n",
      "(102, 4)\n",
      "(103, 4)\n",
      "(104, 4)\n",
      "(105, 4)\n",
      "(106, 4)\n",
      "(107, 4)\n",
      "(108, 4)\n",
      "(109, 4)\n",
      "(110, 4)\n",
      "(111, 4)\n",
      "(112, 4)\n",
      "(113, 4)\n",
      "(114, 4)\n",
      "(115, 4)\n",
      "(116, 4)\n",
      "(117, 4)\n",
      "(118, 4)\n",
      "(119, 4)\n",
      "(120, 4)\n",
      "(121, 4)\n",
      "(122, 4)\n",
      "(123, 4)\n",
      "(124, 4)\n",
      "(125, 4)\n",
      "(126, 4)\n",
      "(127, 4)\n",
      "(128, 4)\n",
      "(129, 4)\n",
      "(130, 4)\n",
      "(131, 4)\n",
      "(132, 4)\n",
      "(133, 4)\n",
      "(134, 4)\n",
      "(135, 4)\n",
      "(136, 4)\n",
      "(137, 4)\n",
      "(138, 4)\n",
      "(139, 4)\n",
      "(140, 4)\n",
      "(141, 4)\n",
      "(142, 4)\n",
      "(143, 4)\n",
      "(144, 4)\n",
      "(145, 4)\n",
      "(146, 4)\n",
      "(147, 4)\n",
      "(148, 4)\n",
      "(149, 4)\n",
      "(150, 4)\n",
      "(151, 4)\n",
      "(152, 4)\n",
      "(153, 4)\n",
      "(154, 4)\n",
      "(155, 4)\n",
      "(156, 4)\n",
      "(157, 4)\n",
      "(158, 4)\n",
      "(159, 4)\n",
      "(160, 4)\n",
      "(161, 4)\n",
      "(162, 4)\n",
      "(163, 4)\n",
      "(164, 4)\n",
      "(165, 4)\n",
      "(166, 4)\n",
      "(167, 4)\n",
      "(168, 4)\n",
      "(169, 4)\n",
      "(170, 4)\n",
      "(171, 4)\n",
      "(172, 4)\n",
      "(173, 4)\n",
      "(174, 4)\n",
      "(175, 4)\n",
      "(176, 4)\n",
      "(177, 4)\n",
      "(178, 4)\n",
      "(179, 4)\n",
      "(180, 4)\n",
      "(181, 4)\n",
      "(182, 4)\n",
      "(183, 4)\n",
      "(184, 4)\n",
      "(185, 4)\n",
      "(186, 4)\n",
      "(187, 4)\n",
      "(188, 4)\n",
      "(189, 4)\n",
      "(190, 4)\n",
      "(191, 4)\n",
      "(192, 4)\n",
      "(193, 4)\n",
      "(194, 4)\n",
      "(195, 4)\n",
      "(196, 4)\n",
      "(197, 4)\n",
      "(198, 4)\n",
      "(199, 4)\n",
      "(200, 4)\n",
      "(201, 4)\n",
      "(202, 4)\n",
      "(203, 4)\n",
      "(204, 4)\n",
      "(205, 4)\n",
      "(206, 4)\n",
      "(207, 4)\n",
      "(208, 4)\n",
      "(209, 4)\n",
      "(210, 4)\n",
      "(211, 4)\n",
      "(212, 4)\n",
      "(213, 4)\n",
      "(214, 4)\n",
      "(215, 4)\n",
      "(216, 4)\n",
      "(217, 4)\n",
      "(218, 4)\n",
      "(219, 4)\n",
      "(220, 4)\n",
      "(221, 4)\n",
      "(222, 4)\n",
      "(223, 4)\n",
      "(224, 4)\n",
      "(225, 4)\n",
      "(226, 4)\n",
      "(227, 4)\n",
      "(228, 4)\n",
      "(229, 4)\n",
      "(230, 4)\n",
      "(231, 4)\n",
      "(232, 4)\n",
      "(233, 4)\n",
      "(234, 4)\n",
      "(235, 4)\n",
      "(236, 4)\n",
      "(237, 4)\n",
      "(238, 4)\n",
      "(239, 4)\n",
      "(240, 4)\n",
      "(241, 4)\n",
      "(242, 4)\n",
      "(243, 4)\n",
      "(244, 4)\n",
      "(245, 4)\n",
      "(246, 4)\n",
      "(247, 4)\n",
      "(248, 4)\n",
      "(249, 4)\n",
      "(250, 4)\n",
      "(251, 4)\n",
      "(252, 4)\n",
      "(253, 4)\n",
      "(254, 4)\n",
      "(255, 4)\n",
      "(256, 4)\n",
      "(257, 4)\n",
      "(258, 4)\n",
      "(259, 4)\n",
      "(260, 4)\n",
      "(261, 4)\n",
      "(262, 4)\n",
      "(263, 4)\n",
      "(264, 4)\n",
      "(265, 4)\n",
      "(266, 4)\n",
      "(267, 4)\n",
      "(268, 4)\n",
      "(269, 4)\n",
      "(270, 4)\n",
      "(271, 4)\n",
      "(272, 4)\n",
      "(273, 4)\n",
      "(274, 4)\n",
      "(275, 4)\n",
      "(276, 4)\n",
      "(277, 4)\n",
      "(278, 4)\n",
      "(279, 4)\n",
      "(280, 4)\n",
      "(281, 4)\n",
      "(282, 4)\n",
      "(283, 4)\n",
      "(284, 4)\n",
      "(285, 4)\n",
      "(286, 4)\n",
      "(287, 4)\n",
      "(288, 4)\n",
      "(289, 4)\n",
      "(290, 4)\n",
      "(291, 4)\n",
      "(292, 4)\n",
      "(293, 4)\n",
      "(294, 4)\n",
      "(295, 4)\n",
      "(296, 4)\n",
      "(297, 4)\n",
      "(298, 4)\n",
      "(299, 4)\n",
      "(300, 4)\n",
      "(301, 4)\n",
      "(302, 4)\n",
      "(303, 4)\n",
      "(304, 4)\n",
      "(305, 4)\n",
      "(306, 4)\n",
      "(307, 4)\n",
      "(308, 4)\n",
      "(309, 4)\n",
      "(310, 4)\n",
      "(311, 4)\n",
      "(312, 4)\n",
      "(313, 4)\n",
      "(314, 4)\n",
      "(315, 4)\n",
      "(316, 4)\n",
      "(317, 4)\n",
      "(318, 4)\n",
      "(319, 4)\n",
      "(320, 4)\n",
      "(321, 4)\n",
      "(322, 4)\n",
      "(323, 4)\n",
      "(324, 4)\n",
      "(325, 4)\n",
      "(326, 4)\n",
      "(327, 4)\n",
      "(328, 4)\n",
      "(329, 4)\n",
      "(330, 4)\n",
      "(331, 4)\n",
      "(332, 4)\n",
      "(333, 4)\n",
      "(334, 4)\n",
      "(335, 4)\n",
      "(336, 4)\n",
      "(337, 4)\n",
      "(338, 4)\n",
      "(339, 4)\n",
      "(340, 4)\n",
      "(341, 4)\n",
      "(342, 4)\n",
      "(343, 4)\n",
      "(344, 4)\n",
      "(345, 4)\n",
      "(346, 4)\n",
      "(347, 4)\n",
      "(348, 4)\n",
      "(349, 4)\n",
      "(350, 4)\n",
      "(351, 4)\n",
      "(352, 4)\n",
      "(353, 4)\n",
      "(354, 4)\n",
      "(355, 4)\n",
      "(356, 4)\n",
      "(357, 4)\n",
      "(358, 4)\n",
      "(359, 4)\n",
      "(360, 4)\n",
      "(361, 4)\n",
      "(362, 4)\n",
      "(363, 4)\n",
      "(364, 4)\n",
      "(365, 4)\n",
      "(366, 4)\n",
      "(367, 4)\n",
      "(368, 4)\n",
      "(369, 4)\n",
      "(370, 4)\n",
      "(371, 4)\n",
      "(372, 4)\n",
      "(373, 4)\n",
      "(374, 4)\n",
      "(375, 4)\n",
      "(376, 4)\n",
      "(377, 4)\n",
      "(378, 4)\n",
      "(379, 4)\n",
      "(380, 4)\n",
      "(381, 4)\n",
      "(382, 4)\n",
      "(383, 4)\n",
      "(384, 4)\n",
      "(385, 4)\n",
      "(386, 4)\n",
      "(387, 4)\n",
      "(388, 4)\n",
      "(389, 4)\n",
      "(390, 4)\n",
      "(391, 4)\n",
      "(392, 4)\n",
      "(393, 4)\n",
      "(394, 4)\n",
      "(395, 4)\n",
      "(396, 4)\n",
      "(397, 4)\n",
      "(398, 4)\n",
      "(399, 4)\n",
      "(400, 4)\n",
      "(401, 4)\n",
      "(402, 4)\n",
      "(403, 4)\n",
      "(404, 4)\n",
      "(405, 4)\n",
      "(406, 4)\n",
      "(407, 4)\n",
      "(408, 4)\n",
      "(409, 4)\n",
      "(410, 4)\n",
      "(411, 4)\n",
      "(412, 4)\n",
      "(413, 4)\n",
      "(414, 4)\n",
      "(415, 4)\n",
      "(416, 4)\n",
      "(417, 4)\n",
      "(418, 4)\n",
      "(419, 4)\n",
      "(420, 4)\n",
      "(421, 4)\n",
      "(422, 4)\n",
      "(423, 4)\n",
      "(424, 4)\n",
      "(425, 4)\n",
      "(426, 4)\n",
      "(427, 4)\n",
      "(428, 4)\n",
      "(429, 4)\n",
      "(430, 4)\n",
      "(431, 4)\n",
      "(432, 4)\n",
      "(433, 4)\n",
      "(434, 4)\n",
      "(435, 4)\n",
      "(436, 4)\n",
      "(437, 4)\n",
      "(438, 4)\n",
      "(439, 4)\n",
      "(440, 4)\n",
      "(441, 4)\n",
      "(442, 4)\n",
      "(443, 4)\n",
      "(444, 4)\n",
      "(445, 4)\n",
      "(446, 4)\n",
      "(447, 4)\n",
      "(448, 4)\n",
      "(449, 4)\n",
      "(450, 4)\n",
      "(451, 4)\n",
      "(452, 4)\n",
      "(453, 4)\n",
      "(454, 4)\n",
      "(455, 4)\n",
      "(456, 4)\n",
      "(457, 4)\n",
      "(458, 4)\n",
      "(459, 4)\n",
      "(460, 4)\n",
      "(461, 4)\n",
      "(462, 4)\n",
      "(463, 4)\n",
      "(464, 4)\n",
      "(465, 4)\n",
      "(466, 4)\n",
      "(467, 4)\n",
      "(468, 4)\n",
      "(469, 4)\n",
      "(470, 4)\n",
      "(471, 4)\n",
      "(472, 4)\n",
      "(473, 4)\n",
      "(474, 4)\n",
      "(475, 4)\n",
      "(476, 4)\n",
      "(477, 4)\n",
      "(478, 4)\n",
      "(479, 4)\n",
      "(480, 4)\n",
      "(481, 4)\n",
      "(482, 4)\n",
      "(483, 4)\n",
      "(484, 4)\n",
      "(485, 4)\n",
      "(486, 4)\n",
      "(487, 4)\n",
      "(488, 4)\n",
      "(489, 4)\n",
      "(490, 4)\n",
      "(491, 4)\n",
      "(492, 4)\n",
      "(493, 4)\n",
      "(494, 4)\n",
      "(495, 4)\n",
      "(496, 4)\n",
      "(497, 4)\n",
      "(498, 4)\n",
      "(499, 4)\n",
      "(500, 4)\n",
      "(501, 4)\n",
      "(502, 4)\n",
      "(503, 4)\n",
      "(504, 4)\n",
      "(505, 4)\n",
      "(506, 4)\n",
      "(507, 4)\n",
      "(508, 4)\n",
      "(509, 4)\n",
      "(510, 4)\n",
      "(511, 4)\n",
      "(512, 4)\n",
      "(513, 4)\n",
      "(514, 4)\n",
      "(515, 4)\n",
      "(516, 4)\n",
      "(517, 4)\n",
      "(518, 4)\n",
      "(519, 4)\n",
      "(520, 4)\n",
      "(521, 4)\n",
      "(522, 4)\n",
      "(523, 4)\n",
      "(524, 4)\n",
      "(525, 4)\n",
      "(526, 4)\n",
      "(527, 4)\n",
      "(528, 4)\n",
      "(529, 4)\n",
      "(530, 4)\n",
      "(531, 4)\n",
      "(532, 4)\n",
      "(533, 4)\n",
      "(534, 4)\n",
      "(535, 4)\n",
      "(536, 4)\n",
      "(537, 4)\n",
      "(538, 4)\n",
      "(539, 4)\n",
      "(540, 4)\n",
      "(541, 4)\n",
      "(542, 4)\n",
      "(543, 4)\n",
      "(544, 4)\n",
      "(545, 4)\n",
      "(546, 4)\n",
      "(547, 4)\n",
      "(548, 4)\n",
      "(549, 4)\n",
      "(550, 4)\n",
      "(551, 4)\n",
      "(552, 4)\n",
      "(553, 4)\n",
      "(554, 4)\n",
      "(555, 4)\n",
      "(556, 4)\n",
      "(557, 4)\n",
      "(558, 4)\n",
      "(559, 4)\n",
      "(560, 4)\n",
      "(561, 4)\n",
      "(562, 4)\n",
      "(563, 4)\n",
      "(564, 4)\n",
      "(565, 4)\n",
      "(566, 4)\n",
      "(567, 4)\n",
      "(568, 4)\n",
      "(569, 4)\n",
      "(570, 4)\n",
      "(571, 4)\n",
      "(572, 4)\n",
      "(573, 4)\n",
      "(574, 4)\n",
      "(575, 4)\n",
      "(576, 4)\n",
      "(577, 4)\n",
      "(578, 4)\n",
      "(579, 4)\n",
      "(580, 4)\n",
      "(581, 4)\n",
      "(582, 4)\n",
      "(583, 4)\n",
      "(584, 4)\n",
      "(585, 4)\n",
      "(586, 4)\n",
      "(587, 4)\n",
      "(588, 4)\n",
      "(589, 4)\n",
      "(590, 4)\n",
      "(591, 4)\n",
      "(592, 4)\n",
      "(593, 4)\n",
      "(594, 4)\n",
      "(595, 4)\n",
      "(596, 4)\n",
      "(597, 4)\n",
      "(598, 4)\n",
      "(599, 4)\n",
      "(600, 4)\n",
      "(601, 4)\n",
      "(602, 4)\n",
      "(603, 4)\n",
      "(604, 4)\n",
      "(605, 4)\n",
      "(606, 4)\n",
      "(607, 4)\n",
      "(608, 4)\n",
      "(609, 4)\n",
      "(610, 4)\n",
      "(611, 4)\n",
      "(612, 4)\n",
      "(613, 4)\n",
      "(614, 4)\n",
      "(615, 4)\n",
      "(616, 4)\n",
      "(617, 4)\n",
      "(618, 4)\n",
      "(619, 4)\n",
      "(620, 4)\n",
      "(621, 4)\n",
      "(622, 4)\n",
      "(623, 4)\n",
      "(624, 4)\n",
      "(625, 4)\n",
      "(626, 4)\n",
      "(627, 4)\n",
      "(628, 4)\n",
      "(629, 4)\n",
      "(630, 4)\n",
      "(631, 4)\n",
      "(632, 4)\n",
      "(633, 4)\n",
      "(634, 4)\n",
      "(635, 4)\n",
      "(636, 4)\n",
      "(637, 4)\n",
      "(638, 4)\n",
      "(639, 4)\n",
      "(640, 4)\n",
      "(641, 4)\n",
      "(642, 4)\n",
      "(643, 4)\n",
      "(644, 4)\n",
      "(645, 4)\n",
      "(646, 4)\n",
      "(647, 4)\n",
      "(648, 4)\n",
      "(649, 4)\n",
      "(650, 4)\n",
      "(651, 4)\n",
      "(652, 4)\n",
      "(653, 4)\n",
      "(654, 4)\n",
      "(655, 4)\n",
      "(656, 4)\n",
      "(657, 4)\n",
      "(658, 4)\n",
      "(659, 4)\n",
      "(660, 4)\n",
      "(661, 4)\n",
      "(662, 4)\n",
      "(663, 4)\n",
      "(664, 4)\n",
      "(665, 4)\n",
      "(666, 4)\n",
      "(667, 4)\n",
      "(668, 4)\n",
      "(669, 4)\n",
      "(670, 4)\n",
      "(671, 4)\n",
      "(672, 4)\n",
      "(673, 4)\n",
      "(674, 4)\n",
      "(675, 4)\n",
      "(676, 4)\n",
      "(677, 4)\n",
      "(678, 4)\n",
      "(679, 4)\n",
      "(680, 4)\n",
      "(681, 4)\n",
      "(682, 4)\n",
      "(683, 4)\n",
      "(684, 4)\n",
      "(685, 4)\n",
      "(686, 4)\n",
      "(687, 4)\n",
      "(688, 4)\n",
      "(689, 4)\n",
      "(690, 4)\n",
      "(691, 4)\n",
      "(692, 4)\n",
      "(693, 4)\n",
      "(694, 4)\n",
      "(695, 4)\n",
      "(696, 4)\n",
      "(697, 4)\n",
      "(698, 4)\n",
      "(699, 4)\n",
      "(700, 4)\n",
      "(701, 4)\n",
      "(702, 4)\n",
      "(703, 4)\n",
      "(704, 4)\n",
      "(705, 4)\n",
      "(706, 4)\n",
      "(707, 4)\n",
      "(708, 4)\n",
      "(709, 4)\n",
      "(710, 4)\n",
      "(711, 4)\n",
      "(712, 4)\n",
      "(713, 4)\n",
      "(714, 4)\n",
      "(715, 4)\n",
      "(716, 4)\n",
      "(717, 4)\n",
      "(718, 4)\n",
      "(719, 4)\n",
      "(720, 4)\n",
      "(721, 4)\n",
      "(722, 4)\n",
      "(723, 4)\n",
      "(724, 4)\n",
      "(725, 4)\n",
      "(726, 4)\n",
      "(727, 4)\n",
      "(728, 4)\n",
      "(729, 4)\n",
      "(730, 4)\n",
      "(731, 4)\n",
      "(732, 4)\n",
      "(733, 4)\n",
      "(734, 4)\n",
      "(735, 4)\n",
      "(736, 4)\n",
      "(737, 4)\n",
      "(738, 4)\n",
      "(739, 4)\n",
      "(740, 4)\n",
      "(741, 4)\n",
      "(742, 4)\n",
      "(743, 4)\n",
      "(744, 4)\n",
      "(745, 4)\n",
      "(746, 4)\n",
      "(747, 4)\n",
      "(748, 4)\n",
      "(749, 4)\n",
      "(750, 4)\n",
      "(751, 4)\n",
      "(752, 4)\n",
      "(753, 4)\n",
      "(754, 4)\n",
      "(755, 4)\n",
      "(756, 4)\n",
      "(757, 4)\n",
      "(758, 4)\n",
      "(759, 4)\n",
      "(760, 4)\n",
      "(761, 4)\n",
      "(762, 4)\n",
      "(763, 4)\n",
      "(764, 4)\n",
      "(765, 4)\n",
      "(766, 4)\n",
      "(767, 4)\n",
      "(768, 4)\n",
      "(769, 4)\n",
      "(770, 4)\n",
      "(771, 4)\n",
      "(772, 4)\n",
      "(773, 4)\n",
      "(774, 4)\n",
      "(775, 4)\n",
      "(776, 4)\n",
      "(777, 4)\n",
      "(778, 4)\n",
      "(779, 4)\n",
      "(780, 4)\n",
      "(781, 4)\n",
      "(782, 4)\n",
      "(783, 4)\n",
      "(784, 4)\n",
      "(785, 4)\n",
      "(786, 4)\n",
      "(787, 4)\n",
      "(788, 4)\n",
      "(789, 4)\n",
      "(790, 4)\n",
      "(791, 4)\n",
      "(792, 4)\n",
      "(793, 4)\n",
      "(794, 4)\n",
      "(795, 4)\n",
      "(796, 4)\n",
      "(797, 4)\n",
      "(798, 4)\n",
      "(799, 4)\n",
      "(800, 4)\n",
      "(801, 4)\n",
      "(802, 4)\n",
      "(803, 4)\n",
      "(804, 4)\n",
      "(805, 4)\n",
      "(806, 4)\n",
      "(807, 4)\n",
      "(808, 4)\n",
      "(809, 4)\n",
      "(810, 4)\n",
      "(811, 4)\n",
      "(812, 4)\n",
      "(813, 4)\n",
      "(814, 4)\n",
      "(815, 4)\n",
      "(816, 4)\n",
      "(817, 4)\n",
      "(818, 4)\n",
      "(819, 4)\n",
      "(820, 4)\n",
      "(821, 4)\n",
      "(822, 4)\n",
      "(823, 4)\n",
      "(824, 4)\n",
      "(825, 4)\n",
      "(826, 4)\n",
      "(827, 4)\n",
      "(828, 4)\n",
      "(829, 4)\n",
      "(830, 4)\n",
      "(831, 4)\n",
      "(832, 4)\n",
      "(833, 4)\n",
      "(834, 4)\n",
      "(835, 4)\n",
      "(836, 4)\n",
      "(837, 4)\n",
      "(838, 4)\n",
      "(839, 4)\n",
      "(840, 4)\n",
      "(841, 4)\n",
      "(842, 4)\n",
      "(843, 4)\n",
      "(844, 4)\n",
      "(845, 4)\n",
      "(846, 4)\n",
      "(847, 4)\n",
      "(848, 4)\n",
      "(849, 4)\n",
      "(850, 4)\n",
      "(851, 4)\n",
      "(852, 4)\n",
      "(853, 4)\n",
      "(854, 4)\n",
      "(855, 4)\n",
      "(856, 4)\n",
      "(857, 4)\n",
      "(858, 4)\n",
      "(859, 4)\n",
      "(860, 4)\n",
      "(861, 4)\n",
      "(862, 4)\n",
      "(863, 4)\n",
      "(864, 4)\n",
      "(865, 4)\n",
      "(866, 4)\n",
      "(867, 4)\n",
      "(868, 4)\n",
      "(869, 4)\n",
      "(870, 4)\n",
      "(871, 4)\n",
      "(872, 4)\n",
      "(873, 4)\n",
      "(874, 4)\n",
      "(875, 4)\n",
      "(876, 4)\n",
      "(877, 4)\n",
      "(878, 4)\n",
      "(879, 4)\n",
      "(880, 4)\n",
      "(881, 4)\n",
      "(882, 4)\n",
      "(883, 4)\n",
      "(884, 4)\n",
      "(885, 4)\n",
      "(886, 4)\n",
      "(887, 4)\n",
      "(888, 4)\n",
      "(889, 4)\n",
      "(890, 4)\n",
      "(891, 4)\n",
      "(892, 4)\n",
      "(893, 4)\n",
      "(894, 4)\n",
      "(895, 4)\n",
      "(896, 4)\n",
      "(897, 4)\n",
      "(898, 4)\n",
      "(899, 4)\n",
      "(900, 4)\n",
      "(901, 4)\n",
      "(902, 4)\n",
      "(903, 4)\n",
      "(904, 4)\n",
      "(905, 4)\n",
      "(906, 4)\n",
      "(907, 4)\n",
      "(908, 4)\n",
      "(909, 4)\n",
      "(910, 4)\n",
      "(911, 4)\n",
      "(912, 4)\n",
      "(913, 4)\n",
      "(914, 4)\n",
      "(915, 4)\n",
      "(916, 4)\n",
      "(917, 4)\n",
      "(918, 4)\n",
      "(919, 4)\n",
      "(920, 4)\n",
      "(921, 4)\n",
      "(922, 4)\n",
      "(923, 4)\n"
     ]
    },
    {
     "name": "stdout",
     "output_type": "stream",
     "text": [
      "(924, 4)\n",
      "(925, 4)\n",
      "(926, 4)\n",
      "(927, 4)\n",
      "(928, 4)\n",
      "(929, 4)\n",
      "(930, 4)\n",
      "(931, 4)\n",
      "(932, 4)\n",
      "(933, 4)\n",
      "(934, 4)\n",
      "(935, 4)\n",
      "(936, 4)\n",
      "(937, 4)\n",
      "(938, 4)\n",
      "(939, 4)\n",
      "(940, 4)\n",
      "(941, 4)\n",
      "(942, 4)\n",
      "(943, 4)\n",
      "(944, 4)\n",
      "(945, 4)\n",
      "(946, 4)\n",
      "(947, 4)\n",
      "(948, 4)\n",
      "(949, 4)\n",
      "(950, 4)\n",
      "(951, 4)\n",
      "(952, 4)\n",
      "(953, 4)\n",
      "(954, 4)\n",
      "(955, 4)\n",
      "(956, 4)\n",
      "(957, 4)\n",
      "(958, 4)\n",
      "(959, 4)\n",
      "(960, 4)\n",
      "(961, 4)\n",
      "(962, 4)\n",
      "(963, 4)\n",
      "(964, 4)\n",
      "(965, 4)\n",
      "(966, 4)\n",
      "(967, 4)\n",
      "(968, 4)\n",
      "(969, 4)\n",
      "(970, 4)\n",
      "(971, 4)\n",
      "(972, 4)\n",
      "(973, 4)\n",
      "(974, 4)\n",
      "(975, 4)\n",
      "(976, 4)\n",
      "(977, 4)\n",
      "(978, 4)\n",
      "(979, 4)\n",
      "(980, 4)\n",
      "(981, 4)\n",
      "(982, 4)\n",
      "(983, 4)\n",
      "(984, 4)\n",
      "(985, 4)\n",
      "(986, 4)\n",
      "(987, 4)\n",
      "(988, 4)\n",
      "(989, 4)\n",
      "(990, 4)\n",
      "(991, 4)\n",
      "(992, 4)\n",
      "(993, 4)\n",
      "(994, 4)\n",
      "(995, 4)\n",
      "(996, 4)\n",
      "(997, 4)\n",
      "(998, 4)\n",
      "(999, 4)\n",
      "(1000, 4)\n",
      "(1001, 4)\n",
      "(1002, 4)\n",
      "(1003, 4)\n",
      "(1004, 4)\n",
      "(1005, 4)\n",
      "(1006, 4)\n",
      "(1007, 4)\n",
      "(1008, 4)\n",
      "(1009, 4)\n",
      "(1010, 4)\n",
      "(1011, 4)\n",
      "(1012, 4)\n",
      "(1013, 4)\n",
      "(1014, 4)\n",
      "(1015, 4)\n",
      "(1016, 4)\n",
      "(1017, 4)\n",
      "(1018, 4)\n",
      "(1019, 4)\n",
      "(1020, 4)\n",
      "(1021, 4)\n",
      "(1022, 4)\n",
      "(1023, 4)\n",
      "(1024, 4)\n",
      "(1025, 4)\n",
      "(1026, 4)\n",
      "(1027, 4)\n",
      "(1028, 4)\n",
      "(1029, 4)\n",
      "(1030, 4)\n",
      "(1031, 4)\n",
      "(1032, 4)\n",
      "(1033, 4)\n",
      "(1034, 4)\n",
      "(1035, 4)\n",
      "(1036, 4)\n",
      "(1037, 4)\n",
      "(1038, 4)\n",
      "(1039, 4)\n",
      "(1040, 4)\n",
      "(1041, 4)\n",
      "(1042, 4)\n",
      "(1043, 4)\n",
      "(1044, 4)\n",
      "(1045, 4)\n",
      "(1046, 4)\n",
      "(1047, 4)\n",
      "(1048, 4)\n",
      "(1049, 4)\n",
      "(1050, 4)\n",
      "(1051, 4)\n",
      "(1052, 4)\n",
      "(1053, 4)\n",
      "(1054, 4)\n",
      "(1055, 4)\n",
      "(1056, 4)\n",
      "(1057, 4)\n",
      "(1058, 4)\n",
      "(1059, 4)\n",
      "(1060, 4)\n",
      "(1061, 4)\n",
      "(1062, 4)\n",
      "(1063, 4)\n",
      "(1064, 4)\n",
      "(1065, 4)\n",
      "(1066, 4)\n",
      "(1067, 4)\n",
      "(1068, 4)\n",
      "(1069, 4)\n",
      "(1070, 4)\n",
      "(1071, 4)\n",
      "(1072, 4)\n",
      "(1073, 4)\n",
      "(1074, 4)\n",
      "(1075, 4)\n",
      "(1076, 4)\n",
      "(1077, 4)\n",
      "(1078, 4)\n",
      "(1079, 4)\n",
      "(1080, 4)\n",
      "(1081, 4)\n",
      "(1082, 4)\n",
      "(1083, 4)\n",
      "(1084, 4)\n",
      "(1085, 4)\n",
      "(1086, 4)\n",
      "(1087, 4)\n",
      "(1088, 4)\n",
      "(1089, 4)\n",
      "(1090, 4)\n",
      "(1091, 4)\n",
      "(1092, 4)\n",
      "(1093, 4)\n",
      "(1094, 4)\n",
      "(1095, 4)\n",
      "(1096, 4)\n",
      "(1097, 4)\n",
      "(1098, 4)\n",
      "(1099, 4)\n",
      "(1100, 4)\n",
      "(1101, 4)\n",
      "(1102, 4)\n",
      "(1103, 4)\n",
      "(1104, 4)\n",
      "(1105, 4)\n",
      "(1106, 4)\n",
      "(1107, 4)\n",
      "(1108, 4)\n",
      "(1109, 4)\n",
      "(1110, 4)\n",
      "(1111, 4)\n",
      "(1112, 4)\n",
      "(1113, 4)\n",
      "(1114, 4)\n",
      "(1115, 4)\n",
      "(1116, 4)\n",
      "(1117, 4)\n",
      "(1118, 4)\n",
      "(1119, 4)\n",
      "(1120, 4)\n",
      "(1121, 4)\n",
      "(1122, 4)\n",
      "(1123, 4)\n",
      "(1124, 4)\n",
      "(1125, 4)\n",
      "(1126, 4)\n",
      "(1127, 4)\n",
      "(1128, 4)\n",
      "(1129, 4)\n",
      "(1130, 4)\n",
      "(1131, 4)\n",
      "(1132, 4)\n",
      "(1133, 4)\n",
      "(1134, 4)\n",
      "(1135, 4)\n",
      "(1136, 4)\n",
      "(1137, 4)\n",
      "(1138, 4)\n",
      "(1139, 4)\n",
      "(1140, 4)\n",
      "(1141, 4)\n",
      "(1142, 4)\n",
      "(1143, 4)\n",
      "(1144, 4)\n",
      "(1145, 4)\n",
      "(1146, 4)\n",
      "(1147, 4)\n",
      "(1148, 4)\n",
      "(1149, 4)\n",
      "(1150, 4)\n",
      "(1151, 4)\n",
      "(1152, 4)\n",
      "(1153, 4)\n",
      "(1154, 4)\n",
      "(1155, 4)\n",
      "(1156, 4)\n",
      "(1157, 4)\n",
      "(1158, 4)\n",
      "(1159, 4)\n",
      "(1160, 4)\n",
      "(1161, 4)\n",
      "(1162, 4)\n",
      "(1163, 4)\n",
      "(1164, 4)\n",
      "(1165, 4)\n",
      "(1166, 4)\n",
      "(1167, 4)\n",
      "(1168, 4)\n",
      "(1169, 4)\n",
      "(1170, 4)\n",
      "(1171, 4)\n",
      "(1172, 4)\n",
      "(1173, 4)\n",
      "(1174, 4)\n",
      "(1175, 4)\n",
      "(1176, 4)\n",
      "(1177, 4)\n",
      "(1178, 4)\n",
      "(1179, 4)\n",
      "(1180, 4)\n",
      "(1181, 4)\n",
      "(1182, 4)\n",
      "(1183, 4)\n",
      "(1184, 4)\n",
      "(1185, 4)\n",
      "(1186, 4)\n",
      "(1187, 4)\n",
      "(1188, 4)\n",
      "(1189, 4)\n",
      "(1190, 4)\n",
      "(1191, 4)\n",
      "(1192, 4)\n",
      "(1193, 4)\n",
      "(1194, 4)\n",
      "(1195, 4)\n",
      "(1196, 4)\n",
      "(1197, 4)\n",
      "(1198, 4)\n",
      "(1199, 4)\n",
      "(1200, 4)\n",
      "(1201, 4)\n",
      "(1202, 4)\n",
      "(1203, 4)\n",
      "(1204, 4)\n",
      "(1205, 4)\n",
      "(1206, 4)\n",
      "(1207, 4)\n",
      "(1208, 4)\n",
      "(1209, 4)\n",
      "(1210, 4)\n",
      "(1211, 4)\n",
      "(1212, 4)\n",
      "(1213, 4)\n",
      "(1214, 4)\n",
      "(1215, 4)\n",
      "(1216, 4)\n",
      "(1217, 4)\n",
      "(1218, 4)\n",
      "(1219, 4)\n",
      "(1220, 4)\n",
      "(1221, 4)\n",
      "(1222, 4)\n",
      "(1223, 4)\n",
      "(1224, 4)\n",
      "(1225, 4)\n",
      "(1226, 4)\n",
      "(1227, 4)\n",
      "(1228, 4)\n",
      "(1229, 4)\n",
      "(1230, 4)\n",
      "(1231, 4)\n",
      "(1232, 4)\n",
      "(1233, 4)\n",
      "(1234, 4)\n",
      "(1235, 4)\n",
      "(1236, 4)\n",
      "(1237, 4)\n",
      "(1238, 4)\n",
      "(1239, 4)\n",
      "(1240, 4)\n",
      "(1241, 4)\n",
      "(1242, 4)\n",
      "(1243, 4)\n",
      "(1244, 4)\n",
      "(1245, 4)\n",
      "(1246, 4)\n",
      "(1247, 4)\n",
      "(1248, 4)\n",
      "(1249, 4)\n",
      "(1250, 4)\n",
      "(1251, 4)\n",
      "(1252, 4)\n",
      "(1253, 4)\n",
      "(1254, 4)\n",
      "(1255, 4)\n",
      "(1256, 4)\n",
      "(1257, 4)\n",
      "(1258, 4)\n",
      "(1259, 4)\n",
      "(1260, 4)\n",
      "(1261, 4)\n",
      "(1262, 4)\n",
      "(1263, 4)\n",
      "(1264, 4)\n",
      "(1265, 4)\n",
      "(1266, 4)\n",
      "(1267, 4)\n",
      "(1268, 4)\n",
      "(1269, 4)\n",
      "(1270, 4)\n",
      "(1271, 4)\n",
      "(1272, 4)\n",
      "(1273, 4)\n",
      "(1274, 4)\n",
      "(1275, 4)\n",
      "(1276, 4)\n",
      "(1277, 4)\n",
      "(1278, 4)\n",
      "(1279, 4)\n",
      "(1280, 4)\n",
      "(1281, 4)\n",
      "(1282, 4)\n",
      "(1283, 4)\n",
      "(1284, 4)\n",
      "(1285, 4)\n",
      "(1286, 4)\n",
      "(1287, 4)\n",
      "(1288, 4)\n",
      "(1289, 4)\n",
      "(1290, 4)\n",
      "(1291, 4)\n",
      "(1292, 4)\n",
      "(1293, 4)\n",
      "(1294, 4)\n",
      "(1295, 4)\n",
      "(1296, 4)\n",
      "(1297, 4)\n",
      "(1298, 4)\n",
      "(1299, 4)\n",
      "(1300, 4)\n",
      "(1301, 4)\n",
      "(1302, 4)\n",
      "(1303, 4)\n",
      "(1304, 4)\n",
      "(1305, 4)\n",
      "(1306, 4)\n",
      "(1307, 4)\n",
      "(1308, 4)\n",
      "(1309, 4)\n",
      "(1310, 4)\n",
      "(1311, 4)\n",
      "(1312, 4)\n",
      "(1313, 4)\n",
      "(1314, 4)\n",
      "(1315, 4)\n",
      "(1316, 4)\n",
      "(1317, 4)\n",
      "(1318, 4)\n",
      "(1319, 4)\n",
      "(1320, 4)\n",
      "(1321, 4)\n",
      "(1322, 4)\n",
      "(1323, 4)\n",
      "(1324, 4)\n",
      "(1325, 4)\n",
      "(1326, 4)\n",
      "(1327, 4)\n",
      "(1328, 4)\n",
      "(1329, 4)\n",
      "(1330, 4)\n",
      "(1331, 4)\n",
      "(1332, 4)\n",
      "(1333, 4)\n",
      "(1334, 4)\n",
      "(1335, 4)\n",
      "(1336, 4)\n",
      "(1337, 4)\n",
      "(1338, 4)\n",
      "(1339, 4)\n",
      "(1340, 4)\n",
      "(1341, 4)\n",
      "(1342, 4)\n",
      "(1343, 4)\n",
      "(1344, 4)\n",
      "(1345, 4)\n",
      "(1346, 4)\n",
      "(1347, 4)\n",
      "(1348, 4)\n",
      "(1349, 4)\n",
      "(1350, 4)\n",
      "(1351, 4)\n",
      "(1352, 4)\n",
      "(1353, 4)\n",
      "(1354, 4)\n",
      "(1355, 4)\n",
      "(1356, 4)\n",
      "(1357, 4)\n",
      "(1358, 4)\n",
      "(1359, 4)\n",
      "(1360, 4)\n",
      "(1361, 4)\n",
      "(1362, 4)\n",
      "(1363, 4)\n",
      "(1364, 4)\n",
      "(1365, 4)\n",
      "(1366, 4)\n",
      "(1367, 4)\n",
      "(1368, 4)\n",
      "(1369, 4)\n",
      "(1370, 4)\n",
      "(1371, 4)\n",
      "(1372, 4)\n",
      "(1373, 4)\n",
      "(1374, 4)\n",
      "(1375, 4)\n",
      "(1376, 4)\n",
      "(1377, 4)\n",
      "(1378, 4)\n",
      "(1379, 4)\n",
      "(1380, 4)\n",
      "(1381, 4)\n",
      "(1382, 4)\n",
      "(1383, 4)\n",
      "(1384, 4)\n",
      "(1385, 4)\n",
      "(1386, 4)\n",
      "(1387, 4)\n",
      "(1388, 4)\n",
      "(1389, 4)\n",
      "(1390, 4)\n",
      "(1391, 4)\n",
      "(1392, 4)\n",
      "(1393, 4)\n",
      "(1394, 4)\n",
      "(1395, 4)\n",
      "(1396, 4)\n",
      "(1397, 4)\n",
      "(1398, 4)\n",
      "(1399, 4)\n",
      "(1400, 4)\n",
      "(1401, 4)\n",
      "(1402, 4)\n",
      "(1403, 4)\n",
      "(1404, 4)\n",
      "(1405, 4)\n",
      "(1406, 4)\n",
      "(1407, 4)\n",
      "(1408, 4)\n",
      "(1409, 4)\n",
      "(1410, 4)\n",
      "(1411, 4)\n",
      "(1412, 4)\n",
      "(1413, 4)\n",
      "(1414, 4)\n",
      "(1415, 4)\n",
      "(1416, 4)\n",
      "(1417, 4)\n",
      "(1418, 4)\n",
      "(1419, 4)\n",
      "(1420, 4)\n",
      "(1421, 4)\n",
      "(1422, 4)\n",
      "(1423, 4)\n",
      "(1424, 4)\n",
      "(1425, 4)\n",
      "(1426, 4)\n",
      "(1427, 4)\n",
      "(1428, 4)\n",
      "(1429, 4)\n",
      "(1430, 4)\n",
      "(1431, 4)\n",
      "(1432, 4)\n",
      "(1433, 4)\n",
      "(1434, 4)\n",
      "(1435, 4)\n",
      "(1436, 4)\n",
      "(1437, 4)\n",
      "(1438, 4)\n",
      "(1439, 4)\n",
      "(1440, 4)\n",
      "(1441, 4)\n",
      "(1442, 4)\n",
      "(1443, 4)\n",
      "(1444, 4)\n",
      "(1445, 4)\n",
      "(1446, 4)\n",
      "(1447, 4)\n",
      "(1448, 4)\n",
      "(1449, 4)\n",
      "(1450, 4)\n",
      "(1451, 4)\n",
      "(1452, 4)\n",
      "(1453, 4)\n",
      "(1454, 4)\n",
      "(1455, 4)\n",
      "(1456, 4)\n",
      "(1457, 4)\n",
      "(1458, 4)\n",
      "(1459, 4)\n",
      "(1460, 4)\n",
      "(1461, 4)\n",
      "(1462, 4)\n",
      "(1463, 4)\n",
      "(1464, 4)\n",
      "(1465, 4)\n",
      "(1466, 4)\n",
      "(1467, 4)\n",
      "(1468, 4)\n",
      "(1469, 4)\n",
      "(1470, 4)\n",
      "(1471, 4)\n",
      "(1472, 4)\n",
      "(1473, 4)\n",
      "(1474, 4)\n",
      "(1475, 4)\n",
      "(1476, 4)\n",
      "(1477, 4)\n",
      "(1478, 4)\n",
      "(1479, 4)\n",
      "(1480, 4)\n",
      "(1481, 4)\n",
      "(1482, 4)\n",
      "(1483, 4)\n",
      "(1484, 4)\n",
      "(1485, 4)\n",
      "(1486, 4)\n",
      "(1487, 4)\n",
      "(1488, 4)\n",
      "(1489, 4)\n",
      "(1490, 4)\n",
      "(1491, 4)\n",
      "(1492, 4)\n",
      "(1493, 4)\n",
      "(1494, 4)\n",
      "(1495, 4)\n",
      "(1496, 4)\n",
      "(1497, 4)\n",
      "(1498, 4)\n",
      "(1499, 4)\n",
      "(1500, 4)\n",
      "(1501, 4)\n",
      "(1502, 4)\n",
      "(1503, 4)\n",
      "(1504, 4)\n",
      "(1505, 4)\n",
      "(1506, 4)\n",
      "(1507, 4)\n",
      "(1508, 4)\n",
      "(1509, 4)\n",
      "(1510, 4)\n",
      "(1511, 4)\n",
      "(1512, 4)\n",
      "(1513, 4)\n",
      "(1514, 4)\n",
      "(1515, 4)\n",
      "(1516, 4)\n",
      "(1517, 4)\n",
      "(1518, 4)\n",
      "(1519, 4)\n",
      "(1520, 4)\n",
      "(1521, 4)\n",
      "(1522, 4)\n",
      "(1523, 4)\n",
      "(1524, 4)\n",
      "(1525, 4)\n",
      "(1526, 4)\n",
      "(1527, 4)\n",
      "(1528, 4)\n",
      "(1529, 4)\n",
      "(1530, 4)\n",
      "(1531, 4)\n",
      "(1532, 4)\n",
      "(1533, 4)\n",
      "(1534, 4)\n",
      "(1535, 4)\n",
      "(1536, 4)\n",
      "(1537, 4)\n",
      "(1538, 4)\n",
      "(1539, 4)\n",
      "(1540, 4)\n",
      "(1541, 4)\n",
      "(1542, 4)\n",
      "(1543, 4)\n",
      "(1544, 4)\n",
      "(1545, 4)\n",
      "(1546, 4)\n",
      "(1547, 4)\n",
      "(1548, 4)\n",
      "(1549, 4)\n",
      "(1550, 4)\n",
      "(1551, 4)\n",
      "(1552, 4)\n",
      "(1553, 4)\n",
      "(1554, 4)\n",
      "(1555, 4)\n",
      "(1556, 4)\n",
      "(1557, 4)\n",
      "(1558, 4)\n",
      "(1559, 4)\n",
      "(1560, 4)\n",
      "(1561, 4)\n",
      "(1562, 4)\n",
      "(1563, 4)\n",
      "(1564, 4)\n",
      "(1565, 4)\n",
      "(1566, 4)\n",
      "(1567, 4)\n",
      "(1568, 4)\n",
      "(1569, 4)\n",
      "(1570, 4)\n",
      "(1571, 4)\n",
      "(1572, 4)\n",
      "(1573, 4)\n",
      "(1574, 4)\n",
      "(1575, 4)\n",
      "(1576, 4)\n",
      "(1577, 4)\n",
      "(1578, 4)\n",
      "(1579, 4)\n",
      "(1580, 4)\n",
      "(1581, 4)\n",
      "(1582, 4)\n",
      "(1583, 4)\n",
      "(1584, 4)\n",
      "(1585, 4)\n",
      "(1586, 4)\n",
      "(1587, 4)\n",
      "(1588, 4)\n",
      "(1589, 4)\n",
      "(1590, 4)\n",
      "(1591, 4)\n",
      "(1592, 4)\n"
     ]
    }
   ],
   "source": [
    "for user in user_list:\n",
    "    #the movie list liked by user in the test dataset\n",
    "    movie_validation_liked = list(set(Validation_liked_train0[Validation_liked_train0[\"userId\"]==user][\"movieId\"]))\n",
    "    pr = nx.pagerank(Train_Graph,personalization={user:1})\n",
    "    #sorting the nodes in descending order\n",
    "    Top_n_nodes = sorted(pr,key =pr.get, reverse=True)\n",
    "    #removing nan nodes\n",
    "    Top_n_nodes_2 = [x for x in Top_n_nodes if not (type(x)==float)]\n",
    "    #selecting top 10 movies\n",
    "    substr = \"$$m\"\n",
    "    #making the length of validation dataset and pagerank algorithm dataset same (so that our recall or precision is not bounded)\n",
    "    selections = [x for x in Top_n_nodes_2 if substr in x][:len(movie_validation_liked)]\n",
    "    if len(movie_validation_liked) != 0:\n",
    "        metric = len(list(set(selections).intersection(movie_validation_liked))) / (len(movie_validation_liked))\n",
    "        metric_df.loc[len(metric_df.index)] = [user,metric,len(list(set(selections).intersection(movie_validation_liked))),len(selections)] \n",
    "        print(metric_df.shape)\n",
    "        ARHR  , Scaled Hit Rank (arhr*), (Use weights basis no of movies the user has seen the no of movies)"
   ]
  },
  {
   "cell_type": "code",
   "execution_count": null,
   "id": "d71c9770",
   "metadata": {},
   "outputs": [],
   "source": [
    "#ideally recommendation should not be the ones which the user has already seen\n",
    "#ask sir for this should we remove those recommendations that the user has already seen in its training history\n",
    "metric_df.to_csv('metric_df_train0_knowledge_graph.csv',index=False)"
   ]
  },
  {
   "cell_type": "code",
   "execution_count": null,
   "id": "e094ec50",
   "metadata": {},
   "outputs": [],
   "source": [
    "import multiprocessing\n",
    "\n",
    "def worker(num):\n",
    "    \n",
    "\n",
    "if __name__ == '__main__':\n",
    "    # Create a list of processes\n",
    "    processes = []\n",
    "    for i in range(5):\n",
    "        p = multiprocessing.Process(target=worker, args=(i,))\n",
    "        processes.append(p)\n",
    "\n",
    "    # Start the processes\n",
    "    for p in processes:\n",
    "        p.start()\n",
    "\n",
    "    # Wait for all processes to complete\n",
    "    for p in processes:\n",
    "        p.join()"
   ]
  },
  {
   "cell_type": "code",
   "execution_count": null,
   "id": "eb1220b7",
   "metadata": {},
   "outputs": [],
   "source": []
  },
  {
   "cell_type": "code",
   "execution_count": null,
   "id": "af13bdf8",
   "metadata": {},
   "outputs": [],
   "source": [
    "https://www1.se.cuhk.edu.hk/~swang/VLDBJ2019-PAFO.pdf"
   ]
  },
  {
   "cell_type": "code",
   "execution_count": null,
   "id": "2e4e8d96",
   "metadata": {},
   "outputs": [],
   "source": [
    "#biased evd"
   ]
  },
  {
   "cell_type": "code",
   "execution_count": null,
   "id": "3427fcc2",
   "metadata": {},
   "outputs": [],
   "source": [
    "pr = nx.pagerank(Train_Graph)"
   ]
  },
  {
   "cell_type": "code",
   "execution_count": 7,
   "id": "86afdf99",
   "metadata": {},
   "outputs": [],
   "source": [
    "#NOTES\n",
    "# how to change user specific node weights (maybe nodes connected to that user might be helpful)\n",
    "# personalization\n",
    "# one observation since movies are connected to more nodes as compared to user nodes (movies has features nodes as well so generally top ranks are occupied by the movies only)"
   ]
  },
  {
   "cell_type": "code",
   "execution_count": null,
   "id": "d7d48b9f",
   "metadata": {},
   "outputs": [],
   "source": []
  },
  {
   "cell_type": "code",
   "execution_count": null,
   "id": "6d5465ab",
   "metadata": {},
   "outputs": [],
   "source": [
    "#Page_Rank Implementation"
   ]
  },
  {
   "cell_type": "code",
   "execution_count": 13,
   "id": "70edacb0",
   "metadata": {},
   "outputs": [],
   "source": [
    "import numpy as np\n",
    "\n",
    "def pagerank(M, num_iterations: int = 0, d: float = 0.85):\n",
    "    \"\"\"PageRank algorithm with explicit number of iterations. Returns ranking of nodes (pages) in the adjacency matrix.\n",
    "\n",
    "    Parameters\n",
    "    ----------\n",
    "    M : numpy array\n",
    "        adjacency matrix where M_i,j represents the link from 'j' to 'i', such that for all 'j'\n",
    "        sum(i, M_i,j) = 1\n",
    "    num_iterations : int, optional\n",
    "        number of iterations, by default 100\n",
    "    d : float, optional\n",
    "        damping factor, by default 0.85\n",
    "\n",
    "    Returns\n",
    "    -------\n",
    "    numpy array\n",
    "        a vector of ranks such that v_i is the i-th rank from [0, 1],\n",
    "        v sums to 1\n",
    "\n",
    "    \"\"\"\n",
    "    N = M.shape[1]\n",
    "    v = np.ones(N) / N\n",
    "    M_hat = (d * M + (1 - d) / N)\n",
    "    for i in range(num_iterations):\n",
    "        v = M_hat @ v\n",
    "    return v\n",
    "\n",
    "M = np.array([[0, 0, 0, 0, 1],\n",
    "              [0.5, 0, 0, 0, 0],\n",
    "              [0.5, 0, 0, 0, 0],\n",
    "              [0, 1, 0.5, 0, 0],\n",
    "              [0, 0, 0.5, 1, 0]])\n",
    "v = pagerank(M, 100, 0.85)"
   ]
  },
  {
   "cell_type": "code",
   "execution_count": 14,
   "id": "d3d0995b",
   "metadata": {},
   "outputs": [
    {
     "data": {
      "text/plain": [
       "array([0.25419178, 0.13803151, 0.13803151, 0.20599017, 0.26375504])"
      ]
     },
     "execution_count": 14,
     "metadata": {},
     "output_type": "execute_result"
    }
   ],
   "source": [
    "v"
   ]
  },
  {
   "cell_type": "code",
   "execution_count": null,
   "id": "72c5c394",
   "metadata": {},
   "outputs": [],
   "source": []
  },
  {
   "cell_type": "code",
   "execution_count": null,
   "id": "e7cb8c05",
   "metadata": {},
   "outputs": [],
   "source": []
  },
  {
   "cell_type": "code",
   "execution_count": null,
   "id": "3e010f07",
   "metadata": {},
   "outputs": [],
   "source": [
    "#variables to be taken into Knowledge Graph\n",
    "#17 original_language"
   ]
  },
  {
   "cell_type": "code",
   "execution_count": 4,
   "id": "cd06108b",
   "metadata": {},
   "outputs": [
    {
     "data": {
      "text/plain": [
       "(0, 34)"
      ]
     },
     "execution_count": 4,
     "metadata": {},
     "output_type": "execute_result"
    }
   ],
   "source": [
    "#not even one movie is adult\n",
    "movie_v2[movie_v2[\"adult\"]==True].shape"
   ]
  },
  {
   "cell_type": "code",
   "execution_count": 28,
   "id": "32f29937",
   "metadata": {},
   "outputs": [
    {
     "data": {
      "text/plain": [
       "\"[{'id': 12, 'name': 'Adventure'}, {'id': 28, 'name': 'Action'}, {'id': 53, 'name': 'Thriller'}]\""
      ]
     },
     "execution_count": 28,
     "metadata": {},
     "output_type": "execute_result"
    }
   ],
   "source": [
    "movie_v2[\"genres.1\"][1]"
   ]
  },
  {
   "cell_type": "code",
   "execution_count": 33,
   "id": "6e594654",
   "metadata": {},
   "outputs": [
    {
     "data": {
      "text/plain": [
       "movieId                           10\n",
       "title               GoldenEye (1995)\n",
       "genres     Action|Adventure|Thriller\n",
       "year                            1995\n",
       "Name: 1, dtype: object"
      ]
     },
     "execution_count": 33,
     "metadata": {},
     "output_type": "execute_result"
    }
   ],
   "source": [
    "movie_v2.iloc[1,:].head(4)"
   ]
  },
  {
   "cell_type": "code",
   "execution_count": 38,
   "id": "2c0e6132",
   "metadata": {},
   "outputs": [
    {
     "data": {
      "text/plain": [
       "en    3299\n",
       "fr     123\n",
       "it      43\n",
       "de      39\n",
       "es      33\n",
       "ja      30\n",
       "zh      18\n",
       "cn      15\n",
       "ru       9\n",
       "fa       7\n",
       "sv       7\n",
       "nl       5\n",
       "pt       4\n",
       "da       4\n",
       "no       3\n",
       "sr       3\n",
       "xx       2\n",
       "ar       2\n",
       "cs       2\n",
       "hu       2\n",
       "bn       2\n",
       "pl       2\n",
       "vi       1\n",
       "ta       1\n",
       "ca       1\n",
       "bo       1\n",
       "ka       1\n",
       "sh       1\n",
       "ko       1\n",
       "tr       1\n",
       "hi       1\n",
       "mk       1\n",
       "el       1\n",
       "nb       1\n",
       "Name: original_language, dtype: int64"
      ]
     },
     "execution_count": 38,
     "metadata": {},
     "output_type": "execute_result"
    }
   ],
   "source": [
    "movie_v2[\"original_language\"].value_counts()"
   ]
  },
  {
   "cell_type": "code",
   "execution_count": 1,
   "id": "d3d6adbe",
   "metadata": {},
   "outputs": [],
   "source": [
    "#knowledge graph building\n"
   ]
  },
  {
   "cell_type": "code",
   "execution_count": null,
   "id": "9a591358",
   "metadata": {},
   "outputs": [],
   "source": [
    "ratings_original = ratings[[\"userId\",\"movieId\",\"rating\"]].copy()"
   ]
  }
 ],
 "metadata": {
  "kernelspec": {
   "display_name": "Python 3",
   "language": "python",
   "name": "python3"
  },
  "language_info": {
   "codemirror_mode": {
    "name": "ipython",
    "version": 3
   },
   "file_extension": ".py",
   "mimetype": "text/x-python",
   "name": "python",
   "nbconvert_exporter": "python",
   "pygments_lexer": "ipython3",
   "version": "3.8.8"
  }
 },
 "nbformat": 4,
 "nbformat_minor": 5
}
