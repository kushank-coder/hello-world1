{
 "cells": [
  {
   "cell_type": "code",
   "execution_count": 1,
   "id": "ee0c9915",
   "metadata": {},
   "outputs": [],
   "source": [
    "import pandas as pd\n",
    "import numpy as np\n",
    "import seaborn as sns\n",
    "import matplotlib.pyplot as plt\n",
    "from tqdm.notebook import tqdm\n",
    "tqdm.pandas()"
   ]
  },
  {
   "cell_type": "code",
   "execution_count": 2,
   "id": "e1dc54c0",
   "metadata": {},
   "outputs": [],
   "source": [
    "movies = pd.read_csv(\"mv-1m_movies_rf.csv\")\n",
    "ratings = pd.read_csv(\"mv-1m_rating_rf.csv\")\n",
    "users = pd.read_csv(\"mv-1m_user_rf.csv\")"
   ]
  },
  {
   "cell_type": "code",
   "execution_count": 3,
   "id": "855d9da5",
   "metadata": {},
   "outputs": [],
   "source": [
    "links_Meta = pd.read_csv(\"links_Meta.csv\")"
   ]
  },
  {
   "cell_type": "code",
   "execution_count": 4,
   "id": "233f7448",
   "metadata": {},
   "outputs": [
    {
     "name": "stdout",
     "output_type": "stream",
     "text": [
      "   movieId             title                                       genres  \\\n",
      "0        1  Toy Story (1995)  Adventure|Animation|Children|Comedy|Fantasy   \n",
      "1        2    Jumanji (1995)                   Adventure|Children|Fantasy   \n",
      "\n",
      "   year  \n",
      "0  1995  \n",
      "1  1995  \n",
      "\n",
      "\n",
      "   userId  movieId  rating\n",
      "0       1     1193       5\n",
      "1       1      661       3\n",
      "\n",
      "\n",
      "   userId gender  age     occupation zipcode\n",
      "0       1      F    1   K-12 student   48067\n",
      "1       2      M   56  self-employed   70072\n",
      "\n",
      "\n",
      "   movieId  imdbId  tmdbId                                          meta_data\n",
      "0        1  114709   862.0  {'adult': False, 'backdrop_path': '/3Rfvhy1Nl6...\n",
      "1        2  113497  8844.0  {'adult': False, 'backdrop_path': '/dH5BdTa6iS...\n"
     ]
    }
   ],
   "source": [
    "#some genres are missing in movie_data\n",
    "print(movies.head(2)) \n",
    "print('\\n')\n",
    "print(ratings.head(2))\n",
    "print('\\n')\n",
    "print(users.head(2))\n",
    "print('\\n')\n",
    "print(links_Meta.head(2))"
   ]
  },
  {
   "cell_type": "code",
   "execution_count": 5,
   "id": "802e6f32",
   "metadata": {},
   "outputs": [
    {
     "name": "stdout",
     "output_type": "stream",
     "text": [
      "<class 'pandas.core.frame.DataFrame'>\n",
      "RangeIndex: 3883 entries, 0 to 3882\n",
      "Data columns (total 4 columns):\n",
      " #   Column   Non-Null Count  Dtype \n",
      "---  ------   --------------  ----- \n",
      " 0   movieId  3883 non-null   int64 \n",
      " 1   title    3883 non-null   object\n",
      " 2   genres   3859 non-null   object\n",
      " 3   year     3883 non-null   int64 \n",
      "dtypes: int64(2), object(2)\n",
      "memory usage: 121.5+ KB\n"
     ]
    }
   ],
   "source": [
    "#24 entries are missing in genre\n",
    "movies.info()   "
   ]
  },
  {
   "cell_type": "code",
   "execution_count": 6,
   "id": "da66eebd",
   "metadata": {},
   "outputs": [
    {
     "name": "stdout",
     "output_type": "stream",
     "text": [
      "<class 'pandas.core.frame.DataFrame'>\n",
      "RangeIndex: 1000209 entries, 0 to 1000208\n",
      "Data columns (total 3 columns):\n",
      " #   Column   Non-Null Count    Dtype\n",
      "---  ------   --------------    -----\n",
      " 0   userId   1000209 non-null  int64\n",
      " 1   movieId  1000209 non-null  int64\n",
      " 2   rating   1000209 non-null  int64\n",
      "dtypes: int64(3)\n",
      "memory usage: 22.9 MB\n"
     ]
    }
   ],
   "source": [
    "ratings.info()"
   ]
  },
  {
   "cell_type": "code",
   "execution_count": null,
   "id": "6e43efee",
   "metadata": {},
   "outputs": [],
   "source": [
    "users.info()"
   ]
  },
  {
   "cell_type": "code",
   "execution_count": 7,
   "id": "ebbd7fd1",
   "metadata": {},
   "outputs": [],
   "source": [
    "#some userID movieID were in integer format so changed the formAT FOR ALL THE DATA\n",
    "movies[\"movieId\"] = movies[\"movieId\"].astype(str)\n",
    "ratings[['userId','movieId']] =ratings[['userId', 'movieId']].astype(str)\n",
    "users['userId'] = users['userId'].astype(str)\n",
    "links_Meta[\"movieId\"] = links_Meta[\"movieId\"].astype(str)"
   ]
  },
  {
   "cell_type": "code",
   "execution_count": 8,
   "id": "2db0052a",
   "metadata": {},
   "outputs": [
    {
     "data": {
      "text/plain": [
       "6040"
      ]
     },
     "execution_count": 8,
     "metadata": {},
     "output_type": "execute_result"
    }
   ],
   "source": [
    "#all users in users dataset are one line entry\n",
    "users[\"userId\"].nunique()"
   ]
  },
  {
   "cell_type": "code",
   "execution_count": 9,
   "id": "66735630",
   "metadata": {},
   "outputs": [
    {
     "name": "stdout",
     "output_type": "stream",
     "text": [
      "4    348971\n",
      "3    261197\n",
      "5    226310\n",
      "2    107557\n",
      "1     56174\n",
      "Name: rating, dtype: int64\n",
      "userId     6040\n",
      "movieId    3706\n",
      "rating        5\n",
      "dtype: int64\n"
     ]
    }
   ],
   "source": [
    "#ratings are integers from 1 to 5\n",
    "print(ratings[\"rating\"].value_counts())\n",
    "print(ratings.nunique())"
   ]
  },
  {
   "cell_type": "code",
   "execution_count": 10,
   "id": "1bc4de52",
   "metadata": {},
   "outputs": [
    {
     "data": {
      "text/html": [
       "<div>\n",
       "<style scoped>\n",
       "    .dataframe tbody tr th:only-of-type {\n",
       "        vertical-align: middle;\n",
       "    }\n",
       "\n",
       "    .dataframe tbody tr th {\n",
       "        vertical-align: top;\n",
       "    }\n",
       "\n",
       "    .dataframe thead th {\n",
       "        text-align: right;\n",
       "    }\n",
       "</style>\n",
       "<table border=\"1\" class=\"dataframe\">\n",
       "  <thead>\n",
       "    <tr style=\"text-align: right;\">\n",
       "      <th></th>\n",
       "      <th>count(distinct movieId)</th>\n",
       "    </tr>\n",
       "  </thead>\n",
       "  <tbody>\n",
       "    <tr>\n",
       "      <th>0</th>\n",
       "      <td>177</td>\n",
       "    </tr>\n",
       "  </tbody>\n",
       "</table>\n",
       "</div>"
      ],
      "text/plain": [
       "   count(distinct movieId)\n",
       "0                      177"
      ]
     },
     "execution_count": 10,
     "metadata": {},
     "output_type": "execute_result"
    }
   ],
   "source": [
    "#ALL USERS have given alteast 1 rating\n",
    "# ALL Movies DOES NOT have ratings (about 177 movies dont have rating)\n",
    "\n",
    "from pandasql import sqldf \n",
    "mysql = lambda q: sqldf(q, globals())\n",
    "query = '''\n",
    "SELECT count(distinct movieId)\n",
    "FROM movies\n",
    "where movieId not in (select distinct movieId from ratings);\n",
    "'''\n",
    "mysql(query)  "
   ]
  },
  {
   "cell_type": "code",
   "execution_count": 11,
   "id": "6fa31d8c",
   "metadata": {},
   "outputs": [],
   "source": [
    "# MADE THE YEAR column in the movies datadet\n",
    "#movies[\"year\"] =\n",
    "movies[\"year\"] = movies[\"title\"].str[-5:].str[:-1]"
   ]
  },
  {
   "cell_type": "code",
   "execution_count": 12,
   "id": "7cd5777c",
   "metadata": {},
   "outputs": [
    {
     "data": {
      "text/html": [
       "<div>\n",
       "<style scoped>\n",
       "    .dataframe tbody tr th:only-of-type {\n",
       "        vertical-align: middle;\n",
       "    }\n",
       "\n",
       "    .dataframe tbody tr th {\n",
       "        vertical-align: top;\n",
       "    }\n",
       "\n",
       "    .dataframe thead th {\n",
       "        text-align: right;\n",
       "    }\n",
       "</style>\n",
       "<table border=\"1\" class=\"dataframe\">\n",
       "  <thead>\n",
       "    <tr style=\"text-align: right;\">\n",
       "      <th></th>\n",
       "      <th>userId</th>\n",
       "      <th>gender</th>\n",
       "      <th>age</th>\n",
       "      <th>occupation</th>\n",
       "      <th>zipcode</th>\n",
       "    </tr>\n",
       "  </thead>\n",
       "  <tbody>\n",
       "    <tr>\n",
       "      <th>0</th>\n",
       "      <td>1</td>\n",
       "      <td>F</td>\n",
       "      <td>1</td>\n",
       "      <td>K-12 student</td>\n",
       "      <td>48067</td>\n",
       "    </tr>\n",
       "    <tr>\n",
       "      <th>1</th>\n",
       "      <td>2</td>\n",
       "      <td>M</td>\n",
       "      <td>56</td>\n",
       "      <td>self-employed</td>\n",
       "      <td>70072</td>\n",
       "    </tr>\n",
       "  </tbody>\n",
       "</table>\n",
       "</div>"
      ],
      "text/plain": [
       "  userId gender  age     occupation zipcode\n",
       "0      1      F    1   K-12 student   48067\n",
       "1      2      M   56  self-employed   70072"
      ]
     },
     "execution_count": 12,
     "metadata": {},
     "output_type": "execute_result"
    }
   ],
   "source": [
    "#insights in user data\n",
    "users.head(2)"
   ]
  },
  {
   "cell_type": "code",
   "execution_count": 13,
   "id": "3392820c",
   "metadata": {},
   "outputs": [
    {
     "data": {
      "image/png": "[encoded data removed]",
      "text/plain": [
       "<Figure size 432x288 with 1 Axes>"
      ]
     },
     "metadata": {},
     "output_type": "display_data"
    }
   ],
   "source": [
    "labels = [\"MALE\", \"FEMALE\"]\n",
    "plt.pie(users[\"gender\"].value_counts(), colors = ['#66b3ff','#99ff99'], autopct=\"%.2f%%\",labels=labels)\n",
    "plt.axis(\"equal\")\n",
    "plt.show()"
   ]
  },
  {
   "cell_type": "code",
   "execution_count": 14,
   "id": "2eea87c2",
   "metadata": {},
   "outputs": [],
   "source": [
    "#80% of the population is younger population\n",
    "age_freq = users[\"age\"].value_counts(normalize=True)\n",
    "#print(dummy)"
   ]
  },
  {
   "cell_type": "code",
   "execution_count": 15,
   "id": "c00b2fc1",
   "metadata": {},
   "outputs": [
    {
     "data": {
      "text/plain": [
       "<AxesSubplot:>"
      ]
     },
     "execution_count": 15,
     "metadata": {},
     "output_type": "execute_result"
    },
    {
     "data": {
      "image/png": "[encoded data removed]",
      "text/plain": [
       "<Figure size 432x288 with 1 Axes>"
      ]
     },
     "metadata": {
      "needs_background": "light"
     },
     "output_type": "display_data"
    }
   ],
   "source": [
    "age_freq[age_freq.index.sort_values()].plot(kind='bar')"
   ]
  },
  {
   "cell_type": "code",
   "execution_count": 16,
   "id": "f5329408",
   "metadata": {},
   "outputs": [
    {
     "data": {
      "text/plain": [
       "college/grad student    759\n",
       "other/ns                711\n",
       "executive/managerial    679\n",
       "academic/educator       528\n",
       "technician/engineer     502\n",
       "Name: occupation, dtype: int64"
      ]
     },
     "execution_count": 16,
     "metadata": {},
     "output_type": "execute_result"
    }
   ],
   "source": [
    "users[\"occupation\"].value_counts().head(5)"
   ]
  },
  {
   "cell_type": "code",
   "execution_count": 17,
   "id": "7dd1c3d0",
   "metadata": {},
   "outputs": [
    {
     "data": {
      "text/plain": [
       "3439"
      ]
     },
     "execution_count": 17,
     "metadata": {},
     "output_type": "execute_result"
    }
   ],
   "source": [
    "users[\"zipcode\"].nunique()"
   ]
  },
  {
   "cell_type": "code",
   "execution_count": null,
   "id": "276a9cf4",
   "metadata": {},
   "outputs": [],
   "source": [
    "links_Meta.head(2)"
   ]
  },
  {
   "cell_type": "code",
   "execution_count": 18,
   "id": "53462ac6",
   "metadata": {},
   "outputs": [],
   "source": [
    "#Basically calculating the counts of movies that are drama based or comedy or thriller etc\n",
    "#These Genres are not disjoint sets (they do have common movies)\n",
    "from pandasql import sqldf \n",
    "mysql = lambda q: sqldf(q, globals())\n",
    "def genre_count(x):\n",
    "    query = '''\n",
    "    \n",
    "    SELECT count(*) as count\n",
    "    FROM movies\n",
    "    WHERE genres like '%{}%';\n",
    "    '''.format(x)\n",
    "    return mysql(query).loc[0,\"count\"]"
   ]
  },
  {
   "cell_type": "code",
   "execution_count": 19,
   "id": "ee9bbc2c",
   "metadata": {},
   "outputs": [],
   "source": [
    "genre_master = pd.read_csv(\"Genre_list.csv\")"
   ]
  },
  {
   "cell_type": "code",
   "execution_count": 20,
   "id": "079b7f2f",
   "metadata": {},
   "outputs": [],
   "source": [
    "genre_master[\"counts\"] = genre_master[\"genre_category\"].apply(genre_count)"
   ]
  },
  {
   "cell_type": "code",
   "execution_count": null,
   "id": "c2f975bf",
   "metadata": {},
   "outputs": [],
   "source": [
    "genre_master.to_csv('Genre_List_with_counts.csv',index=False) "
   ]
  },
  {
   "cell_type": "code",
   "execution_count": 21,
   "id": "5f536cc6",
   "metadata": {},
   "outputs": [
    {
     "data": {
      "text/plain": [
       "3883"
      ]
     },
     "execution_count": 21,
     "metadata": {},
     "output_type": "execute_result"
    }
   ],
   "source": [
    "total_movies = movies[\"movieId\"].nunique()\n",
    "total_movies"
   ]
  },
  {
   "cell_type": "code",
   "execution_count": 22,
   "id": "41c1eebc",
   "metadata": {},
   "outputs": [],
   "source": [
    "genre_master[\"%counts\"] = genre_master[\"counts\"]/total_movies"
   ]
  },
  {
   "cell_type": "code",
   "execution_count": 23,
   "id": "d87160d6",
   "metadata": {},
   "outputs": [
    {
     "data": {
      "text/plain": [
       "<AxesSubplot:xlabel='genre_category', ylabel='%counts'>"
      ]
     },
     "execution_count": 23,
     "metadata": {},
     "output_type": "execute_result"
    },
    {
     "data": {
      "image/png": "[encoded data removed]",
      "text/plain": [
       "<Figure size 432x288 with 1 Axes>"
      ]
     },
     "metadata": {
      "needs_background": "light"
     },
     "output_type": "display_data"
    }
   ],
   "source": [
    "genre_master.sort_values(by = ['%counts'], ascending = [False],inplace= True)\n",
    "sns.barplot(x='genre_category',y='%counts',data=genre_master.head(6),estimator=np.sum)"
   ]
  },
  {
   "cell_type": "markdown",
   "id": "5f219700",
   "metadata": {},
   "source": [
    "## MERGING ALL THE DATASETS"
   ]
  },
  {
   "cell_type": "code",
   "execution_count": 24,
   "id": "30e223dc",
   "metadata": {},
   "outputs": [
    {
     "data": {
      "text/plain": [
       "'1919'"
      ]
     },
     "execution_count": 24,
     "metadata": {},
     "output_type": "execute_result"
    }
   ],
   "source": [
    "#From year 1919 to 2000 year movies are kept\n",
    "year_freq = movies[\"year\"].value_counts(normalize=True)\n",
    "year_freq.index.min()"
   ]
  },
  {
   "cell_type": "code",
   "execution_count": 26,
   "id": "f2e928e0",
   "metadata": {},
   "outputs": [],
   "source": [
    "ratings.sort_values(by = ['userId', 'movieId'], ascending = [True, True],inplace=True)\n",
    "movies.sort_values(by = ['movieId'], ascending = [True],inplace=True)"
   ]
  },
  {
   "cell_type": "code",
   "execution_count": 27,
   "id": "b5eea01d",
   "metadata": {},
   "outputs": [
    {
     "name": "stdout",
     "output_type": "stream",
     "text": [
      "<class 'pandas.core.frame.DataFrame'>\n",
      "Int64Index: 1000209 entries, 0 to 1000208\n",
      "Data columns (total 6 columns):\n",
      " #   Column   Non-Null Count    Dtype \n",
      "---  ------   --------------    ----- \n",
      " 0   userId   1000209 non-null  object\n",
      " 1   movieId  1000209 non-null  object\n",
      " 2   rating   1000209 non-null  int64 \n",
      " 3   title    1000209 non-null  object\n",
      " 4   genres   998034 non-null   object\n",
      " 5   year     1000209 non-null  object\n",
      "dtypes: int64(1), object(5)\n",
      "memory usage: 53.4+ MB\n"
     ]
    }
   ],
   "source": [
    "ratings = ratings.merge(movies,left_on=['movieId'],right_on=['movieId'],how=\"left\")\n",
    "ratings.info()"
   ]
  },
  {
   "cell_type": "code",
   "execution_count": 28,
   "id": "9aa4acb7",
   "metadata": {},
   "outputs": [],
   "source": [
    "links_Meta.sort_values(by = ['movieId'], ascending = [True],inplace=True)"
   ]
  },
  {
   "cell_type": "code",
   "execution_count": 29,
   "id": "15d4d9e1",
   "metadata": {},
   "outputs": [
    {
     "name": "stdout",
     "output_type": "stream",
     "text": [
      "<class 'pandas.core.frame.DataFrame'>\n",
      "Int64Index: 1000209 entries, 0 to 1000208\n",
      "Data columns (total 7 columns):\n",
      " #   Column     Non-Null Count    Dtype \n",
      "---  ------     --------------    ----- \n",
      " 0   userId     1000209 non-null  object\n",
      " 1   movieId    1000209 non-null  object\n",
      " 2   rating     1000209 non-null  int64 \n",
      " 3   title      1000209 non-null  object\n",
      " 4   genres     998034 non-null   object\n",
      " 5   year       1000209 non-null  object\n",
      " 6   meta_data  998034 non-null   object\n",
      "dtypes: int64(1), object(6)\n",
      "memory usage: 61.0+ MB\n"
     ]
    }
   ],
   "source": [
    "ratings = ratings.merge(links_Meta[[\"movieId\",\"meta_data\"]],left_on=['movieId'],right_on=['movieId'],how=\"left\")\n",
    "ratings.info()"
   ]
  },
  {
   "cell_type": "code",
   "execution_count": 30,
   "id": "6d97a814",
   "metadata": {},
   "outputs": [],
   "source": [
    "users.sort_values(by = \"userId\",ascending = [True],inplace=True)\n",
    "ratings.sort_values(by = \"userId\",ascending = [True],inplace=True)"
   ]
  },
  {
   "cell_type": "code",
   "execution_count": 31,
   "id": "6edf3063",
   "metadata": {},
   "outputs": [
    {
     "name": "stdout",
     "output_type": "stream",
     "text": [
      "<class 'pandas.core.frame.DataFrame'>\n",
      "Int64Index: 1000209 entries, 0 to 1000208\n",
      "Data columns (total 11 columns):\n",
      " #   Column      Non-Null Count    Dtype \n",
      "---  ------      --------------    ----- \n",
      " 0   userId      1000209 non-null  object\n",
      " 1   movieId     1000209 non-null  object\n",
      " 2   rating      1000209 non-null  int64 \n",
      " 3   title       1000209 non-null  object\n",
      " 4   genres      998034 non-null   object\n",
      " 5   year        1000209 non-null  object\n",
      " 6   meta_data   998034 non-null   object\n",
      " 7   gender      1000209 non-null  object\n",
      " 8   age         1000209 non-null  int64 \n",
      " 9   occupation  1000209 non-null  object\n",
      " 10  zipcode     1000209 non-null  object\n",
      "dtypes: int64(2), object(9)\n",
      "memory usage: 91.6+ MB\n"
     ]
    }
   ],
   "source": [
    "ratings = ratings.merge(users,left_on=['userId'],right_on=['userId'],how=\"left\")\n",
    "ratings.info()"
   ]
  },
  {
   "cell_type": "markdown",
   "id": "8712af50",
   "metadata": {},
   "source": [
    "## Ratings + users + meta_Data + Movies (combo data is ratings_v2.csv)"
   ]
  },
  {
   "cell_type": "code",
   "execution_count": null,
   "id": "0542ce40",
   "metadata": {},
   "outputs": [],
   "source": [
    "#DATA IS MERGED NOW\n",
    "ratings.to_csv('ratings_v2.csv',index=False) "
   ]
  },
  {
   "cell_type": "code",
   "execution_count": 32,
   "id": "52cac882",
   "metadata": {},
   "outputs": [],
   "source": [
    "  from pandasql import sqldf \n",
    "mysql = lambda q: sqldf(q, globals())\n",
    "query = '''\n",
    "SELECT movieId , title , genres, year,meta_data , count(DISTINCT userId) as distinct_user_Count, count(*) as count_of_ratings, sum(rating) as sum_ratings\n",
    "FROM ratings\n",
    "group by movieId,title,genres,year,meta_data\n",
    "'''\n",
    "movie_summary = mysql(query)"
   ]
  },
  {
   "cell_type": "markdown",
   "id": "04c20cab",
   "metadata": {},
   "source": [
    "### movie_Summary (= movie_wise_summary.csv) is derived from ratings_v2 data"
   ]
  },
  {
   "cell_type": "code",
   "execution_count": 33,
   "id": "75aa48b2",
   "metadata": {},
   "outputs": [
    {
     "data": {
      "text/plain": [
       "3582313"
      ]
     },
     "execution_count": 33,
     "metadata": {},
     "output_type": "execute_result"
    }
   ],
   "source": [
    "movie_summary[\"sum_ratings\"].sum()"
   ]
  },
  {
   "cell_type": "code",
   "execution_count": 34,
   "id": "5b2bfacc",
   "metadata": {},
   "outputs": [
    {
     "data": {
      "text/html": [
       "<div>\n",
       "<style scoped>\n",
       "    .dataframe tbody tr th:only-of-type {\n",
       "        vertical-align: middle;\n",
       "    }\n",
       "\n",
       "    .dataframe tbody tr th {\n",
       "        vertical-align: top;\n",
       "    }\n",
       "\n",
       "    .dataframe thead th {\n",
       "        text-align: right;\n",
       "    }\n",
       "</style>\n",
       "<table border=\"1\" class=\"dataframe\">\n",
       "  <thead>\n",
       "    <tr style=\"text-align: right;\">\n",
       "      <th></th>\n",
       "      <th>movieId</th>\n",
       "      <th>title</th>\n",
       "      <th>genres</th>\n",
       "      <th>year</th>\n",
       "      <th>meta_data</th>\n",
       "      <th>distinct_user_Count</th>\n",
       "      <th>count_of_ratings</th>\n",
       "      <th>sum_ratings</th>\n",
       "    </tr>\n",
       "  </thead>\n",
       "  <tbody>\n",
       "    <tr>\n",
       "      <th>0</th>\n",
       "      <td>1</td>\n",
       "      <td>Toy Story (1995)</td>\n",
       "      <td>Adventure|Animation|Children|Comedy|Fantasy</td>\n",
       "      <td>1995</td>\n",
       "      <td>{'adult': False, 'backdrop_path': '/3Rfvhy1Nl6...</td>\n",
       "      <td>2077</td>\n",
       "      <td>2077</td>\n",
       "      <td>8613</td>\n",
       "    </tr>\n",
       "    <tr>\n",
       "      <th>1</th>\n",
       "      <td>10</td>\n",
       "      <td>GoldenEye (1995)</td>\n",
       "      <td>Action|Adventure|Thriller</td>\n",
       "      <td>1995</td>\n",
       "      <td>{'adult': False, 'backdrop_path': '/8o9FsYGpQg...</td>\n",
       "      <td>888</td>\n",
       "      <td>888</td>\n",
       "      <td>3144</td>\n",
       "    </tr>\n",
       "  </tbody>\n",
       "</table>\n",
       "</div>"
      ],
      "text/plain": [
       "  movieId             title                                       genres  \\\n",
       "0       1  Toy Story (1995)  Adventure|Animation|Children|Comedy|Fantasy   \n",
       "1      10  GoldenEye (1995)                    Action|Adventure|Thriller   \n",
       "\n",
       "   year                                          meta_data  \\\n",
       "0  1995  {'adult': False, 'backdrop_path': '/3Rfvhy1Nl6...   \n",
       "1  1995  {'adult': False, 'backdrop_path': '/8o9FsYGpQg...   \n",
       "\n",
       "   distinct_user_Count  count_of_ratings  sum_ratings  \n",
       "0                 2077              2077         8613  \n",
       "1                  888               888         3144  "
      ]
     },
     "execution_count": 34,
     "metadata": {},
     "output_type": "execute_result"
    }
   ],
   "source": [
    "movie_summary.head(2)"
   ]
  },
  {
   "cell_type": "code",
   "execution_count": 35,
   "id": "c87ccbb4",
   "metadata": {},
   "outputs": [],
   "source": [
    "movie_summary.to_csv('movies_wise_summary.csv',index=False) "
   ]
  },
  {
   "cell_type": "code",
   "execution_count": 36,
   "id": "220a6e79",
   "metadata": {},
   "outputs": [],
   "source": [
    "movie_summary[\"average_rating\"] = movie_summary[\"sum_ratings\"] / movie_summary[\"count_of_ratings\"]"
   ]
  },
  {
   "cell_type": "code",
   "execution_count": 37,
   "id": "fddca8bd",
   "metadata": {},
   "outputs": [
    {
     "data": {
      "text/html": [
       "<div>\n",
       "<style scoped>\n",
       "    .dataframe tbody tr th:only-of-type {\n",
       "        vertical-align: middle;\n",
       "    }\n",
       "\n",
       "    .dataframe tbody tr th {\n",
       "        vertical-align: top;\n",
       "    }\n",
       "\n",
       "    .dataframe thead th {\n",
       "        text-align: right;\n",
       "    }\n",
       "</style>\n",
       "<table border=\"1\" class=\"dataframe\">\n",
       "  <thead>\n",
       "    <tr style=\"text-align: right;\">\n",
       "      <th></th>\n",
       "      <th>movieId</th>\n",
       "      <th>title</th>\n",
       "      <th>genres</th>\n",
       "      <th>year</th>\n",
       "      <th>meta_data</th>\n",
       "      <th>distinct_user_Count</th>\n",
       "      <th>count_of_ratings</th>\n",
       "      <th>sum_ratings</th>\n",
       "      <th>average_rating</th>\n",
       "    </tr>\n",
       "  </thead>\n",
       "  <tbody>\n",
       "    <tr>\n",
       "      <th>0</th>\n",
       "      <td>1</td>\n",
       "      <td>Toy Story (1995)</td>\n",
       "      <td>Adventure|Animation|Children|Comedy|Fantasy</td>\n",
       "      <td>1995</td>\n",
       "      <td>{'adult': False, 'backdrop_path': '/3Rfvhy1Nl6...</td>\n",
       "      <td>2077</td>\n",
       "      <td>2077</td>\n",
       "      <td>8613</td>\n",
       "      <td>4.146846</td>\n",
       "    </tr>\n",
       "    <tr>\n",
       "      <th>1</th>\n",
       "      <td>10</td>\n",
       "      <td>GoldenEye (1995)</td>\n",
       "      <td>Action|Adventure|Thriller</td>\n",
       "      <td>1995</td>\n",
       "      <td>{'adult': False, 'backdrop_path': '/8o9FsYGpQg...</td>\n",
       "      <td>888</td>\n",
       "      <td>888</td>\n",
       "      <td>3144</td>\n",
       "      <td>3.540541</td>\n",
       "    </tr>\n",
       "  </tbody>\n",
       "</table>\n",
       "</div>"
      ],
      "text/plain": [
       "  movieId             title                                       genres  \\\n",
       "0       1  Toy Story (1995)  Adventure|Animation|Children|Comedy|Fantasy   \n",
       "1      10  GoldenEye (1995)                    Action|Adventure|Thriller   \n",
       "\n",
       "   year                                          meta_data  \\\n",
       "0  1995  {'adult': False, 'backdrop_path': '/3Rfvhy1Nl6...   \n",
       "1  1995  {'adult': False, 'backdrop_path': '/8o9FsYGpQg...   \n",
       "\n",
       "   distinct_user_Count  count_of_ratings  sum_ratings  average_rating  \n",
       "0                 2077              2077         8613        4.146846  \n",
       "1                  888               888         3144        3.540541  "
      ]
     },
     "execution_count": 37,
     "metadata": {},
     "output_type": "execute_result"
    }
   ],
   "source": [
    "movie_summary.head(2)"
   ]
  },
  {
   "cell_type": "code",
   "execution_count": 38,
   "id": "8ac96248",
   "metadata": {},
   "outputs": [
    {
     "data": {
      "text/html": [
       "<div>\n",
       "<style scoped>\n",
       "    .dataframe tbody tr th:only-of-type {\n",
       "        vertical-align: middle;\n",
       "    }\n",
       "\n",
       "    .dataframe tbody tr th {\n",
       "        vertical-align: top;\n",
       "    }\n",
       "\n",
       "    .dataframe thead th {\n",
       "        text-align: right;\n",
       "    }\n",
       "</style>\n",
       "<table border=\"1\" class=\"dataframe\">\n",
       "  <thead>\n",
       "    <tr style=\"text-align: right;\">\n",
       "      <th></th>\n",
       "      <th>movieId</th>\n",
       "      <th>title</th>\n",
       "      <th>genres</th>\n",
       "      <th>year</th>\n",
       "      <th>meta_data</th>\n",
       "      <th>distinct_user_Count</th>\n",
       "      <th>count_of_ratings</th>\n",
       "      <th>sum_ratings</th>\n",
       "      <th>average_rating</th>\n",
       "    </tr>\n",
       "  </thead>\n",
       "  <tbody>\n",
       "  </tbody>\n",
       "</table>\n",
       "</div>"
      ],
      "text/plain": [
       "Empty DataFrame\n",
       "Columns: [movieId, title, genres, year, meta_data, distinct_user_Count, count_of_ratings, sum_ratings, average_rating]\n",
       "Index: []"
      ]
     },
     "execution_count": 38,
     "metadata": {},
     "output_type": "execute_result"
    }
   ],
   "source": [
    "#tHE DISTINCT_USER_COUNT == COUNT_OF RATINGS = NO_OF_WATCHES (ek user ne ek movie ko ek baar se zyada rate nhn kiya)\n",
    "movie_summary[~(movie_summary[\"count_of_ratings\"]==movie_summary[\"distinct_user_Count\"])]"
   ]
  },
  {
   "cell_type": "code",
   "execution_count": 39,
   "id": "f68c68b5",
   "metadata": {},
   "outputs": [],
   "source": [
    "movie_summary.drop('distinct_user_Count',axis=1,inplace=True)"
   ]
  },
  {
   "cell_type": "code",
   "execution_count": 40,
   "id": "139c9c4a",
   "metadata": {},
   "outputs": [
    {
     "data": {
      "text/html": [
       "<div>\n",
       "<style scoped>\n",
       "    .dataframe tbody tr th:only-of-type {\n",
       "        vertical-align: middle;\n",
       "    }\n",
       "\n",
       "    .dataframe tbody tr th {\n",
       "        vertical-align: top;\n",
       "    }\n",
       "\n",
       "    .dataframe thead th {\n",
       "        text-align: right;\n",
       "    }\n",
       "</style>\n",
       "<table border=\"1\" class=\"dataframe\">\n",
       "  <thead>\n",
       "    <tr style=\"text-align: right;\">\n",
       "      <th></th>\n",
       "      <th>movieId</th>\n",
       "      <th>title</th>\n",
       "      <th>genres</th>\n",
       "      <th>year</th>\n",
       "      <th>meta_data</th>\n",
       "      <th>count_of_ratings</th>\n",
       "      <th>sum_ratings</th>\n",
       "      <th>average_rating</th>\n",
       "    </tr>\n",
       "  </thead>\n",
       "  <tbody>\n",
       "    <tr>\n",
       "      <th>0</th>\n",
       "      <td>1</td>\n",
       "      <td>Toy Story (1995)</td>\n",
       "      <td>Adventure|Animation|Children|Comedy|Fantasy</td>\n",
       "      <td>1995</td>\n",
       "      <td>{'adult': False, 'backdrop_path': '/3Rfvhy1Nl6...</td>\n",
       "      <td>2077</td>\n",
       "      <td>8613</td>\n",
       "      <td>4.146846</td>\n",
       "    </tr>\n",
       "    <tr>\n",
       "      <th>1</th>\n",
       "      <td>10</td>\n",
       "      <td>GoldenEye (1995)</td>\n",
       "      <td>Action|Adventure|Thriller</td>\n",
       "      <td>1995</td>\n",
       "      <td>{'adult': False, 'backdrop_path': '/8o9FsYGpQg...</td>\n",
       "      <td>888</td>\n",
       "      <td>3144</td>\n",
       "      <td>3.540541</td>\n",
       "    </tr>\n",
       "  </tbody>\n",
       "</table>\n",
       "</div>"
      ],
      "text/plain": [
       "  movieId             title                                       genres  \\\n",
       "0       1  Toy Story (1995)  Adventure|Animation|Children|Comedy|Fantasy   \n",
       "1      10  GoldenEye (1995)                    Action|Adventure|Thriller   \n",
       "\n",
       "   year                                          meta_data  count_of_ratings  \\\n",
       "0  1995  {'adult': False, 'backdrop_path': '/3Rfvhy1Nl6...              2077   \n",
       "1  1995  {'adult': False, 'backdrop_path': '/8o9FsYGpQg...               888   \n",
       "\n",
       "   sum_ratings  average_rating  \n",
       "0         8613        4.146846  \n",
       "1         3144        3.540541  "
      ]
     },
     "execution_count": 40,
     "metadata": {},
     "output_type": "execute_result"
    }
   ],
   "source": [
    "movie_summary.head(2)"
   ]
  },
  {
   "cell_type": "code",
   "execution_count": 41,
   "id": "0d94bfae",
   "metadata": {},
   "outputs": [
    {
     "data": {
      "text/plain": [
       "1000209"
      ]
     },
     "execution_count": 41,
     "metadata": {},
     "output_type": "execute_result"
    }
   ],
   "source": [
    "#Total watches must be equal to total ratings\n",
    "movie_summary[\"count_of_ratings\"].sum()  "
   ]
  },
  {
   "cell_type": "markdown",
   "id": "547f31ab",
   "metadata": {},
   "source": [
    "# Most_Popular_Movies"
   ]
  },
  {
   "cell_type": "markdown",
   "id": "b2df0f7a",
   "metadata": {},
   "source": [
    "### As per No of Ratings (watched)"
   ]
  },
  {
   "cell_type": "code",
   "execution_count": 42,
   "id": "c9b6850e",
   "metadata": {},
   "outputs": [
    {
     "data": {
      "text/html": [
       "<div>\n",
       "<style scoped>\n",
       "    .dataframe tbody tr th:only-of-type {\n",
       "        vertical-align: middle;\n",
       "    }\n",
       "\n",
       "    .dataframe tbody tr th {\n",
       "        vertical-align: top;\n",
       "    }\n",
       "\n",
       "    .dataframe thead th {\n",
       "        text-align: right;\n",
       "    }\n",
       "</style>\n",
       "<table border=\"1\" class=\"dataframe\">\n",
       "  <thead>\n",
       "    <tr style=\"text-align: right;\">\n",
       "      <th></th>\n",
       "      <th>title</th>\n",
       "      <th>count_of_ratings</th>\n",
       "      <th>average_rating</th>\n",
       "    </tr>\n",
       "  </thead>\n",
       "  <tbody>\n",
       "    <tr>\n",
       "      <th>1916</th>\n",
       "      <td>American Beauty (1999)</td>\n",
       "      <td>3428</td>\n",
       "      <td>4.317386</td>\n",
       "    </tr>\n",
       "    <tr>\n",
       "      <th>1640</th>\n",
       "      <td>Star Wars: Episode IV - A New Hope (1977)</td>\n",
       "      <td>2991</td>\n",
       "      <td>4.453694</td>\n",
       "    </tr>\n",
       "    <tr>\n",
       "      <th>191</th>\n",
       "      <td>Star Wars: Episode V - The Empire Strikes Back...</td>\n",
       "      <td>2990</td>\n",
       "      <td>4.292977</td>\n",
       "    </tr>\n",
       "    <tr>\n",
       "      <th>208</th>\n",
       "      <td>Star Wars: Episode VI - Return of the Jedi (1983)</td>\n",
       "      <td>2883</td>\n",
       "      <td>4.022893</td>\n",
       "    </tr>\n",
       "    <tr>\n",
       "      <th>3182</th>\n",
       "      <td>Jurassic Park (1993)</td>\n",
       "      <td>2672</td>\n",
       "      <td>3.763847</td>\n",
       "    </tr>\n",
       "    <tr>\n",
       "      <th>1025</th>\n",
       "      <td>Saving Private Ryan (1998)</td>\n",
       "      <td>2653</td>\n",
       "      <td>4.337354</td>\n",
       "    </tr>\n",
       "    <tr>\n",
       "      <th>3301</th>\n",
       "      <td>Terminator 2: Judgment Day (1991)</td>\n",
       "      <td>2649</td>\n",
       "      <td>4.058513</td>\n",
       "    </tr>\n",
       "    <tr>\n",
       "      <th>1610</th>\n",
       "      <td>Matrix, The (1999)</td>\n",
       "      <td>2590</td>\n",
       "      <td>4.315830</td>\n",
       "    </tr>\n",
       "    <tr>\n",
       "      <th>272</th>\n",
       "      <td>Back to the Future (1985)</td>\n",
       "      <td>2583</td>\n",
       "      <td>3.990321</td>\n",
       "    </tr>\n",
       "    <tr>\n",
       "      <th>3306</th>\n",
       "      <td>Silence of the Lambs, The (1991)</td>\n",
       "      <td>2578</td>\n",
       "      <td>4.351823</td>\n",
       "    </tr>\n",
       "  </tbody>\n",
       "</table>\n",
       "</div>"
      ],
      "text/plain": [
       "                                                  title  count_of_ratings  \\\n",
       "1916                             American Beauty (1999)              3428   \n",
       "1640          Star Wars: Episode IV - A New Hope (1977)              2991   \n",
       "191   Star Wars: Episode V - The Empire Strikes Back...              2990   \n",
       "208   Star Wars: Episode VI - Return of the Jedi (1983)              2883   \n",
       "3182                               Jurassic Park (1993)              2672   \n",
       "1025                         Saving Private Ryan (1998)              2653   \n",
       "3301                  Terminator 2: Judgment Day (1991)              2649   \n",
       "1610                                 Matrix, The (1999)              2590   \n",
       "272                           Back to the Future (1985)              2583   \n",
       "3306                   Silence of the Lambs, The (1991)              2578   \n",
       "\n",
       "      average_rating  \n",
       "1916        4.317386  \n",
       "1640        4.453694  \n",
       "191         4.292977  \n",
       "208         4.022893  \n",
       "3182        3.763847  \n",
       "1025        4.337354  \n",
       "3301        4.058513  \n",
       "1610        4.315830  \n",
       "272         3.990321  \n",
       "3306        4.351823  "
      ]
     },
     "execution_count": 42,
     "metadata": {},
     "output_type": "execute_result"
    }
   ],
   "source": [
    "movie_summary.sort_values(by = [\"count_of_ratings\",\"average_rating\"],ascending=[False, False])[[\"title\",\"count_of_ratings\",\"average_rating\"]].head(10)"
   ]
  },
  {
   "cell_type": "markdown",
   "id": "928be1ad",
   "metadata": {},
   "source": [
    "### As per average rating"
   ]
  },
  {
   "cell_type": "code",
   "execution_count": 43,
   "id": "7d9c86f6",
   "metadata": {},
   "outputs": [
    {
     "data": {
      "text/html": [
       "<div>\n",
       "<style scoped>\n",
       "    .dataframe tbody tr th:only-of-type {\n",
       "        vertical-align: middle;\n",
       "    }\n",
       "\n",
       "    .dataframe tbody tr th {\n",
       "        vertical-align: top;\n",
       "    }\n",
       "\n",
       "    .dataframe thead th {\n",
       "        text-align: right;\n",
       "    }\n",
       "</style>\n",
       "<table border=\"1\" class=\"dataframe\">\n",
       "  <thead>\n",
       "    <tr style=\"text-align: right;\">\n",
       "      <th></th>\n",
       "      <th>title</th>\n",
       "      <th>average_rating</th>\n",
       "      <th>count_of_ratings</th>\n",
       "    </tr>\n",
       "  </thead>\n",
       "  <tbody>\n",
       "    <tr>\n",
       "      <th>3492</th>\n",
       "      <td>Gate of Heavenly Peace, The (1995)</td>\n",
       "      <td>5.0</td>\n",
       "      <td>3</td>\n",
       "    </tr>\n",
       "    <tr>\n",
       "      <th>2317</th>\n",
       "      <td>Smashing Time (1967)</td>\n",
       "      <td>5.0</td>\n",
       "      <td>2</td>\n",
       "    </tr>\n",
       "    <tr>\n",
       "      <th>807</th>\n",
       "      <td>Follow the Bitch (1998)</td>\n",
       "      <td>5.0</td>\n",
       "      <td>1</td>\n",
       "    </tr>\n",
       "    <tr>\n",
       "      <th>2256</th>\n",
       "      <td>Ulysses (Ulisse) (1954)</td>\n",
       "      <td>5.0</td>\n",
       "      <td>1</td>\n",
       "    </tr>\n",
       "  </tbody>\n",
       "</table>\n",
       "</div>"
      ],
      "text/plain": [
       "                                   title  average_rating  count_of_ratings\n",
       "3492  Gate of Heavenly Peace, The (1995)             5.0                 3\n",
       "2317                Smashing Time (1967)             5.0                 2\n",
       "807              Follow the Bitch (1998)             5.0                 1\n",
       "2256             Ulysses (Ulisse) (1954)             5.0                 1"
      ]
     },
     "execution_count": 43,
     "metadata": {},
     "output_type": "execute_result"
    }
   ],
   "source": [
    "movie_summary.sort_values(by = [\"average_rating\",\"count_of_ratings\"],ascending=[False,False])[[\"title\",\"average_rating\",\"count_of_ratings\"]].head(4)"
   ]
  },
  {
   "cell_type": "code",
   "execution_count": null,
   "id": "f83b75a9",
   "metadata": {},
   "outputs": [],
   "source": [
    "#One Observation highest on an average rated movies have less no of votes (few people are voting)"
   ]
  },
  {
   "cell_type": "markdown",
   "id": "e615efd5",
   "metadata": {},
   "source": [
    "### As per Genre (also returning more than 1 column in apply function)"
   ]
  },
  {
   "cell_type": "code",
   "execution_count": 44,
   "id": "84e1c5bd",
   "metadata": {},
   "outputs": [],
   "source": [
    "from pandasql import sqldf \n",
    "mysql = lambda q: sqldf(q, globals())\n",
    "def genre_count(x):\n",
    "    query = '''\n",
    "    SELECT sum(count_of_ratings) as Total_votes , sum(average_rating * count_of_ratings) as Total_sum_of_Ratings\n",
    "    FROM movie_summary\n",
    "    WHERE genres like '%{}%';\n",
    "    '''.format(x)\n",
    "    \n",
    "    df =pd.Series(mysql(query).values.reshape(2,))\n",
    "# the above expression of df is when we want to return multiple columns for one entry we convert the return into series.    \n",
    "    return df\n",
    "\n",
    "#pd.Series(list(mysql(query)))\n",
    "genre_master = pd.read_csv(\"Genre_list.csv\")"
   ]
  },
  {
   "cell_type": "code",
   "execution_count": 45,
   "id": "7e3b19b3",
   "metadata": {},
   "outputs": [],
   "source": [
    "genre_master_cols = genre_master[\"genre_category\"].apply(lambda x: genre_count(x))"
   ]
  },
  {
   "cell_type": "code",
   "execution_count": 46,
   "id": "6c9c947b",
   "metadata": {},
   "outputs": [],
   "source": [
    "genre_master = pd.concat([genre_master,genre_master_cols],axis=1)"
   ]
  },
  {
   "cell_type": "code",
   "execution_count": 47,
   "id": "68b1efbf",
   "metadata": {},
   "outputs": [
    {
     "data": {
      "text/html": [
       "<div>\n",
       "<style scoped>\n",
       "    .dataframe tbody tr th:only-of-type {\n",
       "        vertical-align: middle;\n",
       "    }\n",
       "\n",
       "    .dataframe tbody tr th {\n",
       "        vertical-align: top;\n",
       "    }\n",
       "\n",
       "    .dataframe thead th {\n",
       "        text-align: right;\n",
       "    }\n",
       "</style>\n",
       "<table border=\"1\" class=\"dataframe\">\n",
       "  <thead>\n",
       "    <tr style=\"text-align: right;\">\n",
       "      <th></th>\n",
       "      <th>genre_category</th>\n",
       "      <th>0</th>\n",
       "      <th>1</th>\n",
       "    </tr>\n",
       "  </thead>\n",
       "  <tbody>\n",
       "    <tr>\n",
       "      <th>0</th>\n",
       "      <td>Action</td>\n",
       "      <td>253868.0</td>\n",
       "      <td>886292.0</td>\n",
       "    </tr>\n",
       "    <tr>\n",
       "      <th>1</th>\n",
       "      <td>Adventure</td>\n",
       "      <td>198548.0</td>\n",
       "      <td>708892.0</td>\n",
       "    </tr>\n",
       "  </tbody>\n",
       "</table>\n",
       "</div>"
      ],
      "text/plain": [
       "  genre_category         0         1\n",
       "0         Action  253868.0  886292.0\n",
       "1      Adventure  198548.0  708892.0"
      ]
     },
     "execution_count": 47,
     "metadata": {},
     "output_type": "execute_result"
    }
   ],
   "source": [
    "genre_master.head(2)"
   ]
  },
  {
   "cell_type": "code",
   "execution_count": 48,
   "id": "f1c5f000",
   "metadata": {},
   "outputs": [],
   "source": [
    "genre_master.dropna(inplace = True)"
   ]
  },
  {
   "cell_type": "code",
   "execution_count": 49,
   "id": "e0ca4f23",
   "metadata": {},
   "outputs": [
    {
     "data": {
      "text/html": [
       "<div>\n",
       "<style scoped>\n",
       "    .dataframe tbody tr th:only-of-type {\n",
       "        vertical-align: middle;\n",
       "    }\n",
       "\n",
       "    .dataframe tbody tr th {\n",
       "        vertical-align: top;\n",
       "    }\n",
       "\n",
       "    .dataframe thead th {\n",
       "        text-align: right;\n",
       "    }\n",
       "</style>\n",
       "<table border=\"1\" class=\"dataframe\">\n",
       "  <thead>\n",
       "    <tr style=\"text-align: right;\">\n",
       "      <th></th>\n",
       "      <th>genre_category</th>\n",
       "      <th>0</th>\n",
       "      <th>1</th>\n",
       "    </tr>\n",
       "  </thead>\n",
       "  <tbody>\n",
       "    <tr>\n",
       "      <th>0</th>\n",
       "      <td>Action</td>\n",
       "      <td>253868.0</td>\n",
       "      <td>886292.0</td>\n",
       "    </tr>\n",
       "    <tr>\n",
       "      <th>1</th>\n",
       "      <td>Adventure</td>\n",
       "      <td>198548.0</td>\n",
       "      <td>708892.0</td>\n",
       "    </tr>\n",
       "  </tbody>\n",
       "</table>\n",
       "</div>"
      ],
      "text/plain": [
       "  genre_category         0         1\n",
       "0         Action  253868.0  886292.0\n",
       "1      Adventure  198548.0  708892.0"
      ]
     },
     "execution_count": 49,
     "metadata": {},
     "output_type": "execute_result"
    }
   ],
   "source": [
    "genre_master.head(2)"
   ]
  },
  {
   "cell_type": "code",
   "execution_count": 50,
   "id": "2652b3b7",
   "metadata": {},
   "outputs": [],
   "source": [
    "genre_master.rename(columns = {0:'Total_Votes',1:\"Total_sum_of_Rating\"}, inplace = True)"
   ]
  },
  {
   "cell_type": "code",
   "execution_count": null,
   "id": "99a6984a",
   "metadata": {},
   "outputs": [],
   "source": [
    "genre_master.to_csv('Genre_List_with_popularity.csv',index=False) "
   ]
  },
  {
   "cell_type": "code",
   "execution_count": 51,
   "id": "f4ab6715",
   "metadata": {},
   "outputs": [
    {
     "data": {
      "text/html": [
       "<div>\n",
       "<style scoped>\n",
       "    .dataframe tbody tr th:only-of-type {\n",
       "        vertical-align: middle;\n",
       "    }\n",
       "\n",
       "    .dataframe tbody tr th {\n",
       "        vertical-align: top;\n",
       "    }\n",
       "\n",
       "    .dataframe thead th {\n",
       "        text-align: right;\n",
       "    }\n",
       "</style>\n",
       "<table border=\"1\" class=\"dataframe\">\n",
       "  <thead>\n",
       "    <tr style=\"text-align: right;\">\n",
       "      <th></th>\n",
       "      <th>genre_category</th>\n",
       "      <th>Total_Votes</th>\n",
       "      <th>Total_sum_of_Rating</th>\n",
       "    </tr>\n",
       "  </thead>\n",
       "  <tbody>\n",
       "    <tr>\n",
       "      <th>0</th>\n",
       "      <td>Action</td>\n",
       "      <td>253868.0</td>\n",
       "      <td>886292.0</td>\n",
       "    </tr>\n",
       "    <tr>\n",
       "      <th>1</th>\n",
       "      <td>Adventure</td>\n",
       "      <td>198548.0</td>\n",
       "      <td>708892.0</td>\n",
       "    </tr>\n",
       "  </tbody>\n",
       "</table>\n",
       "</div>"
      ],
      "text/plain": [
       "  genre_category  Total_Votes  Total_sum_of_Rating\n",
       "0         Action     253868.0             886292.0\n",
       "1      Adventure     198548.0             708892.0"
      ]
     },
     "execution_count": 51,
     "metadata": {},
     "output_type": "execute_result"
    }
   ],
   "source": [
    "genre_master.head(2)"
   ]
  },
  {
   "cell_type": "code",
   "execution_count": 52,
   "id": "4dc59fac",
   "metadata": {},
   "outputs": [
    {
     "data": {
      "text/html": [
       "<div>\n",
       "<style scoped>\n",
       "    .dataframe tbody tr th:only-of-type {\n",
       "        vertical-align: middle;\n",
       "    }\n",
       "\n",
       "    .dataframe tbody tr th {\n",
       "        vertical-align: top;\n",
       "    }\n",
       "\n",
       "    .dataframe thead th {\n",
       "        text-align: right;\n",
       "    }\n",
       "</style>\n",
       "<table border=\"1\" class=\"dataframe\">\n",
       "  <thead>\n",
       "    <tr style=\"text-align: right;\">\n",
       "      <th></th>\n",
       "      <th>movieId</th>\n",
       "      <th>title</th>\n",
       "      <th>genres</th>\n",
       "      <th>year</th>\n",
       "      <th>meta_data</th>\n",
       "      <th>count_of_ratings</th>\n",
       "      <th>sum_ratings</th>\n",
       "      <th>average_rating</th>\n",
       "    </tr>\n",
       "  </thead>\n",
       "  <tbody>\n",
       "    <tr>\n",
       "      <th>0</th>\n",
       "      <td>1</td>\n",
       "      <td>Toy Story (1995)</td>\n",
       "      <td>Adventure|Animation|Children|Comedy|Fantasy</td>\n",
       "      <td>1995</td>\n",
       "      <td>{'adult': False, 'backdrop_path': '/3Rfvhy1Nl6...</td>\n",
       "      <td>2077</td>\n",
       "      <td>8613</td>\n",
       "      <td>4.146846</td>\n",
       "    </tr>\n",
       "    <tr>\n",
       "      <th>1</th>\n",
       "      <td>10</td>\n",
       "      <td>GoldenEye (1995)</td>\n",
       "      <td>Action|Adventure|Thriller</td>\n",
       "      <td>1995</td>\n",
       "      <td>{'adult': False, 'backdrop_path': '/8o9FsYGpQg...</td>\n",
       "      <td>888</td>\n",
       "      <td>3144</td>\n",
       "      <td>3.540541</td>\n",
       "    </tr>\n",
       "  </tbody>\n",
       "</table>\n",
       "</div>"
      ],
      "text/plain": [
       "  movieId             title                                       genres  \\\n",
       "0       1  Toy Story (1995)  Adventure|Animation|Children|Comedy|Fantasy   \n",
       "1      10  GoldenEye (1995)                    Action|Adventure|Thriller   \n",
       "\n",
       "   year                                          meta_data  count_of_ratings  \\\n",
       "0  1995  {'adult': False, 'backdrop_path': '/3Rfvhy1Nl6...              2077   \n",
       "1  1995  {'adult': False, 'backdrop_path': '/8o9FsYGpQg...               888   \n",
       "\n",
       "   sum_ratings  average_rating  \n",
       "0         8613        4.146846  \n",
       "1         3144        3.540541  "
      ]
     },
     "execution_count": 52,
     "metadata": {},
     "output_type": "execute_result"
    }
   ],
   "source": [
    "movie_summary.head(2)"
   ]
  },
  {
   "cell_type": "code",
   "execution_count": 53,
   "id": "c5fdb35e",
   "metadata": {},
   "outputs": [],
   "source": [
    "movie_summary = pd.read_csv(\"movies_wise_summary.csv\")\n",
    "ratings = pd.read_csv(\"ratings_v2.csv\")"
   ]
  },
  {
   "cell_type": "code",
   "execution_count": 54,
   "id": "91c195aa",
   "metadata": {},
   "outputs": [
    {
     "name": "stdout",
     "output_type": "stream",
     "text": [
      "<class 'pandas.core.frame.DataFrame'>\n",
      "RangeIndex: 3706 entries, 0 to 3705\n",
      "Data columns (total 8 columns):\n",
      " #   Column               Non-Null Count  Dtype \n",
      "---  ------               --------------  ----- \n",
      " 0   movieId              3706 non-null   int64 \n",
      " 1   title                3706 non-null   object\n",
      " 2   genres               3685 non-null   object\n",
      " 3   year                 3706 non-null   int64 \n",
      " 4   meta_data            3685 non-null   object\n",
      " 5   distinct_user_Count  3706 non-null   int64 \n",
      " 6   count_of_ratings     3706 non-null   int64 \n",
      " 7   sum_ratings          3706 non-null   int64 \n",
      "dtypes: int64(5), object(3)\n",
      "memory usage: 231.8+ KB\n"
     ]
    }
   ],
   "source": [
    "movie_summary.info()\n"
   ]
  },
  {
   "cell_type": "markdown",
   "id": "15f0bf70",
   "metadata": {},
   "source": [
    "# MAGICAL function map(eval, )"
   ]
  },
  {
   "cell_type": "code",
   "execution_count": null,
   "id": "36c08bfb",
   "metadata": {},
   "outputs": [],
   "source": [
    "# MAGICAL FUNCTION\n",
    "#eval strips out the string and evaluates the inner expression and map function helps us to apply that function\n",
    "pd.DataFrame(map(eval,a))"
   ]
  },
  {
   "cell_type": "code",
   "execution_count": null,
   "id": "5f025168",
   "metadata": {},
   "outputs": [],
   "source": [
    "#21 movies dont have the metadata (out of 3706 movies)\n",
    "movie_summary.info()\n",
    "movie_summary_v2 = movie_summary[~(movie_summary[\"meta_data\"].isnull())]"
   ]
  },
  {
   "cell_type": "code",
   "execution_count": null,
   "id": "a0b01825",
   "metadata": {},
   "outputs": [],
   "source": [
    "movie_summary_v2.info()"
   ]
  },
  {
   "cell_type": "code",
   "execution_count": null,
   "id": "8f3b1eea",
   "metadata": {},
   "outputs": [],
   "source": [
    "#Here first the 0 index entry is converted and then we further concatenate each individual dataframes.\n",
    "a = pd.Series(movie_summary_v2[\"meta_data\"][0])\n",
    "df0 = pd.DataFrame(map(eval,a))"
   ]
  },
  {
   "cell_type": "code",
   "execution_count": null,
   "id": "2758505c",
   "metadata": {},
   "outputs": [],
   "source": [
    "#can directly start from here"
   ]
  },
  {
   "cell_type": "code",
   "execution_count": null,
   "id": "cce571a4",
   "metadata": {},
   "outputs": [],
   "source": [
    "for i in range (1,len(movie_summary_v2[\"meta_data\"])):\n",
    "    a = pd.Series(movie_summary_v2[\"meta_data\"].iloc[i])\n",
    "    df1= pd.DataFrame(map(eval,a))\n",
    "    df0 = pd.concat([df0,df1])"
   ]
  },
  {
   "cell_type": "code",
   "execution_count": null,
   "id": "7b423fdc",
   "metadata": {},
   "outputs": [],
   "source": [
    "df0.to_csv('meta_data.csv',index=False) "
   ]
  },
  {
   "cell_type": "code",
   "execution_count": null,
   "id": "c70c1d8e",
   "metadata": {},
   "outputs": [],
   "source": [
    "df0.drop([\"status_message\",\"status_code\",\"success\"],axis=1,inplace=True)\n",
    "df0.head(1)"
   ]
  },
  {
   "cell_type": "code",
   "execution_count": null,
   "id": "e7be0ed5",
   "metadata": {},
   "outputs": [],
   "source": [
    "movie_summary_v2.head(2)\n",
    "df0.head(2)"
   ]
  },
  {
   "cell_type": "code",
   "execution_count": null,
   "id": "5b64996c",
   "metadata": {},
   "outputs": [],
   "source": [
    "df0.drop(\"index\",axis=1,inplace=True)"
   ]
  },
  {
   "cell_type": "code",
   "execution_count": null,
   "id": "979b15a4",
   "metadata": {},
   "outputs": [],
   "source": [
    "df0.head(2)"
   ]
  },
  {
   "cell_type": "code",
   "execution_count": null,
   "id": "b537a9c1",
   "metadata": {},
   "outputs": [],
   "source": [
    "movie_summary_v3 = pd.concat([movie_summary_v2,df0],axis=1)"
   ]
  },
  {
   "cell_type": "code",
   "execution_count": null,
   "id": "b3dad848",
   "metadata": {},
   "outputs": [],
   "source": [
    "movie_summary_v3.head(1)\n",
    "movie_summary_v3.drop(\"level_0\",axis=1,inplace=True)"
   ]
  },
  {
   "cell_type": "code",
   "execution_count": null,
   "id": "d85a8100",
   "metadata": {},
   "outputs": [],
   "source": [
    "movie_summary_v3.to_csv(\"movies_wise_summary_V2.csv\",index=False)\n"
   ]
  },
  {
   "cell_type": "code",
   "execution_count": 55,
   "id": "736ad9f3",
   "metadata": {},
   "outputs": [],
   "source": [
    "movie_summary_v3 = pd.read_csv(\"movies_wise_summary_V2.csv\")"
   ]
  },
  {
   "cell_type": "code",
   "execution_count": null,
   "id": "3bebeb8a",
   "metadata": {},
   "outputs": [],
   "source": [
    "movie_summary_v3.info()"
   ]
  },
  {
   "cell_type": "markdown",
   "id": "113e0a02",
   "metadata": {},
   "source": [
    "### EDA of movie_summary_v3"
   ]
  },
  {
   "cell_type": "code",
   "execution_count": 56,
   "id": "e81fca48",
   "metadata": {},
   "outputs": [],
   "source": [
    "# NO MOVIE in the metadata is an adult movie\n",
    "movie_summary_v3.drop([\"meta_data\"],axis=1,inplace=True)"
   ]
  },
  {
   "cell_type": "code",
   "execution_count": 57,
   "id": "505e1ba9",
   "metadata": {},
   "outputs": [
    {
     "data": {
      "text/html": [
       "<div>\n",
       "<style scoped>\n",
       "    .dataframe tbody tr th:only-of-type {\n",
       "        vertical-align: middle;\n",
       "    }\n",
       "\n",
       "    .dataframe tbody tr th {\n",
       "        vertical-align: top;\n",
       "    }\n",
       "\n",
       "    .dataframe thead th {\n",
       "        text-align: right;\n",
       "    }\n",
       "</style>\n",
       "<table border=\"1\" class=\"dataframe\">\n",
       "  <thead>\n",
       "    <tr style=\"text-align: right;\">\n",
       "      <th></th>\n",
       "      <th>movieId</th>\n",
       "      <th>title</th>\n",
       "      <th>genres</th>\n",
       "      <th>year</th>\n",
       "      <th>distinct_user_Count</th>\n",
       "      <th>count_of_ratings</th>\n",
       "      <th>sum_ratings</th>\n",
       "      <th>average_rating</th>\n",
       "      <th>adult</th>\n",
       "      <th>backdrop_path</th>\n",
       "      <th>...</th>\n",
       "      <th>release_date</th>\n",
       "      <th>revenue</th>\n",
       "      <th>runtime</th>\n",
       "      <th>spoken_languages</th>\n",
       "      <th>status</th>\n",
       "      <th>tagline</th>\n",
       "      <th>title.1</th>\n",
       "      <th>video</th>\n",
       "      <th>vote_average</th>\n",
       "      <th>vote_count</th>\n",
       "    </tr>\n",
       "  </thead>\n",
       "  <tbody>\n",
       "    <tr>\n",
       "      <th>0</th>\n",
       "      <td>1</td>\n",
       "      <td>Toy Story (1995)</td>\n",
       "      <td>Adventure|Animation|Children|Comedy|Fantasy</td>\n",
       "      <td>1995</td>\n",
       "      <td>2077</td>\n",
       "      <td>2077</td>\n",
       "      <td>8613</td>\n",
       "      <td>4.146846</td>\n",
       "      <td>False</td>\n",
       "      <td>/3Rfvhy1Nl6sSGJwyjb0QiZzZYlB.jpg</td>\n",
       "      <td>...</td>\n",
       "      <td>1995-10-30</td>\n",
       "      <td>373554033.0</td>\n",
       "      <td>81.0</td>\n",
       "      <td>[{'english_name': 'English', 'iso_639_1': 'en'...</td>\n",
       "      <td>Released</td>\n",
       "      <td>NaN</td>\n",
       "      <td>Toy Story</td>\n",
       "      <td>False</td>\n",
       "      <td>8.0</td>\n",
       "      <td>15192.0</td>\n",
       "    </tr>\n",
       "    <tr>\n",
       "      <th>1</th>\n",
       "      <td>10</td>\n",
       "      <td>GoldenEye (1995)</td>\n",
       "      <td>Action|Adventure|Thriller</td>\n",
       "      <td>1995</td>\n",
       "      <td>888</td>\n",
       "      <td>888</td>\n",
       "      <td>3144</td>\n",
       "      <td>3.540541</td>\n",
       "      <td>False</td>\n",
       "      <td>/8o9FsYGpQgRrpASU38L4gcgxchw.jpg</td>\n",
       "      <td>...</td>\n",
       "      <td>1995-11-16</td>\n",
       "      <td>352194034.0</td>\n",
       "      <td>130.0</td>\n",
       "      <td>[{'english_name': 'English', 'iso_639_1': 'en'...</td>\n",
       "      <td>Released</td>\n",
       "      <td>No limits. No fears. No substitutes.</td>\n",
       "      <td>GoldenEye</td>\n",
       "      <td>False</td>\n",
       "      <td>6.9</td>\n",
       "      <td>3060.0</td>\n",
       "    </tr>\n",
       "  </tbody>\n",
       "</table>\n",
       "<p>2 rows × 33 columns</p>\n",
       "</div>"
      ],
      "text/plain": [
       "   movieId             title                                       genres  \\\n",
       "0        1  Toy Story (1995)  Adventure|Animation|Children|Comedy|Fantasy   \n",
       "1       10  GoldenEye (1995)                    Action|Adventure|Thriller   \n",
       "\n",
       "   year  distinct_user_Count  count_of_ratings  sum_ratings  average_rating  \\\n",
       "0  1995                 2077              2077         8613        4.146846   \n",
       "1  1995                  888               888         3144        3.540541   \n",
       "\n",
       "   adult                     backdrop_path  ... release_date      revenue  \\\n",
       "0  False  /3Rfvhy1Nl6sSGJwyjb0QiZzZYlB.jpg  ...   1995-10-30  373554033.0   \n",
       "1  False  /8o9FsYGpQgRrpASU38L4gcgxchw.jpg  ...   1995-11-16  352194034.0   \n",
       "\n",
       "  runtime                                   spoken_languages    status  \\\n",
       "0    81.0  [{'english_name': 'English', 'iso_639_1': 'en'...  Released   \n",
       "1   130.0  [{'english_name': 'English', 'iso_639_1': 'en'...  Released   \n",
       "\n",
       "                                tagline    title.1  video vote_average  \\\n",
       "0                                   NaN  Toy Story  False          8.0   \n",
       "1  No limits. No fears. No substitutes.  GoldenEye  False          6.9   \n",
       "\n",
       "   vote_count  \n",
       "0     15192.0  \n",
       "1      3060.0  \n",
       "\n",
       "[2 rows x 33 columns]"
      ]
     },
     "execution_count": 57,
     "metadata": {},
     "output_type": "execute_result"
    }
   ],
   "source": [
    "movie_summary_v3.head(2)"
   ]
  },
  {
   "cell_type": "code",
   "execution_count": 58,
   "id": "25a7d1f4",
   "metadata": {},
   "outputs": [
    {
     "data": {
      "text/plain": [
       "<seaborn.axisgrid.FacetGrid at 0x26553e64df0>"
      ]
     },
     "execution_count": 58,
     "metadata": {},
     "output_type": "execute_result"
    },
    {
     "data": {
      "image/png": "[encoded data removed]",
      "text/plain": [
       "<Figure size 360x360 with 1 Axes>"
      ]
     },
     "metadata": {
      "needs_background": "light"
     },
     "output_type": "display_data"
    }
   ],
   "source": [
    "#About 1600 movies dont have budget value (ie roughly 50% is missing or NA)\n",
    "#Budget doesnt seems to be reliable\n",
    "sns.displot(movie_summary_v3[~(movie_summary_v3[\"budget\"] == 0)][\"budget\"],kde=False,bins=30)"
   ]
  },
  {
   "cell_type": "code",
   "execution_count": 59,
   "id": "4b8dd046",
   "metadata": {},
   "outputs": [
    {
     "data": {
      "text/plain": [
       "<AxesSubplot:>"
      ]
     },
     "execution_count": 59,
     "metadata": {},
     "output_type": "execute_result"
    },
    {
     "data": {
      "image/png": "[encoded data removed]",
      "text/plain": [
       "<Figure size 432x288 with 1 Axes>"
      ]
     },
     "metadata": {
      "needs_background": "light"
     },
     "output_type": "display_data"
    }
   ],
   "source": [
    "#Maximum movies (3299) are english movies (more than 90%)\n",
    "movie_summary_v3[\"original_language\"].value_counts().head(5).plot(kind='bar')"
   ]
  },
  {
   "cell_type": "code",
   "execution_count": 60,
   "id": "b0285ecf",
   "metadata": {},
   "outputs": [
    {
     "data": {
      "text/plain": [
       "Hamlet                     4\n",
       "The Mummy                  3\n",
       "True Crime                 2\n",
       "The Thomas Crown Affair    2\n",
       "The Fly                    2\n",
       "Name: original_title, dtype: int64"
      ]
     },
     "execution_count": 60,
     "metadata": {},
     "output_type": "execute_result"
    }
   ],
   "source": [
    "#Top 5 sequels that are made\n",
    "movie_summary_v3[\"original_title\"].value_counts().head(5)"
   ]
  },
  {
   "cell_type": "code",
   "execution_count": 61,
   "id": "2e62ac3b",
   "metadata": {},
   "outputs": [
    {
     "data": {
      "text/plain": [
       "[{'iso_3166_1': 'US', 'name': 'United States of America'}]                                                    2389\n",
       "[{'iso_3166_1': 'GB', 'name': 'United Kingdom'}]                                                               176\n",
       "[{'iso_3166_1': 'GB', 'name': 'United Kingdom'}, {'iso_3166_1': 'US', 'name': 'United States of America'}]     146\n",
       "[]                                                                                                             125\n",
       "[{'iso_3166_1': 'FR', 'name': 'France'}]                                                                        65\n",
       "Name: production_countries, dtype: int64"
      ]
     },
     "execution_count": 61,
     "metadata": {},
     "output_type": "execute_result"
    }
   ],
   "source": [
    "#Top  5 production countries\n",
    "movie_summary_v3[\"production_countries\"].value_counts().head(5)"
   ]
  },
  {
   "cell_type": "code",
   "execution_count": 62,
   "id": "486139e2",
   "metadata": {},
   "outputs": [
    {
     "data": {
      "text/plain": [
       "713                                       Titanic (1997)\n",
       "1661    Star Wars: Episode I - The Phantom Menace (1999)\n",
       "3167                                Jurassic Park (1993)\n",
       "3467                       Independence Day (ID4) (1996)\n",
       "100                    E.T. the Extra-Terrestrial (1982)\n",
       "Name: title, dtype: object"
      ]
     },
     "execution_count": 62,
     "metadata": {},
     "output_type": "execute_result"
    }
   ],
   "source": [
    "#Top 5 movies wrt revenue\n",
    "#revenue also about 1500 movies revenue is also missing\n",
    "movie_summary_v3.sort_values(by = [\"revenue\"], ascending = [False])[\"title\"].head(5)"
   ]
  },
  {
   "cell_type": "code",
   "execution_count": 63,
   "id": "a6967a96",
   "metadata": {},
   "outputs": [
    {
     "data": {
      "text/plain": [
       "713                     Titanic (1997)\n",
       "1074                 Waterworld (1995)\n",
       "1739             Wild Wild West (1999)\n",
       "1877          13th Warrior, The (1999)\n",
       "552     Speed 2: Cruise Control (1997)\n",
       "Name: title, dtype: object"
      ]
     },
     "execution_count": 63,
     "metadata": {},
     "output_type": "execute_result"
    }
   ],
   "source": [
    "#Top 5 movies wrt budget\n",
    "movie_summary_v3.sort_values(by = [\"budget\"], ascending = [False])[\"title\"].head(5)"
   ]
  },
  {
   "cell_type": "code",
   "execution_count": 64,
   "id": "f1a798ff",
   "metadata": {},
   "outputs": [
    {
     "data": {
      "text/plain": [
       "<seaborn.axisgrid.FacetGrid at 0x2652994fb50>"
      ]
     },
     "execution_count": 64,
     "metadata": {},
     "output_type": "execute_result"
    },
    {
     "data": {
      "image/png": "[encoded data removed]",
      "text/plain": [
       "<Figure size 360x360 with 1 Axes>"
      ]
     },
     "metadata": {
      "needs_background": "light"
     },
     "output_type": "display_data"
    }
   ],
   "source": [
    "#max movies are 80min to 130 min\n",
    "#It is somewhat normally distributed (which is natural)\n",
    "sns.displot(movie_summary_v3[\"runtime\"],bins=30,kde = True)"
   ]
  },
  {
   "cell_type": "code",
   "execution_count": 65,
   "id": "67e75d7b",
   "metadata": {},
   "outputs": [
    {
     "data": {
      "text/plain": [
       "Released    3666\n",
       "Name: status, dtype: int64"
      ]
     },
     "execution_count": 65,
     "metadata": {},
     "output_type": "execute_result"
    }
   ],
   "source": [
    "#all are released movies\n",
    "movie_summary_v3[\"status\"].value_counts()"
   ]
  },
  {
   "cell_type": "code",
   "execution_count": 66,
   "id": "a222f05f",
   "metadata": {},
   "outputs": [
    {
     "data": {
      "text/plain": [
       "0       False\n",
       "1       False\n",
       "2       False\n",
       "3       False\n",
       "4       False\n",
       "        ...  \n",
       "3680    False\n",
       "3681    False\n",
       "3682    False\n",
       "3683    False\n",
       "3684    False\n",
       "Name: video, Length: 3685, dtype: bool"
      ]
     },
     "execution_count": 66,
     "metadata": {},
     "output_type": "execute_result"
    }
   ],
   "source": [
    "#Only 3 movies have video\n",
    "#all are released movies\n",
    "movie_summary_v3[\"video\"].value_counts()\n",
    "movie_summary_v3[\"video\"]==True"
   ]
  },
  {
   "cell_type": "markdown",
   "id": "c6529e56",
   "metadata": {},
   "source": [
    "# train test split of data"
   ]
  },
  {
   "cell_type": "markdown",
   "id": "7bff5237",
   "metadata": {},
   "source": [
    "## 1) Stratified K fold"
   ]
  },
  {
   "cell_type": "code",
   "execution_count": 68,
   "id": "6e21d09a",
   "metadata": {},
   "outputs": [],
   "source": [
    "stratified_k_fold_data = ratings[[\"userId\",\"movieId\",\"rating\"]]"
   ]
  },
  {
   "cell_type": "code",
   "execution_count": 69,
   "id": "af4a71e1",
   "metadata": {},
   "outputs": [],
   "source": [
    "X = stratified_k_fold_data.drop(\"rating\",axis=1)"
   ]
  },
  {
   "cell_type": "code",
   "execution_count": 70,
   "id": "54b14313",
   "metadata": {},
   "outputs": [],
   "source": [
    "Y = stratified_k_fold_data[\"rating\"]"
   ]
  },
  {
   "cell_type": "code",
   "execution_count": null,
   "id": "b037426e",
   "metadata": {},
   "outputs": [],
   "source": [
    "type(Y)"
   ]
  },
  {
   "cell_type": "code",
   "execution_count": 71,
   "id": "107d322c",
   "metadata": {},
   "outputs": [],
   "source": [
    "from sklearn.model_selection import StratifiedKFold\n",
    "skf = StratifiedKFold(n_splits=5,shuffle = True,random_state=121)"
   ]
  },
  {
   "cell_type": "code",
   "execution_count": 72,
   "id": "d336d8c7",
   "metadata": {},
   "outputs": [],
   "source": [
    "test_indices = []\n",
    "train_indices = []\n",
    "for train, test in skf.split(X, Y):\n",
    "    test_indices.append(test)\n",
    "    train_indices.append(train)"
   ]
  },
  {
   "cell_type": "code",
   "execution_count": 73,
   "id": "75cc5e1a",
   "metadata": {},
   "outputs": [],
   "source": [
    "test = pd.DataFrame(test_indices)\n",
    "train = pd.DataFrame(train_indices)"
   ]
  },
  {
   "cell_type": "code",
   "execution_count": null,
   "id": "9b1e856e",
   "metadata": {},
   "outputs": [],
   "source": [
    "(test.T).to_csv('Test_indices.csv',index=False) \n",
    "(train.T).to_csv('Train_indices.csv',index=False)"
   ]
  },
  {
   "cell_type": "code",
   "execution_count": null,
   "id": "1d77ee6c",
   "metadata": {},
   "outputs": [],
   "source": [
    "type(test_indices[0])"
   ]
  },
  {
   "cell_type": "code",
   "execution_count": 74,
   "id": "254dfaaa",
   "metadata": {},
   "outputs": [
    {
     "data": {
      "text/html": [
       "<div>\n",
       "<style scoped>\n",
       "    .dataframe tbody tr th:only-of-type {\n",
       "        vertical-align: middle;\n",
       "    }\n",
       "\n",
       "    .dataframe tbody tr th {\n",
       "        vertical-align: top;\n",
       "    }\n",
       "\n",
       "    .dataframe thead th {\n",
       "        text-align: right;\n",
       "    }\n",
       "</style>\n",
       "<table border=\"1\" class=\"dataframe\">\n",
       "  <thead>\n",
       "    <tr style=\"text-align: right;\">\n",
       "      <th></th>\n",
       "      <th>userId</th>\n",
       "      <th>movieId</th>\n",
       "      <th>rating</th>\n",
       "      <th>title</th>\n",
       "      <th>genres</th>\n",
       "      <th>year</th>\n",
       "      <th>meta_data</th>\n",
       "      <th>gender</th>\n",
       "      <th>age</th>\n",
       "      <th>occupation</th>\n",
       "      <th>zipcode</th>\n",
       "    </tr>\n",
       "  </thead>\n",
       "  <tbody>\n",
       "    <tr>\n",
       "      <th>2</th>\n",
       "      <td>1</td>\n",
       "      <td>2762</td>\n",
       "      <td>4</td>\n",
       "      <td>Sixth Sense, The (1999)</td>\n",
       "      <td>Drama|Horror|Mystery</td>\n",
       "      <td>1999</td>\n",
       "      <td>{'adult': False, 'backdrop_path': '/6TjllWT3cG...</td>\n",
       "      <td>F</td>\n",
       "      <td>1</td>\n",
       "      <td>K-12 student</td>\n",
       "      <td>48067</td>\n",
       "    </tr>\n",
       "  </tbody>\n",
       "</table>\n",
       "</div>"
      ],
      "text/plain": [
       "   userId  movieId  rating                    title                genres  \\\n",
       "2       1     2762       4  Sixth Sense, The (1999)  Drama|Horror|Mystery   \n",
       "\n",
       "   year                                          meta_data gender  age  \\\n",
       "2  1999  {'adult': False, 'backdrop_path': '/6TjllWT3cG...      F    1   \n",
       "\n",
       "     occupation zipcode  \n",
       "2  K-12 student   48067  "
      ]
     },
     "execution_count": 74,
     "metadata": {},
     "output_type": "execute_result"
    }
   ],
   "source": [
    "#pandas dataframe can take numpy arrays as it is\n",
    "ratings.iloc[test_indices[0]].head(1)"
   ]
  },
  {
   "cell_type": "code",
   "execution_count": 75,
   "id": "9338c8f9",
   "metadata": {},
   "outputs": [
    {
     "data": {
      "text/plain": [
       "<seaborn.axisgrid.FacetGrid at 0x26527bc40a0>"
      ]
     },
     "execution_count": 75,
     "metadata": {},
     "output_type": "execute_result"
    },
    {
     "data": {
      "image/png": "[encoded data removed]",
      "text/plain": [
       "<Figure size 360x360 with 1 Axes>"
      ]
     },
     "metadata": {
      "needs_background": "light"
     },
     "output_type": "display_data"
    }
   ],
   "source": [
    "sns.displot(ratings.iloc[test_indices[4]][\"rating\"],kde=False,bins=30) "
   ]
  },
  {
   "cell_type": "code",
   "execution_count": 76,
   "id": "4e455b47",
   "metadata": {},
   "outputs": [
    {
     "data": {
      "text/plain": [
       "<seaborn.axisgrid.FacetGrid at 0x2652269dee0>"
      ]
     },
     "execution_count": 76,
     "metadata": {},
     "output_type": "execute_result"
    },
    {
     "data": {
      "image/png": "[encoded data removed]",
      "text/plain": [
       "<Figure size 360x360 with 1 Axes>"
      ]
     },
     "metadata": {
      "needs_background": "light"
     },
     "output_type": "display_data"
    }
   ],
   "source": [
    "#ratings distribution is similar as per original mix of ratings\n",
    "sns.displot(ratings.iloc[train_indices[4]][\"rating\"],kde=False,bins=30) "
   ]
  },
  {
   "cell_type": "code",
   "execution_count": null,
   "id": "c3fb8682",
   "metadata": {},
   "outputs": [],
   "source": []
  },
  {
   "cell_type": "markdown",
   "id": "23ca2f18",
   "metadata": {},
   "source": [
    "## Checking The homogeneity of Train vs Test set"
   ]
  },
  {
   "cell_type": "code",
   "execution_count": 77,
   "id": "c2dad908",
   "metadata": {},
   "outputs": [],
   "source": [
    "def splits_homogeneity (test_indices,train_indices,column_name):\n",
    "    print(ratings.iloc[train_indices[2]][column_name].value_counts(normalize=True))\n",
    "    print(ratings.iloc[test_indices[2]][column_name].value_counts(normalize=True))"
   ]
  },
  {
   "cell_type": "code",
   "execution_count": 78,
   "id": "d3ad701f",
   "metadata": {},
   "outputs": [
    {
     "name": "stdout",
     "output_type": "stream",
     "text": [
      "M    0.753119\n",
      "F    0.246881\n",
      "Name: gender, dtype: float64\n",
      "M    0.755581\n",
      "F    0.244419\n",
      "Name: gender, dtype: float64\n"
     ]
    }
   ],
   "source": [
    "splits_homogeneity(test_indices,train_indices,\"gender\")"
   ]
  },
  {
   "cell_type": "code",
   "execution_count": 79,
   "id": "9b8c0da9",
   "metadata": {},
   "outputs": [
    {
     "name": "stdout",
     "output_type": "stream",
     "text": [
      "25    0.395169\n",
      "35    0.199063\n",
      "18    0.183843\n",
      "45    0.083608\n",
      "50    0.072476\n",
      "56    0.038643\n",
      "1     0.027198\n",
      "Name: age, dtype: float64\n",
      "25    0.396692\n",
      "35    0.198553\n",
      "18    0.182117\n",
      "45    0.083647\n",
      "50    0.072470\n",
      "56    0.039287\n",
      "1     0.027234\n",
      "Name: age, dtype: float64\n"
     ]
    }
   ],
   "source": [
    "splits_homogeneity(test_indices,train_indices,\"age\")"
   ]
  },
  {
   "cell_type": "code",
   "execution_count": 80,
   "id": "3a61525d",
   "metadata": {},
   "outputs": [
    {
     "name": "stdout",
     "output_type": "stream",
     "text": [
      "college/grad student    0.131206\n",
      "other/ns                0.130075\n",
      "executive/managerial    0.105382\n",
      "academic/educator       0.085345\n",
      "technician/engineer     0.072671\n",
      "writer                  0.060429\n",
      "programmer              0.057500\n",
      "artist                  0.050048\n",
      "sales/marketing         0.049100\n",
      "self-employed           0.046098\n",
      "doctor/health care      0.037277\n",
      "clerical/admin          0.031692\n",
      "K-12 student            0.023253\n",
      "scientist               0.022880\n",
      "customer service        0.021733\n",
      "lawyer                  0.020498\n",
      "unemployed              0.014919\n",
      "retired                 0.013775\n",
      "tradesman/craftsman     0.012071\n",
      "homemaker               0.011375\n",
      "farmer                  0.002672\n",
      "Name: occupation, dtype: float64\n",
      "other/ns                0.132057\n",
      "college/grad student    0.130198\n",
      "executive/managerial    0.105488\n",
      "academic/educator       0.085287\n",
      "technician/engineer     0.073320\n",
      "writer                  0.060207\n",
      "programmer              0.056008\n",
      "artist                  0.050094\n",
      "sales/marketing         0.049095\n",
      "self-employed           0.045665\n",
      "doctor/health care      0.036877\n",
      "clerical/admin          0.031313\n",
      "K-12 student            0.023415\n",
      "scientist               0.023210\n",
      "customer service        0.022295\n",
      "lawyer                  0.020801\n",
      "unemployed              0.014827\n",
      "retired                 0.013657\n",
      "tradesman/craftsman     0.012132\n",
      "homemaker               0.011213\n",
      "farmer                  0.002839\n",
      "Name: occupation, dtype: float64\n"
     ]
    }
   ],
   "source": [
    "splits_homogeneity(test_indices,train_indices,\"occupation\")"
   ]
  },
  {
   "cell_type": "code",
   "execution_count": 81,
   "id": "e5e3bb00",
   "metadata": {},
   "outputs": [
    {
     "name": "stdout",
     "output_type": "stream",
     "text": [
      "1999    0.086823\n",
      "1998    0.068363\n",
      "1997    0.065344\n",
      "1995    0.060716\n",
      "1996    0.059235\n",
      "          ...   \n",
      "1929    0.000045\n",
      "1919    0.000044\n",
      "1928    0.000025\n",
      "1920    0.000021\n",
      "1923    0.000016\n",
      "Name: year, Length: 81, dtype: float64\n",
      "1999    0.086782\n",
      "1998    0.067606\n",
      "1997    0.065566\n",
      "1995    0.060842\n",
      "1996    0.059907\n",
      "          ...   \n",
      "1919    0.000050\n",
      "1929    0.000035\n",
      "1928    0.000035\n",
      "1920    0.000035\n",
      "1923    0.000020\n",
      "Name: year, Length: 81, dtype: float64\n"
     ]
    }
   ],
   "source": [
    "splits_homogeneity(test_indices,train_indices,\"year\")"
   ]
  },
  {
   "cell_type": "code",
   "execution_count": 82,
   "id": "3c14a727",
   "metadata": {},
   "outputs": [
    {
     "data": {
      "text/plain": [
       "3678"
      ]
     },
     "execution_count": 82,
     "metadata": {},
     "output_type": "execute_result"
    }
   ],
   "source": [
    "ratings.iloc[train_indices[4]][\"movieId\"].nunique()"
   ]
  },
  {
   "cell_type": "code",
   "execution_count": 83,
   "id": "a10ccc00",
   "metadata": {},
   "outputs": [
    {
     "data": {
      "text/plain": [
       "3706"
      ]
     },
     "execution_count": 83,
     "metadata": {},
     "output_type": "execute_result"
    }
   ],
   "source": [
    "ratings[\"movieId\"].nunique()"
   ]
  },
  {
   "cell_type": "code",
   "execution_count": null,
   "id": "b02c7b6d",
   "metadata": {},
   "outputs": [],
   "source": [
    "## After making word vectors of the column overview in the data"
   ]
  },
  {
   "cell_type": "code",
   "execution_count": 2,
   "id": "4e4769a4",
   "metadata": {},
   "outputs": [],
   "source": [
    "movies = pd.read_csv(\"movies_wise_summary_V3.csv\")"
   ]
  },
  {
   "cell_type": "code",
   "execution_count": 3,
   "id": "99008dff",
   "metadata": {},
   "outputs": [],
   "source": [
    "ratings = pd.read_csv(\"ratings_v2.csv\")"
   ]
  },
  {
   "cell_type": "code",
   "execution_count": 4,
   "id": "b5e76ccf",
   "metadata": {},
   "outputs": [],
   "source": [
    "movies_cols_overview_features = pd.read_csv(\"movies_cols_overview_features.csv\")"
   ]
  },
  {
   "cell_type": "code",
   "execution_count": 5,
   "id": "c820bd5e",
   "metadata": {},
   "outputs": [
    {
     "data": {
      "text/html": [
       "<div>\n",
       "<style scoped>\n",
       "    .dataframe tbody tr th:only-of-type {\n",
       "        vertical-align: middle;\n",
       "    }\n",
       "\n",
       "    .dataframe tbody tr th {\n",
       "        vertical-align: top;\n",
       "    }\n",
       "\n",
       "    .dataframe thead th {\n",
       "        text-align: right;\n",
       "    }\n",
       "</style>\n",
       "<table border=\"1\" class=\"dataframe\">\n",
       "  <thead>\n",
       "    <tr style=\"text-align: right;\">\n",
       "      <th></th>\n",
       "      <th>movie_ID</th>\n",
       "      <th>0</th>\n",
       "      <th>1</th>\n",
       "      <th>2</th>\n",
       "      <th>3</th>\n",
       "      <th>4</th>\n",
       "      <th>5</th>\n",
       "      <th>6</th>\n",
       "      <th>7</th>\n",
       "      <th>8</th>\n",
       "      <th>...</th>\n",
       "      <th>290</th>\n",
       "      <th>291</th>\n",
       "      <th>292</th>\n",
       "      <th>293</th>\n",
       "      <th>294</th>\n",
       "      <th>295</th>\n",
       "      <th>296</th>\n",
       "      <th>297</th>\n",
       "      <th>298</th>\n",
       "      <th>299</th>\n",
       "    </tr>\n",
       "  </thead>\n",
       "  <tbody>\n",
       "    <tr>\n",
       "      <th>0</th>\n",
       "      <td>1</td>\n",
       "      <td>-0.007683</td>\n",
       "      <td>0.026384</td>\n",
       "      <td>0.006943</td>\n",
       "      <td>0.034335</td>\n",
       "      <td>-0.021393</td>\n",
       "      <td>0.004546</td>\n",
       "      <td>0.007327</td>\n",
       "      <td>0.000506</td>\n",
       "      <td>-0.019714</td>\n",
       "      <td>...</td>\n",
       "      <td>0.038329</td>\n",
       "      <td>-0.008168</td>\n",
       "      <td>-0.037093</td>\n",
       "      <td>0.021605</td>\n",
       "      <td>-0.004748</td>\n",
       "      <td>-0.004782</td>\n",
       "      <td>-0.011903</td>\n",
       "      <td>0.076273</td>\n",
       "      <td>-0.022052</td>\n",
       "      <td>0.018435</td>\n",
       "    </tr>\n",
       "    <tr>\n",
       "      <th>1</th>\n",
       "      <td>10</td>\n",
       "      <td>-0.020265</td>\n",
       "      <td>-0.045637</td>\n",
       "      <td>0.012036</td>\n",
       "      <td>0.017123</td>\n",
       "      <td>-0.030701</td>\n",
       "      <td>-0.008272</td>\n",
       "      <td>0.002981</td>\n",
       "      <td>0.017303</td>\n",
       "      <td>-0.020702</td>\n",
       "      <td>...</td>\n",
       "      <td>0.080073</td>\n",
       "      <td>0.019278</td>\n",
       "      <td>-0.071625</td>\n",
       "      <td>0.022033</td>\n",
       "      <td>-0.027286</td>\n",
       "      <td>-0.001103</td>\n",
       "      <td>0.004762</td>\n",
       "      <td>0.101693</td>\n",
       "      <td>-0.015776</td>\n",
       "      <td>-0.000312</td>\n",
       "    </tr>\n",
       "    <tr>\n",
       "      <th>2</th>\n",
       "      <td>100</td>\n",
       "      <td>0.021511</td>\n",
       "      <td>-0.051671</td>\n",
       "      <td>0.024168</td>\n",
       "      <td>-0.028965</td>\n",
       "      <td>-0.003095</td>\n",
       "      <td>-0.007089</td>\n",
       "      <td>0.000030</td>\n",
       "      <td>0.021638</td>\n",
       "      <td>-0.025406</td>\n",
       "      <td>...</td>\n",
       "      <td>0.090319</td>\n",
       "      <td>0.005812</td>\n",
       "      <td>-0.049035</td>\n",
       "      <td>0.037827</td>\n",
       "      <td>-0.000083</td>\n",
       "      <td>-0.006398</td>\n",
       "      <td>-0.009938</td>\n",
       "      <td>0.160763</td>\n",
       "      <td>-0.004070</td>\n",
       "      <td>0.008144</td>\n",
       "    </tr>\n",
       "    <tr>\n",
       "      <th>3</th>\n",
       "      <td>1000</td>\n",
       "      <td>-0.007633</td>\n",
       "      <td>-0.045600</td>\n",
       "      <td>-0.000904</td>\n",
       "      <td>-0.006689</td>\n",
       "      <td>-0.025241</td>\n",
       "      <td>0.001934</td>\n",
       "      <td>0.034892</td>\n",
       "      <td>0.022041</td>\n",
       "      <td>-0.016284</td>\n",
       "      <td>...</td>\n",
       "      <td>0.032207</td>\n",
       "      <td>0.006866</td>\n",
       "      <td>-0.050663</td>\n",
       "      <td>0.028056</td>\n",
       "      <td>-0.020245</td>\n",
       "      <td>-0.002881</td>\n",
       "      <td>-0.008910</td>\n",
       "      <td>0.093447</td>\n",
       "      <td>-0.006515</td>\n",
       "      <td>0.010875</td>\n",
       "    </tr>\n",
       "    <tr>\n",
       "      <th>4</th>\n",
       "      <td>1002</td>\n",
       "      <td>0.011450</td>\n",
       "      <td>-0.023481</td>\n",
       "      <td>0.015800</td>\n",
       "      <td>-0.005494</td>\n",
       "      <td>-0.058987</td>\n",
       "      <td>-0.016749</td>\n",
       "      <td>-0.034590</td>\n",
       "      <td>0.000491</td>\n",
       "      <td>0.003089</td>\n",
       "      <td>...</td>\n",
       "      <td>0.035812</td>\n",
       "      <td>-0.015754</td>\n",
       "      <td>-0.116949</td>\n",
       "      <td>0.015472</td>\n",
       "      <td>-0.025483</td>\n",
       "      <td>-0.023112</td>\n",
       "      <td>0.000031</td>\n",
       "      <td>0.184257</td>\n",
       "      <td>-0.013806</td>\n",
       "      <td>0.014121</td>\n",
       "    </tr>\n",
       "    <tr>\n",
       "      <th>...</th>\n",
       "      <td>...</td>\n",
       "      <td>...</td>\n",
       "      <td>...</td>\n",
       "      <td>...</td>\n",
       "      <td>...</td>\n",
       "      <td>...</td>\n",
       "      <td>...</td>\n",
       "      <td>...</td>\n",
       "      <td>...</td>\n",
       "      <td>...</td>\n",
       "      <td>...</td>\n",
       "      <td>...</td>\n",
       "      <td>...</td>\n",
       "      <td>...</td>\n",
       "      <td>...</td>\n",
       "      <td>...</td>\n",
       "      <td>...</td>\n",
       "      <td>...</td>\n",
       "      <td>...</td>\n",
       "      <td>...</td>\n",
       "      <td>...</td>\n",
       "    </tr>\n",
       "    <tr>\n",
       "      <th>3680</th>\n",
       "      <td>994</td>\n",
       "      <td>-0.009432</td>\n",
       "      <td>0.005526</td>\n",
       "      <td>0.004546</td>\n",
       "      <td>0.044878</td>\n",
       "      <td>-0.009361</td>\n",
       "      <td>0.010226</td>\n",
       "      <td>0.018335</td>\n",
       "      <td>0.010930</td>\n",
       "      <td>-0.035502</td>\n",
       "      <td>...</td>\n",
       "      <td>0.045952</td>\n",
       "      <td>0.002105</td>\n",
       "      <td>-0.048846</td>\n",
       "      <td>-0.003807</td>\n",
       "      <td>-0.014541</td>\n",
       "      <td>-0.010892</td>\n",
       "      <td>-0.010246</td>\n",
       "      <td>0.107004</td>\n",
       "      <td>0.002195</td>\n",
       "      <td>0.014557</td>\n",
       "    </tr>\n",
       "    <tr>\n",
       "      <th>3681</th>\n",
       "      <td>996</td>\n",
       "      <td>-0.010360</td>\n",
       "      <td>-0.037774</td>\n",
       "      <td>0.001074</td>\n",
       "      <td>0.037739</td>\n",
       "      <td>-0.058099</td>\n",
       "      <td>-0.013744</td>\n",
       "      <td>0.047996</td>\n",
       "      <td>0.002472</td>\n",
       "      <td>-0.028401</td>\n",
       "      <td>...</td>\n",
       "      <td>0.054765</td>\n",
       "      <td>0.011577</td>\n",
       "      <td>-0.083370</td>\n",
       "      <td>0.024208</td>\n",
       "      <td>-0.021920</td>\n",
       "      <td>0.005003</td>\n",
       "      <td>-0.004654</td>\n",
       "      <td>0.157088</td>\n",
       "      <td>-0.008884</td>\n",
       "      <td>0.014273</td>\n",
       "    </tr>\n",
       "    <tr>\n",
       "      <th>3682</th>\n",
       "      <td>997</td>\n",
       "      <td>-0.001485</td>\n",
       "      <td>-0.059191</td>\n",
       "      <td>0.000441</td>\n",
       "      <td>0.030991</td>\n",
       "      <td>-0.039763</td>\n",
       "      <td>0.007942</td>\n",
       "      <td>0.033427</td>\n",
       "      <td>0.011748</td>\n",
       "      <td>-0.009260</td>\n",
       "      <td>...</td>\n",
       "      <td>0.032922</td>\n",
       "      <td>0.008482</td>\n",
       "      <td>-0.063593</td>\n",
       "      <td>0.034524</td>\n",
       "      <td>-0.033866</td>\n",
       "      <td>-0.012385</td>\n",
       "      <td>-0.006279</td>\n",
       "      <td>0.125288</td>\n",
       "      <td>-0.002714</td>\n",
       "      <td>0.012083</td>\n",
       "    </tr>\n",
       "    <tr>\n",
       "      <th>3683</th>\n",
       "      <td>998</td>\n",
       "      <td>-0.002131</td>\n",
       "      <td>-0.008336</td>\n",
       "      <td>-0.004438</td>\n",
       "      <td>0.007600</td>\n",
       "      <td>-0.046508</td>\n",
       "      <td>0.002474</td>\n",
       "      <td>0.020970</td>\n",
       "      <td>0.013058</td>\n",
       "      <td>-0.018263</td>\n",
       "      <td>...</td>\n",
       "      <td>0.015412</td>\n",
       "      <td>-0.000063</td>\n",
       "      <td>-0.085070</td>\n",
       "      <td>0.021058</td>\n",
       "      <td>-0.029216</td>\n",
       "      <td>-0.007364</td>\n",
       "      <td>0.006484</td>\n",
       "      <td>0.102255</td>\n",
       "      <td>-0.020328</td>\n",
       "      <td>0.006228</td>\n",
       "    </tr>\n",
       "    <tr>\n",
       "      <th>3684</th>\n",
       "      <td>999</td>\n",
       "      <td>0.009000</td>\n",
       "      <td>-0.067849</td>\n",
       "      <td>0.000857</td>\n",
       "      <td>0.006571</td>\n",
       "      <td>-0.029744</td>\n",
       "      <td>-0.004334</td>\n",
       "      <td>0.059779</td>\n",
       "      <td>0.007887</td>\n",
       "      <td>-0.023985</td>\n",
       "      <td>...</td>\n",
       "      <td>0.040281</td>\n",
       "      <td>0.024920</td>\n",
       "      <td>-0.075358</td>\n",
       "      <td>0.055488</td>\n",
       "      <td>-0.014846</td>\n",
       "      <td>-0.006998</td>\n",
       "      <td>-0.019196</td>\n",
       "      <td>0.157747</td>\n",
       "      <td>-0.014979</td>\n",
       "      <td>0.010584</td>\n",
       "    </tr>\n",
       "  </tbody>\n",
       "</table>\n",
       "<p>3685 rows × 301 columns</p>\n",
       "</div>"
      ],
      "text/plain": [
       "      movie_ID         0         1         2         3         4         5  \\\n",
       "0            1 -0.007683  0.026384  0.006943  0.034335 -0.021393  0.004546   \n",
       "1           10 -0.020265 -0.045637  0.012036  0.017123 -0.030701 -0.008272   \n",
       "2          100  0.021511 -0.051671  0.024168 -0.028965 -0.003095 -0.007089   \n",
       "3         1000 -0.007633 -0.045600 -0.000904 -0.006689 -0.025241  0.001934   \n",
       "4         1002  0.011450 -0.023481  0.015800 -0.005494 -0.058987 -0.016749   \n",
       "...        ...       ...       ...       ...       ...       ...       ...   \n",
       "3680       994 -0.009432  0.005526  0.004546  0.044878 -0.009361  0.010226   \n",
       "3681       996 -0.010360 -0.037774  0.001074  0.037739 -0.058099 -0.013744   \n",
       "3682       997 -0.001485 -0.059191  0.000441  0.030991 -0.039763  0.007942   \n",
       "3683       998 -0.002131 -0.008336 -0.004438  0.007600 -0.046508  0.002474   \n",
       "3684       999  0.009000 -0.067849  0.000857  0.006571 -0.029744 -0.004334   \n",
       "\n",
       "             6         7         8  ...       290       291       292  \\\n",
       "0     0.007327  0.000506 -0.019714  ...  0.038329 -0.008168 -0.037093   \n",
       "1     0.002981  0.017303 -0.020702  ...  0.080073  0.019278 -0.071625   \n",
       "2     0.000030  0.021638 -0.025406  ...  0.090319  0.005812 -0.049035   \n",
       "3     0.034892  0.022041 -0.016284  ...  0.032207  0.006866 -0.050663   \n",
       "4    -0.034590  0.000491  0.003089  ...  0.035812 -0.015754 -0.116949   \n",
       "...        ...       ...       ...  ...       ...       ...       ...   \n",
       "3680  0.018335  0.010930 -0.035502  ...  0.045952  0.002105 -0.048846   \n",
       "3681  0.047996  0.002472 -0.028401  ...  0.054765  0.011577 -0.083370   \n",
       "3682  0.033427  0.011748 -0.009260  ...  0.032922  0.008482 -0.063593   \n",
       "3683  0.020970  0.013058 -0.018263  ...  0.015412 -0.000063 -0.085070   \n",
       "3684  0.059779  0.007887 -0.023985  ...  0.040281  0.024920 -0.075358   \n",
       "\n",
       "           293       294       295       296       297       298       299  \n",
       "0     0.021605 -0.004748 -0.004782 -0.011903  0.076273 -0.022052  0.018435  \n",
       "1     0.022033 -0.027286 -0.001103  0.004762  0.101693 -0.015776 -0.000312  \n",
       "2     0.037827 -0.000083 -0.006398 -0.009938  0.160763 -0.004070  0.008144  \n",
       "3     0.028056 -0.020245 -0.002881 -0.008910  0.093447 -0.006515  0.010875  \n",
       "4     0.015472 -0.025483 -0.023112  0.000031  0.184257 -0.013806  0.014121  \n",
       "...        ...       ...       ...       ...       ...       ...       ...  \n",
       "3680 -0.003807 -0.014541 -0.010892 -0.010246  0.107004  0.002195  0.014557  \n",
       "3681  0.024208 -0.021920  0.005003 -0.004654  0.157088 -0.008884  0.014273  \n",
       "3682  0.034524 -0.033866 -0.012385 -0.006279  0.125288 -0.002714  0.012083  \n",
       "3683  0.021058 -0.029216 -0.007364  0.006484  0.102255 -0.020328  0.006228  \n",
       "3684  0.055488 -0.014846 -0.006998 -0.019196  0.157747 -0.014979  0.010584  \n",
       "\n",
       "[3685 rows x 301 columns]"
      ]
     },
     "execution_count": 5,
     "metadata": {},
     "output_type": "execute_result"
    }
   ],
   "source": [
    "movies_cols_overview_features"
   ]
  },
  {
   "cell_type": "code",
   "execution_count": 6,
   "id": "bf76c851",
   "metadata": {},
   "outputs": [],
   "source": [
    "movie_vectors = movies_cols_overview_features.drop(\"movie_ID\",axis=1)"
   ]
  },
  {
   "cell_type": "code",
   "execution_count": 7,
   "id": "50bc9c14",
   "metadata": {},
   "outputs": [
    {
     "data": {
      "text/html": [
       "<div>\n",
       "<style scoped>\n",
       "    .dataframe tbody tr th:only-of-type {\n",
       "        vertical-align: middle;\n",
       "    }\n",
       "\n",
       "    .dataframe tbody tr th {\n",
       "        vertical-align: top;\n",
       "    }\n",
       "\n",
       "    .dataframe thead th {\n",
       "        text-align: right;\n",
       "    }\n",
       "</style>\n",
       "<table border=\"1\" class=\"dataframe\">\n",
       "  <thead>\n",
       "    <tr style=\"text-align: right;\">\n",
       "      <th></th>\n",
       "      <th>0</th>\n",
       "      <th>1</th>\n",
       "      <th>2</th>\n",
       "      <th>3</th>\n",
       "      <th>4</th>\n",
       "      <th>5</th>\n",
       "      <th>6</th>\n",
       "      <th>7</th>\n",
       "      <th>8</th>\n",
       "      <th>9</th>\n",
       "      <th>...</th>\n",
       "      <th>290</th>\n",
       "      <th>291</th>\n",
       "      <th>292</th>\n",
       "      <th>293</th>\n",
       "      <th>294</th>\n",
       "      <th>295</th>\n",
       "      <th>296</th>\n",
       "      <th>297</th>\n",
       "      <th>298</th>\n",
       "      <th>299</th>\n",
       "    </tr>\n",
       "  </thead>\n",
       "  <tbody>\n",
       "    <tr>\n",
       "      <th>0</th>\n",
       "      <td>-0.007683</td>\n",
       "      <td>0.026384</td>\n",
       "      <td>0.006943</td>\n",
       "      <td>0.034335</td>\n",
       "      <td>-0.021393</td>\n",
       "      <td>0.004546</td>\n",
       "      <td>0.007327</td>\n",
       "      <td>0.000506</td>\n",
       "      <td>-0.019714</td>\n",
       "      <td>0.009722</td>\n",
       "      <td>...</td>\n",
       "      <td>0.038329</td>\n",
       "      <td>-0.008168</td>\n",
       "      <td>-0.037093</td>\n",
       "      <td>0.021605</td>\n",
       "      <td>-0.004748</td>\n",
       "      <td>-0.004782</td>\n",
       "      <td>-0.011903</td>\n",
       "      <td>0.076273</td>\n",
       "      <td>-0.022052</td>\n",
       "      <td>0.018435</td>\n",
       "    </tr>\n",
       "    <tr>\n",
       "      <th>1</th>\n",
       "      <td>-0.020265</td>\n",
       "      <td>-0.045637</td>\n",
       "      <td>0.012036</td>\n",
       "      <td>0.017123</td>\n",
       "      <td>-0.030701</td>\n",
       "      <td>-0.008272</td>\n",
       "      <td>0.002981</td>\n",
       "      <td>0.017303</td>\n",
       "      <td>-0.020702</td>\n",
       "      <td>-0.003864</td>\n",
       "      <td>...</td>\n",
       "      <td>0.080073</td>\n",
       "      <td>0.019278</td>\n",
       "      <td>-0.071625</td>\n",
       "      <td>0.022033</td>\n",
       "      <td>-0.027286</td>\n",
       "      <td>-0.001103</td>\n",
       "      <td>0.004762</td>\n",
       "      <td>0.101693</td>\n",
       "      <td>-0.015776</td>\n",
       "      <td>-0.000312</td>\n",
       "    </tr>\n",
       "  </tbody>\n",
       "</table>\n",
       "<p>2 rows × 300 columns</p>\n",
       "</div>"
      ],
      "text/plain": [
       "          0         1         2         3         4         5         6  \\\n",
       "0 -0.007683  0.026384  0.006943  0.034335 -0.021393  0.004546  0.007327   \n",
       "1 -0.020265 -0.045637  0.012036  0.017123 -0.030701 -0.008272  0.002981   \n",
       "\n",
       "          7         8         9  ...       290       291       292       293  \\\n",
       "0  0.000506 -0.019714  0.009722  ...  0.038329 -0.008168 -0.037093  0.021605   \n",
       "1  0.017303 -0.020702 -0.003864  ...  0.080073  0.019278 -0.071625  0.022033   \n",
       "\n",
       "        294       295       296       297       298       299  \n",
       "0 -0.004748 -0.004782 -0.011903  0.076273 -0.022052  0.018435  \n",
       "1 -0.027286 -0.001103  0.004762  0.101693 -0.015776 -0.000312  \n",
       "\n",
       "[2 rows x 300 columns]"
      ]
     },
     "execution_count": 7,
     "metadata": {},
     "output_type": "execute_result"
    }
   ],
   "source": [
    "movie_vectors.head(2)"
   ]
  },
  {
   "cell_type": "code",
   "execution_count": 8,
   "id": "c4eb9093",
   "metadata": {},
   "outputs": [],
   "source": [
    "from sklearn.metrics.pairwise import cosine_similarity"
   ]
  },
  {
   "cell_type": "code",
   "execution_count": 9,
   "id": "ab3a6b04",
   "metadata": {},
   "outputs": [],
   "source": [
    "cos_similarity  = cosine_similarity(movie_vectors.values)"
   ]
  },
  {
   "cell_type": "code",
   "execution_count": 10,
   "id": "ba62294d",
   "metadata": {},
   "outputs": [],
   "source": [
    "cos_similarity_df = pd.DataFrame(cos_similarity)"
   ]
  },
  {
   "cell_type": "code",
   "execution_count": 11,
   "id": "b0f0042f",
   "metadata": {},
   "outputs": [
    {
     "data": {
      "text/html": [
       "<div>\n",
       "<style scoped>\n",
       "    .dataframe tbody tr th:only-of-type {\n",
       "        vertical-align: middle;\n",
       "    }\n",
       "\n",
       "    .dataframe tbody tr th {\n",
       "        vertical-align: top;\n",
       "    }\n",
       "\n",
       "    .dataframe thead th {\n",
       "        text-align: right;\n",
       "    }\n",
       "</style>\n",
       "<table border=\"1\" class=\"dataframe\">\n",
       "  <thead>\n",
       "    <tr style=\"text-align: right;\">\n",
       "      <th></th>\n",
       "      <th>0</th>\n",
       "      <th>1</th>\n",
       "      <th>2</th>\n",
       "      <th>3</th>\n",
       "      <th>4</th>\n",
       "      <th>5</th>\n",
       "      <th>6</th>\n",
       "      <th>7</th>\n",
       "      <th>8</th>\n",
       "      <th>9</th>\n",
       "      <th>...</th>\n",
       "      <th>3675</th>\n",
       "      <th>3676</th>\n",
       "      <th>3677</th>\n",
       "      <th>3678</th>\n",
       "      <th>3679</th>\n",
       "      <th>3680</th>\n",
       "      <th>3681</th>\n",
       "      <th>3682</th>\n",
       "      <th>3683</th>\n",
       "      <th>3684</th>\n",
       "    </tr>\n",
       "  </thead>\n",
       "  <tbody>\n",
       "    <tr>\n",
       "      <th>0</th>\n",
       "      <td>1.000000</td>\n",
       "      <td>0.849731</td>\n",
       "      <td>0.831016</td>\n",
       "      <td>0.815379</td>\n",
       "      <td>0.802069</td>\n",
       "      <td>0.871640</td>\n",
       "      <td>0.842294</td>\n",
       "      <td>0.872186</td>\n",
       "      <td>0.741375</td>\n",
       "      <td>0.835267</td>\n",
       "      <td>...</td>\n",
       "      <td>0.868910</td>\n",
       "      <td>0.890684</td>\n",
       "      <td>0.856132</td>\n",
       "      <td>0.834561</td>\n",
       "      <td>0.740658</td>\n",
       "      <td>0.835383</td>\n",
       "      <td>0.849279</td>\n",
       "      <td>0.841945</td>\n",
       "      <td>0.878668</td>\n",
       "      <td>0.805298</td>\n",
       "    </tr>\n",
       "    <tr>\n",
       "      <th>1</th>\n",
       "      <td>0.849731</td>\n",
       "      <td>1.000000</td>\n",
       "      <td>0.916288</td>\n",
       "      <td>0.920571</td>\n",
       "      <td>0.830521</td>\n",
       "      <td>0.921048</td>\n",
       "      <td>0.934463</td>\n",
       "      <td>0.835550</td>\n",
       "      <td>0.754897</td>\n",
       "      <td>0.917020</td>\n",
       "      <td>...</td>\n",
       "      <td>0.903258</td>\n",
       "      <td>0.881474</td>\n",
       "      <td>0.922610</td>\n",
       "      <td>0.915137</td>\n",
       "      <td>0.715783</td>\n",
       "      <td>0.866716</td>\n",
       "      <td>0.932248</td>\n",
       "      <td>0.899895</td>\n",
       "      <td>0.931181</td>\n",
       "      <td>0.910736</td>\n",
       "    </tr>\n",
       "  </tbody>\n",
       "</table>\n",
       "<p>2 rows × 3685 columns</p>\n",
       "</div>"
      ],
      "text/plain": [
       "       0         1         2         3         4         5         6     \\\n",
       "0  1.000000  0.849731  0.831016  0.815379  0.802069  0.871640  0.842294   \n",
       "1  0.849731  1.000000  0.916288  0.920571  0.830521  0.921048  0.934463   \n",
       "\n",
       "       7         8         9     ...      3675      3676      3677      3678  \\\n",
       "0  0.872186  0.741375  0.835267  ...  0.868910  0.890684  0.856132  0.834561   \n",
       "1  0.835550  0.754897  0.917020  ...  0.903258  0.881474  0.922610  0.915137   \n",
       "\n",
       "       3679      3680      3681      3682      3683      3684  \n",
       "0  0.740658  0.835383  0.849279  0.841945  0.878668  0.805298  \n",
       "1  0.715783  0.866716  0.932248  0.899895  0.931181  0.910736  \n",
       "\n",
       "[2 rows x 3685 columns]"
      ]
     },
     "execution_count": 11,
     "metadata": {},
     "output_type": "execute_result"
    }
   ],
   "source": [
    "cos_similarity_df.head(2)"
   ]
  },
  {
   "cell_type": "code",
   "execution_count": 12,
   "id": "af707809",
   "metadata": {},
   "outputs": [],
   "source": [
    "cos_similarity_df.columns = list(movies_cols_overview_features[\"movie_ID\"])"
   ]
  },
  {
   "cell_type": "code",
   "execution_count": 13,
   "id": "85b90e73",
   "metadata": {},
   "outputs": [],
   "source": [
    "cos_similarity_df.index = list(movies_cols_overview_features[\"movie_ID\"])"
   ]
  },
  {
   "cell_type": "code",
   "execution_count": 14,
   "id": "30fb8f42",
   "metadata": {},
   "outputs": [
    {
     "data": {
      "text/plain": [
       "Int64Index([10, 3248, 3301, 3286, 3627], dtype='int64')"
      ]
     },
     "execution_count": 14,
     "metadata": {},
     "output_type": "execute_result"
    }
   ],
   "source": [
    "cos_similarity_df.nlargest(5, [10]).index"
   ]
  },
  {
   "cell_type": "code",
   "execution_count": 15,
   "id": "6636134f",
   "metadata": {},
   "outputs": [],
   "source": [
    "#importing the test indices and the train indices\n",
    "test_indices = pd.read_csv(\"Test_indices\")\n",
    "test_indices = test_indices.fillna(value=0)\n",
    "test_indices = test_indices.astype(int)\n",
    "test_indices = test_indices.round()\n",
    "\n",
    "train_indices = pd.read_csv(\"Train_indices\")\n",
    "train_indices = train_indices.fillna(value=0)\n",
    "train_indices = train_indices.astype(int)\n",
    "train_indices =train_indices.round()\n"
   ]
  },
  {
   "cell_type": "code",
   "execution_count": null,
   "id": "a5640cdf",
   "metadata": {},
   "outputs": [],
   "source": [
    "#1st Fixing length of recommendation to be 5\n",
    "def recomm_len_check (count,cos_similarity_df,list_of_movies_hist_orig,i):\n",
    "    List_of_recommendations=[]\n",
    "    recommendation_movie_i = set(cos_similarity_df.nlargest(5+count,i).index)\n",
    "    list_of_movies_hist_dummy =list_of_movies_hist_orig.copy()\n",
    "    list_of_movies_hist_dummy.update(recommendation_movie_i)\n",
    "    \n",
    "    if (len(list_of_movies_hist_dummy) == len(list_of_movies_hist_orig) +5): #because the both elements are sets (only 5 predictions per movie will come out)\n",
    "        recommendation_movie_i = (recommendation_movie_i).difference(list_of_movies_hist_orig) #gives out the non common elements as predictions\n",
    "        List_of_recommendations = list(recommendation_movie_i)\n",
    "        \n",
    "    else:\n",
    "        count =count + (5-(len(list_of_movies_hist_dummy) - len(list_of_movies_hist_orig)))\n",
    "        List_of_recommendations = recomm_len_check(count,cos_similarity_df,list_of_movies_hist_orig,i)\n",
    "    return List_of_recommendations"
   ]
  },
  {
   "cell_type": "code",
   "execution_count": null,
   "id": "fc039356",
   "metadata": {},
   "outputs": [],
   "source": [
    "\n",
    "\n",
    "def recommendation (cos_similarity_df,movie_meta_data_miss,ratings,user_id):\n",
    "    #creating distinct movie history of a particular user\n",
    "    list_of_movies_hist = ratings[ratings[\"userId\"] == user_id][\"movieId\"]\n",
    "    list_of_movies_hist_orig = set(list_of_movies_hist).difference(set(movie_meta_data_miss))\n",
    "    \n",
    "    master_df = pd.DataFrame(index =[0,1,2,3,4])\n",
    "\n",
    "    #list_of_Recommendation is list of Just Recommended Movies \n",
    "    #movie_seq is the order of movies in which recommendation is given\n",
    "    movie_seq =[]\n",
    "    #recommending top 5 movies\n",
    "    for i in set(list_of_movies_hist_orig):\n",
    "        count=0\n",
    "        list_of_Recom_temp = recomm_len_check(count,cos_similarity_df,list_of_movies_hist_orig,i)\n",
    "        df = pd.DataFrame(list_of_Recom_temp,columns=[i])\n",
    "        master_df = pd.concat([master_df,df],axis=1)\n",
    "    return master_df\n",
    "\n"
   ]
  },
  {
   "cell_type": "code",
   "execution_count": null,
   "id": "c941c8be",
   "metadata": {},
   "outputs": [],
   "source": [
    "#this list of movies does not have meta data thats why removing these movies from the complete movies list \n",
    "movie_meta_data_miss = [1294,1758,1205,3935,1362,3027,3416,2645,3532,669,3366,978,3482,1741,863,811,1494,557,3842,578,1868] "
   ]
  },
  {
   "cell_type": "code",
   "execution_count": null,
   "id": "36a33c28",
   "metadata": {},
   "outputs": [],
   "source": [
    "#list of distinct UserID\n",
    "list_of_user_ids = list(set(ratings[\"userId\"]))\n",
    "metric_df=pd.DataFrame(columns=[\"userID\",\"metric\",\"inter_section_count\",\"movie_Recomm_count\"])"
   ]
  },
  {
   "cell_type": "code",
   "execution_count": null,
   "id": "c6609dae",
   "metadata": {},
   "outputs": [],
   "source": [
    "ratings[\"userId\"].drop_duplicates().to_csv('userID_distinct.csv',index=False) \n",
    "\n",
    "#for user_id in list_of_user_ids:\n",
    "# for user_id in list_of_user_ids:"
   ]
  },
  {
   "cell_type": "code",
   "execution_count": null,
   "id": "84fa0581",
   "metadata": {},
   "outputs": [],
   "source": [
    "##*******START FROM HERE\n",
    "train_data = ratings.iloc[train_indices[\"0\"]]#change 0 to choose different split\n",
    "test_movieid_userid  = ratings.iloc[test_indices[\"0\"]][[\"movieId\",\"userId\"]]# can change the indice as per split column\n",
    "   \n",
    "for user_id in list_of_user_ids:\n",
    "     recommendation_df_per_user = recommendation(cos_similarity_df,movie_meta_data_miss, ratings = train_data,user_id = user_id ) #change 1 ie user_id for which recommendation needs to be done  \n",
    "    #flattening the dataframe and making unique recommendations\n",
    "    \n",
    "    #recommendation_df_per_user = pd.DataFrame(List_of_recommendations,index =movie_seq)\n",
    "    unique_recommendations = np.unique(recommendation_df_per_user.to_numpy().flatten())\n",
    "\n",
    "    #making unique movies out of test data for a particular USER\n",
    "    test_movies_userid = test_movieid_userid[test_movieid_userid[\"userId\"]==user_id]#change the 1 written for user id\n",
    "    test_movies =  np.unique(test_movies_userid[\"movieId\"].to_numpy().flatten())\n",
    "    if len(test_movies) != 0:\n",
    "        metric = len(np.intersect1d(unique_recommendations, test_movies)) / (len(test_movies))\n",
    "        metric_df.loc[len(metric_df.index)] = [user_id,metric,len(np.intersect1d(unique_recommendations, test_movies)),len(unique_recommendations)] \n",
    "        print(metric_df.shape)\n",
    "    else:\n",
    "        continue\n",
    "        \n",
    "\n",
    "    "
   ]
  },
  {
   "cell_type": "code",
   "execution_count": null,
   "id": "1fdf5b02",
   "metadata": {},
   "outputs": [],
   "source": [
    "metric_df.to_csv('metric_df',index=False)\n"
   ]
  },
  {
   "cell_type": "code",
   "execution_count": null,
   "id": "05c88ca8",
   "metadata": {},
   "outputs": [],
   "source": [
    "metric_df.to_csv('metric_df_v2.csv',index=False) "
   ]
  },
  {
   "cell_type": "markdown",
   "id": "c95e7dfa",
   "metadata": {},
   "source": [
    "## Surprise Library"
   ]
  },
  {
   "cell_type": "code",
   "execution_count": 16,
   "id": "776045fe",
   "metadata": {},
   "outputs": [],
   "source": [
    "from surprise import SVD\n",
    "from surprise import Dataset\n",
    "from surprise.model_selection import cross_validate\n",
    "from surprise import accuracy\n",
    "from surprise import Reader"
   ]
  },
  {
   "cell_type": "code",
   "execution_count": 19,
   "id": "4995cdd3",
   "metadata": {},
   "outputs": [],
   "source": [
    "svd = SVD(n_epochs=10,verbose=True) \n",
    "# (RMSE TRAIN AND validation)\n",
    "# metrics in surprise (precision @K recall @K)"
   ]
  },
  {
   "cell_type": "code",
   "execution_count": 17,
   "id": "5edc7158",
   "metadata": {},
   "outputs": [],
   "source": [
    "reader = Reader(rating_scale=(1, 5))"
   ]
  },
  {
   "cell_type": "code",
   "execution_count": 18,
   "id": "8ef3dbb6",
   "metadata": {},
   "outputs": [],
   "source": [
    "#making a surprise data object\n",
    "trainset = Dataset.load_from_df(ratings[[\"userId\",\"movieId\",'rating']].iloc[train_indices[\"0\"]],reader)\n",
    "trainset = trainset.build_full_trainset()\n",
    "testset = Dataset.load_from_df(ratings[[\"userId\",\"movieId\",'rating']].iloc[test_indices[\"0\"]],reader)\n",
    "testset = testset.build_full_trainset()"
   ]
  },
  {
   "cell_type": "code",
   "execution_count": null,
   "id": "1c606a8e",
   "metadata": {},
   "outputs": [],
   "source": [
    "svd.fit(trainset)"
   ]
  },
  {
   "cell_type": "code",
   "execution_count": null,
   "id": "19ca0617",
   "metadata": {},
   "outputs": [],
   "source": [
    "ratings[ratings[\"rating\"]==3].head(2)"
   ]
  },
  {
   "cell_type": "code",
   "execution_count": null,
   "id": "f92d37a2",
   "metadata": {},
   "outputs": [],
   "source": [
    "#uid = user id , iid = item id\n",
    "svd.predict(uid=999, iid=1960)"
   ]
  },
  {
   "cell_type": "code",
   "execution_count": 16,
   "id": "a157a9af",
   "metadata": {},
   "outputs": [],
   "source": [
    "list_movies = ratings[\"movieId\"].unique()\n",
    "list_users = ratings[\"userId\"].unique()"
   ]
  },
  {
   "cell_type": "code",
   "execution_count": null,
   "id": "8a6efab1",
   "metadata": {},
   "outputs": [],
   "source": [
    "predicted_rating_matrix = np.zeros((len(list_users),len(list_movies)))\n",
    "predicted_rating_matrix = pd.DataFrame(predicted_rating_matrix,index=list_users,columns=list_movies)"
   ]
  },
  {
   "cell_type": "code",
   "execution_count": null,
   "id": "add6ae4c",
   "metadata": {},
   "outputs": [],
   "source": [
    "#predicted_rating_matrix it is the whole matrix for all the combinations of users and movieIDs\n",
    "for i in list_users:\n",
    "    for j in list_movies:\n",
    "        predicted_rating_matrix.loc[i,j] = svd.predict(uid=i, iid=j).est\n",
    "        print([i,j])"
   ]
  },
  {
   "cell_type": "code",
   "execution_count": null,
   "id": "9546b02c",
   "metadata": {},
   "outputs": [],
   "source": [
    "predicted_rating_matrix.to_csv('SVD_Predicted_rating.csv',index=False)\n",
    "predicted_rating_matrix.to_csv('SVD_Predicted_rating.csv')"
   ]
  },
  {
   "cell_type": "code",
   "execution_count": 20,
   "id": "25e11e31",
   "metadata": {},
   "outputs": [
    {
     "data": {
      "text/plain": [
       "pandas.core.frame.DataFrame"
      ]
     },
     "execution_count": 20,
     "metadata": {},
     "output_type": "execute_result"
    }
   ],
   "source": [
    "predicted_rating_matrix = pd.read_csv(\"SVD_Predicted_rating.csv\",index_col=[\"index\"])\n",
    "type(predicted_rating_matrix)"
   ]
  },
  {
   "cell_type": "code",
   "execution_count": null,
   "id": "2f8d6af3",
   "metadata": {},
   "outputs": [],
   "source": [
    "predicted_rating_matrix"
   ]
  },
  {
   "cell_type": "code",
   "execution_count": 24,
   "id": "23f4468a",
   "metadata": {},
   "outputs": [],
   "source": [
    "cols = pd.read_csv(\"cols.csv\")\n",
    "cols = cols[\"cols\"].astype(int)"
   ]
  },
  {
   "cell_type": "code",
   "execution_count": 25,
   "id": "8cb84777",
   "metadata": {},
   "outputs": [
    {
     "data": {
      "text/plain": [
       "array([   1, 2692, 2762, ...,  826,  814, 3209])"
      ]
     },
     "execution_count": 25,
     "metadata": {},
     "output_type": "execute_result"
    }
   ],
   "source": [
    "cols.values"
   ]
  },
  {
   "cell_type": "code",
   "execution_count": 26,
   "id": "6056a7b3",
   "metadata": {},
   "outputs": [],
   "source": [
    "predicted_rating_matrix.columns = cols.values"
   ]
  },
  {
   "cell_type": "code",
   "execution_count": 27,
   "id": "a44c91ae",
   "metadata": {},
   "outputs": [
    {
     "data": {
      "text/html": [
       "<div>\n",
       "<style scoped>\n",
       "    .dataframe tbody tr th:only-of-type {\n",
       "        vertical-align: middle;\n",
       "    }\n",
       "\n",
       "    .dataframe tbody tr th {\n",
       "        vertical-align: top;\n",
       "    }\n",
       "\n",
       "    .dataframe thead th {\n",
       "        text-align: right;\n",
       "    }\n",
       "</style>\n",
       "<table border=\"1\" class=\"dataframe\">\n",
       "  <thead>\n",
       "    <tr style=\"text-align: right;\">\n",
       "      <th></th>\n",
       "      <th>1</th>\n",
       "      <th>2692</th>\n",
       "      <th>2762</th>\n",
       "      <th>2791</th>\n",
       "      <th>2797</th>\n",
       "      <th>2804</th>\n",
       "      <th>2918</th>\n",
       "      <th>3105</th>\n",
       "      <th>3114</th>\n",
       "      <th>3186</th>\n",
       "      <th>...</th>\n",
       "      <th>576</th>\n",
       "      <th>2909</th>\n",
       "      <th>634</th>\n",
       "      <th>545</th>\n",
       "      <th>3647</th>\n",
       "      <th>792</th>\n",
       "      <th>2556</th>\n",
       "      <th>826</th>\n",
       "      <th>814</th>\n",
       "      <th>3209</th>\n",
       "    </tr>\n",
       "    <tr>\n",
       "      <th>index</th>\n",
       "      <th></th>\n",
       "      <th></th>\n",
       "      <th></th>\n",
       "      <th></th>\n",
       "      <th></th>\n",
       "      <th></th>\n",
       "      <th></th>\n",
       "      <th></th>\n",
       "      <th></th>\n",
       "      <th></th>\n",
       "      <th></th>\n",
       "      <th></th>\n",
       "      <th></th>\n",
       "      <th></th>\n",
       "      <th></th>\n",
       "      <th></th>\n",
       "      <th></th>\n",
       "      <th></th>\n",
       "      <th></th>\n",
       "      <th></th>\n",
       "      <th></th>\n",
       "    </tr>\n",
       "  </thead>\n",
       "  <tbody>\n",
       "    <tr>\n",
       "      <th>1</th>\n",
       "      <td>4.515421</td>\n",
       "      <td>4.256947</td>\n",
       "      <td>4.556794</td>\n",
       "      <td>3.871135</td>\n",
       "      <td>4.213404</td>\n",
       "      <td>4.341200</td>\n",
       "      <td>4.199070</td>\n",
       "      <td>4.02053</td>\n",
       "      <td>4.451939</td>\n",
       "      <td>3.615844</td>\n",
       "      <td>...</td>\n",
       "      <td>3.730884</td>\n",
       "      <td>3.730884</td>\n",
       "      <td>3.610454</td>\n",
       "      <td>3.533815</td>\n",
       "      <td>3.730884</td>\n",
       "      <td>3.470616</td>\n",
       "      <td>3.593427</td>\n",
       "      <td>3.661265</td>\n",
       "      <td>3.977649</td>\n",
       "      <td>3.708972</td>\n",
       "    </tr>\n",
       "    <tr>\n",
       "      <th>10</th>\n",
       "      <td>4.518729</td>\n",
       "      <td>4.467727</td>\n",
       "      <td>4.862451</td>\n",
       "      <td>3.954215</td>\n",
       "      <td>4.351797</td>\n",
       "      <td>4.377882</td>\n",
       "      <td>4.531659</td>\n",
       "      <td>4.36182</td>\n",
       "      <td>4.681989</td>\n",
       "      <td>3.931916</td>\n",
       "      <td>...</td>\n",
       "      <td>3.978580</td>\n",
       "      <td>3.978580</td>\n",
       "      <td>3.814828</td>\n",
       "      <td>3.930209</td>\n",
       "      <td>3.978580</td>\n",
       "      <td>4.087580</td>\n",
       "      <td>3.993352</td>\n",
       "      <td>3.824718</td>\n",
       "      <td>3.934145</td>\n",
       "      <td>3.704736</td>\n",
       "    </tr>\n",
       "  </tbody>\n",
       "</table>\n",
       "<p>2 rows × 3706 columns</p>\n",
       "</div>"
      ],
      "text/plain": [
       "           1         2692      2762      2791      2797      2804      2918  \\\n",
       "index                                                                         \n",
       "1      4.515421  4.256947  4.556794  3.871135  4.213404  4.341200  4.199070   \n",
       "10     4.518729  4.467727  4.862451  3.954215  4.351797  4.377882  4.531659   \n",
       "\n",
       "          3105      3114      3186  ...      576       2909      634   \\\n",
       "index                               ...                                 \n",
       "1      4.02053  4.451939  3.615844  ...  3.730884  3.730884  3.610454   \n",
       "10     4.36182  4.681989  3.931916  ...  3.978580  3.978580  3.814828   \n",
       "\n",
       "           545       3647      792       2556      826       814       3209  \n",
       "index                                                                        \n",
       "1      3.533815  3.730884  3.470616  3.593427  3.661265  3.977649  3.708972  \n",
       "10     3.930209  3.978580  4.087580  3.993352  3.824718  3.934145  3.704736  \n",
       "\n",
       "[2 rows x 3706 columns]"
      ]
     },
     "execution_count": 27,
     "metadata": {},
     "output_type": "execute_result"
    }
   ],
   "source": [
    "predicted_rating_matrix.head(2)"
   ]
  },
  {
   "cell_type": "code",
   "execution_count": 30,
   "id": "a51b75cf",
   "metadata": {},
   "outputs": [],
   "source": [
    "list_of_user_ids = set(ratings[\"userId\"])\n",
    "list_of_movies = set(ratings[\"movieId\"])"
   ]
  },
  {
   "cell_type": "code",
   "execution_count": 31,
   "id": "808e5a60",
   "metadata": {},
   "outputs": [],
   "source": [
    "pred_movie_vs_user = predicted_rating_matrix.T"
   ]
  },
  {
   "cell_type": "code",
   "execution_count": 32,
   "id": "953f3ce0",
   "metadata": {},
   "outputs": [
    {
     "data": {
      "text/html": [
       "<div>\n",
       "<style scoped>\n",
       "    .dataframe tbody tr th:only-of-type {\n",
       "        vertical-align: middle;\n",
       "    }\n",
       "\n",
       "    .dataframe tbody tr th {\n",
       "        vertical-align: top;\n",
       "    }\n",
       "\n",
       "    .dataframe thead th {\n",
       "        text-align: right;\n",
       "    }\n",
       "</style>\n",
       "<table border=\"1\" class=\"dataframe\">\n",
       "  <thead>\n",
       "    <tr style=\"text-align: right;\">\n",
       "      <th>index</th>\n",
       "      <th>1</th>\n",
       "      <th>10</th>\n",
       "      <th>100</th>\n",
       "      <th>1000</th>\n",
       "      <th>1001</th>\n",
       "      <th>1002</th>\n",
       "      <th>1003</th>\n",
       "      <th>1004</th>\n",
       "      <th>1005</th>\n",
       "      <th>1006</th>\n",
       "      <th>...</th>\n",
       "      <th>990</th>\n",
       "      <th>991</th>\n",
       "      <th>992</th>\n",
       "      <th>993</th>\n",
       "      <th>994</th>\n",
       "      <th>995</th>\n",
       "      <th>996</th>\n",
       "      <th>997</th>\n",
       "      <th>998</th>\n",
       "      <th>999</th>\n",
       "    </tr>\n",
       "  </thead>\n",
       "  <tbody>\n",
       "    <tr>\n",
       "      <th>1</th>\n",
       "      <td>4.515421</td>\n",
       "      <td>4.518729</td>\n",
       "      <td>3.466371</td>\n",
       "      <td>4.308031</td>\n",
       "      <td>4.168573</td>\n",
       "      <td>4.239206</td>\n",
       "      <td>4.426971</td>\n",
       "      <td>4.151303</td>\n",
       "      <td>4.475395</td>\n",
       "      <td>3.909265</td>\n",
       "      <td>...</td>\n",
       "      <td>4.073658</td>\n",
       "      <td>3.927924</td>\n",
       "      <td>3.991772</td>\n",
       "      <td>3.784471</td>\n",
       "      <td>4.087837</td>\n",
       "      <td>4.358362</td>\n",
       "      <td>4.582569</td>\n",
       "      <td>4.082492</td>\n",
       "      <td>4.199935</td>\n",
       "      <td>3.772266</td>\n",
       "    </tr>\n",
       "    <tr>\n",
       "      <th>2692</th>\n",
       "      <td>4.256947</td>\n",
       "      <td>4.467727</td>\n",
       "      <td>3.744619</td>\n",
       "      <td>4.377352</td>\n",
       "      <td>4.517009</td>\n",
       "      <td>4.347938</td>\n",
       "      <td>4.257558</td>\n",
       "      <td>4.036616</td>\n",
       "      <td>4.426134</td>\n",
       "      <td>4.062024</td>\n",
       "      <td>...</td>\n",
       "      <td>4.295581</td>\n",
       "      <td>3.904096</td>\n",
       "      <td>4.038392</td>\n",
       "      <td>3.931227</td>\n",
       "      <td>4.377488</td>\n",
       "      <td>4.291969</td>\n",
       "      <td>4.410298</td>\n",
       "      <td>4.094436</td>\n",
       "      <td>4.313119</td>\n",
       "      <td>3.674445</td>\n",
       "    </tr>\n",
       "  </tbody>\n",
       "</table>\n",
       "<p>2 rows × 6040 columns</p>\n",
       "</div>"
      ],
      "text/plain": [
       "index      1         10        100       1000      1001      1002      1003  \\\n",
       "1      4.515421  4.518729  3.466371  4.308031  4.168573  4.239206  4.426971   \n",
       "2692   4.256947  4.467727  3.744619  4.377352  4.517009  4.347938  4.257558   \n",
       "\n",
       "index      1004      1005      1006  ...      990       991       992   \\\n",
       "1      4.151303  4.475395  3.909265  ...  4.073658  3.927924  3.991772   \n",
       "2692   4.036616  4.426134  4.062024  ...  4.295581  3.904096  4.038392   \n",
       "\n",
       "index      993       994       995       996       997       998       999   \n",
       "1      3.784471  4.087837  4.358362  4.582569  4.082492  4.199935  3.772266  \n",
       "2692   3.931227  4.377488  4.291969  4.410298  4.094436  4.313119  3.674445  \n",
       "\n",
       "[2 rows x 6040 columns]"
      ]
     },
     "execution_count": 32,
     "metadata": {},
     "output_type": "execute_result"
    }
   ],
   "source": [
    "pred_movie_vs_user.head(2)"
   ]
  },
  {
   "cell_type": "code",
   "execution_count": null,
   "id": "0ea73a71",
   "metadata": {},
   "outputs": [],
   "source": [
    "#Top 10 Recommendations basis svd predicted matrix and removing those movies which the user has already seen\n",
    "df2_cum = pd.DataFrame(np.zeros((10,1)))\n",
    "\n",
    "test_movieid_userid  = ratings.iloc[test_indices[\"0\"]][[\"movieId\",\"userId\"]]# can change the indice as per split column\n",
    "metric_df=pd.DataFrame(columns=[\"userID\",\"metric\",\"inter_section_count\",\"movie_Recomm_count\"])\n",
    "training_data = ratings.iloc[train_indices[\"0\"]][[\"movieId\",\"userId\"]]\n",
    "\n",
    "for users in list(list_of_user_ids):\n",
    "    #creating distinct movie history of a particular user\n",
    "    list_of_movies_hist = (training_data[training_data[\"userId\"] == users][\"movieId\"])\n",
    "    #total movies - training data\n",
    "    list_of_movies_possible = list(list_of_movies.difference(set(list_of_movies_hist)))\n",
    "    recommendation_movie_i = set(pred_movie_vs_user.loc[list_of_movies_possible,:].nlargest(10,users).index)\n",
    "\n",
    "    df1 = pd.DataFrame(recommendation_movie_i,columns=[users])\n",
    "    df2_cum = pd.concat([df2_cum,df1],axis=1)\n",
    "\n",
    "    test_movies_userid = test_movieid_userid[test_movieid_userid[\"userId\"]==users]#change the 1 written for user id\n",
    "    test_movies =  np.unique(test_movies_userid[\"movieId\"].to_numpy().flatten())\n",
    "    \n",
    "    if len(test_movies) != 0:\n",
    "        metric = len(np.intersect1d(np.array(list(recommendation_movie_i)), test_movies)) / (len(test_movies))\n",
    "        metric_df.loc[len(metric_df.index)] = [users,metric,len(np.intersect1d(np.array(list(recommendation_movie_i)), test_movies)),len(np.array(list(recommendation_movie_i)))] \n",
    "        print(metric_df.shape)\n",
    "    else:\n",
    "        continue"
   ]
  },
  {
   "cell_type": "code",
   "execution_count": 70,
   "id": "b6e8835d",
   "metadata": {},
   "outputs": [],
   "source": [
    "metric_df.to_csv('SVD_Output_10.csv',index=False)"
   ]
  },
  {
   "cell_type": "markdown",
   "id": "b7aa3384",
   "metadata": {},
   "source": [
    "### SVD optimization"
   ]
  },
  {
   "cell_type": "code",
   "execution_count": 44,
   "id": "ee1f7a3d",
   "metadata": {},
   "outputs": [],
   "source": [
    "svd = SVD(n_epochs=10,verbose=True) \n",
    "# (RMSE TRAIN AND validation)\n",
    "# metrics in surprise (precision @K recall @K)"
   ]
  },
  {
   "cell_type": "code",
   "execution_count": 52,
   "id": "6b6fc7a3",
   "metadata": {},
   "outputs": [],
   "source": [
    "#making a surprise data object\n",
    "trainset = Dataset.load_from_df(ratings[[\"userId\",\"movieId\",'rating']].iloc[train_indices[\"0\"]],reader)\n",
    "trainset = trainset.build_full_trainset()"
   ]
  },
  {
   "cell_type": "code",
   "execution_count": 46,
   "id": "e24acf4b",
   "metadata": {},
   "outputs": [
    {
     "name": "stdout",
     "output_type": "stream",
     "text": [
      "Processing epoch 0\n",
      "Processing epoch 1\n",
      "Processing epoch 2\n",
      "Processing epoch 3\n",
      "Processing epoch 4\n",
      "Processing epoch 5\n",
      "Processing epoch 6\n",
      "Processing epoch 7\n",
      "Processing epoch 8\n",
      "Processing epoch 9\n"
     ]
    },
    {
     "data": {
      "text/plain": [
       "<surprise.prediction_algorithms.matrix_factorization.SVD at 0x216df4ee6d0>"
      ]
     },
     "execution_count": 46,
     "metadata": {},
     "output_type": "execute_result"
    }
   ],
   "source": [
    "svd.fit(trainset)"
   ]
  },
  {
   "cell_type": "code",
   "execution_count": 54,
   "id": "02faae18",
   "metadata": {},
   "outputs": [],
   "source": [
    "trainset = Dataset.load_from_df(ratings[[\"userId\",\"movieId\",'rating']].iloc[train_indices[\"0\"]],reader)\n",
    "testset = Dataset.load_from_df(ratings[[\"userId\",\"movieId\",'rating']].iloc[test_indices[\"0\"]],reader)"
   ]
  },
  {
   "cell_type": "code",
   "execution_count": 62,
   "id": "93563e84",
   "metadata": {},
   "outputs": [],
   "source": [
    "#in actual we are not doing any test_train split (this is only done so that accuracy function of surprise package could have been applied)\n",
    "\n",
    "from surprise.model_selection import train_test_split\n",
    "a , b_train = train_test_split(trainset, test_size=1.00)"
   ]
  },
  {
   "cell_type": "code",
   "execution_count": 65,
   "id": "4b83398c",
   "metadata": {},
   "outputs": [],
   "source": [
    "a , b_test = train_test_split(testset, test_size=1.00)"
   ]
  },
  {
   "cell_type": "code",
   "execution_count": 69,
   "id": "3041e801",
   "metadata": {},
   "outputs": [],
   "source": [
    "predictions_test = svd.test(b_test)\n",
    "predictions_train = svd.test(b_train)"
   ]
  },
  {
   "cell_type": "code",
   "execution_count": 70,
   "id": "dffa7820",
   "metadata": {},
   "outputs": [
    {
     "name": "stdout",
     "output_type": "stream",
     "text": [
      "RMSE: 0.8919\n",
      "RMSE: 0.8095\n"
     ]
    },
    {
     "data": {
      "text/plain": [
       "0.809546249539898"
      ]
     },
     "execution_count": 70,
     "metadata": {},
     "output_type": "execute_result"
    }
   ],
   "source": [
    "from surprise import accuracy\n",
    "accuracy.rmse(predictions_test)\n",
    "accuracy.rmse(predictions_train)"
   ]
  },
  {
   "cell_type": "code",
   "execution_count": 19,
   "id": "860ffaac",
   "metadata": {},
   "outputs": [],
   "source": [
    "#checking for performance on varying epochs\n",
    "from surprise.model_selection import train_test_split\n",
    "#epochs_count = [0,1,2,3,4,5,6,7,8,9,10,15,16,20,21,100]\n",
    "epochs_count = [25,30,35,40,50,60,70]\n",
    "trainset = Dataset.load_from_df(ratings[[\"userId\",\"movieId\",'rating']].iloc[train_indices[\"0\"]],reader)\n",
    "testset = Dataset.load_from_df(ratings[[\"userId\",\"movieId\",'rating']].iloc[test_indices[\"0\"]],reader)\n",
    "\n",
    "trainset_v2_only_training = trainset.build_full_trainset()\n",
    "\n",
    "df_epochs = pd.DataFrame(columns=[\"epochs\",\"RMSE_Train\",\"RMSE_Test\"])"
   ]
  },
  {
   "cell_type": "code",
   "execution_count": null,
   "id": "ca694466",
   "metadata": {},
   "outputs": [
    {
     "name": "stdout",
     "output_type": "stream",
     "text": [
      "RMSE: 0.6167\n",
      "RMSE: 0.8776\n",
      "RMSE: 0.5741\n",
      "RMSE: 0.8840\n"
     ]
    }
   ],
   "source": [
    "for epochs in epochs_count:\n",
    "    svd = SVD(n_epochs=epochs)\n",
    "    a , b_train = train_test_split(trainset, test_size=1.00)\n",
    "    a , b_test = train_test_split(testset, test_size=1.00)\n",
    "    svd.fit(trainset_v2_only_training)\n",
    "    \n",
    "    predictions_train = svd.test(b_train)\n",
    "    predictions_test = svd.test(b_test)\n",
    "    \n",
    "    train = accuracy.rmse(predictions_train)\n",
    "    test = accuracy.rmse(predictions_test)\n",
    "    \n",
    "    df_epochs.loc[len(df_epochs.index)] = [epochs,train,test]"
   ]
  },
  {
   "cell_type": "code",
   "execution_count": null,
   "id": "13b2449d",
   "metadata": {},
   "outputs": [],
   "source": [
    "df_epochs.to_csv('SVD_optimization_more_examples.csv',index=False)"
   ]
  },
  {
   "cell_type": "code",
   "execution_count": null,
   "id": "3b0ce3d9",
   "metadata": {},
   "outputs": [],
   "source": [
    "df_epochs.to_csv('SVD_optimization_more_examples',index=False)"
   ]
  },
  {
   "cell_type": "code",
   "execution_count": 78,
   "id": "d3d2d1dd",
   "metadata": {},
   "outputs": [],
   "source": [
    "df_epochs.to_csv('SVD_optimization',index=False)"
   ]
  },
  {
   "cell_type": "code",
   "execution_count": 79,
   "id": "0122e259",
   "metadata": {},
   "outputs": [],
   "source": [
    "df_epochs.to_csv('SVD_optimization.csv',index=False) "
   ]
  },
  {
   "cell_type": "code",
   "execution_count": null,
   "id": "370a05b8",
   "metadata": {},
   "outputs": [],
   "source": [
    "#precision@k and recall@k"
   ]
  },
  {
   "cell_type": "code",
   "execution_count": 25,
   "id": "94f54a45",
   "metadata": {
    "scrolled": true
   },
   "outputs": [
    {
     "name": "stdout",
     "output_type": "stream",
     "text": [
      "0.9480039754845286\n",
      "0.385302407029629\n",
      "0.9476352284656787\n",
      "0.38416321887807653\n",
      "0.9500358957367073\n",
      "0.3835671357401596\n",
      "0.950372763419499\n",
      "0.38520479525367957\n",
      "0.9498535830709052\n",
      "0.3853738983003348\n"
     ]
    }
   ],
   "source": [
    "from collections import defaultdict\n",
    "from surprise import Dataset\n",
    "from surprise import SVD\n",
    "from surprise.model_selection import KFold\n",
    "\n",
    "\n",
    "def precision_recall_at_k(predictions, k=10, threshold=3.5):\n",
    "    \"\"\"Return precision and recall at k metrics for each user\"\"\"\n",
    "\n",
    "    # First map the predictions to each user.\n",
    "    user_est_true = defaultdict(list)\n",
    "    for uid, _, true_r, est, _ in predictions:\n",
    "        user_est_true[uid].append((est, true_r))\n",
    "\n",
    "    precisions = dict()\n",
    "    recalls = dict()\n",
    "    for uid, user_ratings in user_est_true.items():\n",
    "\n",
    "        # Sort user ratings by estimated value\n",
    "        user_ratings.sort(key=lambda x: x[0], reverse=True)\n",
    "\n",
    "        # Number of relevant items\n",
    "        n_rel = sum((true_r >= threshold) for (_, true_r) in user_ratings)\n",
    "\n",
    "        # Number of recommended items in top k\n",
    "        n_rec_k = sum((est >= threshold) for (est, _) in user_ratings[:k])\n",
    "\n",
    "        # Number of relevant and recommended items in top k\n",
    "        n_rel_and_rec_k = sum(((true_r >= threshold) and (est >= threshold))\n",
    "                              for (est, true_r) in user_ratings[:k])\n",
    "\n",
    "        # Precision@K: Proportion of recommended items that are relevant\n",
    "        # When n_rec_k is 0, Precision is undefined. We here set it to 0.\n",
    "\n",
    "        precisions[uid] = n_rel_and_rec_k / n_rec_k if n_rec_k != 0 else 0\n",
    "\n",
    "        # Recall@K: Proportion of relevant items that are recommended\n",
    "        # When n_rel is 0, Recall is undefined. We here set it to 0.\n",
    "\n",
    "        recalls[uid] = n_rel_and_rec_k / n_rel if n_rel != 0 else 0\n",
    "\n",
    "    return precisions, recalls\n",
    "\n",
    "\n",
    "data =  Dataset.load_from_df(ratings[[\"userId\",\"movieId\",'rating']],reader)\n",
    "kf = KFold(n_splits=5)\n",
    "algo = SVD()\n",
    "\n",
    "\n",
    "for trainset, testset in kf.split(data):\n",
    "    algo.fit(trainset)\n",
    "    predictions = algo.test(testset)\n",
    "    precisions, recalls = precision_recall_at_k(predictions, k=10, threshold=3)\n",
    "\n",
    "    # Precision and recall can then be averaged over all users\n",
    "    print(sum(prec for prec in precisions.values()) / len(precisions))\n",
    "    print(sum(rec for rec in recalls.values()) / len(recalls))"
   ]
  },
  {
   "cell_type": "code",
   "execution_count": null,
   "id": "a7eb333d",
   "metadata": {},
   "outputs": [],
   "source": [
    "SVD()"
   ]
  },
  {
   "cell_type": "markdown",
   "id": "34f03bed",
   "metadata": {},
   "source": [
    "data.reshape(len(movie_seq,5),inplace=True)\n",
    "## GROUP K FOLD"
   ]
  },
  {
   "cell_type": "code",
   "execution_count": null,
   "id": "b0061d04",
   "metadata": {},
   "outputs": [],
   "source": []
  },
  {
   "cell_type": "code",
   "execution_count": null,
   "id": "7536bf5c",
   "metadata": {},
   "outputs": [],
   "source": [
    "train_indices[\"0\"]"
   ]
  },
  {
   "cell_type": "code",
   "execution_count": null,
   "id": "450fdd4e",
   "metadata": {},
   "outputs": [],
   "source": [
    "\n",
    "\n",
    "#WHAT IS THE DEFINATION OF X in group K fold\n",
    "#Group K fold does not works for multiple variables (only one column at a time is utilised)\n",
    "ratings.info()"
   ]
  },
  {
   "cell_type": "markdown",
   "id": "89474e41",
   "metadata": {},
   "source": [
    "## model_Building"
   ]
  },
  {
   "cell_type": "code",
   "execution_count": null,
   "id": "f940758a",
   "metadata": {},
   "outputs": [],
   "source": [
    "master_df = pd.DataFrame()"
   ]
  },
  {
   "cell_type": "code",
   "execution_count": 11,
   "id": "b564fe9c",
   "metadata": {},
   "outputs": [],
   "source": []
  },
  {
   "cell_type": "code",
   "execution_count": null,
   "id": "d9a1da48",
   "metadata": {},
   "outputs": [],
   "source": []
  },
  {
   "cell_type": "code",
   "execution_count": null,
   "id": "b60532a3",
   "metadata": {},
   "outputs": [],
   "source": []
  }
 ],
 "metadata": {
  "kernelspec": {
   "display_name": "Python 3",
   "language": "python",
   "name": "python3"
  },
  "language_info": {
   "codemirror_mode": {
    "name": "ipython",
    "version": 3
   },
   "file_extension": ".py",
   "mimetype": "text/x-python",
   "name": "python",
   "nbconvert_exporter": "python",
   "pygments_lexer": "ipython3",
   "version": "3.8.8"
  }
 },
 "nbformat": 4,
 "nbformat_minor": 5
}
